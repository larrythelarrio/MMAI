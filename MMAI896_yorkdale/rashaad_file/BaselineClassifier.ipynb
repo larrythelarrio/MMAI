{
  "nbformat": 4,
  "nbformat_minor": 0,
  "metadata": {
    "colab": {
      "name": "BaselineClassifier.ipynb",
      "provenance": [],
      "include_colab_link": true
    },
    "kernelspec": {
      "name": "python3",
      "display_name": "Python 3"
    }
  },
  "cells": [
    {
      "cell_type": "markdown",
      "metadata": {
        "id": "view-in-github",
        "colab_type": "text"
      },
      "source": [
        "<a href=\"https://colab.research.google.com/github/rocketrashaad/MMAI869/blob/master/BaselineClassifier.ipynb\" target=\"_parent\"><img src=\"https://colab.research.google.com/assets/colab-badge.svg\" alt=\"Open In Colab\"/></a>"
      ]
    },
    {
      "cell_type": "code",
      "metadata": {
        "id": "oWoc7NFMp5HR",
        "colab_type": "code",
        "outputId": "eee0bf8c-bf54-45bb-e78d-dd9f002c2881",
        "colab": {
          "base_uri": "https://localhost:8080/",
          "height": 34
        }
      },
      "source": [
        "import pandas as pd\n",
        "from sklearn.dummy import DummyClassifier\n",
        "from sklearn.model_selection import train_test_split\n",
        "\n",
        "from google.colab import drive\n",
        "drive.mount('/content/drive')"
      ],
      "execution_count": 0,
      "outputs": [
        {
          "output_type": "stream",
          "text": [
            "Drive already mounted at /content/drive; to attempt to forcibly remount, call drive.mount(\"/content/drive\", force_remount=True).\n"
          ],
          "name": "stdout"
        }
      ]
    },
    {
      "cell_type": "code",
      "metadata": {
        "id": "6Ct3Vyf1qRNg",
        "colab_type": "code",
        "outputId": "671d7e89-a04d-4ba9-af66-3f05b82b64d0",
        "colab": {
          "base_uri": "https://localhost:8080/",
          "height": 34
        }
      },
      "source": [
        "# load the data\n",
        "fileToRead = '/content/drive/My Drive/Colab Notebooks/MMAI869/oxford/raw_nonconnected_data/APR-encodedDataSet-minDT10-minStoreVisits2.csv'\n",
        "df = pd.read_csv(fileToRead)\n",
        "df.shape"
      ],
      "execution_count": 0,
      "outputs": [
        {
          "output_type": "execute_result",
          "data": {
            "text/plain": [
              "(231029, 223)"
            ]
          },
          "metadata": {
            "tags": []
          },
          "execution_count": 47
        }
      ]
    },
    {
      "cell_type": "code",
      "metadata": {
        "id": "uMgNNavXqXQA",
        "colab_type": "code",
        "colab": {}
      },
      "source": [
        "# delete the Date and Encrypted Mac columns\n",
        "df.drop(['Date', 'Encrypted Mac'], axis=1, inplace=True)"
      ],
      "execution_count": 0,
      "outputs": []
    },
    {
      "cell_type": "code",
      "metadata": {
        "id": "tcej2grTqw3A",
        "colab_type": "code",
        "colab": {}
      },
      "source": [
        "#split dataset in features and target variable\n",
        "X = df.drop(['Target'], axis=1)\n",
        "y = df['Target']"
      ],
      "execution_count": 0,
      "outputs": []
    },
    {
      "cell_type": "code",
      "metadata": {
        "id": "4DeJw1Fdqxhl",
        "colab_type": "code",
        "colab": {}
      },
      "source": [
        "# Split dataset into training set and test set\n",
        "X_train, X_test, y_train, y_test = train_test_split(X, y, test_size=0.3, random_state=42) # 70% training and 30% test"
      ],
      "execution_count": 0,
      "outputs": []
    },
    {
      "cell_type": "code",
      "metadata": {
        "id": "_Kv8C-Boq0ZE",
        "colab_type": "code",
        "outputId": "c565dafc-7b43-479c-9f92-894cf2729513",
        "colab": {
          "base_uri": "https://localhost:8080/",
          "height": 34
        }
      },
      "source": [
        "# Create dummy classifier\n",
        "dummy = DummyClassifier(strategy='uniform', random_state=42)\n",
        "\n",
        "# Train model\n",
        "dummy.fit(X_train, y_train)\n",
        "\n",
        "# Get accuracy score\n",
        "dummy.score(X_test, y_test)"
      ],
      "execution_count": 0,
      "outputs": [
        {
          "output_type": "execute_result",
          "data": {
            "text/plain": [
              "0.004573720584628259"
            ]
          },
          "metadata": {
            "tags": []
          },
          "execution_count": 51
        }
      ]
    }
  ]
}