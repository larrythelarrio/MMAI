{
  "nbformat": 4,
  "nbformat_minor": 0,
  "metadata": {
    "colab": {
      "name": "PlotDwellTimesByMonth.ipynb",
      "provenance": [],
      "collapsed_sections": [],
      "machine_shape": "hm",
      "include_colab_link": true
    },
    "kernelspec": {
      "name": "python3",
      "display_name": "Python 3"
    }
  },
  "cells": [
    {
      "cell_type": "markdown",
      "metadata": {
        "id": "view-in-github",
        "colab_type": "text"
      },
      "source": [
        "<a href=\"https://colab.research.google.com/github/rocketrashaad/MMAI869/blob/master/PlotDwellTimesByMonth.ipynb\" target=\"_parent\"><img src=\"https://colab.research.google.com/assets/colab-badge.svg\" alt=\"Open In Colab\"/></a>"
      ]
    },
    {
      "cell_type": "code",
      "metadata": {
        "id": "oVBKiwn7gB0z",
        "colab_type": "code",
        "outputId": "0a53f7cf-dcfa-45e6-86a6-ce854daa80af",
        "colab": {
          "base_uri": "https://localhost:8080/",
          "height": 54
        }
      },
      "source": [
        "import pandas as pd\n",
        "import csv\n",
        "import numpy as np\n",
        "import matplotlib.pyplot as plt\n",
        "\n",
        "import numpy as np\n",
        "\n",
        "from google.colab import drive\n",
        "drive.mount('/content/drive')"
      ],
      "execution_count": 4,
      "outputs": [
        {
          "output_type": "stream",
          "text": [
            "Drive already mounted at /content/drive; to attempt to forcibly remount, call drive.mount(\"/content/drive\", force_remount=True).\n"
          ],
          "name": "stdout"
        }
      ]
    },
    {
      "cell_type": "code",
      "metadata": {
        "id": "WXdqTnrMjs-f",
        "colab_type": "code",
        "colab": {}
      },
      "source": [
        "file_directory = '/content/drive/My Drive/Colab Notebooks/MMAI869/oxford/raw_nonconnected_data/'\n",
        "file_names = ['JAN 2018_flow.csv', 'FEB 2018_flow.csv', 'MAR 2018_flow.csv', 'APR 2018_flow.csv', 'May 2018_flow.csv', 'JUNE 2018_flow.csv']"
      ],
      "execution_count": 0,
      "outputs": []
    },
    {
      "cell_type": "code",
      "metadata": {
        "id": "q7kodBDKbagp",
        "colab_type": "code",
        "outputId": "3f4c1e27-56fb-438e-9eb7-743cf3199bd5",
        "colab": {
          "base_uri": "https://localhost:8080/",
          "height": 425
        }
      },
      "source": [
        "for fileName in file_names:\n",
        "  dwellTimes = []\n",
        "  fileToReadPath = file_directory + fileName\n",
        "  print(\"Processing file: \", fileName)\n",
        "  with open(fileToReadPath, 'r') as csvDataFile:\n",
        "    reader = csv.reader(csvDataFile)\n",
        "    for index, row in enumerate(reader): # enumerate over each row in the data file\n",
        "      if index != 0: # ignore the header row\n",
        "        for i in range(3,len(row),3):\n",
        "          if row[i] == \"STORE\":\n",
        "            dwellTimes.append(int(row[i+1]))\n",
        "\n",
        "  print (\"min dwell time : \", min(dwellTimes))\n",
        "  print (\"max dwell time : \", max(dwellTimes))\n",
        "  print (\"total dwell times : \", len(dwellTimes))\n",
        "  a = np.array(dwellTimes)\n",
        "  plt.hist(a, bins = [0,5,10,15,20,25,30,35,40,45,50,55,60,65,70,75,80,85,90,95,100]) \n",
        "  title = fileName[:3] + ' Dwell Times'\n",
        "  plt.title(title) \n",
        "  # plt.show()\n",
        "  plt.savefig(title + '.png',bbox_inches='tight', dpi=100)\n",
        "  plt.close()\n",
        "\n",
        "  # fileToWrite = fileName[:3] + '-DwellTimes.csv'\n",
        "  # open(file_directory + fileToWrite, 'w').close()\n",
        "  # with open(file_directory + fileToWrite, 'w') as csvWriteFile:\n",
        "  #   writer = csv.writer(csvWriteFile)\n",
        "  #   writer.writerow(dwellTimes)"
      ],
      "execution_count": 6,
      "outputs": [
        {
          "output_type": "stream",
          "text": [
            "Processing file:  JAN 2018_flow.csv\n",
            "min dwell time :  0\n",
            "max dwell time :  935\n",
            "total dwell times :  1922830\n",
            "Processing file:  FEB 2018_flow.csv\n",
            "min dwell time :  0\n",
            "max dwell time :  834\n",
            "total dwell times :  1649833\n",
            "Processing file:  MAR 2018_flow.csv\n",
            "min dwell time :  0\n",
            "max dwell time :  763\n",
            "total dwell times :  1936116\n",
            "Processing file:  APR 2018_flow.csv\n",
            "min dwell time :  0\n",
            "max dwell time :  712\n",
            "total dwell times :  1604973\n",
            "Processing file:  May 2018_flow.csv\n",
            "min dwell time :  0\n",
            "max dwell time :  689\n",
            "total dwell times :  1441140\n",
            "Processing file:  JUNE 2018_flow.csv\n",
            "min dwell time :  0\n",
            "max dwell time :  748\n",
            "total dwell times :  1457280\n"
          ],
          "name": "stdout"
        }
      ]
    },
    {
      "cell_type": "code",
      "metadata": {
        "id": "dZxj1G1H_FBy",
        "colab_type": "code",
        "colab": {}
      },
      "source": [
        ""
      ],
      "execution_count": 0,
      "outputs": []
    }
  ]
}