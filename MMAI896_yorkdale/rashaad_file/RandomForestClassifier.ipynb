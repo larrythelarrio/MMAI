{
  "nbformat": 4,
  "nbformat_minor": 0,
  "metadata": {
    "colab": {
      "name": "RandomForestClassifier.ipynb",
      "provenance": [],
      "collapsed_sections": [],
      "machine_shape": "hm",
      "include_colab_link": true
    },
    "kernelspec": {
      "name": "python3",
      "display_name": "Python 3"
    },
    "accelerator": "GPU"
  },
  "cells": [
    {
      "cell_type": "markdown",
      "metadata": {
        "id": "view-in-github",
        "colab_type": "text"
      },
      "source": [
        "<a href=\"https://colab.research.google.com/github/rocketrashaad/MMAI869/blob/master/RandomForestClassifier.ipynb\" target=\"_parent\"><img src=\"https://colab.research.google.com/assets/colab-badge.svg\" alt=\"Open In Colab\"/></a>"
      ]
    },
    {
      "cell_type": "code",
      "metadata": {
        "id": "KZT23Dd6QZr7",
        "colab_type": "code",
        "outputId": "da2948f2-d392-4935-f629-c0b3113b3c06",
        "colab": {
          "base_uri": "https://localhost:8080/",
          "height": 34
        }
      },
      "source": [
        "import pandas as pd\n",
        "from sklearn.ensemble import RandomForestClassifier\n",
        "from sklearn.model_selection import train_test_split\n",
        "from sklearn import metrics\n",
        "# from sklearn import tree\n",
        "# import matplotlib.pyplot as plt\n",
        "# from sklearn.tree.export import export_text\n",
        "# import pydotplus\n",
        "\n",
        "from google.colab import drive\n",
        "drive.mount('/content/drive')"
      ],
      "execution_count": 1,
      "outputs": [
        {
          "output_type": "stream",
          "text": [
            "Drive already mounted at /content/drive; to attempt to forcibly remount, call drive.mount(\"/content/drive\", force_remount=True).\n"
          ],
          "name": "stdout"
        }
      ]
    },
    {
      "cell_type": "code",
      "metadata": {
        "id": "eo2RJ4tpQjhV",
        "colab_type": "code",
        "outputId": "8b75c00d-b9a8-437a-e89b-3dc52779fc26",
        "colab": {
          "base_uri": "https://localhost:8080/",
          "height": 34
        }
      },
      "source": [
        "# load the data\n",
        "fileToRead = '/content/drive/My Drive/Colab Notebooks/MMAI869/oxford/raw_nonconnected_data/APR-encodedDataSet-minDT5-minStoreVisits1.csv'\n",
        "df = pd.read_csv(fileToRead)\n",
        "df.shape"
      ],
      "execution_count": 2,
      "outputs": [
        {
          "output_type": "execute_result",
          "data": {
            "text/plain": [
              "(1604973, 223)"
            ]
          },
          "metadata": {
            "tags": []
          },
          "execution_count": 2
        }
      ]
    },
    {
      "cell_type": "code",
      "metadata": {
        "id": "GwSfojEYYghz",
        "colab_type": "code",
        "colab": {}
      },
      "source": [
        "# delete the Date and Encrypted Mac columns\n",
        "df.drop(['Date', 'Encrypted Mac'], axis=1, inplace=True)"
      ],
      "execution_count": 0,
      "outputs": []
    },
    {
      "cell_type": "code",
      "metadata": {
        "id": "vGy3ZRXkQ6Z6",
        "colab_type": "code",
        "colab": {}
      },
      "source": [
        "#split dataset in features and target variable\n",
        "X = df.drop(['Target'], axis=1)\n",
        "y = df['Target']"
      ],
      "execution_count": 0,
      "outputs": []
    },
    {
      "cell_type": "code",
      "metadata": {
        "id": "alD_EBqZbWHB",
        "colab_type": "code",
        "colab": {}
      },
      "source": [
        "# Split dataset into training set and test set\n",
        "X_train, X_test, y_train, y_test = train_test_split(X, y, test_size=0.3, random_state=42) # 70% training and 30% test"
      ],
      "execution_count": 0,
      "outputs": []
    },
    {
      "cell_type": "code",
      "metadata": {
        "id": "qc62cr7WcTYy",
        "colab_type": "code",
        "colab": {
          "base_uri": "https://localhost:8080/",
          "height": 51
        },
        "outputId": "6ca03528-f281-406a-b772-4b8bcc16d30b"
      },
      "source": [
        "# Create Random Forest classifer object\n",
        "model = RandomForestClassifier(random_state=42, n_jobs=-1)\n",
        "\n",
        "# Train Random Forest Classifer\n",
        "model = model.fit(X_train,y_train)\n",
        "\n",
        "#Predict the response for test dataset\n",
        "y_pred = model.predict(X_test)"
      ],
      "execution_count": 0,
      "outputs": [
        {
          "output_type": "stream",
          "text": [
            "/usr/local/lib/python3.6/dist-packages/sklearn/ensemble/forest.py:245: FutureWarning: The default value of n_estimators will change from 10 in version 0.20 to 100 in 0.22.\n",
            "  \"10 in version 0.20 to 100 in 0.22.\", FutureWarning)\n"
          ],
          "name": "stderr"
        }
      ]
    },
    {
      "cell_type": "code",
      "metadata": {
        "id": "D8guMx1vcWTF",
        "colab_type": "code",
        "colab": {}
      },
      "source": [
        "print(\"Accuracy:\", metrics.accuracy_score(y_test, y_pred))"
      ],
      "execution_count": 0,
      "outputs": []
    },
    {
      "cell_type": "code",
      "metadata": {
        "id": "kkpefLEJd0J-",
        "colab_type": "code",
        "colab": {}
      },
      "source": [
        "# # Create DOT data\n",
        "# dot_data = tree.export_graphviz(model, out_file=None, feature_names=X.columns)\n",
        "# # Draw graph\n",
        "# graph = pydotplus.graph_from_dot_data(dot_data)\n",
        "\n",
        "# # Show graph\n",
        "# Image(graph.create_png())"
      ],
      "execution_count": 0,
      "outputs": []
    },
    {
      "cell_type": "code",
      "metadata": {
        "id": "Q2iIEO6jibBR",
        "colab_type": "code",
        "colab": {}
      },
      "source": [
        "print('Done!')"
      ],
      "execution_count": 0,
      "outputs": []
    }
  ]
}