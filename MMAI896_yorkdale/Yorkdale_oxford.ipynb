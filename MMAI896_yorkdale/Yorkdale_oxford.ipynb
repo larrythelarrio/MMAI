{
  "nbformat": 4,
  "nbformat_minor": 0,
  "metadata": {
    "colab": {
      "name": "Yorkdale_oxford.ipynb",
      "provenance": [],
      "collapsed_sections": [],
      "machine_shape": "hm"
    },
    "kernelspec": {
      "name": "python3",
      "display_name": "Python 3"
    }
  },
  "cells": [
    {
      "cell_type": "code",
      "metadata": {
        "id": "Jdm5Bvmnnu3S",
        "colab_type": "code",
        "outputId": "401d9fb1-4b91-4012-bb8b-8b7b4476bd50",
        "colab": {
          "base_uri": "https://localhost:8080/",
          "height": 34
        }
      },
      "source": [
        "from google.colab import drive\n",
        "drive.mount('/content/drive')"
      ],
      "execution_count": 0,
      "outputs": [
        {
          "output_type": "stream",
          "text": [
            "Mounted at /content/drive\n"
          ],
          "name": "stdout"
        }
      ]
    },
    {
      "cell_type": "markdown",
      "metadata": {
        "id": "opUPsR1Bn-Ex",
        "colab_type": "text"
      },
      "source": [
        "Importing all the libraries"
      ]
    },
    {
      "cell_type": "code",
      "metadata": {
        "id": "t1lLde8Jn9M6",
        "colab_type": "code",
        "colab": {}
      },
      "source": [
        "import pandas as pd\n",
        "import numpy as np\n",
        "import datetime as datetime\n",
        "import missingno as msno\n",
        "\n",
        "import matplotlib\n",
        "import matplotlib.pyplot as plt\n",
        "import seaborn as sns\n",
        "from sklearn.model_selection import StratifiedShuffleSplit\n",
        "from sklearn.model_selection import train_test_split\n",
        "from sklearn.ensemble import RandomForestClassifier\n",
        "from sklearn.metrics import accuracy_score,confusion_matrix,f1_score,recall_score,classification_report\n",
        "from sklearn.utils import resample, shuffle\n",
        "pd.set_option('display.max_columns', 30)\n",
        "pd.set_option('display.max_rows', 30)\n",
        "import xgboost\n",
        "from datetime import datetime,date,time\n",
        "import calendar\n",
        "\n",
        "from keras import Sequential\n",
        "from keras.layers import Dense\n",
        "from keras.utils import np_utils\n",
        "\n",
        "import tensorflow as tf\n",
        "from tensorflow.python.keras.metrics import Precision, Recall\n"
      ],
      "execution_count": 0,
      "outputs": []
    },
    {
      "cell_type": "markdown",
      "metadata": {
        "id": "BEMiWQ12oGIF",
        "colab_type": "text"
      },
      "source": [
        "Reading visit file as a pandas dataframe. The index is the row count of all the data in the visit csv file. There are a total of 178356 instances available"
      ]
    },
    {
      "cell_type": "code",
      "metadata": {
        "id": "RSzyvIJqoBQX",
        "colab_type": "code",
        "outputId": "7fe51b09-38ce-4d91-abd5-a8e331bb375b",
        "colab": {
          "base_uri": "https://localhost:8080/",
          "height": 51
        }
      },
      "source": [
        "df = pd.read_csv('/content/drive/My Drive/AI/visits_full.csv',index_col='Unnamed: 0')"
      ],
      "execution_count": 0,
      "outputs": [
        {
          "output_type": "stream",
          "text": [
            "/usr/local/lib/python3.6/dist-packages/numpy/lib/arraysetops.py:568: FutureWarning: elementwise comparison failed; returning scalar instead, but in the future will perform elementwise comparison\n",
            "  mask |= (ar1 == a)\n"
          ],
          "name": "stderr"
        }
      ]
    },
    {
      "cell_type": "markdown",
      "metadata": {
        "id": "HDpQyBWKpHnc",
        "colab_type": "text"
      },
      "source": [
        "Checking for duplicate records in the file. After runing the code we find no duplicate records."
      ]
    },
    {
      "cell_type": "code",
      "metadata": {
        "id": "i-hor7WsoPfn",
        "colab_type": "code",
        "outputId": "1d99cb48-68d8-4766-c005-005aa6105ee5",
        "colab": {
          "base_uri": "https://localhost:8080/",
          "height": 49
        }
      },
      "source": [
        "df[df.duplicated(subset=None,keep='first')]"
      ],
      "execution_count": 0,
      "outputs": [
        {
          "output_type": "execute_result",
          "data": {
            "text/html": [
              "<div>\n",
              "<style scoped>\n",
              "    .dataframe tbody tr th:only-of-type {\n",
              "        vertical-align: middle;\n",
              "    }\n",
              "\n",
              "    .dataframe tbody tr th {\n",
              "        vertical-align: top;\n",
              "    }\n",
              "\n",
              "    .dataframe thead th {\n",
              "        text-align: right;\n",
              "    }\n",
              "</style>\n",
              "<table border=\"1\" class=\"dataframe\">\n",
              "  <thead>\n",
              "    <tr style=\"text-align: right;\">\n",
              "      <th></th>\n",
              "      <th>Visit_ID</th>\n",
              "      <th>DateTime</th>\n",
              "      <th>Customer_ID</th>\n",
              "      <th>Sequence_Num</th>\n",
              "      <th>Store_ID</th>\n",
              "      <th>Dwell_Time</th>\n",
              "    </tr>\n",
              "  </thead>\n",
              "  <tbody>\n",
              "  </tbody>\n",
              "</table>\n",
              "</div>"
            ],
            "text/plain": [
              "Empty DataFrame\n",
              "Columns: [Visit_ID, DateTime, Customer_ID, Sequence_Num, Store_ID, Dwell_Time]\n",
              "Index: []"
            ]
          },
          "metadata": {
            "tags": []
          },
          "execution_count": 4
        }
      ]
    },
    {
      "cell_type": "markdown",
      "metadata": {
        "id": "V8I0LXOmpYzM",
        "colab_type": "text"
      },
      "source": [
        "Now sorting the dataframe by DateTime, Customer ID and Sequence Number. This will allow us to see how a unique customer on a specfic day went about his day in a mall. Increase in sequence number for a Customer ID means that the customer went to more than one store in a day  "
      ]
    },
    {
      "cell_type": "code",
      "metadata": {
        "id": "ibszntQZoc9n",
        "colab_type": "code",
        "outputId": "51ba6aac-27a9-4d4f-9912-84b8f0fb6dd1",
        "colab": {
          "base_uri": "https://localhost:8080/",
          "height": 514
        }
      },
      "source": [
        "df.sort_values(by=['DateTime','Customer_ID','Sequence_Num']).head(15)"
      ],
      "execution_count": 0,
      "outputs": [
        {
          "output_type": "execute_result",
          "data": {
            "text/html": [
              "<div>\n",
              "<style scoped>\n",
              "    .dataframe tbody tr th:only-of-type {\n",
              "        vertical-align: middle;\n",
              "    }\n",
              "\n",
              "    .dataframe tbody tr th {\n",
              "        vertical-align: top;\n",
              "    }\n",
              "\n",
              "    .dataframe thead th {\n",
              "        text-align: right;\n",
              "    }\n",
              "</style>\n",
              "<table border=\"1\" class=\"dataframe\">\n",
              "  <thead>\n",
              "    <tr style=\"text-align: right;\">\n",
              "      <th></th>\n",
              "      <th>Visit_ID</th>\n",
              "      <th>DateTime</th>\n",
              "      <th>Customer_ID</th>\n",
              "      <th>Sequence_Num</th>\n",
              "      <th>Store_ID</th>\n",
              "      <th>Dwell_Time</th>\n",
              "    </tr>\n",
              "  </thead>\n",
              "  <tbody>\n",
              "    <tr>\n",
              "      <th>1</th>\n",
              "      <td>1</td>\n",
              "      <td>2018-01-01 06:00:30</td>\n",
              "      <td>1</td>\n",
              "      <td>0</td>\n",
              "      <td>5079483</td>\n",
              "      <td>56</td>\n",
              "    </tr>\n",
              "    <tr>\n",
              "      <th>2</th>\n",
              "      <td>2</td>\n",
              "      <td>2018-01-01 06:00:30</td>\n",
              "      <td>1</td>\n",
              "      <td>3</td>\n",
              "      <td>5163263</td>\n",
              "      <td>201</td>\n",
              "    </tr>\n",
              "    <tr>\n",
              "      <th>3</th>\n",
              "      <td>3</td>\n",
              "      <td>2018-01-01 06:04:50</td>\n",
              "      <td>2</td>\n",
              "      <td>0</td>\n",
              "      <td>3</td>\n",
              "      <td>40</td>\n",
              "    </tr>\n",
              "    <tr>\n",
              "      <th>4</th>\n",
              "      <td>4</td>\n",
              "      <td>2018-01-01 06:46:50</td>\n",
              "      <td>3</td>\n",
              "      <td>1</td>\n",
              "      <td>5152724</td>\n",
              "      <td>10</td>\n",
              "    </tr>\n",
              "    <tr>\n",
              "      <th>5</th>\n",
              "      <td>5</td>\n",
              "      <td>2018-01-01 06:46:50</td>\n",
              "      <td>3</td>\n",
              "      <td>3</td>\n",
              "      <td>5079580</td>\n",
              "      <td>73</td>\n",
              "    </tr>\n",
              "    <tr>\n",
              "      <th>6</th>\n",
              "      <td>6</td>\n",
              "      <td>2018-01-01 07:28:20</td>\n",
              "      <td>4</td>\n",
              "      <td>2</td>\n",
              "      <td>2</td>\n",
              "      <td>168</td>\n",
              "    </tr>\n",
              "    <tr>\n",
              "      <th>7</th>\n",
              "      <td>7</td>\n",
              "      <td>2018-01-01 07:50:40</td>\n",
              "      <td>5</td>\n",
              "      <td>1</td>\n",
              "      <td>4</td>\n",
              "      <td>39</td>\n",
              "    </tr>\n",
              "    <tr>\n",
              "      <th>8</th>\n",
              "      <td>8</td>\n",
              "      <td>2018-01-01 07:56:50</td>\n",
              "      <td>6</td>\n",
              "      <td>1</td>\n",
              "      <td>3</td>\n",
              "      <td>27</td>\n",
              "    </tr>\n",
              "    <tr>\n",
              "      <th>9</th>\n",
              "      <td>9</td>\n",
              "      <td>2018-01-01 07:56:50</td>\n",
              "      <td>6</td>\n",
              "      <td>4</td>\n",
              "      <td>5080089</td>\n",
              "      <td>6</td>\n",
              "    </tr>\n",
              "    <tr>\n",
              "      <th>10</th>\n",
              "      <td>10</td>\n",
              "      <td>2018-01-01 08:28:40</td>\n",
              "      <td>7</td>\n",
              "      <td>3</td>\n",
              "      <td>2</td>\n",
              "      <td>9</td>\n",
              "    </tr>\n",
              "    <tr>\n",
              "      <th>11</th>\n",
              "      <td>11</td>\n",
              "      <td>2018-01-01 08:49:20</td>\n",
              "      <td>8</td>\n",
              "      <td>4</td>\n",
              "      <td>5080089</td>\n",
              "      <td>145</td>\n",
              "    </tr>\n",
              "    <tr>\n",
              "      <th>12</th>\n",
              "      <td>12</td>\n",
              "      <td>2018-01-01 08:52:00</td>\n",
              "      <td>9</td>\n",
              "      <td>8</td>\n",
              "      <td>5079256</td>\n",
              "      <td>58</td>\n",
              "    </tr>\n",
              "    <tr>\n",
              "      <th>13</th>\n",
              "      <td>13</td>\n",
              "      <td>2018-01-01 08:52:00</td>\n",
              "      <td>9</td>\n",
              "      <td>9</td>\n",
              "      <td>5079256</td>\n",
              "      <td>8</td>\n",
              "    </tr>\n",
              "    <tr>\n",
              "      <th>14</th>\n",
              "      <td>14</td>\n",
              "      <td>2018-01-01 08:52:00</td>\n",
              "      <td>9</td>\n",
              "      <td>10</td>\n",
              "      <td>5079256</td>\n",
              "      <td>17</td>\n",
              "    </tr>\n",
              "    <tr>\n",
              "      <th>15</th>\n",
              "      <td>15</td>\n",
              "      <td>2018-01-01 08:52:00</td>\n",
              "      <td>9</td>\n",
              "      <td>16</td>\n",
              "      <td>3</td>\n",
              "      <td>7</td>\n",
              "    </tr>\n",
              "  </tbody>\n",
              "</table>\n",
              "</div>"
            ],
            "text/plain": [
              "    Visit_ID             DateTime  Customer_ID  Sequence_Num  Store_ID  \\\n",
              "1          1  2018-01-01 06:00:30            1             0   5079483   \n",
              "2          2  2018-01-01 06:00:30            1             3   5163263   \n",
              "3          3  2018-01-01 06:04:50            2             0         3   \n",
              "4          4  2018-01-01 06:46:50            3             1   5152724   \n",
              "5          5  2018-01-01 06:46:50            3             3   5079580   \n",
              "6          6  2018-01-01 07:28:20            4             2         2   \n",
              "7          7  2018-01-01 07:50:40            5             1         4   \n",
              "8          8  2018-01-01 07:56:50            6             1         3   \n",
              "9          9  2018-01-01 07:56:50            6             4   5080089   \n",
              "10        10  2018-01-01 08:28:40            7             3         2   \n",
              "11        11  2018-01-01 08:49:20            8             4   5080089   \n",
              "12        12  2018-01-01 08:52:00            9             8   5079256   \n",
              "13        13  2018-01-01 08:52:00            9             9   5079256   \n",
              "14        14  2018-01-01 08:52:00            9            10   5079256   \n",
              "15        15  2018-01-01 08:52:00            9            16         3   \n",
              "\n",
              "    Dwell_Time  \n",
              "1           56  \n",
              "2          201  \n",
              "3           40  \n",
              "4           10  \n",
              "5           73  \n",
              "6          168  \n",
              "7           39  \n",
              "8           27  \n",
              "9            6  \n",
              "10           9  \n",
              "11         145  \n",
              "12          58  \n",
              "13           8  \n",
              "14          17  \n",
              "15           7  "
            ]
          },
          "metadata": {
            "tags": []
          },
          "execution_count": 5
        }
      ]
    },
    {
      "cell_type": "markdown",
      "metadata": {
        "id": "s2QLavrVqUOG",
        "colab_type": "text"
      },
      "source": [
        "The sequence number are not incrementing by 1. We know that during the data cleaning exercise any visit less than 5 minutes was removed from the dataframe. This resulted in sequence numbers not incrementing consistently. We will fix this issue by making sure that every incremental visit increments by +1 "
      ]
    },
    {
      "cell_type": "code",
      "metadata": {
        "id": "dR8RabsFqOvr",
        "colab_type": "code",
        "colab": {}
      },
      "source": [
        "df['Sequence_Num'] = df.groupby(['DateTime','Customer_ID']).cumcount() + 1"
      ],
      "execution_count": 0,
      "outputs": []
    },
    {
      "cell_type": "markdown",
      "metadata": {
        "id": "_SdyL4S8skuk",
        "colab_type": "text"
      },
      "source": [
        "Now just exploring Customer ID 9, 10 & 11 to see if the Sequence_Num are incrementing as expected. Customer_ID 9 goes to 5 stores on 2018-01-01 and as a result Sequence number increments by + 1 until 5. At this point a new Customer_ID 10 comes in and the Sequence resets to 1. Similarly for Customer_ID 11 where he visits 2 stores. \n",
        "\n",
        "We were able to achieve this by grouping Customer ID and DateTime by Cumalative count. This groupby functionality increases the count by +1 for every unique Date and Customer_ID combination"
      ]
    },
    {
      "cell_type": "code",
      "metadata": {
        "id": "dhIOFpn9rdSw",
        "colab_type": "code",
        "outputId": "84f77a41-660d-4db9-f1d5-67dacb7ffbbe",
        "colab": {
          "base_uri": "https://localhost:8080/",
          "height": 297
        }
      },
      "source": [
        "df[(df['Customer_ID']==9) | (df['Customer_ID']==10) | (df['Customer_ID']==11)]"
      ],
      "execution_count": 0,
      "outputs": [
        {
          "output_type": "execute_result",
          "data": {
            "text/html": [
              "<div>\n",
              "<style scoped>\n",
              "    .dataframe tbody tr th:only-of-type {\n",
              "        vertical-align: middle;\n",
              "    }\n",
              "\n",
              "    .dataframe tbody tr th {\n",
              "        vertical-align: top;\n",
              "    }\n",
              "\n",
              "    .dataframe thead th {\n",
              "        text-align: right;\n",
              "    }\n",
              "</style>\n",
              "<table border=\"1\" class=\"dataframe\">\n",
              "  <thead>\n",
              "    <tr style=\"text-align: right;\">\n",
              "      <th></th>\n",
              "      <th>Visit_ID</th>\n",
              "      <th>DateTime</th>\n",
              "      <th>Customer_ID</th>\n",
              "      <th>Sequence_Num</th>\n",
              "      <th>Store_ID</th>\n",
              "      <th>Dwell_Time</th>\n",
              "    </tr>\n",
              "  </thead>\n",
              "  <tbody>\n",
              "    <tr>\n",
              "      <th>12</th>\n",
              "      <td>12</td>\n",
              "      <td>2018-01-01 08:52:00</td>\n",
              "      <td>9</td>\n",
              "      <td>1</td>\n",
              "      <td>5079256</td>\n",
              "      <td>58</td>\n",
              "    </tr>\n",
              "    <tr>\n",
              "      <th>13</th>\n",
              "      <td>13</td>\n",
              "      <td>2018-01-01 08:52:00</td>\n",
              "      <td>9</td>\n",
              "      <td>2</td>\n",
              "      <td>5079256</td>\n",
              "      <td>8</td>\n",
              "    </tr>\n",
              "    <tr>\n",
              "      <th>14</th>\n",
              "      <td>14</td>\n",
              "      <td>2018-01-01 08:52:00</td>\n",
              "      <td>9</td>\n",
              "      <td>3</td>\n",
              "      <td>5079256</td>\n",
              "      <td>17</td>\n",
              "    </tr>\n",
              "    <tr>\n",
              "      <th>15</th>\n",
              "      <td>15</td>\n",
              "      <td>2018-01-01 08:52:00</td>\n",
              "      <td>9</td>\n",
              "      <td>4</td>\n",
              "      <td>3</td>\n",
              "      <td>7</td>\n",
              "    </tr>\n",
              "    <tr>\n",
              "      <th>16</th>\n",
              "      <td>16</td>\n",
              "      <td>2018-01-01 08:52:00</td>\n",
              "      <td>9</td>\n",
              "      <td>5</td>\n",
              "      <td>5079256</td>\n",
              "      <td>10</td>\n",
              "    </tr>\n",
              "    <tr>\n",
              "      <th>17</th>\n",
              "      <td>17</td>\n",
              "      <td>2018-01-01 08:58:20</td>\n",
              "      <td>10</td>\n",
              "      <td>1</td>\n",
              "      <td>5080089</td>\n",
              "      <td>7</td>\n",
              "    </tr>\n",
              "    <tr>\n",
              "      <th>18</th>\n",
              "      <td>18</td>\n",
              "      <td>2018-01-01 09:00:50</td>\n",
              "      <td>11</td>\n",
              "      <td>1</td>\n",
              "      <td>5080089</td>\n",
              "      <td>6</td>\n",
              "    </tr>\n",
              "    <tr>\n",
              "      <th>19</th>\n",
              "      <td>19</td>\n",
              "      <td>2018-01-01 09:00:50</td>\n",
              "      <td>11</td>\n",
              "      <td>2</td>\n",
              "      <td>9713461</td>\n",
              "      <td>15</td>\n",
              "    </tr>\n",
              "  </tbody>\n",
              "</table>\n",
              "</div>"
            ],
            "text/plain": [
              "    Visit_ID             DateTime  Customer_ID  Sequence_Num  Store_ID  \\\n",
              "12        12  2018-01-01 08:52:00            9             1   5079256   \n",
              "13        13  2018-01-01 08:52:00            9             2   5079256   \n",
              "14        14  2018-01-01 08:52:00            9             3   5079256   \n",
              "15        15  2018-01-01 08:52:00            9             4         3   \n",
              "16        16  2018-01-01 08:52:00            9             5   5079256   \n",
              "17        17  2018-01-01 08:58:20           10             1   5080089   \n",
              "18        18  2018-01-01 09:00:50           11             1   5080089   \n",
              "19        19  2018-01-01 09:00:50           11             2   9713461   \n",
              "\n",
              "    Dwell_Time  \n",
              "12          58  \n",
              "13           8  \n",
              "14          17  \n",
              "15           7  \n",
              "16          10  \n",
              "17           7  \n",
              "18           6  \n",
              "19          15  "
            ]
          },
          "metadata": {
            "tags": []
          },
          "execution_count": 7
        }
      ]
    },
    {
      "cell_type": "markdown",
      "metadata": {
        "id": "ZmOpLoGpuTRR",
        "colab_type": "text"
      },
      "source": [
        "Droping Visit_ID as it provides no additional explanation.\n"
      ]
    },
    {
      "cell_type": "code",
      "metadata": {
        "id": "eL_oU1q5r2T9",
        "colab_type": "code",
        "colab": {}
      },
      "source": [
        "df = df.drop(labels=['Visit_ID'],axis=1)\n",
        "df['DateTime'] = pd.to_datetime(df['DateTime'])  #Converting column DateTime which is a str to datetime \n",
        "df['Day'] = df['DateTime'].dt.weekday   # Extracting Day as a new feature from DateTime\n",
        "df['Month'] = df['DateTime'].dt.month   # Extracting Month as a new feature from DateTime    "
      ],
      "execution_count": 0,
      "outputs": []
    },
    {
      "cell_type": "markdown",
      "metadata": {
        "id": "_4eO1z5zwuWl",
        "colab_type": "text"
      },
      "source": [
        "Check for any Null value and return the sum of the total value missing in each column"
      ]
    },
    {
      "cell_type": "code",
      "metadata": {
        "id": "2PIU6gPfu3-q",
        "colab_type": "code",
        "outputId": "436104ff-bcee-4661-870a-95266285ef7c",
        "colab": {
          "base_uri": "https://localhost:8080/",
          "height": 153
        }
      },
      "source": [
        "df.isnull().values.any()\n",
        "df.isnull().sum()"
      ],
      "execution_count": 0,
      "outputs": [
        {
          "output_type": "execute_result",
          "data": {
            "text/plain": [
              "DateTime        3\n",
              "Customer_ID     0\n",
              "Sequence_Num    0\n",
              "Store_ID        0\n",
              "Dwell_Time      0\n",
              "Day             3\n",
              "Month           3\n",
              "dtype: int64"
            ]
          },
          "metadata": {
            "tags": []
          },
          "execution_count": 9
        }
      ]
    },
    {
      "cell_type": "code",
      "metadata": {
        "id": "rY2A4JDYvFhU",
        "colab_type": "code",
        "outputId": "945b3223-f2b9-47b4-944e-360852b23e38",
        "colab": {
          "base_uri": "https://localhost:8080/",
          "height": 142
        }
      },
      "source": [
        "df[df['Month'].isna()] # returns all the Null values in the dataset"
      ],
      "execution_count": 0,
      "outputs": [
        {
          "output_type": "execute_result",
          "data": {
            "text/html": [
              "<div>\n",
              "<style scoped>\n",
              "    .dataframe tbody tr th:only-of-type {\n",
              "        vertical-align: middle;\n",
              "    }\n",
              "\n",
              "    .dataframe tbody tr th {\n",
              "        vertical-align: top;\n",
              "    }\n",
              "\n",
              "    .dataframe thead th {\n",
              "        text-align: right;\n",
              "    }\n",
              "</style>\n",
              "<table border=\"1\" class=\"dataframe\">\n",
              "  <thead>\n",
              "    <tr style=\"text-align: right;\">\n",
              "      <th></th>\n",
              "      <th>DateTime</th>\n",
              "      <th>Customer_ID</th>\n",
              "      <th>Sequence_Num</th>\n",
              "      <th>Store_ID</th>\n",
              "      <th>Dwell_Time</th>\n",
              "      <th>Day</th>\n",
              "      <th>Month</th>\n",
              "    </tr>\n",
              "  </thead>\n",
              "  <tbody>\n",
              "    <tr>\n",
              "      <th>1500432</th>\n",
              "      <td>NaT</td>\n",
              "      <td>464411</td>\n",
              "      <td>1</td>\n",
              "      <td>5080126</td>\n",
              "      <td>8</td>\n",
              "      <td>NaN</td>\n",
              "      <td>NaN</td>\n",
              "    </tr>\n",
              "    <tr>\n",
              "      <th>1500433</th>\n",
              "      <td>NaT</td>\n",
              "      <td>464411</td>\n",
              "      <td>2</td>\n",
              "      <td>9474122</td>\n",
              "      <td>6</td>\n",
              "      <td>NaN</td>\n",
              "      <td>NaN</td>\n",
              "    </tr>\n",
              "    <tr>\n",
              "      <th>1500434</th>\n",
              "      <td>NaT</td>\n",
              "      <td>464411</td>\n",
              "      <td>3</td>\n",
              "      <td>9713461</td>\n",
              "      <td>7</td>\n",
              "      <td>NaN</td>\n",
              "      <td>NaN</td>\n",
              "    </tr>\n",
              "  </tbody>\n",
              "</table>\n",
              "</div>"
            ],
            "text/plain": [
              "        DateTime  Customer_ID  Sequence_Num  Store_ID  Dwell_Time  Day  Month\n",
              "1500432      NaT       464411             1   5080126           8  NaN    NaN\n",
              "1500433      NaT       464411             2   9474122           6  NaN    NaN\n",
              "1500434      NaT       464411             3   9713461           7  NaN    NaN"
            ]
          },
          "metadata": {
            "tags": []
          },
          "execution_count": 10
        }
      ]
    },
    {
      "cell_type": "code",
      "metadata": {
        "id": "RwuvfPbJvxFl",
        "colab_type": "code",
        "colab": {}
      },
      "source": [
        "df.drop(index =[1500432,1500433,1500434],axis=0,inplace=True) #Droping the Null values from the dataset"
      ],
      "execution_count": 0,
      "outputs": []
    },
    {
      "cell_type": "markdown",
      "metadata": {
        "id": "f4_qgUYoyZ3Z",
        "colab_type": "text"
      },
      "source": [
        "Now we will create the Target for each row. The Target label we need to predict is the next store the customer will visit. This means each subsequent row for a unique Customer_ID is the target class. We will do this by first sorting the dataframe by DateTime, Customer ID and Sequence Number. We will then create 2 new columns to track the nex sequence and next store for a unique customer"
      ]
    },
    {
      "cell_type": "code",
      "metadata": {
        "id": "yJaFU0P2x7h9",
        "colab_type": "code",
        "colab": {}
      },
      "source": [
        "df = df.sort_values(by=['DateTime','Customer_ID','Sequence_Num']) #sorts the dataframe by DateTime, Customer_ID and Sequence_Num\n",
        "df['Next_Sequence'] = df['Sequence_Num'].shift(-1) #Creates a new column called Next_Sequence by shifting Sequence_Num by 1\n",
        "df['Target'] = df['Store_ID'].shift(-1) #Creates a new column called Next_Store by shifting Store_ID column by 1\n",
        "df.drop(index=1783546,axis=0,inplace=True)"
      ],
      "execution_count": 0,
      "outputs": []
    },
    {
      "cell_type": "markdown",
      "metadata": {
        "id": "shC8H7y202h9",
        "colab_type": "text"
      },
      "source": [
        "Now lets look at Custome_ID 9 and observe how the Next Sequence and Next Store changes as he goes from one store to the other. Now as you for row 12 Sequence number is 1 and Next_sequence is 2. Similarly for row 13 we see Sequence_Num is 2 and Next_sequence is 3 and it goes on until row 16 where Sequence_Num is 5 but the Next_sequence is 1. This indicates that the Customer has left the mall"
      ]
    },
    {
      "cell_type": "code",
      "metadata": {
        "id": "_MjaWjUUx9z3",
        "colab_type": "code",
        "outputId": "dc17dffa-df55-4401-c6f8-bbfa5249cad9",
        "colab": {
          "base_uri": "https://localhost:8080/",
          "height": 297
        }
      },
      "source": [
        "df[(df['Customer_ID']==9) | (df['Customer_ID']==10) | (df['Customer_ID']==11)]"
      ],
      "execution_count": 0,
      "outputs": [
        {
          "output_type": "execute_result",
          "data": {
            "text/html": [
              "<div>\n",
              "<style scoped>\n",
              "    .dataframe tbody tr th:only-of-type {\n",
              "        vertical-align: middle;\n",
              "    }\n",
              "\n",
              "    .dataframe tbody tr th {\n",
              "        vertical-align: top;\n",
              "    }\n",
              "\n",
              "    .dataframe thead th {\n",
              "        text-align: right;\n",
              "    }\n",
              "</style>\n",
              "<table border=\"1\" class=\"dataframe\">\n",
              "  <thead>\n",
              "    <tr style=\"text-align: right;\">\n",
              "      <th></th>\n",
              "      <th>DateTime</th>\n",
              "      <th>Customer_ID</th>\n",
              "      <th>Sequence_Num</th>\n",
              "      <th>Store_ID</th>\n",
              "      <th>Dwell_Time</th>\n",
              "      <th>Day</th>\n",
              "      <th>Month</th>\n",
              "      <th>Next_Sequence</th>\n",
              "      <th>Target</th>\n",
              "    </tr>\n",
              "  </thead>\n",
              "  <tbody>\n",
              "    <tr>\n",
              "      <th>12</th>\n",
              "      <td>2018-01-01 08:52:00</td>\n",
              "      <td>9</td>\n",
              "      <td>1</td>\n",
              "      <td>5079256</td>\n",
              "      <td>58</td>\n",
              "      <td>0.0</td>\n",
              "      <td>1.0</td>\n",
              "      <td>2.0</td>\n",
              "      <td>5079256.0</td>\n",
              "    </tr>\n",
              "    <tr>\n",
              "      <th>13</th>\n",
              "      <td>2018-01-01 08:52:00</td>\n",
              "      <td>9</td>\n",
              "      <td>2</td>\n",
              "      <td>5079256</td>\n",
              "      <td>8</td>\n",
              "      <td>0.0</td>\n",
              "      <td>1.0</td>\n",
              "      <td>3.0</td>\n",
              "      <td>5079256.0</td>\n",
              "    </tr>\n",
              "    <tr>\n",
              "      <th>14</th>\n",
              "      <td>2018-01-01 08:52:00</td>\n",
              "      <td>9</td>\n",
              "      <td>3</td>\n",
              "      <td>5079256</td>\n",
              "      <td>17</td>\n",
              "      <td>0.0</td>\n",
              "      <td>1.0</td>\n",
              "      <td>4.0</td>\n",
              "      <td>3.0</td>\n",
              "    </tr>\n",
              "    <tr>\n",
              "      <th>15</th>\n",
              "      <td>2018-01-01 08:52:00</td>\n",
              "      <td>9</td>\n",
              "      <td>4</td>\n",
              "      <td>3</td>\n",
              "      <td>7</td>\n",
              "      <td>0.0</td>\n",
              "      <td>1.0</td>\n",
              "      <td>5.0</td>\n",
              "      <td>5079256.0</td>\n",
              "    </tr>\n",
              "    <tr>\n",
              "      <th>16</th>\n",
              "      <td>2018-01-01 08:52:00</td>\n",
              "      <td>9</td>\n",
              "      <td>5</td>\n",
              "      <td>5079256</td>\n",
              "      <td>10</td>\n",
              "      <td>0.0</td>\n",
              "      <td>1.0</td>\n",
              "      <td>1.0</td>\n",
              "      <td>5080089.0</td>\n",
              "    </tr>\n",
              "    <tr>\n",
              "      <th>17</th>\n",
              "      <td>2018-01-01 08:58:20</td>\n",
              "      <td>10</td>\n",
              "      <td>1</td>\n",
              "      <td>5080089</td>\n",
              "      <td>7</td>\n",
              "      <td>0.0</td>\n",
              "      <td>1.0</td>\n",
              "      <td>1.0</td>\n",
              "      <td>5080089.0</td>\n",
              "    </tr>\n",
              "    <tr>\n",
              "      <th>18</th>\n",
              "      <td>2018-01-01 09:00:50</td>\n",
              "      <td>11</td>\n",
              "      <td>1</td>\n",
              "      <td>5080089</td>\n",
              "      <td>6</td>\n",
              "      <td>0.0</td>\n",
              "      <td>1.0</td>\n",
              "      <td>2.0</td>\n",
              "      <td>9713461.0</td>\n",
              "    </tr>\n",
              "    <tr>\n",
              "      <th>19</th>\n",
              "      <td>2018-01-01 09:00:50</td>\n",
              "      <td>11</td>\n",
              "      <td>2</td>\n",
              "      <td>9713461</td>\n",
              "      <td>15</td>\n",
              "      <td>0.0</td>\n",
              "      <td>1.0</td>\n",
              "      <td>1.0</td>\n",
              "      <td>3.0</td>\n",
              "    </tr>\n",
              "  </tbody>\n",
              "</table>\n",
              "</div>"
            ],
            "text/plain": [
              "              DateTime  Customer_ID  Sequence_Num  Store_ID  Dwell_Time  Day  \\\n",
              "12 2018-01-01 08:52:00            9             1   5079256          58  0.0   \n",
              "13 2018-01-01 08:52:00            9             2   5079256           8  0.0   \n",
              "14 2018-01-01 08:52:00            9             3   5079256          17  0.0   \n",
              "15 2018-01-01 08:52:00            9             4         3           7  0.0   \n",
              "16 2018-01-01 08:52:00            9             5   5079256          10  0.0   \n",
              "17 2018-01-01 08:58:20           10             1   5080089           7  0.0   \n",
              "18 2018-01-01 09:00:50           11             1   5080089           6  0.0   \n",
              "19 2018-01-01 09:00:50           11             2   9713461          15  0.0   \n",
              "\n",
              "    Month  Next_Sequence     Target  \n",
              "12    1.0            2.0  5079256.0  \n",
              "13    1.0            3.0  5079256.0  \n",
              "14    1.0            4.0        3.0  \n",
              "15    1.0            5.0  5079256.0  \n",
              "16    1.0            1.0  5080089.0  \n",
              "17    1.0            1.0  5080089.0  \n",
              "18    1.0            2.0  9713461.0  \n",
              "19    1.0            1.0        3.0  "
            ]
          },
          "metadata": {
            "tags": []
          },
          "execution_count": 13
        }
      ]
    },
    {
      "cell_type": "markdown",
      "metadata": {
        "id": "p_fArghw2wiK",
        "colab_type": "text"
      },
      "source": [
        "The following code will put a 0 in the Target column as the customer leaves the store. I can do this by checking if the Sequence_Num is greater than Nex_Store. If i find such a record that means that the customer has exited the store."
      ]
    },
    {
      "cell_type": "code",
      "metadata": {
        "id": "G3ew8a7D0PWr",
        "colab_type": "code",
        "colab": {}
      },
      "source": [
        "df['Target']=df['Target'].astype(int)  # Converting float to integer\n",
        "df['Target']= np.where(df['Sequence_Num']>=df['Next_Sequence'],0,df['Target']) "
      ],
      "execution_count": 0,
      "outputs": []
    },
    {
      "cell_type": "markdown",
      "metadata": {
        "id": "4rhZhxAV3nRg",
        "colab_type": "text"
      },
      "source": [
        "Now just looking at the same scenrio again. We see that in row 16. Target has been changed to 0 indicating customer leaving the store at that point. Customer 10 only goes to one store and therefore he has only one instance with the Target as zero. Customer 11 goes to 2 stores."
      ]
    },
    {
      "cell_type": "code",
      "metadata": {
        "id": "mSNyuDCG3gYj",
        "colab_type": "code",
        "outputId": "ebd04b8c-60f7-4d63-e221-790e64940c23",
        "colab": {
          "base_uri": "https://localhost:8080/",
          "height": 297
        }
      },
      "source": [
        "df[(df['Customer_ID']==9) | (df['Customer_ID']==10) | (df['Customer_ID']==11)]"
      ],
      "execution_count": 0,
      "outputs": [
        {
          "output_type": "execute_result",
          "data": {
            "text/html": [
              "<div>\n",
              "<style scoped>\n",
              "    .dataframe tbody tr th:only-of-type {\n",
              "        vertical-align: middle;\n",
              "    }\n",
              "\n",
              "    .dataframe tbody tr th {\n",
              "        vertical-align: top;\n",
              "    }\n",
              "\n",
              "    .dataframe thead th {\n",
              "        text-align: right;\n",
              "    }\n",
              "</style>\n",
              "<table border=\"1\" class=\"dataframe\">\n",
              "  <thead>\n",
              "    <tr style=\"text-align: right;\">\n",
              "      <th></th>\n",
              "      <th>DateTime</th>\n",
              "      <th>Customer_ID</th>\n",
              "      <th>Sequence_Num</th>\n",
              "      <th>Store_ID</th>\n",
              "      <th>Dwell_Time</th>\n",
              "      <th>Day</th>\n",
              "      <th>Month</th>\n",
              "      <th>Next_Sequence</th>\n",
              "      <th>Target</th>\n",
              "    </tr>\n",
              "  </thead>\n",
              "  <tbody>\n",
              "    <tr>\n",
              "      <th>12</th>\n",
              "      <td>2018-01-01 08:52:00</td>\n",
              "      <td>9</td>\n",
              "      <td>1</td>\n",
              "      <td>5079256</td>\n",
              "      <td>58</td>\n",
              "      <td>0.0</td>\n",
              "      <td>1.0</td>\n",
              "      <td>2.0</td>\n",
              "      <td>5079256</td>\n",
              "    </tr>\n",
              "    <tr>\n",
              "      <th>13</th>\n",
              "      <td>2018-01-01 08:52:00</td>\n",
              "      <td>9</td>\n",
              "      <td>2</td>\n",
              "      <td>5079256</td>\n",
              "      <td>8</td>\n",
              "      <td>0.0</td>\n",
              "      <td>1.0</td>\n",
              "      <td>3.0</td>\n",
              "      <td>5079256</td>\n",
              "    </tr>\n",
              "    <tr>\n",
              "      <th>14</th>\n",
              "      <td>2018-01-01 08:52:00</td>\n",
              "      <td>9</td>\n",
              "      <td>3</td>\n",
              "      <td>5079256</td>\n",
              "      <td>17</td>\n",
              "      <td>0.0</td>\n",
              "      <td>1.0</td>\n",
              "      <td>4.0</td>\n",
              "      <td>3</td>\n",
              "    </tr>\n",
              "    <tr>\n",
              "      <th>15</th>\n",
              "      <td>2018-01-01 08:52:00</td>\n",
              "      <td>9</td>\n",
              "      <td>4</td>\n",
              "      <td>3</td>\n",
              "      <td>7</td>\n",
              "      <td>0.0</td>\n",
              "      <td>1.0</td>\n",
              "      <td>5.0</td>\n",
              "      <td>5079256</td>\n",
              "    </tr>\n",
              "    <tr>\n",
              "      <th>16</th>\n",
              "      <td>2018-01-01 08:52:00</td>\n",
              "      <td>9</td>\n",
              "      <td>5</td>\n",
              "      <td>5079256</td>\n",
              "      <td>10</td>\n",
              "      <td>0.0</td>\n",
              "      <td>1.0</td>\n",
              "      <td>1.0</td>\n",
              "      <td>0</td>\n",
              "    </tr>\n",
              "    <tr>\n",
              "      <th>17</th>\n",
              "      <td>2018-01-01 08:58:20</td>\n",
              "      <td>10</td>\n",
              "      <td>1</td>\n",
              "      <td>5080089</td>\n",
              "      <td>7</td>\n",
              "      <td>0.0</td>\n",
              "      <td>1.0</td>\n",
              "      <td>1.0</td>\n",
              "      <td>0</td>\n",
              "    </tr>\n",
              "    <tr>\n",
              "      <th>18</th>\n",
              "      <td>2018-01-01 09:00:50</td>\n",
              "      <td>11</td>\n",
              "      <td>1</td>\n",
              "      <td>5080089</td>\n",
              "      <td>6</td>\n",
              "      <td>0.0</td>\n",
              "      <td>1.0</td>\n",
              "      <td>2.0</td>\n",
              "      <td>9713461</td>\n",
              "    </tr>\n",
              "    <tr>\n",
              "      <th>19</th>\n",
              "      <td>2018-01-01 09:00:50</td>\n",
              "      <td>11</td>\n",
              "      <td>2</td>\n",
              "      <td>9713461</td>\n",
              "      <td>15</td>\n",
              "      <td>0.0</td>\n",
              "      <td>1.0</td>\n",
              "      <td>1.0</td>\n",
              "      <td>0</td>\n",
              "    </tr>\n",
              "  </tbody>\n",
              "</table>\n",
              "</div>"
            ],
            "text/plain": [
              "              DateTime  Customer_ID  Sequence_Num  Store_ID  Dwell_Time  Day  \\\n",
              "12 2018-01-01 08:52:00            9             1   5079256          58  0.0   \n",
              "13 2018-01-01 08:52:00            9             2   5079256           8  0.0   \n",
              "14 2018-01-01 08:52:00            9             3   5079256          17  0.0   \n",
              "15 2018-01-01 08:52:00            9             4         3           7  0.0   \n",
              "16 2018-01-01 08:52:00            9             5   5079256          10  0.0   \n",
              "17 2018-01-01 08:58:20           10             1   5080089           7  0.0   \n",
              "18 2018-01-01 09:00:50           11             1   5080089           6  0.0   \n",
              "19 2018-01-01 09:00:50           11             2   9713461          15  0.0   \n",
              "\n",
              "    Month  Next_Sequence   Target  \n",
              "12    1.0            2.0  5079256  \n",
              "13    1.0            3.0  5079256  \n",
              "14    1.0            4.0        3  \n",
              "15    1.0            5.0  5079256  \n",
              "16    1.0            1.0        0  \n",
              "17    1.0            1.0        0  \n",
              "18    1.0            2.0  9713461  \n",
              "19    1.0            1.0        0  "
            ]
          },
          "metadata": {
            "tags": []
          },
          "execution_count": 15
        }
      ]
    },
    {
      "cell_type": "markdown",
      "metadata": {
        "id": "Saaa8tWo5CcG",
        "colab_type": "text"
      },
      "source": [
        "Now removing a few outliers in the data set\n",
        "\n",
        "1.   Removing all records where we see customers before opening hours of the mall\n",
        "2.   Removing all records where we see customers after the closing hours of the mall\n",
        "\n",
        "3.   Removing all records where the Dwell time spent in a Store is more than 3 hours\n",
        "\n"
      ]
    },
    {
      "cell_type": "code",
      "metadata": {
        "id": "4RRedGwV3mRk",
        "colab_type": "code",
        "colab": {}
      },
      "source": [
        "df['Time'] = [datetime.time(d) for d in df['DateTime']] # Create a new column called Time\n",
        "df = df[df['Time'] > time(10, 0, 0)] # Remove all records less than 10AM\n",
        "df = df[df['Time'] < time(21,0,0) ] # Remove all records greater than 9PM\n",
        "df =  df[df['Dwell_Time'] < 180] # Remove all records where Dwell time is more than 3 hours"
      ],
      "execution_count": 0,
      "outputs": []
    },
    {
      "cell_type": "markdown",
      "metadata": {
        "id": "6sWqiCFK6_oU",
        "colab_type": "text"
      },
      "source": [
        "Now bringing in other dataset to create more features for our experiment.Now bringing in the categories for each store"
      ]
    },
    {
      "cell_type": "code",
      "metadata": {
        "id": "7jDpPt6h6bWM",
        "colab_type": "code",
        "colab": {}
      },
      "source": [
        "df_cat = pd.read_csv('/content/drive/My Drive/AI/stores.csv')"
      ],
      "execution_count": 0,
      "outputs": []
    },
    {
      "cell_type": "markdown",
      "metadata": {
        "id": "JeOgN2C08tQW",
        "colab_type": "text"
      },
      "source": [
        "The dataset has a few discrepencies. In the following example all of Holt Renfrew's stores are being tracked with the same Store_ID. There are more of such casses as seen below"
      ]
    },
    {
      "cell_type": "code",
      "metadata": {
        "id": "NcDK1vMv7tUl",
        "colab_type": "code",
        "outputId": "fb61f367-5920-403a-dbbb-694021f21a94",
        "colab": {
          "base_uri": "https://localhost:8080/",
          "height": 607
        }
      },
      "source": [
        "df_cat[df_cat.duplicated(subset=['Store_ID'] , keep = False)]"
      ],
      "execution_count": 0,
      "outputs": [
        {
          "output_type": "execute_result",
          "data": {
            "text/html": [
              "<div>\n",
              "<style scoped>\n",
              "    .dataframe tbody tr th:only-of-type {\n",
              "        vertical-align: middle;\n",
              "    }\n",
              "\n",
              "    .dataframe tbody tr th {\n",
              "        vertical-align: top;\n",
              "    }\n",
              "\n",
              "    .dataframe thead th {\n",
              "        text-align: right;\n",
              "    }\n",
              "</style>\n",
              "<table border=\"1\" class=\"dataframe\">\n",
              "  <thead>\n",
              "    <tr style=\"text-align: right;\">\n",
              "      <th></th>\n",
              "      <th>Store_ID</th>\n",
              "      <th>Category_ID</th>\n",
              "      <th>Category_name</th>\n",
              "      <th>Name</th>\n",
              "      <th>Slot</th>\n",
              "    </tr>\n",
              "  </thead>\n",
              "  <tbody>\n",
              "    <tr>\n",
              "      <th>19</th>\n",
              "      <td>5079256</td>\n",
              "      <td>8</td>\n",
              "      <td>Large Format</td>\n",
              "      <td>Holt Renfrew</td>\n",
              "      <td>3</td>\n",
              "    </tr>\n",
              "    <tr>\n",
              "      <th>20</th>\n",
              "      <td>5079256</td>\n",
              "      <td>8</td>\n",
              "      <td>Large Format</td>\n",
              "      <td>Holt Renfrew Louis Vuitton</td>\n",
              "      <td>3</td>\n",
              "    </tr>\n",
              "    <tr>\n",
              "      <th>21</th>\n",
              "      <td>5079256</td>\n",
              "      <td>8</td>\n",
              "      <td>Large Format</td>\n",
              "      <td>Holt Renfrew Prada</td>\n",
              "      <td>3</td>\n",
              "    </tr>\n",
              "    <tr>\n",
              "      <th>22</th>\n",
              "      <td>5079256</td>\n",
              "      <td>8</td>\n",
              "      <td>Large Format</td>\n",
              "      <td>Holt Renfrew Gucci</td>\n",
              "      <td>3</td>\n",
              "    </tr>\n",
              "    <tr>\n",
              "      <th>23</th>\n",
              "      <td>5079256</td>\n",
              "      <td>8</td>\n",
              "      <td>Large Format</td>\n",
              "      <td>Holt Renfrew Men</td>\n",
              "      <td>3</td>\n",
              "    </tr>\n",
              "    <tr>\n",
              "      <th>24</th>\n",
              "      <td>5079256</td>\n",
              "      <td>8</td>\n",
              "      <td>Large Format</td>\n",
              "      <td>Holt Renfrew Chanel</td>\n",
              "      <td>3</td>\n",
              "    </tr>\n",
              "    <tr>\n",
              "      <th>25</th>\n",
              "      <td>5079256</td>\n",
              "      <td>8</td>\n",
              "      <td>Large Format</td>\n",
              "      <td>Holt Renfrew Corridor 1</td>\n",
              "      <td>3</td>\n",
              "    </tr>\n",
              "    <tr>\n",
              "      <th>26</th>\n",
              "      <td>5079256</td>\n",
              "      <td>8</td>\n",
              "      <td>Large Format</td>\n",
              "      <td>Holt Renfrew Corridor 2</td>\n",
              "      <td>3</td>\n",
              "    </tr>\n",
              "    <tr>\n",
              "      <th>27</th>\n",
              "      <td>5079256</td>\n",
              "      <td>8</td>\n",
              "      <td>Large Format</td>\n",
              "      <td>Holt Renfrew Corridor 3</td>\n",
              "      <td>3</td>\n",
              "    </tr>\n",
              "    <tr>\n",
              "      <th>28</th>\n",
              "      <td>5079256</td>\n",
              "      <td>8</td>\n",
              "      <td>Large Format</td>\n",
              "      <td>Holt Renfrew Corridor Washrooms</td>\n",
              "      <td>3</td>\n",
              "    </tr>\n",
              "    <tr>\n",
              "      <th>49</th>\n",
              "      <td>5079942</td>\n",
              "      <td>7</td>\n",
              "      <td>Electronics</td>\n",
              "      <td>Rogers</td>\n",
              "      <td>180</td>\n",
              "    </tr>\n",
              "    <tr>\n",
              "      <th>55</th>\n",
              "      <td>5080089</td>\n",
              "      <td>8</td>\n",
              "      <td>Large Format</td>\n",
              "      <td>Sport Chek</td>\n",
              "      <td>0033C</td>\n",
              "    </tr>\n",
              "    <tr>\n",
              "      <th>56</th>\n",
              "      <td>5080089</td>\n",
              "      <td>8</td>\n",
              "      <td>Large Format</td>\n",
              "      <td>Sport Chek Entrance</td>\n",
              "      <td>0033C</td>\n",
              "    </tr>\n",
              "    <tr>\n",
              "      <th>92</th>\n",
              "      <td>5322703</td>\n",
              "      <td>5</td>\n",
              "      <td>Family Apparel</td>\n",
              "      <td>Lucky Brand Jeans</td>\n",
              "      <td>85</td>\n",
              "    </tr>\n",
              "    <tr>\n",
              "      <th>158</th>\n",
              "      <td>9367511</td>\n",
              "      <td>5</td>\n",
              "      <td>Family Apparel</td>\n",
              "      <td>Diesel</td>\n",
              "      <td>0315A</td>\n",
              "    </tr>\n",
              "    <tr>\n",
              "      <th>249</th>\n",
              "      <td>5079942</td>\n",
              "      <td>7</td>\n",
              "      <td>Electronics</td>\n",
              "      <td>Rogers</td>\n",
              "      <td>322</td>\n",
              "    </tr>\n",
              "    <tr>\n",
              "      <th>252</th>\n",
              "      <td>9367511</td>\n",
              "      <td>5</td>\n",
              "      <td>Family Apparel</td>\n",
              "      <td>Diesel</td>\n",
              "      <td>240</td>\n",
              "    </tr>\n",
              "    <tr>\n",
              "      <th>253</th>\n",
              "      <td>5322703</td>\n",
              "      <td>5</td>\n",
              "      <td>Family Apparel</td>\n",
              "      <td>Lucky Brand Jeans</td>\n",
              "      <td>190</td>\n",
              "    </tr>\n",
              "  </tbody>\n",
              "</table>\n",
              "</div>"
            ],
            "text/plain": [
              "     Store_ID  Category_ID   Category_name                             Name  \\\n",
              "19    5079256            8    Large Format                     Holt Renfrew   \n",
              "20    5079256            8    Large Format       Holt Renfrew Louis Vuitton   \n",
              "21    5079256            8    Large Format               Holt Renfrew Prada   \n",
              "22    5079256            8    Large Format               Holt Renfrew Gucci   \n",
              "23    5079256            8    Large Format                 Holt Renfrew Men   \n",
              "24    5079256            8    Large Format              Holt Renfrew Chanel   \n",
              "25    5079256            8    Large Format          Holt Renfrew Corridor 1   \n",
              "26    5079256            8    Large Format          Holt Renfrew Corridor 2   \n",
              "27    5079256            8    Large Format          Holt Renfrew Corridor 3   \n",
              "28    5079256            8    Large Format  Holt Renfrew Corridor Washrooms   \n",
              "49    5079942            7     Electronics                           Rogers   \n",
              "55    5080089            8    Large Format                       Sport Chek   \n",
              "56    5080089            8    Large Format              Sport Chek Entrance   \n",
              "92    5322703            5  Family Apparel                Lucky Brand Jeans   \n",
              "158   9367511            5  Family Apparel                           Diesel   \n",
              "249   5079942            7     Electronics                           Rogers   \n",
              "252   9367511            5  Family Apparel                           Diesel   \n",
              "253   5322703            5  Family Apparel                Lucky Brand Jeans   \n",
              "\n",
              "      Slot  \n",
              "19       3  \n",
              "20       3  \n",
              "21       3  \n",
              "22       3  \n",
              "23       3  \n",
              "24       3  \n",
              "25       3  \n",
              "26       3  \n",
              "27       3  \n",
              "28       3  \n",
              "49     180  \n",
              "55   0033C  \n",
              "56   0033C  \n",
              "92      85  \n",
              "158  0315A  \n",
              "249    322  \n",
              "252    240  \n",
              "253    190  "
            ]
          },
          "metadata": {
            "tags": []
          },
          "execution_count": 18
        }
      ]
    },
    {
      "cell_type": "code",
      "metadata": {
        "id": "CTFJd_0r7woY",
        "colab_type": "code",
        "colab": {}
      },
      "source": [
        "df_cat.drop(df_cat[df_cat.duplicated(subset=['Store_ID'] , keep='first')].index, axis=0 , inplace = True) # Removing all records where unique Store_ID has multiple instances"
      ],
      "execution_count": 0,
      "outputs": []
    },
    {
      "cell_type": "code",
      "metadata": {
        "id": "lqIW55tc_Vbl",
        "colab_type": "code",
        "colab": {}
      },
      "source": [
        "df_cat.drop(columns=['Category_name','Name','Slot'],axis=1,inplace=True) # Droping all non-numerical coloumns"
      ],
      "execution_count": 0,
      "outputs": []
    },
    {
      "cell_type": "markdown",
      "metadata": {
        "id": "WiPmNGh6D-dj",
        "colab_type": "text"
      },
      "source": [
        "Combining dataframes together. The resulting dataframe will now contain a new column that will track the category of the store"
      ]
    },
    {
      "cell_type": "code",
      "metadata": {
        "id": "3meSS0wKAyQw",
        "colab_type": "code",
        "colab": {}
      },
      "source": [
        "df = df.merge(df_cat,how='inner', on='Store_ID') # Doing an inner join on Store_ID between df and df_cat"
      ],
      "execution_count": 0,
      "outputs": []
    },
    {
      "cell_type": "markdown",
      "metadata": {
        "id": "h0qlbaljGlWF",
        "colab_type": "text"
      },
      "source": [
        "Now lets plot the data for all the stores based on the number of times it is visited. The data distribution is highly skewed with 'Exit Store' dominating over the entire data"
      ]
    },
    {
      "cell_type": "code",
      "metadata": {
        "id": "PXMFV65tEbAP",
        "colab_type": "code",
        "outputId": "f89704f2-bac0-4fab-ff5b-ca988f91484f",
        "colab": {
          "base_uri": "https://localhost:8080/",
          "height": 435
        }
      },
      "source": [
        "ax = sns.catplot(x=\"Target\", kind=\"count\", palette=\"ch:.25\", data=df,height=5, aspect=20)\n",
        "ax.set_xticklabels( rotation=45, horizontalalignment='right')"
      ],
      "execution_count": 0,
      "outputs": [
        {
          "output_type": "execute_result",
          "data": {
            "text/plain": [
              "<seaborn.axisgrid.FacetGrid at 0x7f3c3e4244e0>"
            ]
          },
          "metadata": {
            "tags": []
          },
          "execution_count": 22
        },
        {
          "output_type": "display_data",
          "data": {
            "image/png": "[encoded data removed]",
            "text/plain": [
              "<Figure size 7200x360 with 1 Axes>"
            ]
          },
          "metadata": {
            "tags": []
          }
        }
      ]
    },
    {
      "cell_type": "markdown",
      "metadata": {
        "id": "7_z_bIiiNw9I",
        "colab_type": "text"
      },
      "source": [
        "Now plotting the data without taking exit into account and arranding it by descending order to get an overall picture"
      ]
    },
    {
      "cell_type": "code",
      "metadata": {
        "id": "QYFS26sNFvg0",
        "colab_type": "code",
        "outputId": "14b02650-0597-4ae1-baa6-a8be929b1e42",
        "colab": {
          "base_uri": "https://localhost:8080/",
          "height": 435
        }
      },
      "source": [
        "ax = sns.catplot(x=\"Target\", kind=\"count\", palette=\"ch:.25\", data=df[df['Target']!=0],height=5, aspect=20,order=df['Target'].value_counts().index,)\n",
        "ax.set_xticklabels( rotation=45, horizontalalignment='right')"
      ],
      "execution_count": 0,
      "outputs": [
        {
          "output_type": "execute_result",
          "data": {
            "text/plain": [
              "<seaborn.axisgrid.FacetGrid at 0x7f3c39cd8710>"
            ]
          },
          "metadata": {
            "tags": []
          },
          "execution_count": 23
        },
        {
          "output_type": "display_data",
          "data": {
            "image/png": "[encoded data removed]",
            "text/plain": [
              "<Figure size 7200x360 with 1 Axes>"
            ]
          },
          "metadata": {
            "tags": []
          }
        }
      ]
    },
    {
      "cell_type": "markdown",
      "metadata": {
        "id": "xQLRY7qaP0kP",
        "colab_type": "text"
      },
      "source": [
        "Creating a new dataFrame which will not contain any exits from the mall"
      ]
    },
    {
      "cell_type": "code",
      "metadata": {
        "id": "Oj0fJoCkp9t9",
        "colab_type": "code",
        "colab": {}
      },
      "source": [
        "df_no_exit = df[df['Target']!=0]"
      ],
      "execution_count": 0,
      "outputs": []
    },
    {
      "cell_type": "markdown",
      "metadata": {
        "id": "afldWoJmrrP2",
        "colab_type": "text"
      },
      "source": [
        "Taking the Top 5 stores by the total number of visits and bucketing the rest of the stores as 0"
      ]
    },
    {
      "cell_type": "code",
      "metadata": {
        "id": "bL9pC7psrRAx",
        "colab_type": "code",
        "outputId": "bd832437-3cd0-44ab-8039-12e699fd3fd2",
        "colab": {
          "base_uri": "https://localhost:8080/",
          "height": 187
        }
      },
      "source": [
        "def conditions(x):\n",
        "    if x == 2:\n",
        "        return 2\n",
        "    elif x == 5080089:\n",
        "        return 5080089\n",
        "    elif x == 5079256:\n",
        "      return 5079256\n",
        "    elif x == 9709631:\n",
        "      return 9709631\n",
        "    elif x == 5079942:\n",
        "      return 5079942\n",
        "    else:\n",
        "        return 0\n",
        "\n",
        "func = np.vectorize(conditions)\n",
        "New_Stores = func(df_no_exit[\"Store_ID\"])\n",
        "New_Target = func(df_no_exit[\"Target\"])\n",
        "df_no_exit['Store_ID'] = New_Stores\n",
        "df_no_exit['Target'] = New_Target"
      ],
      "execution_count": 0,
      "outputs": [
        {
          "output_type": "stream",
          "text": [
            "/usr/local/lib/python3.6/dist-packages/ipykernel_launcher.py:18: SettingWithCopyWarning: \n",
            "A value is trying to be set on a copy of a slice from a DataFrame.\n",
            "Try using .loc[row_indexer,col_indexer] = value instead\n",
            "\n",
            "See the caveats in the documentation: http://pandas.pydata.org/pandas-docs/stable/user_guide/indexing.html#returning-a-view-versus-a-copy\n",
            "/usr/local/lib/python3.6/dist-packages/ipykernel_launcher.py:19: SettingWithCopyWarning: \n",
            "A value is trying to be set on a copy of a slice from a DataFrame.\n",
            "Try using .loc[row_indexer,col_indexer] = value instead\n",
            "\n",
            "See the caveats in the documentation: http://pandas.pydata.org/pandas-docs/stable/user_guide/indexing.html#returning-a-view-versus-a-copy\n"
          ],
          "name": "stderr"
        }
      ]
    },
    {
      "cell_type": "markdown",
      "metadata": {
        "id": "AZdh8S3gu0i9",
        "colab_type": "text"
      },
      "source": [
        "Plotting graph to see the actual distribution based on the new bucketing logic"
      ]
    },
    {
      "cell_type": "code",
      "metadata": {
        "id": "32s02IYBs0O0",
        "colab_type": "code",
        "outputId": "f819c2f8-53c4-4312-e4ba-0fa54fd4d460",
        "colab": {
          "base_uri": "https://localhost:8080/",
          "height": 415
        }
      },
      "source": [
        "ax = sns.catplot(x=\"Target\", kind=\"count\", palette=\"ch:.25\", data=df_no_exit,height=5, aspect=2)\n",
        "ax.set_xticklabels( rotation=45, horizontalalignment='right')"
      ],
      "execution_count": 0,
      "outputs": [
        {
          "output_type": "execute_result",
          "data": {
            "text/plain": [
              "<seaborn.axisgrid.FacetGrid at 0x7f3c37c498d0>"
            ]
          },
          "metadata": {
            "tags": []
          },
          "execution_count": 26
        },
        {
          "output_type": "display_data",
          "data": {
            "image/png": "[encoded data removed]",
            "text/plain": [
              "<Figure size 720x360 with 1 Axes>"
            ]
          },
          "metadata": {
            "tags": []
          }
        }
      ]
    },
    {
      "cell_type": "code",
      "metadata": {
        "id": "pVj0vYNqtQ7U",
        "colab_type": "code",
        "outputId": "086c21a3-1cd8-48de-b9e4-71a7269304e7",
        "colab": {
          "base_uri": "https://localhost:8080/",
          "height": 415
        }
      },
      "source": [
        "ax = sns.catplot(x=\"Store_ID\", kind=\"count\", palette=\"ch:.25\", data=df_no_exit,height=5, aspect=2)\n",
        "ax.set_xticklabels( rotation=45, horizontalalignment='right')"
      ],
      "execution_count": 0,
      "outputs": [
        {
          "output_type": "execute_result",
          "data": {
            "text/plain": [
              "<seaborn.axisgrid.FacetGrid at 0x7f385ba1cb38>"
            ]
          },
          "metadata": {
            "tags": []
          },
          "execution_count": 27
        },
        {
          "output_type": "display_data",
          "data": {
            "image/png": "[encoded data removed]",
            "text/plain": [
              "<Figure size 720x360 with 1 Axes>"
            ]
          },
          "metadata": {
            "tags": []
          }
        }
      ]
    },
    {
      "cell_type": "code",
      "metadata": {
        "id": "3TwMfvLR3rB9",
        "colab_type": "code",
        "colab": {}
      },
      "source": [
        "df_no_exit_wo_seq = df_no_exit"
      ],
      "execution_count": 0,
      "outputs": []
    },
    {
      "cell_type": "code",
      "metadata": {
        "id": "rpWOYeI798Er",
        "colab_type": "code",
        "outputId": "179ce636-203d-497f-9e31-e9678d7a62cd",
        "colab": {
          "base_uri": "https://localhost:8080/",
          "height": 419
        }
      },
      "source": [
        "df_no_exit_wo_seq.sort_values(by=['DateTime','Customer_ID','Sequence_Num'])"
      ],
      "execution_count": 0,
      "outputs": [
        {
          "output_type": "execute_result",
          "data": {
            "text/html": [
              "<div>\n",
              "<style scoped>\n",
              "    .dataframe tbody tr th:only-of-type {\n",
              "        vertical-align: middle;\n",
              "    }\n",
              "\n",
              "    .dataframe tbody tr th {\n",
              "        vertical-align: top;\n",
              "    }\n",
              "\n",
              "    .dataframe thead th {\n",
              "        text-align: right;\n",
              "    }\n",
              "</style>\n",
              "<table border=\"1\" class=\"dataframe\">\n",
              "  <thead>\n",
              "    <tr style=\"text-align: right;\">\n",
              "      <th></th>\n",
              "      <th>DateTime</th>\n",
              "      <th>Customer_ID</th>\n",
              "      <th>Sequence_Num</th>\n",
              "      <th>Store_ID</th>\n",
              "      <th>Dwell_Time</th>\n",
              "      <th>Day</th>\n",
              "      <th>Month</th>\n",
              "      <th>Next_Sequence</th>\n",
              "      <th>Target</th>\n",
              "      <th>Time</th>\n",
              "      <th>Category_ID</th>\n",
              "    </tr>\n",
              "  </thead>\n",
              "  <tbody>\n",
              "    <tr>\n",
              "      <th>0</th>\n",
              "      <td>2018-01-01 10:03:50</td>\n",
              "      <td>26</td>\n",
              "      <td>1</td>\n",
              "      <td>0</td>\n",
              "      <td>35</td>\n",
              "      <td>0.0</td>\n",
              "      <td>1.0</td>\n",
              "      <td>2.0</td>\n",
              "      <td>0</td>\n",
              "      <td>10:03:50</td>\n",
              "      <td>14</td>\n",
              "    </tr>\n",
              "    <tr>\n",
              "      <th>280254</th>\n",
              "      <td>2018-01-01 10:08:50</td>\n",
              "      <td>29</td>\n",
              "      <td>1</td>\n",
              "      <td>5079256</td>\n",
              "      <td>27</td>\n",
              "      <td>0.0</td>\n",
              "      <td>1.0</td>\n",
              "      <td>2.0</td>\n",
              "      <td>5080089</td>\n",
              "      <td>10:08:50</td>\n",
              "      <td>8</td>\n",
              "    </tr>\n",
              "    <tr>\n",
              "      <th>368274</th>\n",
              "      <td>2018-01-01 10:10:50</td>\n",
              "      <td>30</td>\n",
              "      <td>1</td>\n",
              "      <td>0</td>\n",
              "      <td>9</td>\n",
              "      <td>0.0</td>\n",
              "      <td>1.0</td>\n",
              "      <td>2.0</td>\n",
              "      <td>9709631</td>\n",
              "      <td>10:10:50</td>\n",
              "      <td>8</td>\n",
              "    </tr>\n",
              "    <tr>\n",
              "      <th>443955</th>\n",
              "      <td>2018-01-01 10:11:20</td>\n",
              "      <td>31</td>\n",
              "      <td>1</td>\n",
              "      <td>0</td>\n",
              "      <td>44</td>\n",
              "      <td>0.0</td>\n",
              "      <td>1.0</td>\n",
              "      <td>2.0</td>\n",
              "      <td>5079256</td>\n",
              "      <td>10:11:20</td>\n",
              "      <td>15</td>\n",
              "    </tr>\n",
              "    <tr>\n",
              "      <th>172484</th>\n",
              "      <td>2018-01-01 10:18:50</td>\n",
              "      <td>32</td>\n",
              "      <td>1</td>\n",
              "      <td>5080089</td>\n",
              "      <td>45</td>\n",
              "      <td>0.0</td>\n",
              "      <td>1.0</td>\n",
              "      <td>2.0</td>\n",
              "      <td>2</td>\n",
              "      <td>10:18:50</td>\n",
              "      <td>8</td>\n",
              "    </tr>\n",
              "    <tr>\n",
              "      <th>...</th>\n",
              "      <td>...</td>\n",
              "      <td>...</td>\n",
              "      <td>...</td>\n",
              "      <td>...</td>\n",
              "      <td>...</td>\n",
              "      <td>...</td>\n",
              "      <td>...</td>\n",
              "      <td>...</td>\n",
              "      <td>...</td>\n",
              "      <td>...</td>\n",
              "      <td>...</td>\n",
              "    </tr>\n",
              "    <tr>\n",
              "      <th>1531559</th>\n",
              "      <td>2018-06-30 20:44:40</td>\n",
              "      <td>441759</td>\n",
              "      <td>2</td>\n",
              "      <td>0</td>\n",
              "      <td>12</td>\n",
              "      <td>5.0</td>\n",
              "      <td>6.0</td>\n",
              "      <td>3.0</td>\n",
              "      <td>0</td>\n",
              "      <td>20:44:40</td>\n",
              "      <td>14</td>\n",
              "    </tr>\n",
              "    <tr>\n",
              "      <th>172477</th>\n",
              "      <td>2018-06-30 20:46:00</td>\n",
              "      <td>534438</td>\n",
              "      <td>1</td>\n",
              "      <td>2</td>\n",
              "      <td>26</td>\n",
              "      <td>5.0</td>\n",
              "      <td>6.0</td>\n",
              "      <td>2.0</td>\n",
              "      <td>0</td>\n",
              "      <td>20:46:00</td>\n",
              "      <td>8</td>\n",
              "    </tr>\n",
              "    <tr>\n",
              "      <th>1171366</th>\n",
              "      <td>2018-06-30 20:49:40</td>\n",
              "      <td>534443</td>\n",
              "      <td>1</td>\n",
              "      <td>0</td>\n",
              "      <td>10</td>\n",
              "      <td>5.0</td>\n",
              "      <td>6.0</td>\n",
              "      <td>2.0</td>\n",
              "      <td>0</td>\n",
              "      <td>20:49:40</td>\n",
              "      <td>8</td>\n",
              "    </tr>\n",
              "    <tr>\n",
              "      <th>675520</th>\n",
              "      <td>2018-06-30 20:53:40</td>\n",
              "      <td>534444</td>\n",
              "      <td>1</td>\n",
              "      <td>0</td>\n",
              "      <td>6</td>\n",
              "      <td>5.0</td>\n",
              "      <td>6.0</td>\n",
              "      <td>2.0</td>\n",
              "      <td>0</td>\n",
              "      <td>20:53:40</td>\n",
              "      <td>8</td>\n",
              "    </tr>\n",
              "    <tr>\n",
              "      <th>172480</th>\n",
              "      <td>2018-06-30 20:58:00</td>\n",
              "      <td>534445</td>\n",
              "      <td>1</td>\n",
              "      <td>2</td>\n",
              "      <td>7</td>\n",
              "      <td>5.0</td>\n",
              "      <td>6.0</td>\n",
              "      <td>2.0</td>\n",
              "      <td>5079256</td>\n",
              "      <td>20:58:00</td>\n",
              "      <td>8</td>\n",
              "    </tr>\n",
              "  </tbody>\n",
              "</table>\n",
              "<p>866880 rows × 11 columns</p>\n",
              "</div>"
            ],
            "text/plain": [
              "                   DateTime  Customer_ID  Sequence_Num  Store_ID  Dwell_Time  \\\n",
              "0       2018-01-01 10:03:50           26             1         0          35   \n",
              "280254  2018-01-01 10:08:50           29             1   5079256          27   \n",
              "368274  2018-01-01 10:10:50           30             1         0           9   \n",
              "443955  2018-01-01 10:11:20           31             1         0          44   \n",
              "172484  2018-01-01 10:18:50           32             1   5080089          45   \n",
              "...                     ...          ...           ...       ...         ...   \n",
              "1531559 2018-06-30 20:44:40       441759             2         0          12   \n",
              "172477  2018-06-30 20:46:00       534438             1         2          26   \n",
              "1171366 2018-06-30 20:49:40       534443             1         0          10   \n",
              "675520  2018-06-30 20:53:40       534444             1         0           6   \n",
              "172480  2018-06-30 20:58:00       534445             1         2           7   \n",
              "\n",
              "         Day  Month  Next_Sequence   Target      Time  Category_ID  \n",
              "0        0.0    1.0            2.0        0  10:03:50           14  \n",
              "280254   0.0    1.0            2.0  5080089  10:08:50            8  \n",
              "368274   0.0    1.0            2.0  9709631  10:10:50            8  \n",
              "443955   0.0    1.0            2.0  5079256  10:11:20           15  \n",
              "172484   0.0    1.0            2.0        2  10:18:50            8  \n",
              "...      ...    ...            ...      ...       ...          ...  \n",
              "1531559  5.0    6.0            3.0        0  20:44:40           14  \n",
              "172477   5.0    6.0            2.0        0  20:46:00            8  \n",
              "1171366  5.0    6.0            2.0        0  20:49:40            8  \n",
              "675520   5.0    6.0            2.0        0  20:53:40            8  \n",
              "172480   5.0    6.0            2.0  5079256  20:58:00            8  \n",
              "\n",
              "[866880 rows x 11 columns]"
            ]
          },
          "metadata": {
            "tags": []
          },
          "execution_count": 146
        }
      ]
    },
    {
      "cell_type": "markdown",
      "metadata": {
        "id": "VNzuRgSk4zAP",
        "colab_type": "text"
      },
      "source": [
        "Performing a Stratfied shuffle split to make sure the distribution between train and test set remains the same as we split it to get the dataset ready for training a model"
      ]
    },
    {
      "cell_type": "code",
      "metadata": {
        "id": "Yiq4FdBh3q2G",
        "colab_type": "code",
        "colab": {}
      },
      "source": [
        "split = StratifiedShuffleSplit(n_splits=2, test_size=0.2, random_state=1)\n",
        "\n",
        "for train_index, test_index in split.split(df_no_exit_wo_seq, df_no_exit_wo_seq['Target']):\n",
        "  strat_train_stores_wo_seq = df_no_exit_wo_seq.iloc[train_index]\n",
        "  strat_test_stores_wo_seq = df_no_exit_wo_seq.iloc[test_index]"
      ],
      "execution_count": 0,
      "outputs": []
    },
    {
      "cell_type": "markdown",
      "metadata": {
        "id": "9AWyaHhY53yn",
        "colab_type": "text"
      },
      "source": [
        "The distribution of train/test split is identical but there is a huge imbalance in the classes"
      ]
    },
    {
      "cell_type": "code",
      "metadata": {
        "id": "8MOSfOhf3qmf",
        "colab_type": "code",
        "outputId": "c3055581-9604-47df-b614-a1e7f7fbba8a",
        "colab": {
          "base_uri": "https://localhost:8080/",
          "height": 415
        }
      },
      "source": [
        "ax = sns.catplot(x=\"Target\", kind=\"count\", palette=\"ch:.25\", data=strat_train_stores_wo_seq,height=5, aspect=2)\n",
        "ax.set_xticklabels( rotation=45, horizontalalignment='right')"
      ],
      "execution_count": 0,
      "outputs": [
        {
          "output_type": "execute_result",
          "data": {
            "text/plain": [
              "<seaborn.axisgrid.FacetGrid at 0x7f9a717fc9e8>"
            ]
          },
          "metadata": {
            "tags": []
          },
          "execution_count": 336
        },
        {
          "output_type": "display_data",
          "data": {
            "image/png": "[encoded data removed]",
            "text/plain": [
              "<Figure size 720x360 with 1 Axes>"
            ]
          },
          "metadata": {
            "tags": []
          }
        }
      ]
    },
    {
      "cell_type": "code",
      "metadata": {
        "id": "wzuAFHTH3qk-",
        "colab_type": "code",
        "outputId": "6ca2438b-c751-467b-8365-e24d77c35646",
        "colab": {
          "base_uri": "https://localhost:8080/",
          "height": 415
        }
      },
      "source": [
        "ax = sns.catplot(x=\"Target\", kind=\"count\", palette=\"ch:.25\", data=strat_train_stores_wo_seq,height=5, aspect=2)\n",
        "ax.set_xticklabels( rotation=45, horizontalalignment='right')"
      ],
      "execution_count": 0,
      "outputs": [
        {
          "output_type": "execute_result",
          "data": {
            "text/plain": [
              "<seaborn.axisgrid.FacetGrid at 0x7f9a66cbcda0>"
            ]
          },
          "metadata": {
            "tags": []
          },
          "execution_count": 337
        },
        {
          "output_type": "display_data",
          "data": {
            "image/png": "[encoded data removed]",
            "text/plain": [
              "<Figure size 720x360 with 1 Axes>"
            ]
          },
          "metadata": {
            "tags": []
          }
        }
      ]
    },
    {
      "cell_type": "markdown",
      "metadata": {
        "id": "vZ-RhSqy6C0u",
        "colab_type": "text"
      },
      "source": [
        "Splitting the data set into test/train. Also extracting the target column out for training the model"
      ]
    },
    {
      "cell_type": "code",
      "metadata": {
        "id": "SyIvFWMg3qUt",
        "colab_type": "code",
        "colab": {}
      },
      "source": [
        "X_train_store_wo_seq = strat_train_stores_wo_seq[['Customer_ID', 'Sequence_Num', 'Store_ID', 'Dwell_Time','Day', 'Month', 'Category_ID']]\n",
        "y_train_store_wo_seq = strat_train_stores_wo_seq[['Target']]\n",
        "X_test_store_wo_seq = strat_test_stores_wo_seq[['Customer_ID', 'Sequence_Num', 'Store_ID', 'Dwell_Time','Day', 'Month', 'Category_ID']]\n",
        "y_test_store_wo_seq = strat_test_stores_wo_seq[['Target']]"
      ],
      "execution_count": 0,
      "outputs": []
    },
    {
      "cell_type": "markdown",
      "metadata": {
        "id": "GahR_sie7o0y",
        "colab_type": "text"
      },
      "source": [
        "Training a Random Forest Classfier"
      ]
    },
    {
      "cell_type": "code",
      "metadata": {
        "id": "LYJVUABx6JHZ",
        "colab_type": "code",
        "colab": {}
      },
      "source": [
        "rnd_clf_wo_seq = RandomForestClassifier(n_estimators=500, max_depth=15,n_jobs=-1,random_state=5,criterion='entropy')\n",
        "rnd_clf_wo_seq.fit(X_train_store_wo_seq,y_train_store_wo_seq)"
      ],
      "execution_count": 0,
      "outputs": []
    },
    {
      "cell_type": "markdown",
      "metadata": {
        "id": "7FTydkGOCAmM",
        "colab_type": "text"
      },
      "source": [
        "Train and Test Accuracy"
      ]
    },
    {
      "cell_type": "code",
      "metadata": {
        "id": "lroBQ5cJ7wkL",
        "colab_type": "code",
        "outputId": "b141c4f2-e21f-4a78-d617-82e750ea037a",
        "colab": {
          "base_uri": "https://localhost:8080/",
          "height": 51
        }
      },
      "source": [
        "score = rnd_clf_wo_seq.score(X_train_store_wo_seq, y_train_store_wo_seq)\n",
        "score2 = rnd_clf_wo_seq.score(X_test_store_wo_seq, y_test_store_wo_seq)\n",
        "\n",
        "print(\"Training set accuracy: \", '%.3f'%(score))\n",
        "print(\"Test set accuracy: \", '%.3f'%(score2))"
      ],
      "execution_count": 0,
      "outputs": [
        {
          "output_type": "stream",
          "text": [
            "Training set accuracy:  0.744\n",
            "Test set accuracy:  0.744\n"
          ],
          "name": "stdout"
        }
      ]
    },
    {
      "cell_type": "markdown",
      "metadata": {
        "id": "-ulnZxcyCEOt",
        "colab_type": "text"
      },
      "source": [
        "Metrics broken down by mult-class. This is expected as the training set is hugely imbalanced for class 'others' our algorthim learns absoluetly nothing"
      ]
    },
    {
      "cell_type": "code",
      "metadata": {
        "id": "PjkN9rKO7wV9",
        "colab_type": "code",
        "outputId": "5729b418-ae8f-48ac-cfde-5902d335d9ef",
        "colab": {
          "base_uri": "https://localhost:8080/",
          "height": 292
        }
      },
      "source": [
        "y_pred_stores_wo_seq = rnd_clf_wo_seq.predict(X_test_store_wo_seq)\n",
        "print(classification_report(y_test_store_wo_seq,y_pred_stores_wo_seq))"
      ],
      "execution_count": 0,
      "outputs": [
        {
          "output_type": "stream",
          "text": [
            "              precision    recall  f1-score   support\n",
            "\n",
            "           0       0.74      1.00      0.85    129044\n",
            "           2       0.00      0.00      0.00     17164\n",
            "     5079256       0.00      0.00      0.00      8394\n",
            "     5079942       0.00      0.00      0.00      3297\n",
            "     5080089       0.00      0.00      0.00      9172\n",
            "     9709631       0.00      0.00      0.00      6305\n",
            "\n",
            "    accuracy                           0.74    173376\n",
            "   macro avg       0.12      0.17      0.14    173376\n",
            "weighted avg       0.55      0.74      0.64    173376\n",
            "\n"
          ],
          "name": "stdout"
        },
        {
          "output_type": "stream",
          "text": [
            "/usr/local/lib/python3.6/dist-packages/sklearn/metrics/classification.py:1437: UndefinedMetricWarning: Precision and F-score are ill-defined and being set to 0.0 in labels with no predicted samples.\n",
            "  'precision', 'predicted', average, warn_for)\n"
          ],
          "name": "stderr"
        }
      ]
    },
    {
      "cell_type": "markdown",
      "metadata": {
        "id": "p-OgjSpDFMUd",
        "colab_type": "text"
      },
      "source": [
        "\n",
        "The distribution of 'other' stores is highly skewed and during training there would be a risk off overfitting on the majority class. As a result we will perform downsampling on the training data. We have wnough number of instances for us to downsample the data. We will resample without replacement and reduce the sample of overweighted class to match one of the minority class"
      ]
    },
    {
      "cell_type": "code",
      "metadata": {
        "id": "Oqh1gBzmHK1G",
        "colab_type": "code",
        "colab": {}
      },
      "source": [
        "df_exit_no_seq = df_no_exit"
      ],
      "execution_count": 0,
      "outputs": []
    },
    {
      "cell_type": "markdown",
      "metadata": {
        "id": "5h0LMdSDIiFL",
        "colab_type": "text"
      },
      "source": [
        "Performing a Stratfied shuffle split to make sure the distribution between train and test set remains the same as we split it to get the dataset ready for training a model"
      ]
    },
    {
      "cell_type": "code",
      "metadata": {
        "id": "roSDn8bIHEdR",
        "colab_type": "code",
        "colab": {}
      },
      "source": [
        "split = StratifiedShuffleSplit(n_splits=2, test_size=0.2, random_state=1)\n",
        "\n",
        "for train_index, test_index in split.split(df_exit_no_seq, df_exit_no_seq['Target']):\n",
        "  strat_train_stores_no_seq = df_exit_no_seq.iloc[train_index]\n",
        "  strat_test_stores_no_seq = df_exit_no_seq.iloc[test_index]"
      ],
      "execution_count": 0,
      "outputs": []
    },
    {
      "cell_type": "markdown",
      "metadata": {
        "id": "0xU-33RPIksT",
        "colab_type": "text"
      },
      "source": [
        "The distribution of 'other' stores is highly skewed and during training there would be a risk off overfitting on the majority class. As a result we will perform downsampling on the training data. We have wnough number of instances for us to downsample the data. We will resample without replacement and reduce the sample of overweighted class to match one of the minority class"
      ]
    },
    {
      "cell_type": "code",
      "metadata": {
        "id": "wjVArb2ABER9",
        "colab_type": "code",
        "colab": {}
      },
      "source": [
        "df_majority_no_seq = strat_train_stores_no_seq[strat_train_stores_no_seq['Target']==0]\n",
        "df_minority_no_seq = strat_train_stores_no_seq[strat_train_stores_no_seq['Target']==5079942]\n",
        "\n",
        "\n",
        "df_majority_downsampled_no_seq = resample(df_majority_no_seq, \n",
        "                                 replace=False,     \n",
        "                                 n_samples=len(df_minority_no_seq),   \n",
        "                                 random_state=42) "
      ],
      "execution_count": 0,
      "outputs": []
    },
    {
      "cell_type": "code",
      "metadata": {
        "id": "eKUusxKnFHSb",
        "colab_type": "code",
        "colab": {}
      },
      "source": [
        "strat_train_stores_no_seq = strat_train_stores_no_seq[strat_train_stores_no_seq['Target']!=0]\n",
        "strat_train_stores_no_seq = pd.concat([df_majority_downsampled_no_seq, strat_train_stores_no_seq])\n",
        "strat_train_stores_no_seq = shuffle(strat_train_stores_no_seq)"
      ],
      "execution_count": 0,
      "outputs": []
    },
    {
      "cell_type": "code",
      "metadata": {
        "id": "5iq3Fx0zFHOC",
        "colab_type": "code",
        "outputId": "f0812a08-ab19-4239-f736-595653b1b7c2",
        "colab": {
          "base_uri": "https://localhost:8080/",
          "height": 415
        }
      },
      "source": [
        "ax = sns.catplot(x=\"Target\", kind=\"count\", palette=\"ch:.25\", data=strat_train_stores_no_seq,height=5, aspect=2)\n",
        "ax.set_xticklabels( rotation=45, horizontalalignment='right')"
      ],
      "execution_count": 0,
      "outputs": [
        {
          "output_type": "execute_result",
          "data": {
            "text/plain": [
              "<seaborn.axisgrid.FacetGrid at 0x7f9a6b76c2e8>"
            ]
          },
          "metadata": {
            "tags": []
          },
          "execution_count": 394
        },
        {
          "output_type": "display_data",
          "data": {
            "image/png": "[encoded data removed]",
            "text/plain": [
              "<Figure size 720x360 with 1 Axes>"
            ]
          },
          "metadata": {
            "tags": []
          }
        }
      ]
    },
    {
      "cell_type": "code",
      "metadata": {
        "id": "wZ_rwmArGG_g",
        "colab_type": "code",
        "outputId": "3b0a11e3-5d1e-4d1e-9aaa-033dec22a30c",
        "colab": {
          "base_uri": "https://localhost:8080/",
          "height": 415
        }
      },
      "source": [
        "ax = sns.catplot(x=\"Target\", kind=\"count\", palette=\"ch:.25\", data=strat_test_stores_no_seq,height=5, aspect=2)\n",
        "ax.set_xticklabels( rotation=45, horizontalalignment='right')"
      ],
      "execution_count": 0,
      "outputs": [
        {
          "output_type": "execute_result",
          "data": {
            "text/plain": [
              "<seaborn.axisgrid.FacetGrid at 0x7f9a6b4a6fd0>"
            ]
          },
          "metadata": {
            "tags": []
          },
          "execution_count": 395
        },
        {
          "output_type": "display_data",
          "data": {
            "image/png": "[encoded data removed]",
            "text/plain": [
              "<Figure size 720x360 with 1 Axes>"
            ]
          },
          "metadata": {
            "tags": []
          }
        }
      ]
    },
    {
      "cell_type": "markdown",
      "metadata": {
        "id": "2Y8ezxkDI1Cp",
        "colab_type": "text"
      },
      "source": [
        "\n",
        "Splitting the data set into test/train. Also extracting the target column out for training the model"
      ]
    },
    {
      "cell_type": "code",
      "metadata": {
        "id": "wJ1ngn3EGKbC",
        "colab_type": "code",
        "colab": {}
      },
      "source": [
        "X_train_store_no_seq = strat_train_stores_no_seq[['Customer_ID', 'Sequence_Num', 'Store_ID', 'Dwell_Time','Day', 'Month', 'Category_ID']]\n",
        "y_train_store_no_seq = strat_train_stores_no_seq[['Target']]\n",
        "X_test_store_no_seq = strat_test_stores_no_seq[['Customer_ID', 'Sequence_Num', 'Store_ID', 'Dwell_Time','Day', 'Month', 'Category_ID']]\n",
        "y_test_store_no_seq = strat_test_stores_no_seq[['Target']]"
      ],
      "execution_count": 0,
      "outputs": []
    },
    {
      "cell_type": "markdown",
      "metadata": {
        "id": "ijKWmxOpI4i3",
        "colab_type": "text"
      },
      "source": [
        "Training a random forest classifier"
      ]
    },
    {
      "cell_type": "code",
      "metadata": {
        "id": "TWeTgSWoGKVM",
        "colab_type": "code",
        "colab": {}
      },
      "source": [
        "rnd_clf_no_seq = RandomForestClassifier(n_estimators=500, max_depth=15,n_jobs=-1,random_state=5,criterion='entropy')\n",
        "rnd_clf_no_seq.fit(X_train_store_no_seq,y_train_store_no_seq)"
      ],
      "execution_count": 0,
      "outputs": []
    },
    {
      "cell_type": "markdown",
      "metadata": {
        "id": "LfMtszCpI_EX",
        "colab_type": "text"
      },
      "source": [
        "Global level Train/Test Accuracy"
      ]
    },
    {
      "cell_type": "code",
      "metadata": {
        "id": "zst45PJsGKR_",
        "colab_type": "code",
        "outputId": "de3a8ace-8aa5-46aa-8369-d5ff08854c6e",
        "colab": {
          "base_uri": "https://localhost:8080/",
          "height": 51
        }
      },
      "source": [
        "score = rnd_clf_no_seq.score(X_train_store_no_seq, y_train_store_no_seq)\n",
        "score2 = rnd_clf_no_seq.score(X_test_store_no_seq, y_test_store_no_seq)\n",
        "\n",
        "print(\"Training set accuracy: \", '%.3f'%(score))\n",
        "print(\"Test set accuracy: \", '%.3f'%(score2))"
      ],
      "execution_count": 0,
      "outputs": [
        {
          "output_type": "stream",
          "text": [
            "Training set accuracy:  0.547\n",
            "Test set accuracy:  0.129\n"
          ],
          "name": "stdout"
        }
      ]
    },
    {
      "cell_type": "markdown",
      "metadata": {
        "id": "p9We_b02JEH8",
        "colab_type": "text"
      },
      "source": [
        "Multilabel Test Accuracy broken down by classes"
      ]
    },
    {
      "cell_type": "code",
      "metadata": {
        "id": "MUXEdj-hGKNO",
        "colab_type": "code",
        "outputId": "2e9b6da4-871c-4ac8-d17f-b369a7080b00",
        "colab": {
          "base_uri": "https://localhost:8080/",
          "height": 238
        }
      },
      "source": [
        "y_pred_stores_no_seq = rnd_clf_no_seq.predict(X_test_store_no_seq)\n",
        "print(classification_report(y_test_store_no_seq,y_pred_stores_no_seq))"
      ],
      "execution_count": 0,
      "outputs": [
        {
          "output_type": "stream",
          "text": [
            "              precision    recall  f1-score   support\n",
            "\n",
            "           0       0.89      0.00      0.01    129044\n",
            "           2       0.12      0.82      0.20     17164\n",
            "     5079256       0.09      0.22      0.13      8394\n",
            "     5079942       0.63      0.67      0.65      3297\n",
            "     5080089       0.11      0.24      0.15      9172\n",
            "     9709631       0.19      0.23      0.21      6305\n",
            "\n",
            "    accuracy                           0.13    173376\n",
            "   macro avg       0.34      0.36      0.22    173376\n",
            "weighted avg       0.71      0.13      0.06    173376\n",
            "\n"
          ],
          "name": "stdout"
        }
      ]
    },
    {
      "cell_type": "code",
      "metadata": {
        "id": "AOeEVzCcGKK0",
        "colab_type": "code",
        "colab": {}
      },
      "source": [
        ""
      ],
      "execution_count": 0,
      "outputs": []
    },
    {
      "cell_type": "markdown",
      "metadata": {
        "id": "ou9LSqzw4Csc",
        "colab_type": "text"
      },
      "source": [
        "#An additional signal using Sequence and taking into account a customer's history until that point"
      ]
    },
    {
      "cell_type": "code",
      "metadata": {
        "id": "gL8rTVZKlkbC",
        "colab_type": "code",
        "colab": {}
      },
      "source": [
        "df_no_exit_w_seq = df_no_exit"
      ],
      "execution_count": 0,
      "outputs": []
    },
    {
      "cell_type": "code",
      "metadata": {
        "id": "HGLhYtLvuKhz",
        "colab_type": "code",
        "colab": {}
      },
      "source": [
        "df_one_hot = pd.get_dummies(df_no_exit['Store_ID'])\n",
        "df_no_exit_w_seq= df_no_exit_w_seq.join(df_one_hot)\n",
        "df_no_exit_w_seq =df_no_exit_w_seq[['Customer_ID','Store_ID','Dwell_Time','Day','Sequence_Num','Category_ID','Month', 0, 2, 5079256, 5079942 ,5080089,9709631,'Target']]"
      ],
      "execution_count": 0,
      "outputs": []
    },
    {
      "cell_type": "code",
      "metadata": {
        "id": "dboXTHMEuibT",
        "colab_type": "code",
        "outputId": "435c4a8e-116e-4640-b9ca-87387dac5723",
        "colab": {
          "base_uri": "https://localhost:8080/",
          "height": 419
        }
      },
      "source": [
        "df_no_exit_w_seq.sort_values(by=['Day','Month','Customer_ID','Sequence_Num'])"
      ],
      "execution_count": 0,
      "outputs": [
        {
          "output_type": "execute_result",
          "data": {
            "text/html": [
              "<div>\n",
              "<style scoped>\n",
              "    .dataframe tbody tr th:only-of-type {\n",
              "        vertical-align: middle;\n",
              "    }\n",
              "\n",
              "    .dataframe tbody tr th {\n",
              "        vertical-align: top;\n",
              "    }\n",
              "\n",
              "    .dataframe thead th {\n",
              "        text-align: right;\n",
              "    }\n",
              "</style>\n",
              "<table border=\"1\" class=\"dataframe\">\n",
              "  <thead>\n",
              "    <tr style=\"text-align: right;\">\n",
              "      <th></th>\n",
              "      <th>Customer_ID</th>\n",
              "      <th>Store_ID</th>\n",
              "      <th>Dwell_Time</th>\n",
              "      <th>Day</th>\n",
              "      <th>Sequence_Num</th>\n",
              "      <th>Category_ID</th>\n",
              "      <th>Month</th>\n",
              "      <th>0</th>\n",
              "      <th>2</th>\n",
              "      <th>5079256</th>\n",
              "      <th>5079942</th>\n",
              "      <th>5080089</th>\n",
              "      <th>9709631</th>\n",
              "      <th>Target</th>\n",
              "    </tr>\n",
              "  </thead>\n",
              "  <tbody>\n",
              "    <tr>\n",
              "      <th>0</th>\n",
              "      <td>26</td>\n",
              "      <td>0</td>\n",
              "      <td>35</td>\n",
              "      <td>0.0</td>\n",
              "      <td>1</td>\n",
              "      <td>14</td>\n",
              "      <td>1.0</td>\n",
              "      <td>1</td>\n",
              "      <td>0</td>\n",
              "      <td>0</td>\n",
              "      <td>0</td>\n",
              "      <td>0</td>\n",
              "      <td>0</td>\n",
              "      <td>0</td>\n",
              "    </tr>\n",
              "    <tr>\n",
              "      <th>280254</th>\n",
              "      <td>29</td>\n",
              "      <td>5079256</td>\n",
              "      <td>27</td>\n",
              "      <td>0.0</td>\n",
              "      <td>1</td>\n",
              "      <td>8</td>\n",
              "      <td>1.0</td>\n",
              "      <td>0</td>\n",
              "      <td>0</td>\n",
              "      <td>1</td>\n",
              "      <td>0</td>\n",
              "      <td>0</td>\n",
              "      <td>0</td>\n",
              "      <td>5080089</td>\n",
              "    </tr>\n",
              "    <tr>\n",
              "      <th>368274</th>\n",
              "      <td>30</td>\n",
              "      <td>0</td>\n",
              "      <td>9</td>\n",
              "      <td>0.0</td>\n",
              "      <td>1</td>\n",
              "      <td>8</td>\n",
              "      <td>1.0</td>\n",
              "      <td>1</td>\n",
              "      <td>0</td>\n",
              "      <td>0</td>\n",
              "      <td>0</td>\n",
              "      <td>0</td>\n",
              "      <td>0</td>\n",
              "      <td>9709631</td>\n",
              "    </tr>\n",
              "    <tr>\n",
              "      <th>443955</th>\n",
              "      <td>31</td>\n",
              "      <td>0</td>\n",
              "      <td>44</td>\n",
              "      <td>0.0</td>\n",
              "      <td>1</td>\n",
              "      <td>15</td>\n",
              "      <td>1.0</td>\n",
              "      <td>1</td>\n",
              "      <td>0</td>\n",
              "      <td>0</td>\n",
              "      <td>0</td>\n",
              "      <td>0</td>\n",
              "      <td>0</td>\n",
              "      <td>5079256</td>\n",
              "    </tr>\n",
              "    <tr>\n",
              "      <th>172484</th>\n",
              "      <td>32</td>\n",
              "      <td>5080089</td>\n",
              "      <td>45</td>\n",
              "      <td>0.0</td>\n",
              "      <td>1</td>\n",
              "      <td>8</td>\n",
              "      <td>1.0</td>\n",
              "      <td>0</td>\n",
              "      <td>0</td>\n",
              "      <td>0</td>\n",
              "      <td>0</td>\n",
              "      <td>1</td>\n",
              "      <td>0</td>\n",
              "      <td>2</td>\n",
              "    </tr>\n",
              "    <tr>\n",
              "      <th>...</th>\n",
              "      <td>...</td>\n",
              "      <td>...</td>\n",
              "      <td>...</td>\n",
              "      <td>...</td>\n",
              "      <td>...</td>\n",
              "      <td>...</td>\n",
              "      <td>...</td>\n",
              "      <td>...</td>\n",
              "      <td>...</td>\n",
              "      <td>...</td>\n",
              "      <td>...</td>\n",
              "      <td>...</td>\n",
              "      <td>...</td>\n",
              "      <td>...</td>\n",
              "    </tr>\n",
              "    <tr>\n",
              "      <th>530343</th>\n",
              "      <td>520172</td>\n",
              "      <td>0</td>\n",
              "      <td>6</td>\n",
              "      <td>6.0</td>\n",
              "      <td>1</td>\n",
              "      <td>6</td>\n",
              "      <td>6.0</td>\n",
              "      <td>1</td>\n",
              "      <td>0</td>\n",
              "      <td>0</td>\n",
              "      <td>0</td>\n",
              "      <td>0</td>\n",
              "      <td>0</td>\n",
              "      <td>9709631</td>\n",
              "    </tr>\n",
              "    <tr>\n",
              "      <th>441935</th>\n",
              "      <td>520172</td>\n",
              "      <td>9709631</td>\n",
              "      <td>51</td>\n",
              "      <td>6.0</td>\n",
              "      <td>2</td>\n",
              "      <td>8</td>\n",
              "      <td>6.0</td>\n",
              "      <td>0</td>\n",
              "      <td>0</td>\n",
              "      <td>0</td>\n",
              "      <td>0</td>\n",
              "      <td>0</td>\n",
              "      <td>1</td>\n",
              "      <td>0</td>\n",
              "    </tr>\n",
              "    <tr>\n",
              "      <th>641192</th>\n",
              "      <td>520172</td>\n",
              "      <td>0</td>\n",
              "      <td>9</td>\n",
              "      <td>6.0</td>\n",
              "      <td>3</td>\n",
              "      <td>4</td>\n",
              "      <td>6.0</td>\n",
              "      <td>1</td>\n",
              "      <td>0</td>\n",
              "      <td>0</td>\n",
              "      <td>0</td>\n",
              "      <td>0</td>\n",
              "      <td>0</td>\n",
              "      <td>0</td>\n",
              "    </tr>\n",
              "    <tr>\n",
              "      <th>983124</th>\n",
              "      <td>520176</td>\n",
              "      <td>0</td>\n",
              "      <td>18</td>\n",
              "      <td>6.0</td>\n",
              "      <td>1</td>\n",
              "      <td>7</td>\n",
              "      <td>6.0</td>\n",
              "      <td>1</td>\n",
              "      <td>0</td>\n",
              "      <td>0</td>\n",
              "      <td>0</td>\n",
              "      <td>0</td>\n",
              "      <td>0</td>\n",
              "      <td>0</td>\n",
              "    </tr>\n",
              "    <tr>\n",
              "      <th>276392</th>\n",
              "      <td>520181</td>\n",
              "      <td>5080089</td>\n",
              "      <td>16</td>\n",
              "      <td>6.0</td>\n",
              "      <td>1</td>\n",
              "      <td>8</td>\n",
              "      <td>6.0</td>\n",
              "      <td>0</td>\n",
              "      <td>0</td>\n",
              "      <td>0</td>\n",
              "      <td>0</td>\n",
              "      <td>1</td>\n",
              "      <td>0</td>\n",
              "      <td>0</td>\n",
              "    </tr>\n",
              "  </tbody>\n",
              "</table>\n",
              "<p>866880 rows × 14 columns</p>\n",
              "</div>"
            ],
            "text/plain": [
              "        Customer_ID  Store_ID  Dwell_Time  Day  Sequence_Num  Category_ID  \\\n",
              "0                26         0          35  0.0             1           14   \n",
              "280254           29   5079256          27  0.0             1            8   \n",
              "368274           30         0           9  0.0             1            8   \n",
              "443955           31         0          44  0.0             1           15   \n",
              "172484           32   5080089          45  0.0             1            8   \n",
              "...             ...       ...         ...  ...           ...          ...   \n",
              "530343       520172         0           6  6.0             1            6   \n",
              "441935       520172   9709631          51  6.0             2            8   \n",
              "641192       520172         0           9  6.0             3            4   \n",
              "983124       520176         0          18  6.0             1            7   \n",
              "276392       520181   5080089          16  6.0             1            8   \n",
              "\n",
              "        Month  0  2  5079256  5079942  5080089  9709631   Target  \n",
              "0         1.0  1  0        0        0        0        0        0  \n",
              "280254    1.0  0  0        1        0        0        0  5080089  \n",
              "368274    1.0  1  0        0        0        0        0  9709631  \n",
              "443955    1.0  1  0        0        0        0        0  5079256  \n",
              "172484    1.0  0  0        0        0        1        0        2  \n",
              "...       ... .. ..      ...      ...      ...      ...      ...  \n",
              "530343    6.0  1  0        0        0        0        0  9709631  \n",
              "441935    6.0  0  0        0        0        0        1        0  \n",
              "641192    6.0  1  0        0        0        0        0        0  \n",
              "983124    6.0  1  0        0        0        0        0        0  \n",
              "276392    6.0  0  0        0        0        1        0        0  \n",
              "\n",
              "[866880 rows x 14 columns]"
            ]
          },
          "metadata": {
            "tags": []
          },
          "execution_count": 29
        }
      ]
    },
    {
      "cell_type": "markdown",
      "metadata": {
        "id": "URmVoaraygTD",
        "colab_type": "text"
      },
      "source": [
        "Now we will track the sequence of stores as the customer moves from one store to the next. The sequence would reset as the customer leaves the store."
      ]
    },
    {
      "cell_type": "code",
      "metadata": {
        "id": "MYCV-FXluo8w",
        "colab_type": "code",
        "colab": {}
      },
      "source": [
        "df_sequence = df_no_exit_w_seq.groupby(by=['Day','Month','Customer_ID'])[0,2,5079256, 5079942 ,5080089,9709631].cumsum(axis=0) # Tracking the sequence using cumalative sum\n",
        "df_no_exit_w_seq.drop(columns=[0,2,5079256, 5079942 ,5080089,9709631],axis=0,inplace=True)\n",
        "df_no_exit_w_seq = df_no_exit_w_seq.merge(df_sequence,how='inner',left_index=True,right_index=True)"
      ],
      "execution_count": 0,
      "outputs": []
    },
    {
      "cell_type": "markdown",
      "metadata": {
        "id": "ImPiEAnyzS_5",
        "colab_type": "text"
      },
      "source": [
        "Performing a Stratfied shuffle split to make sure the distribution between train and test set remains the same as we split it to get the dataset ready for training a model"
      ]
    },
    {
      "cell_type": "code",
      "metadata": {
        "id": "0pzi3w2RyM_F",
        "colab_type": "code",
        "colab": {}
      },
      "source": [
        "split = StratifiedShuffleSplit(n_splits=2, test_size=0.2, random_state=1)\n",
        "\n",
        "for train_index, test_index in split.split(df_no_exit_w_seq, df_no_exit_w_seq['Target']):\n",
        "  strat_train_stores = df_no_exit_w_seq.iloc[train_index]\n",
        "  strat_test_stores = df_no_exit_w_seq.iloc[test_index]"
      ],
      "execution_count": 0,
      "outputs": []
    },
    {
      "cell_type": "code",
      "metadata": {
        "id": "hSP7o0D6zg_o",
        "colab_type": "code",
        "outputId": "a5bf3b36-1327-499e-f5b5-2496896c836f",
        "colab": {
          "base_uri": "https://localhost:8080/",
          "height": 415
        }
      },
      "source": [
        "ax = sns.catplot(x=\"Store_ID\", kind=\"count\", palette=\"ch:.25\", data=strat_train_stores,height=5, aspect=2)\n",
        "ax.set_xticklabels( rotation=45, horizontalalignment='right')"
      ],
      "execution_count": 0,
      "outputs": [
        {
          "output_type": "execute_result",
          "data": {
            "text/plain": [
              "<seaborn.axisgrid.FacetGrid at 0x7f38b280d080>"
            ]
          },
          "metadata": {
            "tags": []
          },
          "execution_count": 33
        },
        {
          "output_type": "display_data",
          "data": {
            "image/png": "[encoded data removed]",
            "text/plain": [
              "<Figure size 720x360 with 1 Axes>"
            ]
          },
          "metadata": {
            "tags": []
          }
        }
      ]
    },
    {
      "cell_type": "markdown",
      "metadata": {
        "id": "bPtOVP3Izvlr",
        "colab_type": "text"
      },
      "source": [
        "The distribution of 'other' stores is highly skewed and during training there would be a risk off overfitting on the majority class. As a result we will perform downsampling on the training data. We have wnough number of instances for us to downsample the data. We will resample without replacement and reduce the sample of overweighted class to match one of the minority class"
      ]
    },
    {
      "cell_type": "code",
      "metadata": {
        "id": "KzgKEzTozsu9",
        "colab_type": "code",
        "colab": {}
      },
      "source": [
        "df_majority = strat_train_stores[strat_train_stores['Target']==0]\n",
        "df_minority = strat_train_stores[strat_train_stores['Target']==5079942]\n",
        "\n",
        "\n",
        "df_majority_downsampled = resample(df_majority, \n",
        "                                 replace=False,     \n",
        "                                 n_samples=len(df_minority),   \n",
        "                                 random_state=42) "
      ],
      "execution_count": 0,
      "outputs": []
    },
    {
      "cell_type": "code",
      "metadata": {
        "id": "L0ULRgp-0m1B",
        "colab_type": "code",
        "colab": {}
      },
      "source": [
        "strat_train_stores = strat_train_stores[strat_train_stores['Target']!=0]\n",
        "strat_train_stores = pd.concat([df_majority_downsampled, strat_train_stores])\n",
        "strat_train_stores = shuffle(strat_train_stores)"
      ],
      "execution_count": 0,
      "outputs": []
    },
    {
      "cell_type": "code",
      "metadata": {
        "id": "O72xKhBF045W",
        "colab_type": "code",
        "outputId": "b157698c-4ae6-4601-8eea-a857f6519e8e",
        "colab": {
          "base_uri": "https://localhost:8080/",
          "height": 415
        }
      },
      "source": [
        "ax = sns.catplot(x=\"Target\", kind=\"count\", palette=\"ch:.25\", data=strat_train_stores,height=5, aspect=2)\n",
        "ax.set_xticklabels( rotation=45, horizontalalignment='right')"
      ],
      "execution_count": 0,
      "outputs": [
        {
          "output_type": "execute_result",
          "data": {
            "text/plain": [
              "<seaborn.axisgrid.FacetGrid at 0x7fbbb399cfd0>"
            ]
          },
          "metadata": {
            "tags": []
          },
          "execution_count": 155
        },
        {
          "output_type": "display_data",
          "data": {
            "image/png": "[encoded data removed]",
            "text/plain": [
              "<Figure size 720x360 with 1 Axes>"
            ]
          },
          "metadata": {
            "tags": []
          }
        }
      ]
    },
    {
      "cell_type": "markdown",
      "metadata": {
        "id": "0dU6Xikc2FgC",
        "colab_type": "text"
      },
      "source": [
        "Splitting the data set into test/train. Also extracting the target column out for training the model"
      ]
    },
    {
      "cell_type": "code",
      "metadata": {
        "id": "ayVWv5Rk1PpF",
        "colab_type": "code",
        "colab": {}
      },
      "source": [
        "X_train_store = strat_train_stores[['Day','Month','Dwell_Time',0, 2, 5079256, 5079942 ,5080089,9709631]]\n",
        "y_train_store = strat_train_stores[['Target']]\n",
        "X_test_store = strat_test_stores[['Day','Month','Dwell_Time',0, 2, 5079256, 5079942 ,5080089,9709631]]\n",
        "y_test_store = strat_test_stores[['Target']]"
      ],
      "execution_count": 0,
      "outputs": []
    },
    {
      "cell_type": "markdown",
      "metadata": {
        "id": "YrX5AqdF2RON",
        "colab_type": "text"
      },
      "source": [
        "Training a Random Forest Classfier "
      ]
    },
    {
      "cell_type": "code",
      "metadata": {
        "id": "DhtMZwAo07tj",
        "colab_type": "code",
        "outputId": "934b7147-64e8-4bdf-c559-372ac9fd63c9",
        "colab": {
          "base_uri": "https://localhost:8080/",
          "height": 190
        }
      },
      "source": [
        "rnd_clf = RandomForestClassifier(n_estimators=500, max_depth=25,n_jobs=-1,random_state=15,criterion='entropy')\n",
        "rnd_clf.fit(X_train_store,y_train_store)"
      ],
      "execution_count": 0,
      "outputs": [
        {
          "output_type": "stream",
          "text": [
            "/usr/local/lib/python3.6/dist-packages/ipykernel_launcher.py:2: DataConversionWarning: A column-vector y was passed when a 1d array was expected. Please change the shape of y to (n_samples,), for example using ravel().\n",
            "  \n"
          ],
          "name": "stderr"
        },
        {
          "output_type": "execute_result",
          "data": {
            "text/plain": [
              "RandomForestClassifier(bootstrap=True, class_weight=None, criterion='entropy',\n",
              "                       max_depth=25, max_features='auto', max_leaf_nodes=None,\n",
              "                       min_impurity_decrease=0.0, min_impurity_split=None,\n",
              "                       min_samples_leaf=1, min_samples_split=2,\n",
              "                       min_weight_fraction_leaf=0.0, n_estimators=500,\n",
              "                       n_jobs=-1, oob_score=False, random_state=15, verbose=0,\n",
              "                       warm_start=False)"
            ]
          },
          "metadata": {
            "tags": []
          },
          "execution_count": 39
        }
      ]
    },
    {
      "cell_type": "code",
      "metadata": {
        "id": "1iEtcxI12ZCA",
        "colab_type": "code",
        "colab": {}
      },
      "source": [
        "y_pred_stores = rnd_clf.predict(X_test_store)"
      ],
      "execution_count": 0,
      "outputs": []
    },
    {
      "cell_type": "code",
      "metadata": {
        "id": "4Kh2J__YXC4E",
        "colab_type": "code",
        "outputId": "01eb9955-51d8-4f52-afd6-21fe8a97fe62",
        "colab": {
          "base_uri": "https://localhost:8080/",
          "height": 34
        }
      },
      "source": [
        "f1 = f1_score(y_test_store, y_pred_stores,average='macro')\n",
        "print(\"Test set F1-Score: \", '%.3f'%(f1))"
      ],
      "execution_count": 0,
      "outputs": [
        {
          "output_type": "stream",
          "text": [
            "Test set F1-Score:  0.306\n"
          ],
          "name": "stdout"
        }
      ]
    },
    {
      "cell_type": "code",
      "metadata": {
        "id": "RVmFBd7N2h-u",
        "colab_type": "code",
        "outputId": "993f40a4-51c8-43cc-b0c0-ded7100a218f",
        "colab": {
          "base_uri": "https://localhost:8080/",
          "height": 238
        }
      },
      "source": [
        "\n",
        "print(classification_report(y_test_store,y_pred_stores))"
      ],
      "execution_count": 0,
      "outputs": [
        {
          "output_type": "stream",
          "text": [
            "              precision    recall  f1-score   support\n",
            "\n",
            "           0       0.88      0.06      0.12    129044\n",
            "           2       0.15      0.77      0.24     17164\n",
            "     5079256       0.18      0.56      0.28      8394\n",
            "     5079942       0.59      0.80      0.68      3297\n",
            "     5080089       0.15      0.47      0.23      9172\n",
            "     9709631       0.21      0.47      0.29      6305\n",
            "\n",
            "    accuracy                           0.21    173376\n",
            "   macro avg       0.36      0.52      0.31    173376\n",
            "weighted avg       0.71      0.21      0.16    173376\n",
            "\n"
          ],
          "name": "stdout"
        }
      ]
    },
    {
      "cell_type": "markdown",
      "metadata": {
        "id": "3DF7-tMycNHx",
        "colab_type": "text"
      },
      "source": [
        "We can extract the importance of our feature set as shown below. Higher the importance greater the feature plays a role in classifying the different classes"
      ]
    },
    {
      "cell_type": "code",
      "metadata": {
        "id": "LCP8l5Hp3Ork",
        "colab_type": "code",
        "outputId": "b5a8bccc-4ecd-4294-cf40-256719303375",
        "colab": {
          "base_uri": "https://localhost:8080/",
          "height": 328
        }
      },
      "source": [
        "cols = X_train_store.columns\n",
        "feature_importance_all = rnd_clf.feature_importances_\n",
        "feature_importance = {}\n",
        "for i in  range(len(cols)):\n",
        "    feature_importance[cols[i]] = feature_importance_all[i]\n",
        "\n",
        "feature_import =  pd.DataFrame.from_dict(feature_importance, \n",
        "                                         orient = 'index',columns=['Importance'])\n",
        "feature_import.sort_values(by='Importance',ascending=False)"
      ],
      "execution_count": 0,
      "outputs": [
        {
          "output_type": "execute_result",
          "data": {
            "text/html": [
              "<div>\n",
              "<style scoped>\n",
              "    .dataframe tbody tr th:only-of-type {\n",
              "        vertical-align: middle;\n",
              "    }\n",
              "\n",
              "    .dataframe tbody tr th {\n",
              "        vertical-align: top;\n",
              "    }\n",
              "\n",
              "    .dataframe thead th {\n",
              "        text-align: right;\n",
              "    }\n",
              "</style>\n",
              "<table border=\"1\" class=\"dataframe\">\n",
              "  <thead>\n",
              "    <tr style=\"text-align: right;\">\n",
              "      <th></th>\n",
              "      <th>Importance</th>\n",
              "    </tr>\n",
              "  </thead>\n",
              "  <tbody>\n",
              "    <tr>\n",
              "      <th>Dwell_Time</th>\n",
              "      <td>0.273317</td>\n",
              "    </tr>\n",
              "    <tr>\n",
              "      <th>5079942</th>\n",
              "      <td>0.150189</td>\n",
              "    </tr>\n",
              "    <tr>\n",
              "      <th>0</th>\n",
              "      <td>0.123867</td>\n",
              "    </tr>\n",
              "    <tr>\n",
              "      <th>5079256</th>\n",
              "      <td>0.111932</td>\n",
              "    </tr>\n",
              "    <tr>\n",
              "      <th>9709631</th>\n",
              "      <td>0.088227</td>\n",
              "    </tr>\n",
              "    <tr>\n",
              "      <th>Day</th>\n",
              "      <td>0.070483</td>\n",
              "    </tr>\n",
              "    <tr>\n",
              "      <th>5080089</th>\n",
              "      <td>0.069800</td>\n",
              "    </tr>\n",
              "    <tr>\n",
              "      <th>Month</th>\n",
              "      <td>0.056733</td>\n",
              "    </tr>\n",
              "    <tr>\n",
              "      <th>2</th>\n",
              "      <td>0.055452</td>\n",
              "    </tr>\n",
              "  </tbody>\n",
              "</table>\n",
              "</div>"
            ],
            "text/plain": [
              "            Importance\n",
              "Dwell_Time    0.273317\n",
              "5079942       0.150189\n",
              "0             0.123867\n",
              "5079256       0.111932\n",
              "9709631       0.088227\n",
              "Day           0.070483\n",
              "5080089       0.069800\n",
              "Month         0.056733\n",
              "2             0.055452"
            ]
          },
          "metadata": {
            "tags": []
          },
          "execution_count": 74
        }
      ]
    },
    {
      "cell_type": "markdown",
      "metadata": {
        "id": "O_CdNi8kzHI_",
        "colab_type": "text"
      },
      "source": [
        "# One more added signal by tracking the dwell time as the customer moves from one store to the next"
      ]
    },
    {
      "cell_type": "code",
      "metadata": {
        "id": "ueDmsSRPZrPk",
        "colab_type": "code",
        "colab": {}
      },
      "source": [
        "df_extra_dwell = df_no_exit.pivot_table(values=['Dwell_Time'],index=['DateTime','Customer_ID','Sequence_Num'],columns=['Store_ID']).fillna(0).sort_values(by=['Customer_ID'])\n",
        "df_extra_dwell.reset_index(inplace = True)"
      ],
      "execution_count": 0,
      "outputs": []
    },
    {
      "cell_type": "code",
      "metadata": {
        "id": "Q3X6ReDddKaA",
        "colab_type": "code",
        "outputId": "97701338-07a1-4423-9398-4d73fd9dd276",
        "colab": {
          "base_uri": "https://localhost:8080/",
          "height": 85
        }
      },
      "source": [
        "df_no_exit_dwell = df_no_exit_w_seq.merge(df_extra_dwell,how='inner', on='Customer_ID')"
      ],
      "execution_count": 0,
      "outputs": [
        {
          "output_type": "stream",
          "text": [
            "/usr/local/lib/python3.6/dist-packages/pandas/core/reshape/merge.py:617: UserWarning: merging between different levels can give an unintended result (1 levels on the left, 2 on the right)\n",
            "  warnings.warn(msg, UserWarning)\n",
            "/usr/local/lib/python3.6/dist-packages/pandas/core/generic.py:3946: PerformanceWarning: dropping on a non-lexsorted multi-index without a level parameter may impact performance.\n",
            "  new_axis = axis.drop(labels, errors=errors)\n"
          ],
          "name": "stderr"
        }
      ]
    },
    {
      "cell_type": "code",
      "metadata": {
        "id": "h7QTSH3fdKBs",
        "colab_type": "code",
        "colab": {}
      },
      "source": [
        "split = StratifiedShuffleSplit(n_splits=2, test_size=0.2, random_state=1)\n",
        "\n",
        "for train_index, test_index in split.split(df_no_exit_dwell, df_no_exit_dwell['Target']):\n",
        "  strat_train_stores = df_no_exit_dwell.iloc[train_index]\n",
        "  strat_test_stores = df_no_exit_dwell.iloc[test_index]"
      ],
      "execution_count": 0,
      "outputs": []
    },
    {
      "cell_type": "code",
      "metadata": {
        "id": "7-YDH_ET02RI",
        "colab_type": "code",
        "outputId": "ba56e4ba-e243-4d7f-fd47-e985cd3ac43e",
        "colab": {
          "base_uri": "https://localhost:8080/",
          "height": 415
        }
      },
      "source": [
        "ax = sns.catplot(x=\"Store_ID\", kind=\"count\", palette=\"ch:.25\", data=strat_train_stores,height=5, aspect=2)\n",
        "ax.set_xticklabels( rotation=45, horizontalalignment='right')"
      ],
      "execution_count": 0,
      "outputs": [
        {
          "output_type": "execute_result",
          "data": {
            "text/plain": [
              "<seaborn.axisgrid.FacetGrid at 0x7fbbbe3fd0b8>"
            ]
          },
          "metadata": {
            "tags": []
          },
          "execution_count": 235
        },
        {
          "output_type": "display_data",
          "data": {
            "image/png": "[encoded data removed]",
            "text/plain": [
              "<Figure size 720x360 with 1 Axes>"
            ]
          },
          "metadata": {
            "tags": []
          }
        }
      ]
    },
    {
      "cell_type": "code",
      "metadata": {
        "id": "5LIcr48R02JZ",
        "colab_type": "code",
        "colab": {}
      },
      "source": [
        "df_majority = strat_train_stores[strat_train_stores['Target']==0]\n",
        "df_minority = strat_train_stores[strat_train_stores['Target']==5079942]\n",
        "\n",
        "\n",
        "df_majority_downsampled = resample(df_majority, \n",
        "                                 replace=False,     \n",
        "                                 n_samples=len(df_minority),   \n",
        "                                 random_state=42) "
      ],
      "execution_count": 0,
      "outputs": []
    },
    {
      "cell_type": "code",
      "metadata": {
        "id": "fLJALMfj02E6",
        "colab_type": "code",
        "colab": {}
      },
      "source": [
        "strat_train_stores = strat_train_stores[strat_train_stores['Target']!=0]\n",
        "strat_train_stores = pd.concat([df_majority_downsampled, strat_train_stores])\n",
        "strat_train_stores = shuffle(strat_train_stores)"
      ],
      "execution_count": 0,
      "outputs": []
    },
    {
      "cell_type": "code",
      "metadata": {
        "id": "7H474ECP01_i",
        "colab_type": "code",
        "colab": {}
      },
      "source": [
        "X_train_store = strat_train_stores[['Day','Category_ID','Month', 0,2,5079256,5079942,5080089,9709631,('Dwell_Time', 0),('Dwell_Time', 2),('Dwell_Time', 5079256), ('Dwell_Time', 5079942),('Dwell_Time', 5080089), ('Dwell_Time', 9709631)]]\n",
        "y_train_store = strat_train_stores[['Target']]\n",
        "X_test_store = strat_test_stores[['Day','Category_ID','Month', 0,2,5079256,5079942,5080089,9709631,('Dwell_Time', 0),('Dwell_Time', 2),('Dwell_Time', 5079256), ('Dwell_Time', 5079942),('Dwell_Time', 5080089), ('Dwell_Time', 9709631)]]\n",
        "y_test_store = strat_test_stores[['Target']]"
      ],
      "execution_count": 0,
      "outputs": []
    },
    {
      "cell_type": "code",
      "metadata": {
        "id": "5dU7YqiN1Xzx",
        "colab_type": "code",
        "outputId": "c37e0ce0-0c45-4a0b-d775-acf40cd4c44b",
        "colab": {
          "base_uri": "https://localhost:8080/",
          "height": 170
        }
      },
      "source": [
        "rnd_clf = RandomForestClassifier(n_estimators=500, max_depth=25,n_jobs=-1,random_state=15,criterion='entropy')\n",
        "rnd_clf.fit(X_train_store,y_train_store)"
      ],
      "execution_count": 0,
      "outputs": [
        {
          "output_type": "stream",
          "text": [
            "/usr/local/lib/python3.6/dist-packages/ipykernel_launcher.py:2: DataConversionWarning: A column-vector y was passed when a 1d array was expected. Please change the shape of y to (n_samples,), for example using ravel().\n",
            "  \n"
          ],
          "name": "stderr"
        },
        {
          "output_type": "execute_result",
          "data": {
            "text/plain": [
              "RandomForestClassifier(bootstrap=True, class_weight=None, criterion='entropy',\n",
              "                       max_depth=25, max_features='auto', max_leaf_nodes=None,\n",
              "                       min_impurity_decrease=0.0, min_impurity_split=None,\n",
              "                       min_samples_leaf=1, min_samples_split=2,\n",
              "                       min_weight_fraction_leaf=0.0, n_estimators=500,\n",
              "                       n_jobs=-1, oob_score=False, random_state=15, verbose=0,\n",
              "                       warm_start=False)"
            ]
          },
          "metadata": {
            "tags": []
          },
          "execution_count": 42
        }
      ]
    },
    {
      "cell_type": "code",
      "metadata": {
        "id": "aaNCzVZW1Xu7",
        "colab_type": "code",
        "colab": {}
      },
      "source": [
        "y_pred_stores = rnd_clf.predict(X_test_store)"
      ],
      "execution_count": 0,
      "outputs": []
    },
    {
      "cell_type": "code",
      "metadata": {
        "id": "kLuSmxs71Xql",
        "colab_type": "code",
        "outputId": "14a54979-5df4-48bf-8fa2-9aee1a14a948",
        "colab": {
          "base_uri": "https://localhost:8080/",
          "height": 34
        }
      },
      "source": [
        "f1 = f1_score(y_test_store, y_pred_stores,average='macro')\n",
        "print(\"Test set F1-Score: \", '%.3f'%(f1))"
      ],
      "execution_count": 0,
      "outputs": [
        {
          "output_type": "stream",
          "text": [
            "Test set F1-Score:  0.357\n"
          ],
          "name": "stdout"
        }
      ]
    },
    {
      "cell_type": "code",
      "metadata": {
        "id": "es2_U5Bt1Xlr",
        "colab_type": "code",
        "outputId": "fbac2946-f6a7-42d2-ed95-7182d5cddb57",
        "colab": {
          "base_uri": "https://localhost:8080/",
          "height": 238
        }
      },
      "source": [
        "\n",
        "print(classification_report(y_test_store,y_pred_stores))"
      ],
      "execution_count": 0,
      "outputs": [
        {
          "output_type": "stream",
          "text": [
            "              precision    recall  f1-score   support\n",
            "\n",
            "           0       0.96      0.11      0.20    797748\n",
            "           2       0.16      0.82      0.27     95982\n",
            "     5079256       0.21      0.75      0.33     53311\n",
            "     5079942       0.56      0.87      0.68     21543\n",
            "     5080089       0.18      0.66      0.28     46553\n",
            "     9709631       0.26      0.62      0.37     29503\n",
            "\n",
            "    accuracy                           0.27   1044640\n",
            "   macro avg       0.39      0.64      0.36   1044640\n",
            "weighted avg       0.78      0.27      0.24   1044640\n",
            "\n"
          ],
          "name": "stdout"
        }
      ]
    },
    {
      "cell_type": "markdown",
      "metadata": {
        "id": "JSEVdNdHBZd6",
        "colab_type": "text"
      },
      "source": [
        "# Removing all customers who only go to one store and we do not have a history available"
      ]
    },
    {
      "cell_type": "code",
      "metadata": {
        "id": "SRJSIClZ1XaK",
        "colab_type": "code",
        "colab": {}
      },
      "source": [
        "df_two_or_more = df_no_exit_dwell[df_no_exit_dwell.duplicated('Customer_ID', keep= False)]"
      ],
      "execution_count": 0,
      "outputs": []
    },
    {
      "cell_type": "code",
      "metadata": {
        "id": "-_zDoGzRtIVG",
        "colab_type": "code",
        "colab": {}
      },
      "source": [
        "split = StratifiedShuffleSplit(n_splits=2, test_size=0.2, random_state=1)\n",
        "\n",
        "for train_index, test_index in split.split(df_two_or_more, df_two_or_more['Target']):\n",
        "  strat_train_stores = df_two_or_more.iloc[train_index]\n",
        "  strat_test_stores = df_two_or_more.iloc[test_index]"
      ],
      "execution_count": 0,
      "outputs": []
    },
    {
      "cell_type": "code",
      "metadata": {
        "id": "oGIqTrWOB9qt",
        "colab_type": "code",
        "outputId": "c66fe5be-9c97-4105-a35b-03b930865c12",
        "colab": {
          "base_uri": "https://localhost:8080/",
          "height": 415
        }
      },
      "source": [
        "ax = sns.catplot(x=\"Store_ID\", kind=\"count\", palette=\"ch:.25\", data=df_two_or_more,height=5, aspect=2)\n",
        "ax.set_xticklabels( rotation=45, horizontalalignment='right')"
      ],
      "execution_count": 0,
      "outputs": [
        {
          "output_type": "execute_result",
          "data": {
            "text/plain": [
              "<seaborn.axisgrid.FacetGrid at 0x7f386d3f6390>"
            ]
          },
          "metadata": {
            "tags": []
          },
          "execution_count": 54
        },
        {
          "output_type": "display_data",
          "data": {
            "image/png": "[encoded data removed]",
            "text/plain": [
              "<Figure size 720x360 with 1 Axes>"
            ]
          },
          "metadata": {
            "tags": []
          }
        }
      ]
    },
    {
      "cell_type": "code",
      "metadata": {
        "id": "yrzX4rq1Cen_",
        "colab_type": "code",
        "colab": {}
      },
      "source": [
        "df_majority = strat_train_stores[strat_train_stores['Target']==0]\n",
        "df_minority = strat_train_stores[strat_train_stores['Target']==5079942]\n",
        "\n",
        "\n",
        "df_majority_downsampled = resample(df_majority, \n",
        "                                 replace=False,     \n",
        "                                 n_samples=len(df_minority),   \n",
        "                                 random_state=42) "
      ],
      "execution_count": 0,
      "outputs": []
    },
    {
      "cell_type": "code",
      "metadata": {
        "id": "ItXVQLTeCneY",
        "colab_type": "code",
        "colab": {}
      },
      "source": [
        "strat_train_stores = strat_train_stores[strat_train_stores['Target']!=0]\n",
        "strat_train_stores = pd.concat([df_majority_downsampled, strat_train_stores])\n",
        "strat_train_stores = shuffle(strat_train_stores)"
      ],
      "execution_count": 0,
      "outputs": []
    },
    {
      "cell_type": "code",
      "metadata": {
        "id": "FVHFmL5wCrUj",
        "colab_type": "code",
        "colab": {}
      },
      "source": [
        "X_train_store = strat_train_stores[['Day','Category_ID','Month', 0,2,5079256,5079942,5080089,9709631,('Dwell_Time', 0),('Dwell_Time', 2),('Dwell_Time', 5079256), ('Dwell_Time', 5079942),('Dwell_Time', 5080089), ('Dwell_Time', 9709631)]]\n",
        "y_train_store = strat_train_stores[['Target']]\n",
        "X_test_store = strat_test_stores[['Day','Category_ID','Month', 0,2,5079256,5079942,5080089,9709631,('Dwell_Time', 0),('Dwell_Time', 2),('Dwell_Time', 5079256), ('Dwell_Time', 5079942),('Dwell_Time', 5080089), ('Dwell_Time', 9709631)]]\n",
        "y_test_store = strat_test_stores[['Target']]"
      ],
      "execution_count": 0,
      "outputs": []
    },
    {
      "cell_type": "code",
      "metadata": {
        "id": "ZYQTOIQ5Cu9J",
        "colab_type": "code",
        "outputId": "7c2c211e-7e13-4389-ec29-db1060b27295",
        "colab": {
          "base_uri": "https://localhost:8080/",
          "height": 170
        }
      },
      "source": [
        "rnd_clf = RandomForestClassifier(n_estimators=200, max_depth=25,n_jobs=-1,random_state=15,criterion='entropy')\n",
        "rnd_clf.fit(X_train_store,y_train_store)"
      ],
      "execution_count": 0,
      "outputs": [
        {
          "output_type": "stream",
          "text": [
            "/usr/local/lib/python3.6/dist-packages/ipykernel_launcher.py:2: DataConversionWarning: A column-vector y was passed when a 1d array was expected. Please change the shape of y to (n_samples,), for example using ravel().\n",
            "  \n"
          ],
          "name": "stderr"
        },
        {
          "output_type": "execute_result",
          "data": {
            "text/plain": [
              "RandomForestClassifier(bootstrap=True, class_weight=None, criterion='entropy',\n",
              "                       max_depth=25, max_features='auto', max_leaf_nodes=None,\n",
              "                       min_impurity_decrease=0.0, min_impurity_split=None,\n",
              "                       min_samples_leaf=1, min_samples_split=2,\n",
              "                       min_weight_fraction_leaf=0.0, n_estimators=200,\n",
              "                       n_jobs=-1, oob_score=False, random_state=15, verbose=0,\n",
              "                       warm_start=False)"
            ]
          },
          "metadata": {
            "tags": []
          },
          "execution_count": 65
        }
      ]
    },
    {
      "cell_type": "code",
      "metadata": {
        "id": "iOzbPjPUC3F0",
        "colab_type": "code",
        "colab": {}
      },
      "source": [
        "y_pred_stores = rnd_clf.predict(X_test_store)"
      ],
      "execution_count": 0,
      "outputs": []
    },
    {
      "cell_type": "code",
      "metadata": {
        "id": "dnKuL18-DBln",
        "colab_type": "code",
        "outputId": "de8cbdd6-f04d-488f-fe23-1e72756388f2",
        "colab": {
          "base_uri": "https://localhost:8080/",
          "height": 34
        }
      },
      "source": [
        "f1 = f1_score(y_test_store, y_pred_stores,average='macro')\n",
        "print(\"Test set F1-Score: \", '%.3f'%(f1))"
      ],
      "execution_count": 0,
      "outputs": [
        {
          "output_type": "stream",
          "text": [
            "Test set F1-Score:  0.359\n"
          ],
          "name": "stdout"
        }
      ]
    },
    {
      "cell_type": "code",
      "metadata": {
        "id": "mRvatps5DKqh",
        "colab_type": "code",
        "outputId": "5fa6fb28-989c-4287-82c7-a8aa28c30cf3",
        "colab": {
          "base_uri": "https://localhost:8080/",
          "height": 238
        }
      },
      "source": [
        "print(classification_report(y_test_store,y_pred_stores))"
      ],
      "execution_count": 0,
      "outputs": [
        {
          "output_type": "stream",
          "text": [
            "              precision    recall  f1-score   support\n",
            "\n",
            "           0       0.96      0.12      0.21    781048\n",
            "           2       0.16      0.83      0.27     93274\n",
            "     5079256       0.21      0.76      0.33     52188\n",
            "     5079942       0.55      0.87      0.67     21240\n",
            "     5080089       0.19      0.67      0.29     44670\n",
            "     9709631       0.26      0.63      0.37     28536\n",
            "\n",
            "    accuracy                           0.27   1020956\n",
            "   macro avg       0.39      0.65      0.36   1020956\n",
            "weighted avg       0.78      0.27      0.24   1020956\n",
            "\n"
          ],
          "name": "stdout"
        }
      ]
    },
    {
      "cell_type": "code",
      "metadata": {
        "id": "yP_0ONz6EGpj",
        "colab_type": "code",
        "colab": {}
      },
      "source": [
        ""
      ],
      "execution_count": 0,
      "outputs": []
    },
    {
      "cell_type": "markdown",
      "metadata": {
        "id": "ek6-ZhDkHFWD",
        "colab_type": "text"
      },
      "source": [
        "# Adding one more signal where we are tracking the total time spent by a customers over the entire dataset"
      ]
    },
    {
      "cell_type": "code",
      "metadata": {
        "id": "Vb2vhhWzEGhE",
        "colab_type": "code",
        "colab": {}
      },
      "source": [
        "df_extra_dwell_total = df_no_exit.pivot_table(values=['Dwell_Time'],index=['Customer_ID'],columns=['Store_ID']).fillna(0).sort_values(by=['Customer_ID'])\n",
        "df_extra_dwell_total.reset_index(inplace = True)"
      ],
      "execution_count": 0,
      "outputs": []
    },
    {
      "cell_type": "code",
      "metadata": {
        "id": "JJQAU1p8EGcu",
        "colab_type": "code",
        "outputId": "dff11b5f-9e9b-423f-ddf8-9e945750c632",
        "colab": {
          "base_uri": "https://localhost:8080/",
          "height": 85
        }
      },
      "source": [
        "df_no_exit_dwell_total = df_no_exit_dwell.merge(df_extra_dwell_total,how='left', on='Customer_ID')"
      ],
      "execution_count": 0,
      "outputs": [
        {
          "output_type": "stream",
          "text": [
            "/usr/local/lib/python3.6/dist-packages/pandas/core/reshape/merge.py:617: UserWarning: merging between different levels can give an unintended result (1 levels on the left, 2 on the right)\n",
            "  warnings.warn(msg, UserWarning)\n",
            "/usr/local/lib/python3.6/dist-packages/pandas/core/generic.py:3946: PerformanceWarning: dropping on a non-lexsorted multi-index without a level parameter may impact performance.\n",
            "  new_axis = axis.drop(labels, errors=errors)\n"
          ],
          "name": "stderr"
        }
      ]
    },
    {
      "cell_type": "code",
      "metadata": {
        "id": "Yxld6Pl0Gj3H",
        "colab_type": "code",
        "colab": {}
      },
      "source": [
        "split = StratifiedShuffleSplit(n_splits=2, test_size=0.2, random_state=1)\n",
        "\n",
        "for train_index, test_index in split.split(df_no_exit_dwell_total, df_no_exit_dwell_total['Target']):\n",
        "  strat_train_stores = df_no_exit_dwell_total.iloc[train_index]\n",
        "  strat_test_stores = df_no_exit_dwell_total.iloc[test_index]"
      ],
      "execution_count": 0,
      "outputs": []
    },
    {
      "cell_type": "code",
      "metadata": {
        "id": "S7jflZ2VG14U",
        "colab_type": "code",
        "colab": {}
      },
      "source": [
        "df_majority = strat_train_stores[strat_train_stores['Target']==0]\n",
        "df_minority = strat_train_stores[strat_train_stores['Target']==5079942]\n",
        "\n",
        "\n",
        "df_majority_downsampled = resample(df_majority, \n",
        "                                 replace=False,     \n",
        "                                 n_samples=len(df_minority),   \n",
        "                                 random_state=42) "
      ],
      "execution_count": 0,
      "outputs": []
    },
    {
      "cell_type": "code",
      "metadata": {
        "id": "KqZSLmDSHzUW",
        "colab_type": "code",
        "colab": {}
      },
      "source": [
        "strat_train_stores = strat_train_stores[strat_train_stores['Target']!=0]\n",
        "strat_train_stores = pd.concat([df_majority_downsampled, strat_train_stores])\n",
        "strat_train_stores = shuffle(strat_train_stores)"
      ],
      "execution_count": 0,
      "outputs": []
    },
    {
      "cell_type": "code",
      "metadata": {
        "id": "KtfFgza2H0ib",
        "colab_type": "code",
        "outputId": "8366a394-b7c8-415c-f6fd-b2062b860ad5",
        "colab": {
          "base_uri": "https://localhost:8080/",
          "height": 272
        }
      },
      "source": [
        "strat_test_stores.columns"
      ],
      "execution_count": 0,
      "outputs": [
        {
          "output_type": "execute_result",
          "data": {
            "text/plain": [
              "Index([              'Customer_ID',                  'Store_ID',\n",
              "                    'Dwell_Time_x',                       'Day',\n",
              "                    'Sequence_Num',               'Category_ID',\n",
              "                           'Month',                    'Target',\n",
              "                                 0,                           2,\n",
              "                           5079256,                     5079942,\n",
              "                           5080089,                     9709631,\n",
              "                  ('DateTime', ''),        ('Sequence_Num', ''),\n",
              "             '('Dwell_Time', 0)_x',       '('Dwell_Time', 2)_x',\n",
              "       '('Dwell_Time', 5079256)_x', '('Dwell_Time', 5079942)_x',\n",
              "       '('Dwell_Time', 5080089)_x', '('Dwell_Time', 9709631)_x',\n",
              "               ('Dwell_Time_y', 0),         ('Dwell_Time_y', 2),\n",
              "         ('Dwell_Time_y', 5079256),   ('Dwell_Time_y', 5079942),\n",
              "         ('Dwell_Time_y', 5080089),   ('Dwell_Time_y', 9709631)],\n",
              "      dtype='object')"
            ]
          },
          "metadata": {
            "tags": []
          },
          "execution_count": 39
        }
      ]
    },
    {
      "cell_type": "code",
      "metadata": {
        "id": "BtT2_BKJH2gK",
        "colab_type": "code",
        "colab": {}
      },
      "source": [
        "X_train_store = strat_train_stores[['Day','Category_ID','Month', 0,2, 5079256, 5079942, 5080089, 9709631,\"('Dwell_Time', 0)_x\", \"('Dwell_Time', 2)_x\",\"('Dwell_Time', 5079256)_x\", \"('Dwell_Time', 5079942)_x\",\"('Dwell_Time', 5080089)_x\", \"('Dwell_Time', 9709631)_x\",('Dwell_Time_y', 0),('Dwell_Time_y', 2),('Dwell_Time_y', 5079256), ('Dwell_Time_y', 5079942),('Dwell_Time_y', 5080089),   ('Dwell_Time_y', 9709631)]]\n",
        "y_train_store = strat_train_stores[['Target']]\n",
        "X_test_store = strat_test_stores[['Day','Category_ID','Month', 0,2, 5079256, 5079942, 5080089, 9709631,\"('Dwell_Time', 0)_x\", \"('Dwell_Time', 2)_x\",\"('Dwell_Time', 5079256)_x\", \"('Dwell_Time', 5079942)_x\",\"('Dwell_Time', 5080089)_x\", \"('Dwell_Time', 9709631)_x\",('Dwell_Time_y', 0),('Dwell_Time_y', 2),('Dwell_Time_y', 5079256), ('Dwell_Time_y', 5079942),('Dwell_Time_y', 5080089),   ('Dwell_Time_y', 9709631)]]\n",
        "y_test_store = strat_test_stores[['Target']]"
      ],
      "execution_count": 0,
      "outputs": []
    },
    {
      "cell_type": "code",
      "metadata": {
        "id": "ipVnRSOdJYFK",
        "colab_type": "code",
        "outputId": "fa61db9e-3732-4be9-a75a-46731ff3f88d",
        "colab": {
          "base_uri": "https://localhost:8080/",
          "height": 170
        }
      },
      "source": [
        "rnd_clf = RandomForestClassifier(n_estimators=500, max_depth=25,n_jobs=-1,random_state=15,criterion='entropy')\n",
        "rnd_clf.fit(X_train_store,y_train_store)"
      ],
      "execution_count": 0,
      "outputs": [
        {
          "output_type": "stream",
          "text": [
            "/usr/local/lib/python3.6/dist-packages/ipykernel_launcher.py:2: DataConversionWarning: A column-vector y was passed when a 1d array was expected. Please change the shape of y to (n_samples,), for example using ravel().\n",
            "  \n"
          ],
          "name": "stderr"
        },
        {
          "output_type": "execute_result",
          "data": {
            "text/plain": [
              "RandomForestClassifier(bootstrap=True, class_weight=None, criterion='entropy',\n",
              "                       max_depth=25, max_features='auto', max_leaf_nodes=None,\n",
              "                       min_impurity_decrease=0.0, min_impurity_split=None,\n",
              "                       min_samples_leaf=1, min_samples_split=2,\n",
              "                       min_weight_fraction_leaf=0.0, n_estimators=500,\n",
              "                       n_jobs=-1, oob_score=False, random_state=15, verbose=0,\n",
              "                       warm_start=False)"
            ]
          },
          "metadata": {
            "tags": []
          },
          "execution_count": 51
        }
      ]
    },
    {
      "cell_type": "code",
      "metadata": {
        "id": "51d7D1b6KUuP",
        "colab_type": "code",
        "colab": {}
      },
      "source": [
        "y_pred_stores = rnd_clf.predict(X_test_store)"
      ],
      "execution_count": 0,
      "outputs": []
    },
    {
      "cell_type": "code",
      "metadata": {
        "id": "15SkkWO9KcZs",
        "colab_type": "code",
        "outputId": "b8ca825a-2ae8-4f85-8583-0bca56cc738b",
        "colab": {
          "base_uri": "https://localhost:8080/",
          "height": 34
        }
      },
      "source": [
        "f1 = f1_score(y_test_store, y_pred_stores,average='macro')\n",
        "print(\"Test set F1-Score: \", '%.3f'%(f1))"
      ],
      "execution_count": 0,
      "outputs": [
        {
          "output_type": "stream",
          "text": [
            "Test set F1-Score:  0.486\n"
          ],
          "name": "stdout"
        }
      ]
    },
    {
      "cell_type": "code",
      "metadata": {
        "id": "_77lQ_0dKytZ",
        "colab_type": "code",
        "outputId": "1ee92ad2-66c4-425f-ce6e-096603e2f1c9",
        "colab": {
          "base_uri": "https://localhost:8080/",
          "height": 238
        }
      },
      "source": [
        "print(classification_report(y_test_store,y_pred_stores))"
      ],
      "execution_count": 0,
      "outputs": [
        {
          "output_type": "stream",
          "text": [
            "              precision    recall  f1-score   support\n",
            "\n",
            "           0       1.00      0.29      0.45    797748\n",
            "           2       0.23      0.94      0.37     95982\n",
            "     5079256       0.30      0.91      0.45     53311\n",
            "     5079942       0.57      1.00      0.73     21543\n",
            "     5080089       0.28      0.86      0.42     46553\n",
            "     9709631       0.36      0.84      0.50     29503\n",
            "\n",
            "    accuracy                           0.44   1044640\n",
            "   macro avg       0.45      0.81      0.49   1044640\n",
            "weighted avg       0.83      0.44      0.45   1044640\n",
            "\n"
          ],
          "name": "stdout"
        }
      ]
    },
    {
      "cell_type": "code",
      "metadata": {
        "id": "E9wB8EZ_LKuv",
        "colab_type": "code",
        "outputId": "df30003e-e117-4f18-99ab-5f318bbbd9f6",
        "colab": {
          "base_uri": "https://localhost:8080/",
          "height": 700
        }
      },
      "source": [
        "cols = X_train_store.columns\n",
        "feature_importance_all = rnd_clf.feature_importances_\n",
        "feature_importance = {}\n",
        "for i in  range(len(cols)):\n",
        "    feature_importance[cols[i]] = feature_importance_all[i]\n",
        "\n",
        "feature_import =  pd.DataFrame.from_dict(feature_importance, \n",
        "                                         orient = 'index',columns=['Importance'])\n",
        "feature_import.sort_values(by='Importance',ascending=False)"
      ],
      "execution_count": 0,
      "outputs": [
        {
          "output_type": "execute_result",
          "data": {
            "text/html": [
              "<div>\n",
              "<style scoped>\n",
              "    .dataframe tbody tr th:only-of-type {\n",
              "        vertical-align: middle;\n",
              "    }\n",
              "\n",
              "    .dataframe tbody tr th {\n",
              "        vertical-align: top;\n",
              "    }\n",
              "\n",
              "    .dataframe thead th {\n",
              "        text-align: right;\n",
              "    }\n",
              "</style>\n",
              "<table border=\"1\" class=\"dataframe\">\n",
              "  <thead>\n",
              "    <tr style=\"text-align: right;\">\n",
              "      <th></th>\n",
              "      <th>Importance</th>\n",
              "    </tr>\n",
              "  </thead>\n",
              "  <tbody>\n",
              "    <tr>\n",
              "      <th>0</th>\n",
              "      <td>0.092907</td>\n",
              "    </tr>\n",
              "    <tr>\n",
              "      <th>(Dwell_Time_y, 0)</th>\n",
              "      <td>0.089808</td>\n",
              "    </tr>\n",
              "    <tr>\n",
              "      <th>5079942</th>\n",
              "      <td>0.080596</td>\n",
              "    </tr>\n",
              "    <tr>\n",
              "      <th>(Dwell_Time_y, 5079256)</th>\n",
              "      <td>0.076544</td>\n",
              "    </tr>\n",
              "    <tr>\n",
              "      <th>5079256</th>\n",
              "      <td>0.074913</td>\n",
              "    </tr>\n",
              "    <tr>\n",
              "      <th>(Dwell_Time_y, 5079942)</th>\n",
              "      <td>0.074478</td>\n",
              "    </tr>\n",
              "    <tr>\n",
              "      <th>Category_ID</th>\n",
              "      <td>0.073891</td>\n",
              "    </tr>\n",
              "    <tr>\n",
              "      <th>(Dwell_Time_y, 2)</th>\n",
              "      <td>0.059975</td>\n",
              "    </tr>\n",
              "    <tr>\n",
              "      <th>(Dwell_Time_y, 5080089)</th>\n",
              "      <td>0.057622</td>\n",
              "    </tr>\n",
              "    <tr>\n",
              "      <th>(Dwell_Time_y, 9709631)</th>\n",
              "      <td>0.052744</td>\n",
              "    </tr>\n",
              "    <tr>\n",
              "      <th>9709631</th>\n",
              "      <td>0.047804</td>\n",
              "    </tr>\n",
              "    <tr>\n",
              "      <th>Day</th>\n",
              "      <td>0.045962</td>\n",
              "    </tr>\n",
              "    <tr>\n",
              "      <th>5080089</th>\n",
              "      <td>0.045374</td>\n",
              "    </tr>\n",
              "    <tr>\n",
              "      <th>Month</th>\n",
              "      <td>0.043016</td>\n",
              "    </tr>\n",
              "    <tr>\n",
              "      <th>2</th>\n",
              "      <td>0.032437</td>\n",
              "    </tr>\n",
              "    <tr>\n",
              "      <th>('Dwell_Time', 0)_x</th>\n",
              "      <td>0.026084</td>\n",
              "    </tr>\n",
              "    <tr>\n",
              "      <th>('Dwell_Time', 5079256)_x</th>\n",
              "      <td>0.006654</td>\n",
              "    </tr>\n",
              "    <tr>\n",
              "      <th>('Dwell_Time', 5079942)_x</th>\n",
              "      <td>0.005444</td>\n",
              "    </tr>\n",
              "    <tr>\n",
              "      <th>('Dwell_Time', 2)_x</th>\n",
              "      <td>0.005019</td>\n",
              "    </tr>\n",
              "    <tr>\n",
              "      <th>('Dwell_Time', 5080089)_x</th>\n",
              "      <td>0.004540</td>\n",
              "    </tr>\n",
              "    <tr>\n",
              "      <th>('Dwell_Time', 9709631)_x</th>\n",
              "      <td>0.004189</td>\n",
              "    </tr>\n",
              "  </tbody>\n",
              "</table>\n",
              "</div>"
            ],
            "text/plain": [
              "                           Importance\n",
              "0                            0.092907\n",
              "(Dwell_Time_y, 0)            0.089808\n",
              "5079942                      0.080596\n",
              "(Dwell_Time_y, 5079256)      0.076544\n",
              "5079256                      0.074913\n",
              "(Dwell_Time_y, 5079942)      0.074478\n",
              "Category_ID                  0.073891\n",
              "(Dwell_Time_y, 2)            0.059975\n",
              "(Dwell_Time_y, 5080089)      0.057622\n",
              "(Dwell_Time_y, 9709631)      0.052744\n",
              "9709631                      0.047804\n",
              "Day                          0.045962\n",
              "5080089                      0.045374\n",
              "Month                        0.043016\n",
              "2                            0.032437\n",
              "('Dwell_Time', 0)_x          0.026084\n",
              "('Dwell_Time', 5079256)_x    0.006654\n",
              "('Dwell_Time', 5079942)_x    0.005444\n",
              "('Dwell_Time', 2)_x          0.005019\n",
              "('Dwell_Time', 5080089)_x    0.004540\n",
              "('Dwell_Time', 9709631)_x    0.004189"
            ]
          },
          "metadata": {
            "tags": []
          },
          "execution_count": 55
        }
      ]
    },
    {
      "cell_type": "code",
      "metadata": {
        "id": "Z9KfcD1YLrqL",
        "colab_type": "code",
        "colab": {}
      },
      "source": [
        ""
      ],
      "execution_count": 0,
      "outputs": []
    },
    {
      "cell_type": "markdown",
      "metadata": {
        "id": "hkmYrsPUN4Z6",
        "colab_type": "text"
      },
      "source": [
        "# Now we will train a feed forward Neural Network with all the signals we have processed"
      ]
    },
    {
      "cell_type": "code",
      "metadata": {
        "id": "CIH4nC72N_RG",
        "colab_type": "code",
        "colab": {}
      },
      "source": [
        "y_train_store = pd.get_dummies(y_train_store['Target'])\n"
      ],
      "execution_count": 0,
      "outputs": []
    },
    {
      "cell_type": "code",
      "metadata": {
        "id": "TpvmGkN3OwDn",
        "colab_type": "code",
        "colab": {}
      },
      "source": [
        "y_test_store = pd.get_dummies(y_test_store['Target'])"
      ],
      "execution_count": 0,
      "outputs": []
    },
    {
      "cell_type": "code",
      "metadata": {
        "id": "41H4KMRxO_yB",
        "colab_type": "code",
        "colab": {}
      },
      "source": [
        "classifier = tf.keras.Sequential()\n",
        "#First Hidden Layer\n",
        "classifier.add(tf.keras.layers.Dense(18, activation='relu', kernel_initializer='random_normal', input_dim=21))\n",
        "#Second  Hidden Layer\n",
        "classifier.add(tf.keras.layers.Dense(16, activation='relu', kernel_initializer='random_normal'))\n",
        "#Second  Hidden Layer\n",
        "classifier.add(tf.keras.layers.Dense(16, activation='relu', kernel_initializer='random_normal'))\n",
        "#Second  Hidden Layer\n",
        "classifier.add(tf.keras.layers.Dense(12, activation='relu', kernel_initializer='random_normal'))\n",
        "\n",
        "#Output Layer\n",
        "classifier.add(tf.keras.layers.Dense(6, activation='softmax', kernel_initializer='random_normal'))"
      ],
      "execution_count": 0,
      "outputs": []
    },
    {
      "cell_type": "code",
      "metadata": {
        "id": "Nx-_SbH7PiAo",
        "colab_type": "code",
        "colab": {}
      },
      "source": [
        "#Compiling the neural network\n",
        "classifier.compile(optimizer ='adam',loss='categorical_crossentropy',metrics=[tf.keras.metrics.Precision(), tf.keras.metrics.Recall(),'accuracy'])"
      ],
      "execution_count": 0,
      "outputs": []
    },
    {
      "cell_type": "code",
      "metadata": {
        "id": "-3FYZP2_PP9v",
        "colab_type": "code",
        "outputId": "0d5c0b9a-a04f-423f-d8c0-ecdf03fd7975",
        "colab": {
          "base_uri": "https://localhost:8080/",
          "height": 1000
        }
      },
      "source": [
        "#Fitting the data to the training dataset\n",
        "history = classifier.fit(X_train_store,y_train_store, batch_size=1024, epochs=50, validation_data=[X_test_store,y_test_store])"
      ],
      "execution_count": 0,
      "outputs": [
        {
          "output_type": "stream",
          "text": [
            "Train on 1073739 samples, validate on 1044640 samples\n",
            "Epoch 1/50\n",
            "1073739/1073739 [==============================] - 7s 7us/sample - loss: 1.2374 - precision_4: 0.6520 - recall_4: 0.3054 - acc: 0.5237 - val_loss: 2.0638 - val_precision_4: 0.2035 - val_recall_4: 0.1073 - val_acc: 0.1467\n",
            "Epoch 2/50\n",
            "1073739/1073739 [==============================] - 6s 5us/sample - loss: 1.0897 - precision_4: 0.6918 - recall_4: 0.4348 - acc: 0.5868 - val_loss: 1.9919 - val_precision_4: 0.2308 - val_recall_4: 0.1178 - val_acc: 0.1567\n",
            "Epoch 3/50\n",
            "1073739/1073739 [==============================] - 6s 5us/sample - loss: 1.0083 - precision_4: 0.7473 - recall_4: 0.4832 - acc: 0.6279 - val_loss: 1.9249 - val_precision_4: 0.2653 - val_recall_4: 0.1271 - val_acc: 0.1649\n",
            "Epoch 4/50\n",
            "1073739/1073739 [==============================] - 6s 5us/sample - loss: 0.9732 - precision_4: 0.7624 - recall_4: 0.5000 - acc: 0.6413 - val_loss: 1.8982 - val_precision_4: 0.2660 - val_recall_4: 0.1307 - val_acc: 0.1674\n",
            "Epoch 5/50\n",
            "1073739/1073739 [==============================] - 6s 5us/sample - loss: 0.9593 - precision_4: 0.7655 - recall_4: 0.5073 - acc: 0.6454 - val_loss: 1.8942 - val_precision_4: 0.2630 - val_recall_4: 0.1324 - val_acc: 0.1713\n",
            "Epoch 6/50\n",
            "1073739/1073739 [==============================] - 6s 5us/sample - loss: 0.9496 - precision_4: 0.7663 - recall_4: 0.5146 - acc: 0.6488 - val_loss: 1.9104 - val_precision_4: 0.2638 - val_recall_4: 0.1319 - val_acc: 0.1743\n",
            "Epoch 7/50\n",
            "1073739/1073739 [==============================] - 6s 5us/sample - loss: 0.9429 - precision_4: 0.7658 - recall_4: 0.5202 - acc: 0.6506 - val_loss: 1.9889 - val_precision_4: 0.2259 - val_recall_4: 0.1396 - val_acc: 0.1674\n",
            "Epoch 8/50\n",
            "1073739/1073739 [==============================] - 6s 5us/sample - loss: 0.9369 - precision_4: 0.7668 - recall_4: 0.5249 - acc: 0.6524 - val_loss: 1.8870 - val_precision_4: 0.2549 - val_recall_4: 0.1365 - val_acc: 0.1700\n",
            "Epoch 9/50\n",
            "1073739/1073739 [==============================] - 6s 5us/sample - loss: 0.9328 - precision_4: 0.7675 - recall_4: 0.5283 - acc: 0.6534 - val_loss: 1.9141 - val_precision_4: 0.2610 - val_recall_4: 0.1375 - val_acc: 0.1730\n",
            "Epoch 10/50\n",
            "1073739/1073739 [==============================] - 6s 5us/sample - loss: 0.9288 - precision_4: 0.7685 - recall_4: 0.5306 - acc: 0.6549 - val_loss: 1.9777 - val_precision_4: 0.2455 - val_recall_4: 0.1387 - val_acc: 0.1698\n",
            "Epoch 11/50\n",
            "1073739/1073739 [==============================] - 6s 5us/sample - loss: 0.9256 - precision_4: 0.7686 - recall_4: 0.5327 - acc: 0.6555 - val_loss: 1.9091 - val_precision_4: 0.2597 - val_recall_4: 0.1380 - val_acc: 0.1740\n",
            "Epoch 12/50\n",
            "1073739/1073739 [==============================] - 6s 5us/sample - loss: 0.9230 - precision_4: 0.7689 - recall_4: 0.5337 - acc: 0.6565 - val_loss: 1.8817 - val_precision_4: 0.2579 - val_recall_4: 0.1400 - val_acc: 0.1772\n",
            "Epoch 13/50\n",
            "1073739/1073739 [==============================] - 6s 5us/sample - loss: 0.9201 - precision_4: 0.7690 - recall_4: 0.5356 - acc: 0.6575 - val_loss: 1.8335 - val_precision_4: 0.2712 - val_recall_4: 0.1376 - val_acc: 0.1869\n",
            "Epoch 14/50\n",
            "1073739/1073739 [==============================] - 6s 5us/sample - loss: 0.9180 - precision_4: 0.7690 - recall_4: 0.5369 - acc: 0.6578 - val_loss: 1.8394 - val_precision_4: 0.2653 - val_recall_4: 0.1400 - val_acc: 0.1901\n",
            "Epoch 15/50\n",
            "1073739/1073739 [==============================] - 6s 5us/sample - loss: 0.9154 - precision_4: 0.7689 - recall_4: 0.5388 - acc: 0.6589 - val_loss: 1.9990 - val_precision_4: 0.2440 - val_recall_4: 0.1428 - val_acc: 0.1716\n",
            "Epoch 16/50\n",
            "1073739/1073739 [==============================] - 6s 5us/sample - loss: 0.9131 - precision_4: 0.7689 - recall_4: 0.5402 - acc: 0.6595 - val_loss: 1.8402 - val_precision_4: 0.2702 - val_recall_4: 0.1410 - val_acc: 0.1901\n",
            "Epoch 17/50\n",
            "1073739/1073739 [==============================] - 6s 5us/sample - loss: 0.9112 - precision_4: 0.7694 - recall_4: 0.5415 - acc: 0.6603 - val_loss: 1.9028 - val_precision_4: 0.2655 - val_recall_4: 0.1403 - val_acc: 0.1792\n",
            "Epoch 18/50\n",
            "1073739/1073739 [==============================] - 6s 5us/sample - loss: 0.9100 - precision_4: 0.7693 - recall_4: 0.5423 - acc: 0.6606 - val_loss: 1.8632 - val_precision_4: 0.2636 - val_recall_4: 0.1429 - val_acc: 0.1817\n",
            "Epoch 19/50\n",
            "1073739/1073739 [==============================] - 6s 5us/sample - loss: 0.9084 - precision_4: 0.7696 - recall_4: 0.5430 - acc: 0.6613 - val_loss: 1.8800 - val_precision_4: 0.2623 - val_recall_4: 0.1431 - val_acc: 0.1781\n",
            "Epoch 20/50\n",
            "1073739/1073739 [==============================] - 6s 5us/sample - loss: 0.9071 - precision_4: 0.7694 - recall_4: 0.5440 - acc: 0.6620 - val_loss: 1.7831 - val_precision_4: 0.2763 - val_recall_4: 0.1394 - val_acc: 0.1932\n",
            "Epoch 21/50\n",
            "1073739/1073739 [==============================] - 6s 5us/sample - loss: 0.9060 - precision_4: 0.7695 - recall_4: 0.5448 - acc: 0.6623 - val_loss: 1.8367 - val_precision_4: 0.2689 - val_recall_4: 0.1419 - val_acc: 0.1876\n",
            "Epoch 22/50\n",
            "1073739/1073739 [==============================] - 6s 5us/sample - loss: 0.9047 - precision_4: 0.7697 - recall_4: 0.5455 - acc: 0.6630 - val_loss: 1.8362 - val_precision_4: 0.2687 - val_recall_4: 0.1421 - val_acc: 0.1850\n",
            "Epoch 23/50\n",
            "1073739/1073739 [==============================] - 6s 5us/sample - loss: 0.9039 - precision_4: 0.7696 - recall_4: 0.5462 - acc: 0.6637 - val_loss: 1.9050 - val_precision_4: 0.2641 - val_recall_4: 0.1421 - val_acc: 0.1892\n",
            "Epoch 24/50\n",
            "1073739/1073739 [==============================] - 6s 5us/sample - loss: 0.9035 - precision_4: 0.7693 - recall_4: 0.5465 - acc: 0.6639 - val_loss: 1.8140 - val_precision_4: 0.2717 - val_recall_4: 0.1413 - val_acc: 0.2020\n",
            "Epoch 25/50\n",
            "1073739/1073739 [==============================] - 6s 5us/sample - loss: 0.9033 - precision_4: 0.7693 - recall_4: 0.5468 - acc: 0.6640 - val_loss: 1.8507 - val_precision_4: 0.2651 - val_recall_4: 0.1449 - val_acc: 0.1869\n",
            "Epoch 26/50\n",
            "1073739/1073739 [==============================] - 6s 5us/sample - loss: 0.9021 - precision_4: 0.7694 - recall_4: 0.5476 - acc: 0.6643 - val_loss: 1.8738 - val_precision_4: 0.2633 - val_recall_4: 0.1437 - val_acc: 0.1881\n",
            "Epoch 27/50\n",
            "1073739/1073739 [==============================] - 6s 5us/sample - loss: 0.9017 - precision_4: 0.7691 - recall_4: 0.5474 - acc: 0.6644 - val_loss: 1.9035 - val_precision_4: 0.2588 - val_recall_4: 0.1430 - val_acc: 0.1776\n",
            "Epoch 28/50\n",
            "1073739/1073739 [==============================] - 6s 5us/sample - loss: 0.9012 - precision_4: 0.7693 - recall_4: 0.5484 - acc: 0.6645 - val_loss: 1.8837 - val_precision_4: 0.2680 - val_recall_4: 0.1424 - val_acc: 0.1900\n",
            "Epoch 29/50\n",
            "1073739/1073739 [==============================] - 6s 5us/sample - loss: 0.9008 - precision_4: 0.7689 - recall_4: 0.5487 - acc: 0.6649 - val_loss: 1.8351 - val_precision_4: 0.2699 - val_recall_4: 0.1431 - val_acc: 0.1874\n",
            "Epoch 30/50\n",
            "1073739/1073739 [==============================] - 6s 5us/sample - loss: 0.9000 - precision_4: 0.7692 - recall_4: 0.5492 - acc: 0.6653 - val_loss: 1.8585 - val_precision_4: 0.2636 - val_recall_4: 0.1434 - val_acc: 0.1858\n",
            "Epoch 31/50\n",
            "1073739/1073739 [==============================] - 6s 5us/sample - loss: 0.8993 - precision_4: 0.7695 - recall_4: 0.5493 - acc: 0.6654 - val_loss: 1.9165 - val_precision_4: 0.2554 - val_recall_4: 0.1432 - val_acc: 0.1771\n",
            "Epoch 32/50\n",
            "1073739/1073739 [==============================] - 6s 5us/sample - loss: 0.8984 - precision_4: 0.7696 - recall_4: 0.5500 - acc: 0.6657 - val_loss: 1.8410 - val_precision_4: 0.2606 - val_recall_4: 0.1444 - val_acc: 0.1861\n",
            "Epoch 33/50\n",
            "1073739/1073739 [==============================] - 6s 5us/sample - loss: 0.8980 - precision_4: 0.7695 - recall_4: 0.5502 - acc: 0.6659 - val_loss: 1.8419 - val_precision_4: 0.2712 - val_recall_4: 0.1408 - val_acc: 0.1854\n",
            "Epoch 34/50\n",
            "1073739/1073739 [==============================] - 6s 5us/sample - loss: 0.8974 - precision_4: 0.7692 - recall_4: 0.5508 - acc: 0.6656 - val_loss: 1.9055 - val_precision_4: 0.2647 - val_recall_4: 0.1434 - val_acc: 0.1803\n",
            "Epoch 35/50\n",
            "1073739/1073739 [==============================] - 6s 5us/sample - loss: 0.8966 - precision_4: 0.7697 - recall_4: 0.5512 - acc: 0.6659 - val_loss: 1.8269 - val_precision_4: 0.2712 - val_recall_4: 0.1432 - val_acc: 0.1956\n",
            "Epoch 36/50\n",
            "1073739/1073739 [==============================] - 6s 5us/sample - loss: 0.8959 - precision_4: 0.7692 - recall_4: 0.5518 - acc: 0.6665 - val_loss: 1.9730 - val_precision_4: 0.2554 - val_recall_4: 0.1436 - val_acc: 0.1753\n",
            "Epoch 37/50\n",
            "1073739/1073739 [==============================] - 6s 6us/sample - loss: 0.8954 - precision_4: 0.7694 - recall_4: 0.5524 - acc: 0.6662 - val_loss: 1.9476 - val_precision_4: 0.2564 - val_recall_4: 0.1440 - val_acc: 0.1760\n",
            "Epoch 38/50\n",
            "1073739/1073739 [==============================] - 6s 5us/sample - loss: 0.8946 - precision_4: 0.7695 - recall_4: 0.5530 - acc: 0.6668 - val_loss: 1.8249 - val_precision_4: 0.2714 - val_recall_4: 0.1434 - val_acc: 0.1937\n",
            "Epoch 39/50\n",
            "1073739/1073739 [==============================] - 6s 5us/sample - loss: 0.8937 - precision_4: 0.7697 - recall_4: 0.5536 - acc: 0.6672 - val_loss: 1.8346 - val_precision_4: 0.2629 - val_recall_4: 0.1443 - val_acc: 0.1866\n",
            "Epoch 40/50\n",
            "1073739/1073739 [==============================] - 6s 5us/sample - loss: 0.8934 - precision_4: 0.7693 - recall_4: 0.5547 - acc: 0.6673 - val_loss: 1.9534 - val_precision_4: 0.2466 - val_recall_4: 0.1454 - val_acc: 0.1767\n",
            "Epoch 41/50\n",
            "1073739/1073739 [==============================] - 6s 5us/sample - loss: 0.8930 - precision_4: 0.7693 - recall_4: 0.5548 - acc: 0.6671 - val_loss: 1.8426 - val_precision_4: 0.2658 - val_recall_4: 0.1412 - val_acc: 0.1860\n",
            "Epoch 42/50\n",
            "1073739/1073739 [==============================] - 6s 5us/sample - loss: 0.8925 - precision_4: 0.7691 - recall_4: 0.5552 - acc: 0.6675 - val_loss: 1.7668 - val_precision_4: 0.2766 - val_recall_4: 0.1442 - val_acc: 0.2025\n",
            "Epoch 43/50\n",
            "1073739/1073739 [==============================] - 6s 5us/sample - loss: 0.8914 - precision_4: 0.7699 - recall_4: 0.5552 - acc: 0.6681 - val_loss: 1.9417 - val_precision_4: 0.2562 - val_recall_4: 0.1444 - val_acc: 0.1767\n",
            "Epoch 44/50\n",
            "1073739/1073739 [==============================] - 6s 5us/sample - loss: 0.8914 - precision_4: 0.7695 - recall_4: 0.5557 - acc: 0.6680 - val_loss: 1.8577 - val_precision_4: 0.2594 - val_recall_4: 0.1449 - val_acc: 0.1839\n",
            "Epoch 45/50\n",
            "1073739/1073739 [==============================] - 6s 5us/sample - loss: 0.8909 - precision_4: 0.7697 - recall_4: 0.5557 - acc: 0.6680 - val_loss: 1.9329 - val_precision_4: 0.2597 - val_recall_4: 0.1438 - val_acc: 0.1775\n",
            "Epoch 46/50\n",
            "1073739/1073739 [==============================] - 6s 5us/sample - loss: 0.8904 - precision_4: 0.7695 - recall_4: 0.5570 - acc: 0.6684 - val_loss: 1.8648 - val_precision_4: 0.2535 - val_recall_4: 0.1446 - val_acc: 0.1771\n",
            "Epoch 47/50\n",
            "1073739/1073739 [==============================] - 6s 5us/sample - loss: 0.8900 - precision_4: 0.7700 - recall_4: 0.5569 - acc: 0.6684 - val_loss: 1.8138 - val_precision_4: 0.2707 - val_recall_4: 0.1442 - val_acc: 0.1914\n",
            "Epoch 48/50\n",
            "1073739/1073739 [==============================] - 6s 6us/sample - loss: 0.8896 - precision_4: 0.7697 - recall_4: 0.5570 - acc: 0.6683 - val_loss: 1.8210 - val_precision_4: 0.2616 - val_recall_4: 0.1451 - val_acc: 0.1898\n",
            "Epoch 49/50\n",
            "1073739/1073739 [==============================] - 6s 6us/sample - loss: 0.8891 - precision_4: 0.7701 - recall_4: 0.5575 - acc: 0.6687 - val_loss: 1.9197 - val_precision_4: 0.2532 - val_recall_4: 0.1461 - val_acc: 0.1815\n",
            "Epoch 50/50\n",
            "1073739/1073739 [==============================] - 6s 5us/sample - loss: 0.8888 - precision_4: 0.7703 - recall_4: 0.5577 - acc: 0.6689 - val_loss: 1.8036 - val_precision_4: 0.2698 - val_recall_4: 0.1446 - val_acc: 0.1924\n"
          ],
          "name": "stdout"
        }
      ]
    },
    {
      "cell_type": "code",
      "metadata": {
        "id": "dqYOJj10PptI",
        "colab_type": "code",
        "outputId": "08c44a1f-8181-43dc-a7e8-c0fc166e68f4",
        "colab": {
          "base_uri": "https://localhost:8080/",
          "height": 621
        }
      },
      "source": [
        "plt.figure(figsize=(20,10))\n",
        "plt.plot(history.history['acc'])\n",
        "plt.plot(history.history['val_acc'])\n",
        "plt.title('model train vs validation loss')\n",
        "plt.ylabel('acc')\n",
        "plt.xlabel('epoch')\n",
        "plt.legend(['train','validation'], loc ='upper right')\n",
        "plt.show()"
      ],
      "execution_count": 0,
      "outputs": [
        {
          "output_type": "display_data",
          "data": {
            "image/png": "[encoded data removed]",
            "text/plain": [
              "<Figure size 1440x720 with 1 Axes>"
            ]
          },
          "metadata": {
            "tags": []
          }
        }
      ]
    },
    {
      "cell_type": "code",
      "metadata": {
        "id": "3tkSDfCEXuSB",
        "colab_type": "code",
        "outputId": "89f04db6-54ff-4941-d2cb-c494044b7c11",
        "colab": {
          "base_uri": "https://localhost:8080/",
          "height": 85
        }
      },
      "source": [
        "# evaluate model with keras\n",
        "score = classifier.evaluate(X_test_store, y_test_store, verbose=0)\n",
        "print('Test score:', score[0])\n",
        "print('Test accuracy:', score[1])\n",
        "print('Test precision:', score[2])\n",
        "print('Test recall:', score[3])"
      ],
      "execution_count": 0,
      "outputs": [
        {
          "output_type": "stream",
          "text": [
            "Test score: 1.8035902849582421\n",
            "Test accuracy: 0.26979527\n",
            "Test precision: 0.14455602\n",
            "Test recall: 0.19239834\n"
          ],
          "name": "stdout"
        }
      ]
    },
    {
      "cell_type": "code",
      "metadata": {
        "id": "Wq_JegILmSj1",
        "colab_type": "code",
        "colab": {}
      },
      "source": [
        ""
      ],
      "execution_count": 0,
      "outputs": []
    }
  ]
}