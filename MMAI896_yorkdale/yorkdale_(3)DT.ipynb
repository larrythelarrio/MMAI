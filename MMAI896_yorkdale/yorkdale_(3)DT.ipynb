{
 "cells": [
  {
   "cell_type": "code",
   "execution_count": 0,
   "metadata": {
    "colab": {},
    "colab_type": "code",
    "id": "cvBQxDWsqM8C"
   },
   "outputs": [],
   "source": []
  },
  {
   "cell_type": "code",
   "execution_count": 0,
   "metadata": {
    "colab": {},
    "colab_type": "code",
    "id": "AjQvXtSOqTk-"
   },
   "outputs": [],
   "source": [
    "import pandas as pd\n",
    "import numpy as np\n",
    "import datetime as datetime\n",
    "\n",
    "import matplotlib\n",
    "import matplotlib.pyplot as plt\n",
    "import seaborn as sns\n",
    "from sklearn.model_selection import StratifiedShuffleSplit\n",
    "from sklearn.model_selection import train_test_split\n",
    "from sklearn.ensemble import RandomForestClassifier\n",
    "from sklearn.metrics import accuracy_score,confusion_matrix,f1_score,recall_score,classification_report\n",
    "from sklearn.utils import resample, shuffle\n",
    "pd.set_option('display.max_columns', 30)\n",
    "pd.set_option('display.max_rows', 30)\n",
    "import xgboost\n",
    "from datetime import datetime,date,time\n",
    "import calendar\n",
    "from sklearn import tree\n",
    "from sklearn import datasets \n",
    "from sklearn.metrics import confusion_matrix \n",
    "from sklearn.model_selection import train_test_split \n",
    "from sklearn.preprocessing import LabelBinarizer, MultiLabelBinarizer\n",
    "from sklearn.tree import DecisionTreeClassifier\n",
    "from sklearn.metrics import accuracy_score\n",
    "from sklearn import tree\n"
   ]
  },
  {
   "cell_type": "code",
   "execution_count": 205,
   "metadata": {
    "colab": {
     "base_uri": "https://localhost:8080/",
     "height": 70
    },
    "colab_type": "code",
    "id": "Gm3LSpJeqeKd",
    "outputId": "08ddfc60-0447-4972-a3f8-f875e426035f"
   },
   "outputs": [
    {
     "name": "stderr",
     "output_type": "stream",
     "text": [
      "/usr/local/lib/python3.6/dist-packages/numpy/lib/arraysetops.py:568: FutureWarning: elementwise comparison failed; returning scalar instead, but in the future will perform elementwise comparison\n",
      "  mask |= (ar1 == a)\n"
     ]
    }
   ],
   "source": [
    "df_visit = pd.read_csv('/content/visits_full.csv',index_col='Unnamed: 0')"
   ]
  },
  {
   "cell_type": "code",
   "execution_count": 206,
   "metadata": {
    "colab": {
     "base_uri": "https://localhost:8080/",
     "height": 47
    },
    "colab_type": "code",
    "id": "utsRBITWWnxZ",
    "outputId": "ee119446-0330-4f3e-ff0b-5795136e3dac"
   },
   "outputs": [
    {
     "data": {
      "text/html": [
       "<div>\n",
       "<style scoped>\n",
       "    .dataframe tbody tr th:only-of-type {\n",
       "        vertical-align: middle;\n",
       "    }\n",
       "\n",
       "    .dataframe tbody tr th {\n",
       "        vertical-align: top;\n",
       "    }\n",
       "\n",
       "    .dataframe thead th {\n",
       "        text-align: right;\n",
       "    }\n",
       "</style>\n",
       "<table border=\"1\" class=\"dataframe\">\n",
       "  <thead>\n",
       "    <tr style=\"text-align: right;\">\n",
       "      <th></th>\n",
       "      <th>Visit_ID</th>\n",
       "      <th>DateTime</th>\n",
       "      <th>Customer_ID</th>\n",
       "      <th>Sequence_Num</th>\n",
       "      <th>Store_ID</th>\n",
       "      <th>Dwell_Time</th>\n",
       "    </tr>\n",
       "  </thead>\n",
       "  <tbody>\n",
       "  </tbody>\n",
       "</table>\n",
       "</div>"
      ],
      "text/plain": [
       "Empty DataFrame\n",
       "Columns: [Visit_ID, DateTime, Customer_ID, Sequence_Num, Store_ID, Dwell_Time]\n",
       "Index: []"
      ]
     },
     "execution_count": 206,
     "metadata": {
      "tags": []
     },
     "output_type": "execute_result"
    }
   ],
   "source": [
    "df_visit[df_visit.duplicated(subset=None,keep='first')]"
   ]
  },
  {
   "cell_type": "code",
   "execution_count": 207,
   "metadata": {
    "colab": {
     "base_uri": "https://localhost:8080/",
     "height": 491
    },
    "colab_type": "code",
    "id": "oxQTMnKqqiLr",
    "outputId": "90c5f491-1cee-4cd8-f099-5020dc4434fb"
   },
   "outputs": [
    {
     "data": {
      "text/html": [
       "<div>\n",
       "<style scoped>\n",
       "    .dataframe tbody tr th:only-of-type {\n",
       "        vertical-align: middle;\n",
       "    }\n",
       "\n",
       "    .dataframe tbody tr th {\n",
       "        vertical-align: top;\n",
       "    }\n",
       "\n",
       "    .dataframe thead th {\n",
       "        text-align: right;\n",
       "    }\n",
       "</style>\n",
       "<table border=\"1\" class=\"dataframe\">\n",
       "  <thead>\n",
       "    <tr style=\"text-align: right;\">\n",
       "      <th></th>\n",
       "      <th>Visit_ID</th>\n",
       "      <th>DateTime</th>\n",
       "      <th>Customer_ID</th>\n",
       "      <th>Sequence_Num</th>\n",
       "      <th>Store_ID</th>\n",
       "      <th>Dwell_Time</th>\n",
       "    </tr>\n",
       "  </thead>\n",
       "  <tbody>\n",
       "    <tr>\n",
       "      <th>1</th>\n",
       "      <td>1</td>\n",
       "      <td>2018-01-01 06:00:30</td>\n",
       "      <td>1</td>\n",
       "      <td>0</td>\n",
       "      <td>5079483</td>\n",
       "      <td>56</td>\n",
       "    </tr>\n",
       "    <tr>\n",
       "      <th>2</th>\n",
       "      <td>2</td>\n",
       "      <td>2018-01-01 06:00:30</td>\n",
       "      <td>1</td>\n",
       "      <td>3</td>\n",
       "      <td>5163263</td>\n",
       "      <td>201</td>\n",
       "    </tr>\n",
       "    <tr>\n",
       "      <th>3</th>\n",
       "      <td>3</td>\n",
       "      <td>2018-01-01 06:04:50</td>\n",
       "      <td>2</td>\n",
       "      <td>0</td>\n",
       "      <td>3</td>\n",
       "      <td>40</td>\n",
       "    </tr>\n",
       "    <tr>\n",
       "      <th>4</th>\n",
       "      <td>4</td>\n",
       "      <td>2018-01-01 06:46:50</td>\n",
       "      <td>3</td>\n",
       "      <td>1</td>\n",
       "      <td>5152724</td>\n",
       "      <td>10</td>\n",
       "    </tr>\n",
       "    <tr>\n",
       "      <th>5</th>\n",
       "      <td>5</td>\n",
       "      <td>2018-01-01 06:46:50</td>\n",
       "      <td>3</td>\n",
       "      <td>3</td>\n",
       "      <td>5079580</td>\n",
       "      <td>73</td>\n",
       "    </tr>\n",
       "    <tr>\n",
       "      <th>6</th>\n",
       "      <td>6</td>\n",
       "      <td>2018-01-01 07:28:20</td>\n",
       "      <td>4</td>\n",
       "      <td>2</td>\n",
       "      <td>2</td>\n",
       "      <td>168</td>\n",
       "    </tr>\n",
       "    <tr>\n",
       "      <th>7</th>\n",
       "      <td>7</td>\n",
       "      <td>2018-01-01 07:50:40</td>\n",
       "      <td>5</td>\n",
       "      <td>1</td>\n",
       "      <td>4</td>\n",
       "      <td>39</td>\n",
       "    </tr>\n",
       "    <tr>\n",
       "      <th>8</th>\n",
       "      <td>8</td>\n",
       "      <td>2018-01-01 07:56:50</td>\n",
       "      <td>6</td>\n",
       "      <td>1</td>\n",
       "      <td>3</td>\n",
       "      <td>27</td>\n",
       "    </tr>\n",
       "    <tr>\n",
       "      <th>9</th>\n",
       "      <td>9</td>\n",
       "      <td>2018-01-01 07:56:50</td>\n",
       "      <td>6</td>\n",
       "      <td>4</td>\n",
       "      <td>5080089</td>\n",
       "      <td>6</td>\n",
       "    </tr>\n",
       "    <tr>\n",
       "      <th>10</th>\n",
       "      <td>10</td>\n",
       "      <td>2018-01-01 08:28:40</td>\n",
       "      <td>7</td>\n",
       "      <td>3</td>\n",
       "      <td>2</td>\n",
       "      <td>9</td>\n",
       "    </tr>\n",
       "    <tr>\n",
       "      <th>11</th>\n",
       "      <td>11</td>\n",
       "      <td>2018-01-01 08:49:20</td>\n",
       "      <td>8</td>\n",
       "      <td>4</td>\n",
       "      <td>5080089</td>\n",
       "      <td>145</td>\n",
       "    </tr>\n",
       "    <tr>\n",
       "      <th>12</th>\n",
       "      <td>12</td>\n",
       "      <td>2018-01-01 08:52:00</td>\n",
       "      <td>9</td>\n",
       "      <td>8</td>\n",
       "      <td>5079256</td>\n",
       "      <td>58</td>\n",
       "    </tr>\n",
       "    <tr>\n",
       "      <th>13</th>\n",
       "      <td>13</td>\n",
       "      <td>2018-01-01 08:52:00</td>\n",
       "      <td>9</td>\n",
       "      <td>9</td>\n",
       "      <td>5079256</td>\n",
       "      <td>8</td>\n",
       "    </tr>\n",
       "    <tr>\n",
       "      <th>14</th>\n",
       "      <td>14</td>\n",
       "      <td>2018-01-01 08:52:00</td>\n",
       "      <td>9</td>\n",
       "      <td>10</td>\n",
       "      <td>5079256</td>\n",
       "      <td>17</td>\n",
       "    </tr>\n",
       "    <tr>\n",
       "      <th>15</th>\n",
       "      <td>15</td>\n",
       "      <td>2018-01-01 08:52:00</td>\n",
       "      <td>9</td>\n",
       "      <td>16</td>\n",
       "      <td>3</td>\n",
       "      <td>7</td>\n",
       "    </tr>\n",
       "  </tbody>\n",
       "</table>\n",
       "</div>"
      ],
      "text/plain": [
       "    Visit_ID             DateTime  Customer_ID  Sequence_Num  Store_ID  \\\n",
       "1          1  2018-01-01 06:00:30            1             0   5079483   \n",
       "2          2  2018-01-01 06:00:30            1             3   5163263   \n",
       "3          3  2018-01-01 06:04:50            2             0         3   \n",
       "4          4  2018-01-01 06:46:50            3             1   5152724   \n",
       "5          5  2018-01-01 06:46:50            3             3   5079580   \n",
       "6          6  2018-01-01 07:28:20            4             2         2   \n",
       "7          7  2018-01-01 07:50:40            5             1         4   \n",
       "8          8  2018-01-01 07:56:50            6             1         3   \n",
       "9          9  2018-01-01 07:56:50            6             4   5080089   \n",
       "10        10  2018-01-01 08:28:40            7             3         2   \n",
       "11        11  2018-01-01 08:49:20            8             4   5080089   \n",
       "12        12  2018-01-01 08:52:00            9             8   5079256   \n",
       "13        13  2018-01-01 08:52:00            9             9   5079256   \n",
       "14        14  2018-01-01 08:52:00            9            10   5079256   \n",
       "15        15  2018-01-01 08:52:00            9            16         3   \n",
       "\n",
       "    Dwell_Time  \n",
       "1           56  \n",
       "2          201  \n",
       "3           40  \n",
       "4           10  \n",
       "5           73  \n",
       "6          168  \n",
       "7           39  \n",
       "8           27  \n",
       "9            6  \n",
       "10           9  \n",
       "11         145  \n",
       "12          58  \n",
       "13           8  \n",
       "14          17  \n",
       "15           7  "
      ]
     },
     "execution_count": 207,
     "metadata": {
      "tags": []
     },
     "output_type": "execute_result"
    }
   ],
   "source": [
    "\n",
    "df_visit.sort_values(by=['DateTime','Customer_ID','Sequence_Num']).head(15)"
   ]
  },
  {
   "cell_type": "code",
   "execution_count": 0,
   "metadata": {
    "colab": {},
    "colab_type": "code",
    "id": "teNDnru4ESPc"
   },
   "outputs": [],
   "source": [
    "df_visit['Sequence_Num_New'] = df_visit.groupby('Customer_ID').cumcount() + 1"
   ]
  },
  {
   "cell_type": "code",
   "execution_count": 209,
   "metadata": {
    "colab": {
     "base_uri": "https://localhost:8080/",
     "height": 195
    },
    "colab_type": "code",
    "id": "hPgVFaH9Eb64",
    "outputId": "e247e2d8-1b12-4167-fa2f-2e178a68200a"
   },
   "outputs": [
    {
     "data": {
      "text/html": [
       "<div>\n",
       "<style scoped>\n",
       "    .dataframe tbody tr th:only-of-type {\n",
       "        vertical-align: middle;\n",
       "    }\n",
       "\n",
       "    .dataframe tbody tr th {\n",
       "        vertical-align: top;\n",
       "    }\n",
       "\n",
       "    .dataframe thead th {\n",
       "        text-align: right;\n",
       "    }\n",
       "</style>\n",
       "<table border=\"1\" class=\"dataframe\">\n",
       "  <thead>\n",
       "    <tr style=\"text-align: right;\">\n",
       "      <th></th>\n",
       "      <th>Visit_ID</th>\n",
       "      <th>DateTime</th>\n",
       "      <th>Customer_ID</th>\n",
       "      <th>Sequence_Num</th>\n",
       "      <th>Store_ID</th>\n",
       "      <th>Dwell_Time</th>\n",
       "      <th>Sequence_Num_New</th>\n",
       "    </tr>\n",
       "  </thead>\n",
       "  <tbody>\n",
       "    <tr>\n",
       "      <th>1</th>\n",
       "      <td>1</td>\n",
       "      <td>2018-01-01 06:00:30</td>\n",
       "      <td>1</td>\n",
       "      <td>0</td>\n",
       "      <td>5079483</td>\n",
       "      <td>56</td>\n",
       "      <td>1</td>\n",
       "    </tr>\n",
       "    <tr>\n",
       "      <th>2</th>\n",
       "      <td>2</td>\n",
       "      <td>2018-01-01 06:00:30</td>\n",
       "      <td>1</td>\n",
       "      <td>3</td>\n",
       "      <td>5163263</td>\n",
       "      <td>201</td>\n",
       "      <td>2</td>\n",
       "    </tr>\n",
       "    <tr>\n",
       "      <th>3</th>\n",
       "      <td>3</td>\n",
       "      <td>2018-01-01 06:04:50</td>\n",
       "      <td>2</td>\n",
       "      <td>0</td>\n",
       "      <td>3</td>\n",
       "      <td>40</td>\n",
       "      <td>1</td>\n",
       "    </tr>\n",
       "    <tr>\n",
       "      <th>4</th>\n",
       "      <td>4</td>\n",
       "      <td>2018-01-01 06:46:50</td>\n",
       "      <td>3</td>\n",
       "      <td>1</td>\n",
       "      <td>5152724</td>\n",
       "      <td>10</td>\n",
       "      <td>1</td>\n",
       "    </tr>\n",
       "    <tr>\n",
       "      <th>5</th>\n",
       "      <td>5</td>\n",
       "      <td>2018-01-01 06:46:50</td>\n",
       "      <td>3</td>\n",
       "      <td>3</td>\n",
       "      <td>5079580</td>\n",
       "      <td>73</td>\n",
       "      <td>2</td>\n",
       "    </tr>\n",
       "  </tbody>\n",
       "</table>\n",
       "</div>"
      ],
      "text/plain": [
       "   Visit_ID             DateTime  Customer_ID  Sequence_Num  Store_ID  \\\n",
       "1         1  2018-01-01 06:00:30            1             0   5079483   \n",
       "2         2  2018-01-01 06:00:30            1             3   5163263   \n",
       "3         3  2018-01-01 06:04:50            2             0         3   \n",
       "4         4  2018-01-01 06:46:50            3             1   5152724   \n",
       "5         5  2018-01-01 06:46:50            3             3   5079580   \n",
       "\n",
       "   Dwell_Time  Sequence_Num_New  \n",
       "1          56                 1  \n",
       "2         201                 2  \n",
       "3          40                 1  \n",
       "4          10                 1  \n",
       "5          73                 2  "
      ]
     },
     "execution_count": 209,
     "metadata": {
      "tags": []
     },
     "output_type": "execute_result"
    }
   ],
   "source": [
    "df_visit.head()"
   ]
  },
  {
   "cell_type": "code",
   "execution_count": 0,
   "metadata": {
    "colab": {},
    "colab_type": "code",
    "id": "h1ipBMKhuHyc"
   },
   "outputs": [],
   "source": [
    "df_visit = df_visit.drop(labels=['Visit_ID'],axis=1)"
   ]
  },
  {
   "cell_type": "code",
   "execution_count": 0,
   "metadata": {
    "colab": {},
    "colab_type": "code",
    "id": "kOK1pF71qmmu"
   },
   "outputs": [],
   "source": [
    "df_visit['DateTime'] = pd.to_datetime(df_visit['DateTime'])"
   ]
  },
  {
   "cell_type": "code",
   "execution_count": 0,
   "metadata": {
    "colab": {},
    "colab_type": "code",
    "id": "cG4oFSrzqyvt"
   },
   "outputs": [],
   "source": [
    "df_visit['Day'] = df_visit['DateTime'].dt.weekday"
   ]
  },
  {
   "cell_type": "code",
   "execution_count": 0,
   "metadata": {
    "colab": {},
    "colab_type": "code",
    "id": "0lNUk-KBrFXM"
   },
   "outputs": [],
   "source": [
    "df_visit['Month'] = df_visit['DateTime'].dt.month"
   ]
  },
  {
   "cell_type": "code",
   "execution_count": 0,
   "metadata": {
    "colab": {},
    "colab_type": "code",
    "id": "jLW5jUqyU2AP"
   },
   "outputs": [],
   "source": []
  },
  {
   "cell_type": "code",
   "execution_count": 214,
   "metadata": {
    "colab": {
     "base_uri": "https://localhost:8080/",
     "height": 168
    },
    "colab_type": "code",
    "id": "18n0Jiz5vRty",
    "outputId": "94534d6e-0219-49c6-a4d9-8a2007136b95"
   },
   "outputs": [
    {
     "data": {
      "text/plain": [
       "count    1783546.000000\n",
       "mean      222294.664479\n",
       "std       153322.923759\n",
       "min            1.000000\n",
       "25%        86243.000000\n",
       "50%       200715.500000\n",
       "75%       347383.000000\n",
       "max       534483.000000\n",
       "Name: Customer_ID, dtype: object"
      ]
     },
     "execution_count": 214,
     "metadata": {
      "tags": []
     },
     "output_type": "execute_result"
    }
   ],
   "source": [
    "df_visit['Customer_ID'].describe().apply(lambda x: format(x, 'f'))"
   ]
  },
  {
   "cell_type": "code",
   "execution_count": 215,
   "metadata": {
    "colab": {
     "base_uri": "https://localhost:8080/",
     "height": 168
    },
    "colab_type": "code",
    "id": "CqQnWkX6wO9T",
    "outputId": "e04b22ab-aea4-4319-8bd7-ab0668c900f7"
   },
   "outputs": [
    {
     "data": {
      "text/plain": [
       "count    1783546.000000\n",
       "mean      222294.664479\n",
       "std       153322.923759\n",
       "min            1.000000\n",
       "25%        86243.000000\n",
       "50%       200715.500000\n",
       "75%       347383.000000\n",
       "max       534483.000000\n",
       "Name: Customer_ID, dtype: object"
      ]
     },
     "execution_count": 215,
     "metadata": {
      "tags": []
     },
     "output_type": "execute_result"
    }
   ],
   "source": [
    "df_visit['Customer_ID'].describe().apply(lambda x: format(x, 'f'))"
   ]
  },
  {
   "cell_type": "code",
   "execution_count": 216,
   "metadata": {
    "colab": {
     "base_uri": "https://localhost:8080/",
     "height": 343
    },
    "colab_type": "code",
    "id": "8gFQyPU6w-CF",
    "outputId": "2aba343a-618e-4026-a01b-4abc7b510909"
   },
   "outputs": [
    {
     "data": {
      "text/html": [
       "<div>\n",
       "<style scoped>\n",
       "    .dataframe tbody tr th:only-of-type {\n",
       "        vertical-align: middle;\n",
       "    }\n",
       "\n",
       "    .dataframe tbody tr th {\n",
       "        vertical-align: top;\n",
       "    }\n",
       "\n",
       "    .dataframe thead th {\n",
       "        text-align: right;\n",
       "    }\n",
       "</style>\n",
       "<table border=\"1\" class=\"dataframe\">\n",
       "  <thead>\n",
       "    <tr style=\"text-align: right;\">\n",
       "      <th></th>\n",
       "      <th>DateTime</th>\n",
       "      <th>Customer_ID</th>\n",
       "      <th>Sequence_Num</th>\n",
       "      <th>Store_ID</th>\n",
       "      <th>Dwell_Time</th>\n",
       "      <th>Sequence_Num_New</th>\n",
       "      <th>Day</th>\n",
       "      <th>Month</th>\n",
       "    </tr>\n",
       "  </thead>\n",
       "  <tbody>\n",
       "    <tr>\n",
       "      <th>1092568</th>\n",
       "      <td>2018-04-17 08:19:10</td>\n",
       "      <td>26</td>\n",
       "      <td>6</td>\n",
       "      <td>1</td>\n",
       "      <td>14</td>\n",
       "      <td>16</td>\n",
       "      <td>1.0</td>\n",
       "      <td>4.0</td>\n",
       "    </tr>\n",
       "    <tr>\n",
       "      <th>970272</th>\n",
       "      <td>2018-04-03 11:02:50</td>\n",
       "      <td>55</td>\n",
       "      <td>20</td>\n",
       "      <td>1</td>\n",
       "      <td>12</td>\n",
       "      <td>19</td>\n",
       "      <td>1.0</td>\n",
       "      <td>4.0</td>\n",
       "    </tr>\n",
       "    <tr>\n",
       "      <th>413903</th>\n",
       "      <td>2018-02-08 09:26:10</td>\n",
       "      <td>93</td>\n",
       "      <td>20</td>\n",
       "      <td>1</td>\n",
       "      <td>49</td>\n",
       "      <td>50</td>\n",
       "      <td>3.0</td>\n",
       "      <td>2.0</td>\n",
       "    </tr>\n",
       "    <tr>\n",
       "      <th>1760558</th>\n",
       "      <td>2018-06-29 10:43:20</td>\n",
       "      <td>481</td>\n",
       "      <td>0</td>\n",
       "      <td>1</td>\n",
       "      <td>100</td>\n",
       "      <td>8</td>\n",
       "      <td>4.0</td>\n",
       "      <td>6.0</td>\n",
       "    </tr>\n",
       "    <tr>\n",
       "      <th>1584406</th>\n",
       "      <td>2018-06-10 14:06:40</td>\n",
       "      <td>836</td>\n",
       "      <td>4</td>\n",
       "      <td>1</td>\n",
       "      <td>89</td>\n",
       "      <td>19</td>\n",
       "      <td>6.0</td>\n",
       "      <td>6.0</td>\n",
       "    </tr>\n",
       "    <tr>\n",
       "      <th>1667402</th>\n",
       "      <td>2018-06-19 16:35:50</td>\n",
       "      <td>879</td>\n",
       "      <td>6</td>\n",
       "      <td>1</td>\n",
       "      <td>12</td>\n",
       "      <td>4</td>\n",
       "      <td>1.0</td>\n",
       "      <td>6.0</td>\n",
       "    </tr>\n",
       "    <tr>\n",
       "      <th>461758</th>\n",
       "      <td>2018-02-12 18:06:10</td>\n",
       "      <td>975</td>\n",
       "      <td>0</td>\n",
       "      <td>1</td>\n",
       "      <td>14</td>\n",
       "      <td>2</td>\n",
       "      <td>0.0</td>\n",
       "      <td>2.0</td>\n",
       "    </tr>\n",
       "    <tr>\n",
       "      <th>1427099</th>\n",
       "      <td>2018-05-22 13:46:10</td>\n",
       "      <td>1049</td>\n",
       "      <td>0</td>\n",
       "      <td>1</td>\n",
       "      <td>45</td>\n",
       "      <td>16</td>\n",
       "      <td>1.0</td>\n",
       "      <td>5.0</td>\n",
       "    </tr>\n",
       "    <tr>\n",
       "      <th>1619392</th>\n",
       "      <td>2018-06-14 20:42:40</td>\n",
       "      <td>1049</td>\n",
       "      <td>2</td>\n",
       "      <td>1</td>\n",
       "      <td>74</td>\n",
       "      <td>18</td>\n",
       "      <td>3.0</td>\n",
       "      <td>6.0</td>\n",
       "    </tr>\n",
       "    <tr>\n",
       "      <th>571018</th>\n",
       "      <td>2018-02-23 09:00:00</td>\n",
       "      <td>1049</td>\n",
       "      <td>3</td>\n",
       "      <td>1</td>\n",
       "      <td>65</td>\n",
       "      <td>11</td>\n",
       "      <td>4.0</td>\n",
       "      <td>2.0</td>\n",
       "    </tr>\n",
       "  </tbody>\n",
       "</table>\n",
       "</div>"
      ],
      "text/plain": [
       "                   DateTime  Customer_ID  Sequence_Num  Store_ID  Dwell_Time  \\\n",
       "1092568 2018-04-17 08:19:10           26             6         1          14   \n",
       "970272  2018-04-03 11:02:50           55            20         1          12   \n",
       "413903  2018-02-08 09:26:10           93            20         1          49   \n",
       "1760558 2018-06-29 10:43:20          481             0         1         100   \n",
       "1584406 2018-06-10 14:06:40          836             4         1          89   \n",
       "1667402 2018-06-19 16:35:50          879             6         1          12   \n",
       "461758  2018-02-12 18:06:10          975             0         1          14   \n",
       "1427099 2018-05-22 13:46:10         1049             0         1          45   \n",
       "1619392 2018-06-14 20:42:40         1049             2         1          74   \n",
       "571018  2018-02-23 09:00:00         1049             3         1          65   \n",
       "\n",
       "         Sequence_Num_New  Day  Month  \n",
       "1092568                16  1.0    4.0  \n",
       "970272                 19  1.0    4.0  \n",
       "413903                 50  3.0    2.0  \n",
       "1760558                 8  4.0    6.0  \n",
       "1584406                19  6.0    6.0  \n",
       "1667402                 4  1.0    6.0  \n",
       "461758                  2  0.0    2.0  \n",
       "1427099                16  1.0    5.0  \n",
       "1619392                18  3.0    6.0  \n",
       "571018                 11  4.0    2.0  "
      ]
     },
     "execution_count": 216,
     "metadata": {
      "tags": []
     },
     "output_type": "execute_result"
    }
   ],
   "source": [
    "df_visit.sort_values(by=['Store_ID','Customer_ID','Day','Month']).head(10)"
   ]
  },
  {
   "cell_type": "code",
   "execution_count": 0,
   "metadata": {
    "colab": {},
    "colab_type": "code",
    "id": "jCYSK10WxyuP"
   },
   "outputs": [],
   "source": [
    "df_visit['freq'] = df_visit.groupby('DateTime')['DateTime'].transform('count')"
   ]
  },
  {
   "cell_type": "code",
   "execution_count": 218,
   "metadata": {
    "colab": {
     "base_uri": "https://localhost:8080/",
     "height": 195
    },
    "colab_type": "code",
    "id": "YwK2jJE0Zg0u",
    "outputId": "8160340d-3c3d-49e7-dd73-910dc075850e"
   },
   "outputs": [
    {
     "data": {
      "text/html": [
       "<div>\n",
       "<style scoped>\n",
       "    .dataframe tbody tr th:only-of-type {\n",
       "        vertical-align: middle;\n",
       "    }\n",
       "\n",
       "    .dataframe tbody tr th {\n",
       "        vertical-align: top;\n",
       "    }\n",
       "\n",
       "    .dataframe thead th {\n",
       "        text-align: right;\n",
       "    }\n",
       "</style>\n",
       "<table border=\"1\" class=\"dataframe\">\n",
       "  <thead>\n",
       "    <tr style=\"text-align: right;\">\n",
       "      <th></th>\n",
       "      <th>DateTime</th>\n",
       "      <th>Customer_ID</th>\n",
       "      <th>Sequence_Num</th>\n",
       "      <th>Store_ID</th>\n",
       "      <th>Dwell_Time</th>\n",
       "      <th>Sequence_Num_New</th>\n",
       "      <th>Day</th>\n",
       "      <th>Month</th>\n",
       "      <th>freq</th>\n",
       "    </tr>\n",
       "  </thead>\n",
       "  <tbody>\n",
       "    <tr>\n",
       "      <th>1</th>\n",
       "      <td>2018-01-01 06:00:30</td>\n",
       "      <td>1</td>\n",
       "      <td>0</td>\n",
       "      <td>5079483</td>\n",
       "      <td>56</td>\n",
       "      <td>1</td>\n",
       "      <td>0.0</td>\n",
       "      <td>1.0</td>\n",
       "      <td>2.0</td>\n",
       "    </tr>\n",
       "    <tr>\n",
       "      <th>2</th>\n",
       "      <td>2018-01-01 06:00:30</td>\n",
       "      <td>1</td>\n",
       "      <td>3</td>\n",
       "      <td>5163263</td>\n",
       "      <td>201</td>\n",
       "      <td>2</td>\n",
       "      <td>0.0</td>\n",
       "      <td>1.0</td>\n",
       "      <td>2.0</td>\n",
       "    </tr>\n",
       "    <tr>\n",
       "      <th>3</th>\n",
       "      <td>2018-01-01 06:04:50</td>\n",
       "      <td>2</td>\n",
       "      <td>0</td>\n",
       "      <td>3</td>\n",
       "      <td>40</td>\n",
       "      <td>1</td>\n",
       "      <td>0.0</td>\n",
       "      <td>1.0</td>\n",
       "      <td>1.0</td>\n",
       "    </tr>\n",
       "    <tr>\n",
       "      <th>4</th>\n",
       "      <td>2018-01-01 06:46:50</td>\n",
       "      <td>3</td>\n",
       "      <td>1</td>\n",
       "      <td>5152724</td>\n",
       "      <td>10</td>\n",
       "      <td>1</td>\n",
       "      <td>0.0</td>\n",
       "      <td>1.0</td>\n",
       "      <td>2.0</td>\n",
       "    </tr>\n",
       "    <tr>\n",
       "      <th>5</th>\n",
       "      <td>2018-01-01 06:46:50</td>\n",
       "      <td>3</td>\n",
       "      <td>3</td>\n",
       "      <td>5079580</td>\n",
       "      <td>73</td>\n",
       "      <td>2</td>\n",
       "      <td>0.0</td>\n",
       "      <td>1.0</td>\n",
       "      <td>2.0</td>\n",
       "    </tr>\n",
       "  </tbody>\n",
       "</table>\n",
       "</div>"
      ],
      "text/plain": [
       "             DateTime  Customer_ID  Sequence_Num  Store_ID  Dwell_Time  \\\n",
       "1 2018-01-01 06:00:30            1             0   5079483          56   \n",
       "2 2018-01-01 06:00:30            1             3   5163263         201   \n",
       "3 2018-01-01 06:04:50            2             0         3          40   \n",
       "4 2018-01-01 06:46:50            3             1   5152724          10   \n",
       "5 2018-01-01 06:46:50            3             3   5079580          73   \n",
       "\n",
       "   Sequence_Num_New  Day  Month  freq  \n",
       "1                 1  0.0    1.0   2.0  \n",
       "2                 2  0.0    1.0   2.0  \n",
       "3                 1  0.0    1.0   1.0  \n",
       "4                 1  0.0    1.0   2.0  \n",
       "5                 2  0.0    1.0   2.0  "
      ]
     },
     "execution_count": 218,
     "metadata": {
      "tags": []
     },
     "output_type": "execute_result"
    }
   ],
   "source": [
    "df_visit.head()"
   ]
  },
  {
   "cell_type": "code",
   "execution_count": 219,
   "metadata": {
    "colab": {
     "base_uri": "https://localhost:8080/",
     "height": 136
    },
    "colab_type": "code",
    "id": "9ysKu5KKYHxh",
    "outputId": "b23161c8-456c-4c06-cf9d-cb0f38c08b3c"
   },
   "outputs": [
    {
     "data": {
      "text/html": [
       "<div>\n",
       "<style scoped>\n",
       "    .dataframe tbody tr th:only-of-type {\n",
       "        vertical-align: middle;\n",
       "    }\n",
       "\n",
       "    .dataframe tbody tr th {\n",
       "        vertical-align: top;\n",
       "    }\n",
       "\n",
       "    .dataframe thead th {\n",
       "        text-align: right;\n",
       "    }\n",
       "</style>\n",
       "<table border=\"1\" class=\"dataframe\">\n",
       "  <thead>\n",
       "    <tr style=\"text-align: right;\">\n",
       "      <th></th>\n",
       "      <th>DateTime</th>\n",
       "      <th>Customer_ID</th>\n",
       "      <th>Sequence_Num</th>\n",
       "      <th>Store_ID</th>\n",
       "      <th>Dwell_Time</th>\n",
       "      <th>Sequence_Num_New</th>\n",
       "      <th>Day</th>\n",
       "      <th>Month</th>\n",
       "      <th>freq</th>\n",
       "    </tr>\n",
       "  </thead>\n",
       "  <tbody>\n",
       "    <tr>\n",
       "      <th>1500432</th>\n",
       "      <td>NaT</td>\n",
       "      <td>464411</td>\n",
       "      <td>1</td>\n",
       "      <td>5080126</td>\n",
       "      <td>8</td>\n",
       "      <td>1</td>\n",
       "      <td>NaN</td>\n",
       "      <td>NaN</td>\n",
       "      <td>NaN</td>\n",
       "    </tr>\n",
       "    <tr>\n",
       "      <th>1500433</th>\n",
       "      <td>NaT</td>\n",
       "      <td>464411</td>\n",
       "      <td>1</td>\n",
       "      <td>9474122</td>\n",
       "      <td>6</td>\n",
       "      <td>2</td>\n",
       "      <td>NaN</td>\n",
       "      <td>NaN</td>\n",
       "      <td>NaN</td>\n",
       "    </tr>\n",
       "    <tr>\n",
       "      <th>1500434</th>\n",
       "      <td>NaT</td>\n",
       "      <td>464411</td>\n",
       "      <td>18</td>\n",
       "      <td>9713461</td>\n",
       "      <td>7</td>\n",
       "      <td>3</td>\n",
       "      <td>NaN</td>\n",
       "      <td>NaN</td>\n",
       "      <td>NaN</td>\n",
       "    </tr>\n",
       "  </tbody>\n",
       "</table>\n",
       "</div>"
      ],
      "text/plain": [
       "        DateTime  Customer_ID  Sequence_Num  Store_ID  Dwell_Time  \\\n",
       "1500432      NaT       464411             1   5080126           8   \n",
       "1500433      NaT       464411             1   9474122           6   \n",
       "1500434      NaT       464411            18   9713461           7   \n",
       "\n",
       "         Sequence_Num_New  Day  Month  freq  \n",
       "1500432                 1  NaN    NaN   NaN  \n",
       "1500433                 2  NaN    NaN   NaN  \n",
       "1500434                 3  NaN    NaN   NaN  "
      ]
     },
     "execution_count": 219,
     "metadata": {
      "tags": []
     },
     "output_type": "execute_result"
    }
   ],
   "source": [
    "df_visit[df_visit['freq'].isna()]\n"
   ]
  },
  {
   "cell_type": "code",
   "execution_count": 0,
   "metadata": {
    "colab": {},
    "colab_type": "code",
    "id": "6WIRkm-YY4BW"
   },
   "outputs": [],
   "source": [
    "df_visit.drop(index =[1500432,1500433,1500434],axis=0,inplace=True)"
   ]
  },
  {
   "cell_type": "code",
   "execution_count": 0,
   "metadata": {
    "colab": {},
    "colab_type": "code",
    "id": "FSnC5MFcXpMp"
   },
   "outputs": [],
   "source": [
    "df_visit_dupes = df_visit.sort_values(by=['DateTime','Customer_ID','Sequence_Num_New'])"
   ]
  },
  {
   "cell_type": "code",
   "execution_count": 0,
   "metadata": {
    "colab": {},
    "colab_type": "code",
    "id": "aq4D4fPdbaH2"
   },
   "outputs": [],
   "source": [
    "df_visit_dupes['Next_Sequence'] = df_visit_dupes['Sequence_Num_New'].shift(-1)"
   ]
  },
  {
   "cell_type": "code",
   "execution_count": 0,
   "metadata": {
    "colab": {},
    "colab_type": "code",
    "id": "4D1OJTw-xhd0"
   },
   "outputs": [],
   "source": [
    "df_visit_dupes['Next_Store'] = df_visit_dupes['Store_ID'].shift(-1)"
   ]
  },
  {
   "cell_type": "code",
   "execution_count": 224,
   "metadata": {
    "colab": {
     "base_uri": "https://localhost:8080/",
     "height": 402
    },
    "colab_type": "code",
    "id": "Eupj0aH4b0_P",
    "outputId": "1a9b58b7-f43a-4798-a331-1c95f5dadd7c"
   },
   "outputs": [
    {
     "data": {
      "text/html": [
       "<div>\n",
       "<style scoped>\n",
       "    .dataframe tbody tr th:only-of-type {\n",
       "        vertical-align: middle;\n",
       "    }\n",
       "\n",
       "    .dataframe tbody tr th {\n",
       "        vertical-align: top;\n",
       "    }\n",
       "\n",
       "    .dataframe thead th {\n",
       "        text-align: right;\n",
       "    }\n",
       "</style>\n",
       "<table border=\"1\" class=\"dataframe\">\n",
       "  <thead>\n",
       "    <tr style=\"text-align: right;\">\n",
       "      <th></th>\n",
       "      <th>DateTime</th>\n",
       "      <th>Customer_ID</th>\n",
       "      <th>Sequence_Num</th>\n",
       "      <th>Store_ID</th>\n",
       "      <th>Dwell_Time</th>\n",
       "      <th>Sequence_Num_New</th>\n",
       "      <th>Day</th>\n",
       "      <th>Month</th>\n",
       "      <th>freq</th>\n",
       "      <th>Next_Sequence</th>\n",
       "      <th>Next_Store</th>\n",
       "    </tr>\n",
       "  </thead>\n",
       "  <tbody>\n",
       "    <tr>\n",
       "      <th>1</th>\n",
       "      <td>2018-01-01 06:00:30</td>\n",
       "      <td>1</td>\n",
       "      <td>0</td>\n",
       "      <td>5079483</td>\n",
       "      <td>56</td>\n",
       "      <td>1</td>\n",
       "      <td>0.0</td>\n",
       "      <td>1.0</td>\n",
       "      <td>2.0</td>\n",
       "      <td>2.0</td>\n",
       "      <td>5163263.0</td>\n",
       "    </tr>\n",
       "    <tr>\n",
       "      <th>2</th>\n",
       "      <td>2018-01-01 06:00:30</td>\n",
       "      <td>1</td>\n",
       "      <td>3</td>\n",
       "      <td>5163263</td>\n",
       "      <td>201</td>\n",
       "      <td>2</td>\n",
       "      <td>0.0</td>\n",
       "      <td>1.0</td>\n",
       "      <td>2.0</td>\n",
       "      <td>1.0</td>\n",
       "      <td>3.0</td>\n",
       "    </tr>\n",
       "    <tr>\n",
       "      <th>3</th>\n",
       "      <td>2018-01-01 06:04:50</td>\n",
       "      <td>2</td>\n",
       "      <td>0</td>\n",
       "      <td>3</td>\n",
       "      <td>40</td>\n",
       "      <td>1</td>\n",
       "      <td>0.0</td>\n",
       "      <td>1.0</td>\n",
       "      <td>1.0</td>\n",
       "      <td>1.0</td>\n",
       "      <td>5152724.0</td>\n",
       "    </tr>\n",
       "    <tr>\n",
       "      <th>4</th>\n",
       "      <td>2018-01-01 06:46:50</td>\n",
       "      <td>3</td>\n",
       "      <td>1</td>\n",
       "      <td>5152724</td>\n",
       "      <td>10</td>\n",
       "      <td>1</td>\n",
       "      <td>0.0</td>\n",
       "      <td>1.0</td>\n",
       "      <td>2.0</td>\n",
       "      <td>2.0</td>\n",
       "      <td>5079580.0</td>\n",
       "    </tr>\n",
       "    <tr>\n",
       "      <th>5</th>\n",
       "      <td>2018-01-01 06:46:50</td>\n",
       "      <td>3</td>\n",
       "      <td>3</td>\n",
       "      <td>5079580</td>\n",
       "      <td>73</td>\n",
       "      <td>2</td>\n",
       "      <td>0.0</td>\n",
       "      <td>1.0</td>\n",
       "      <td>2.0</td>\n",
       "      <td>1.0</td>\n",
       "      <td>2.0</td>\n",
       "    </tr>\n",
       "    <tr>\n",
       "      <th>6</th>\n",
       "      <td>2018-01-01 07:28:20</td>\n",
       "      <td>4</td>\n",
       "      <td>2</td>\n",
       "      <td>2</td>\n",
       "      <td>168</td>\n",
       "      <td>1</td>\n",
       "      <td>0.0</td>\n",
       "      <td>1.0</td>\n",
       "      <td>1.0</td>\n",
       "      <td>1.0</td>\n",
       "      <td>4.0</td>\n",
       "    </tr>\n",
       "    <tr>\n",
       "      <th>7</th>\n",
       "      <td>2018-01-01 07:50:40</td>\n",
       "      <td>5</td>\n",
       "      <td>1</td>\n",
       "      <td>4</td>\n",
       "      <td>39</td>\n",
       "      <td>1</td>\n",
       "      <td>0.0</td>\n",
       "      <td>1.0</td>\n",
       "      <td>1.0</td>\n",
       "      <td>1.0</td>\n",
       "      <td>3.0</td>\n",
       "    </tr>\n",
       "    <tr>\n",
       "      <th>8</th>\n",
       "      <td>2018-01-01 07:56:50</td>\n",
       "      <td>6</td>\n",
       "      <td>1</td>\n",
       "      <td>3</td>\n",
       "      <td>27</td>\n",
       "      <td>1</td>\n",
       "      <td>0.0</td>\n",
       "      <td>1.0</td>\n",
       "      <td>2.0</td>\n",
       "      <td>2.0</td>\n",
       "      <td>5080089.0</td>\n",
       "    </tr>\n",
       "    <tr>\n",
       "      <th>9</th>\n",
       "      <td>2018-01-01 07:56:50</td>\n",
       "      <td>6</td>\n",
       "      <td>4</td>\n",
       "      <td>5080089</td>\n",
       "      <td>6</td>\n",
       "      <td>2</td>\n",
       "      <td>0.0</td>\n",
       "      <td>1.0</td>\n",
       "      <td>2.0</td>\n",
       "      <td>1.0</td>\n",
       "      <td>2.0</td>\n",
       "    </tr>\n",
       "    <tr>\n",
       "      <th>10</th>\n",
       "      <td>2018-01-01 08:28:40</td>\n",
       "      <td>7</td>\n",
       "      <td>3</td>\n",
       "      <td>2</td>\n",
       "      <td>9</td>\n",
       "      <td>1</td>\n",
       "      <td>0.0</td>\n",
       "      <td>1.0</td>\n",
       "      <td>1.0</td>\n",
       "      <td>1.0</td>\n",
       "      <td>5080089.0</td>\n",
       "    </tr>\n",
       "    <tr>\n",
       "      <th>11</th>\n",
       "      <td>2018-01-01 08:49:20</td>\n",
       "      <td>8</td>\n",
       "      <td>4</td>\n",
       "      <td>5080089</td>\n",
       "      <td>145</td>\n",
       "      <td>1</td>\n",
       "      <td>0.0</td>\n",
       "      <td>1.0</td>\n",
       "      <td>1.0</td>\n",
       "      <td>1.0</td>\n",
       "      <td>5079256.0</td>\n",
       "    </tr>\n",
       "    <tr>\n",
       "      <th>12</th>\n",
       "      <td>2018-01-01 08:52:00</td>\n",
       "      <td>9</td>\n",
       "      <td>8</td>\n",
       "      <td>5079256</td>\n",
       "      <td>58</td>\n",
       "      <td>1</td>\n",
       "      <td>0.0</td>\n",
       "      <td>1.0</td>\n",
       "      <td>5.0</td>\n",
       "      <td>2.0</td>\n",
       "      <td>5079256.0</td>\n",
       "    </tr>\n",
       "  </tbody>\n",
       "</table>\n",
       "</div>"
      ],
      "text/plain": [
       "              DateTime  Customer_ID  Sequence_Num  Store_ID  Dwell_Time  \\\n",
       "1  2018-01-01 06:00:30            1             0   5079483          56   \n",
       "2  2018-01-01 06:00:30            1             3   5163263         201   \n",
       "3  2018-01-01 06:04:50            2             0         3          40   \n",
       "4  2018-01-01 06:46:50            3             1   5152724          10   \n",
       "5  2018-01-01 06:46:50            3             3   5079580          73   \n",
       "6  2018-01-01 07:28:20            4             2         2         168   \n",
       "7  2018-01-01 07:50:40            5             1         4          39   \n",
       "8  2018-01-01 07:56:50            6             1         3          27   \n",
       "9  2018-01-01 07:56:50            6             4   5080089           6   \n",
       "10 2018-01-01 08:28:40            7             3         2           9   \n",
       "11 2018-01-01 08:49:20            8             4   5080089         145   \n",
       "12 2018-01-01 08:52:00            9             8   5079256          58   \n",
       "\n",
       "    Sequence_Num_New  Day  Month  freq  Next_Sequence  Next_Store  \n",
       "1                  1  0.0    1.0   2.0            2.0   5163263.0  \n",
       "2                  2  0.0    1.0   2.0            1.0         3.0  \n",
       "3                  1  0.0    1.0   1.0            1.0   5152724.0  \n",
       "4                  1  0.0    1.0   2.0            2.0   5079580.0  \n",
       "5                  2  0.0    1.0   2.0            1.0         2.0  \n",
       "6                  1  0.0    1.0   1.0            1.0         4.0  \n",
       "7                  1  0.0    1.0   1.0            1.0         3.0  \n",
       "8                  1  0.0    1.0   2.0            2.0   5080089.0  \n",
       "9                  2  0.0    1.0   2.0            1.0         2.0  \n",
       "10                 1  0.0    1.0   1.0            1.0   5080089.0  \n",
       "11                 1  0.0    1.0   1.0            1.0   5079256.0  \n",
       "12                 1  0.0    1.0   5.0            2.0   5079256.0  "
      ]
     },
     "execution_count": 224,
     "metadata": {
      "tags": []
     },
     "output_type": "execute_result"
    }
   ],
   "source": [
    "df_visit_dupes.sort_values(by=['DateTime','Customer_ID','Sequence_Num_New']).head(12)"
   ]
  },
  {
   "cell_type": "code",
   "execution_count": 225,
   "metadata": {
    "colab": {
     "base_uri": "https://localhost:8080/",
     "height": 195
    },
    "colab_type": "code",
    "id": "dzCS7VPiA176",
    "outputId": "47d6fbd7-7a34-4915-b7e0-53588f561cea"
   },
   "outputs": [
    {
     "data": {
      "text/html": [
       "<div>\n",
       "<style scoped>\n",
       "    .dataframe tbody tr th:only-of-type {\n",
       "        vertical-align: middle;\n",
       "    }\n",
       "\n",
       "    .dataframe tbody tr th {\n",
       "        vertical-align: top;\n",
       "    }\n",
       "\n",
       "    .dataframe thead th {\n",
       "        text-align: right;\n",
       "    }\n",
       "</style>\n",
       "<table border=\"1\" class=\"dataframe\">\n",
       "  <thead>\n",
       "    <tr style=\"text-align: right;\">\n",
       "      <th></th>\n",
       "      <th>DateTime</th>\n",
       "      <th>Customer_ID</th>\n",
       "      <th>Sequence_Num</th>\n",
       "      <th>Store_ID</th>\n",
       "      <th>Dwell_Time</th>\n",
       "      <th>Sequence_Num_New</th>\n",
       "      <th>Day</th>\n",
       "      <th>Month</th>\n",
       "      <th>freq</th>\n",
       "      <th>Next_Sequence</th>\n",
       "      <th>Next_Store</th>\n",
       "    </tr>\n",
       "  </thead>\n",
       "  <tbody>\n",
       "    <tr>\n",
       "      <th>1783542</th>\n",
       "      <td>2018-06-30 23:04:40</td>\n",
       "      <td>159748</td>\n",
       "      <td>9</td>\n",
       "      <td>5203456</td>\n",
       "      <td>10</td>\n",
       "      <td>32</td>\n",
       "      <td>5.0</td>\n",
       "      <td>6.0</td>\n",
       "      <td>3.0</td>\n",
       "      <td>7.0</td>\n",
       "      <td>9709631.0</td>\n",
       "    </tr>\n",
       "    <tr>\n",
       "      <th>1783543</th>\n",
       "      <td>2018-06-30 23:08:30</td>\n",
       "      <td>381731</td>\n",
       "      <td>2</td>\n",
       "      <td>9709631</td>\n",
       "      <td>17</td>\n",
       "      <td>7</td>\n",
       "      <td>5.0</td>\n",
       "      <td>6.0</td>\n",
       "      <td>1.0</td>\n",
       "      <td>16.0</td>\n",
       "      <td>5080089.0</td>\n",
       "    </tr>\n",
       "    <tr>\n",
       "      <th>1783544</th>\n",
       "      <td>2018-06-30 23:18:30</td>\n",
       "      <td>454772</td>\n",
       "      <td>7</td>\n",
       "      <td>5080089</td>\n",
       "      <td>6</td>\n",
       "      <td>16</td>\n",
       "      <td>5.0</td>\n",
       "      <td>6.0</td>\n",
       "      <td>1.0</td>\n",
       "      <td>3.0</td>\n",
       "      <td>5080089.0</td>\n",
       "    </tr>\n",
       "    <tr>\n",
       "      <th>1783545</th>\n",
       "      <td>2018-06-30 23:24:30</td>\n",
       "      <td>47673</td>\n",
       "      <td>4</td>\n",
       "      <td>5080089</td>\n",
       "      <td>31</td>\n",
       "      <td>3</td>\n",
       "      <td>5.0</td>\n",
       "      <td>6.0</td>\n",
       "      <td>1.0</td>\n",
       "      <td>7.0</td>\n",
       "      <td>9133379.0</td>\n",
       "    </tr>\n",
       "    <tr>\n",
       "      <th>1783546</th>\n",
       "      <td>2018-06-30 23:31:30</td>\n",
       "      <td>480890</td>\n",
       "      <td>3</td>\n",
       "      <td>9133379</td>\n",
       "      <td>6</td>\n",
       "      <td>7</td>\n",
       "      <td>5.0</td>\n",
       "      <td>6.0</td>\n",
       "      <td>1.0</td>\n",
       "      <td>NaN</td>\n",
       "      <td>NaN</td>\n",
       "    </tr>\n",
       "  </tbody>\n",
       "</table>\n",
       "</div>"
      ],
      "text/plain": [
       "                   DateTime  Customer_ID  Sequence_Num  Store_ID  Dwell_Time  \\\n",
       "1783542 2018-06-30 23:04:40       159748             9   5203456          10   \n",
       "1783543 2018-06-30 23:08:30       381731             2   9709631          17   \n",
       "1783544 2018-06-30 23:18:30       454772             7   5080089           6   \n",
       "1783545 2018-06-30 23:24:30        47673             4   5080089          31   \n",
       "1783546 2018-06-30 23:31:30       480890             3   9133379           6   \n",
       "\n",
       "         Sequence_Num_New  Day  Month  freq  Next_Sequence  Next_Store  \n",
       "1783542                32  5.0    6.0   3.0            7.0   9709631.0  \n",
       "1783543                 7  5.0    6.0   1.0           16.0   5080089.0  \n",
       "1783544                16  5.0    6.0   1.0            3.0   5080089.0  \n",
       "1783545                 3  5.0    6.0   1.0            7.0   9133379.0  \n",
       "1783546                 7  5.0    6.0   1.0            NaN         NaN  "
      ]
     },
     "execution_count": 225,
     "metadata": {
      "tags": []
     },
     "output_type": "execute_result"
    }
   ],
   "source": [
    "df_visit_dupes.tail()"
   ]
  },
  {
   "cell_type": "code",
   "execution_count": 0,
   "metadata": {
    "colab": {},
    "colab_type": "code",
    "id": "obfedX_WA78c"
   },
   "outputs": [],
   "source": [
    "df_visit_dupes.drop(index=1783546,axis=0,inplace=True)"
   ]
  },
  {
   "cell_type": "code",
   "execution_count": 0,
   "metadata": {
    "colab": {},
    "colab_type": "code",
    "id": "oySouOXKASwi"
   },
   "outputs": [],
   "source": [
    "df_visit_dupes['Next_Store']=df_visit_dupes['Next_Store'].astype(int)"
   ]
  },
  {
   "cell_type": "code",
   "execution_count": 0,
   "metadata": {
    "colab": {},
    "colab_type": "code",
    "id": "Wp2agQElxYL8"
   },
   "outputs": [],
   "source": [
    "df_visit_dupes['Target']= np.where(df_visit_dupes['Sequence_Num_New']>=df_visit_dupes['Next_Sequence'],0,df_visit_dupes['Next_Store'])\n",
    " "
   ]
  },
  {
   "cell_type": "code",
   "execution_count": 0,
   "metadata": {
    "colab": {},
    "colab_type": "code",
    "id": "zdW9lVX_F_0Q"
   },
   "outputs": [],
   "source": [
    "df_visit_dupes['Time'] = [datetime.time(d) for d in df_visit_dupes['DateTime']] "
   ]
  },
  {
   "cell_type": "code",
   "execution_count": 0,
   "metadata": {
    "colab": {},
    "colab_type": "code",
    "id": "G1YQlaoTF_mE"
   },
   "outputs": [],
   "source": [
    "df_visit_dupes = df_visit_dupes[df_visit_dupes['Time'] > time(10, 0, 0)]"
   ]
  },
  {
   "cell_type": "code",
   "execution_count": 0,
   "metadata": {
    "colab": {},
    "colab_type": "code",
    "id": "lSXB1TWvYCqv"
   },
   "outputs": [],
   "source": [
    "df_visit_dupes = df_visit_dupes[df_visit_dupes['Time'] < time(21,0,0) ]"
   ]
  },
  {
   "cell_type": "code",
   "execution_count": 0,
   "metadata": {
    "colab": {},
    "colab_type": "code",
    "id": "GDdxUjc4YCmT"
   },
   "outputs": [],
   "source": [
    "df_visit_dupes =  df_visit_dupes[df_visit_dupes['Dwell_Time'] < 200]"
   ]
  },
  {
   "cell_type": "code",
   "execution_count": 0,
   "metadata": {
    "colab": {},
    "colab_type": "code",
    "id": "uZguDIxHDKy5"
   },
   "outputs": [],
   "source": [
    "df_cat = pd.read_csv('/content/stores.csv')"
   ]
  },
  {
   "cell_type": "code",
   "execution_count": 0,
   "metadata": {
    "colab": {},
    "colab_type": "code",
    "id": "lI-5MfsqbPBj"
   },
   "outputs": [],
   "source": [
    "df_cat.drop(columns=['Category_name','Name','Slot'],axis=1,inplace=True)"
   ]
  },
  {
   "cell_type": "code",
   "execution_count": 0,
   "metadata": {
    "colab": {},
    "colab_type": "code",
    "id": "IrbWopMPbO_B"
   },
   "outputs": [],
   "source": [
    "df_cat.drop_duplicates(inplace=True)"
   ]
  },
  {
   "cell_type": "code",
   "execution_count": 236,
   "metadata": {
    "colab": {
     "base_uri": "https://localhost:8080/",
     "height": 47
    },
    "colab_type": "code",
    "id": "Bow6BDqpbzV5",
    "outputId": "e5e4c8b1-e7fb-4cfd-9d3f-92c8af234181"
   },
   "outputs": [
    {
     "data": {
      "text/html": [
       "<div>\n",
       "<style scoped>\n",
       "    .dataframe tbody tr th:only-of-type {\n",
       "        vertical-align: middle;\n",
       "    }\n",
       "\n",
       "    .dataframe tbody tr th {\n",
       "        vertical-align: top;\n",
       "    }\n",
       "\n",
       "    .dataframe thead th {\n",
       "        text-align: right;\n",
       "    }\n",
       "</style>\n",
       "<table border=\"1\" class=\"dataframe\">\n",
       "  <thead>\n",
       "    <tr style=\"text-align: right;\">\n",
       "      <th></th>\n",
       "      <th>Store_ID</th>\n",
       "      <th>Category_ID</th>\n",
       "    </tr>\n",
       "  </thead>\n",
       "  <tbody>\n",
       "  </tbody>\n",
       "</table>\n",
       "</div>"
      ],
      "text/plain": [
       "Empty DataFrame\n",
       "Columns: [Store_ID, Category_ID]\n",
       "Index: []"
      ]
     },
     "execution_count": 236,
     "metadata": {
      "tags": []
     },
     "output_type": "execute_result"
    }
   ],
   "source": [
    "df_cat[df_cat['Category_ID'].isna()]"
   ]
  },
  {
   "cell_type": "code",
   "execution_count": 0,
   "metadata": {
    "colab": {},
    "colab_type": "code",
    "id": "RzfHr7VJDKuK"
   },
   "outputs": [],
   "source": [
    "df_visit_dupes = df_visit_dupes.merge(df_cat,how='inner', on='Store_ID')"
   ]
  },
  {
   "cell_type": "code",
   "execution_count": 238,
   "metadata": {
    "colab": {
     "base_uri": "https://localhost:8080/",
     "height": 34
    },
    "colab_type": "code",
    "id": "3iL4LvDqDKsd",
    "outputId": "82f8b19f-f8d7-45d5-9b74-9b52e34356f0"
   },
   "outputs": [
    {
     "data": {
      "text/plain": [
       "Index(['Store_ID', 'Category_ID'], dtype='object')"
      ]
     },
     "execution_count": 238,
     "metadata": {
      "tags": []
     },
     "output_type": "execute_result"
    }
   ],
   "source": [
    "df_cat.columns"
   ]
  },
  {
   "cell_type": "code",
   "execution_count": 239,
   "metadata": {
    "colab": {
     "base_uri": "https://localhost:8080/",
     "height": 383
    },
    "colab_type": "code",
    "id": "Dua6bphzDKmd",
    "outputId": "414e9236-479e-412f-b97d-2342551d4ec4"
   },
   "outputs": [
    {
     "data": {
      "text/html": [
       "<div>\n",
       "<style scoped>\n",
       "    .dataframe tbody tr th:only-of-type {\n",
       "        vertical-align: middle;\n",
       "    }\n",
       "\n",
       "    .dataframe tbody tr th {\n",
       "        vertical-align: top;\n",
       "    }\n",
       "\n",
       "    .dataframe thead th {\n",
       "        text-align: right;\n",
       "    }\n",
       "</style>\n",
       "<table border=\"1\" class=\"dataframe\">\n",
       "  <thead>\n",
       "    <tr style=\"text-align: right;\">\n",
       "      <th></th>\n",
       "      <th>DateTime</th>\n",
       "      <th>Customer_ID</th>\n",
       "      <th>Sequence_Num</th>\n",
       "      <th>Store_ID</th>\n",
       "      <th>Dwell_Time</th>\n",
       "      <th>Sequence_Num_New</th>\n",
       "      <th>Day</th>\n",
       "      <th>Month</th>\n",
       "      <th>freq</th>\n",
       "      <th>Next_Sequence</th>\n",
       "      <th>Next_Store</th>\n",
       "      <th>Target</th>\n",
       "      <th>Time</th>\n",
       "      <th>Category_ID</th>\n",
       "    </tr>\n",
       "  </thead>\n",
       "  <tbody>\n",
       "    <tr>\n",
       "      <th>0</th>\n",
       "      <td>2018-01-01 10:03:50</td>\n",
       "      <td>26</td>\n",
       "      <td>3</td>\n",
       "      <td>9336555</td>\n",
       "      <td>35</td>\n",
       "      <td>1</td>\n",
       "      <td>0.0</td>\n",
       "      <td>1.0</td>\n",
       "      <td>2.0</td>\n",
       "      <td>2.0</td>\n",
       "      <td>5078501</td>\n",
       "      <td>5078501</td>\n",
       "      <td>10:03:50</td>\n",
       "      <td>14</td>\n",
       "    </tr>\n",
       "    <tr>\n",
       "      <th>1</th>\n",
       "      <td>2018-01-01 11:37:30</td>\n",
       "      <td>111</td>\n",
       "      <td>4</td>\n",
       "      <td>9336555</td>\n",
       "      <td>36</td>\n",
       "      <td>3</td>\n",
       "      <td>0.0</td>\n",
       "      <td>1.0</td>\n",
       "      <td>3.0</td>\n",
       "      <td>1.0</td>\n",
       "      <td>9467635</td>\n",
       "      <td>0</td>\n",
       "      <td>11:37:30</td>\n",
       "      <td>14</td>\n",
       "    </tr>\n",
       "    <tr>\n",
       "      <th>2</th>\n",
       "      <td>2018-01-01 12:34:30</td>\n",
       "      <td>218</td>\n",
       "      <td>6</td>\n",
       "      <td>9336555</td>\n",
       "      <td>55</td>\n",
       "      <td>1</td>\n",
       "      <td>0.0</td>\n",
       "      <td>1.0</td>\n",
       "      <td>1.0</td>\n",
       "      <td>1.0</td>\n",
       "      <td>9709631</td>\n",
       "      <td>0</td>\n",
       "      <td>12:34:30</td>\n",
       "      <td>14</td>\n",
       "    </tr>\n",
       "    <tr>\n",
       "      <th>3</th>\n",
       "      <td>2018-01-01 14:50:30</td>\n",
       "      <td>459</td>\n",
       "      <td>6</td>\n",
       "      <td>9336555</td>\n",
       "      <td>30</td>\n",
       "      <td>5</td>\n",
       "      <td>0.0</td>\n",
       "      <td>1.0</td>\n",
       "      <td>5.0</td>\n",
       "      <td>1.0</td>\n",
       "      <td>9399994</td>\n",
       "      <td>0</td>\n",
       "      <td>14:50:30</td>\n",
       "      <td>14</td>\n",
       "    </tr>\n",
       "    <tr>\n",
       "      <th>4</th>\n",
       "      <td>2018-01-01 17:22:30</td>\n",
       "      <td>737</td>\n",
       "      <td>6</td>\n",
       "      <td>9336555</td>\n",
       "      <td>30</td>\n",
       "      <td>1</td>\n",
       "      <td>0.0</td>\n",
       "      <td>1.0</td>\n",
       "      <td>4.0</td>\n",
       "      <td>2.0</td>\n",
       "      <td>7614638</td>\n",
       "      <td>7614638</td>\n",
       "      <td>17:22:30</td>\n",
       "      <td>14</td>\n",
       "    </tr>\n",
       "  </tbody>\n",
       "</table>\n",
       "</div>"
      ],
      "text/plain": [
       "             DateTime  Customer_ID  Sequence_Num  Store_ID  Dwell_Time  \\\n",
       "0 2018-01-01 10:03:50           26             3   9336555          35   \n",
       "1 2018-01-01 11:37:30          111             4   9336555          36   \n",
       "2 2018-01-01 12:34:30          218             6   9336555          55   \n",
       "3 2018-01-01 14:50:30          459             6   9336555          30   \n",
       "4 2018-01-01 17:22:30          737             6   9336555          30   \n",
       "\n",
       "   Sequence_Num_New  Day  Month  freq  Next_Sequence  Next_Store   Target  \\\n",
       "0                 1  0.0    1.0   2.0            2.0     5078501  5078501   \n",
       "1                 3  0.0    1.0   3.0            1.0     9467635        0   \n",
       "2                 1  0.0    1.0   1.0            1.0     9709631        0   \n",
       "3                 5  0.0    1.0   5.0            1.0     9399994        0   \n",
       "4                 1  0.0    1.0   4.0            2.0     7614638  7614638   \n",
       "\n",
       "       Time  Category_ID  \n",
       "0  10:03:50           14  \n",
       "1  11:37:30           14  \n",
       "2  12:34:30           14  \n",
       "3  14:50:30           14  \n",
       "4  17:22:30           14  "
      ]
     },
     "execution_count": 239,
     "metadata": {
      "tags": []
     },
     "output_type": "execute_result"
    }
   ],
   "source": [
    "df_visit_dupes.head()"
   ]
  },
  {
   "cell_type": "code",
   "execution_count": 0,
   "metadata": {
    "colab": {},
    "colab_type": "code",
    "id": "ikmbaLXqFRP8"
   },
   "outputs": [],
   "source": []
  },
  {
   "cell_type": "code",
   "execution_count": 0,
   "metadata": {
    "colab": {},
    "colab_type": "code",
    "id": "In3F0r5FFRN5"
   },
   "outputs": [],
   "source": []
  },
  {
   "cell_type": "code",
   "execution_count": 0,
   "metadata": {
    "colab": {},
    "colab_type": "code",
    "id": "labCNdPEFRK7"
   },
   "outputs": [],
   "source": []
  },
  {
   "cell_type": "code",
   "execution_count": 0,
   "metadata": {
    "colab": {},
    "colab_type": "code",
    "id": "bf3V1BtkFRIK"
   },
   "outputs": [],
   "source": []
  },
  {
   "cell_type": "code",
   "execution_count": 0,
   "metadata": {
    "colab": {},
    "colab_type": "code",
    "id": "-LvVVfGLIo36"
   },
   "outputs": [],
   "source": []
  },
  {
   "cell_type": "markdown",
   "metadata": {
    "colab_type": "text",
    "id": "KlDY-dY4IFx3"
   },
   "source": []
  },
  {
   "cell_type": "code",
   "execution_count": 0,
   "metadata": {
    "colab": {},
    "colab_type": "code",
    "id": "R0RaCwOpIooy"
   },
   "outputs": [],
   "source": []
  },
  {
   "cell_type": "code",
   "execution_count": 0,
   "metadata": {
    "colab": {},
    "colab_type": "code",
    "id": "ei5KKDgE4nzX"
   },
   "outputs": [],
   "source": [
    "df_visit_dupes_1 = df_visit_dupes.drop(columns=['DateTime','Sequence_Num','Next_Sequence','Next_Store'],axis=1)"
   ]
  },
  {
   "cell_type": "markdown",
   "metadata": {
    "colab_type": "text",
    "id": "z1ZE4wUtoboP"
   },
   "source": []
  },
  {
   "cell_type": "code",
   "execution_count": 0,
   "metadata": {
    "colab": {},
    "colab_type": "code",
    "id": "HCmHq-b24ndU"
   },
   "outputs": [],
   "source": [
    "df_visit_dupes.drop(columns='freq',axis=1,inplace=True)"
   ]
  },
  {
   "cell_type": "code",
   "execution_count": 59,
   "metadata": {
    "colab": {
     "base_uri": "https://localhost:8080/",
     "height": 491
    },
    "colab_type": "code",
    "id": "dcyyx_jaON5_",
    "outputId": "6cd25983-69b5-434d-d44d-c806d7d16a50"
   },
   "outputs": [
    {
     "data": {
      "text/html": [
       "<div>\n",
       "<style scoped>\n",
       "    .dataframe tbody tr th:only-of-type {\n",
       "        vertical-align: middle;\n",
       "    }\n",
       "\n",
       "    .dataframe tbody tr th {\n",
       "        vertical-align: top;\n",
       "    }\n",
       "\n",
       "    .dataframe thead th {\n",
       "        text-align: right;\n",
       "    }\n",
       "</style>\n",
       "<table border=\"1\" class=\"dataframe\">\n",
       "  <thead>\n",
       "    <tr style=\"text-align: right;\">\n",
       "      <th></th>\n",
       "      <th>Customer_ID</th>\n",
       "      <th>Store_ID</th>\n",
       "      <th>Dwell_Time</th>\n",
       "      <th>Sequence_Num_New</th>\n",
       "      <th>Day</th>\n",
       "      <th>Month</th>\n",
       "      <th>Target</th>\n",
       "      <th>Time</th>\n",
       "      <th>Category_ID</th>\n",
       "    </tr>\n",
       "  </thead>\n",
       "  <tbody>\n",
       "    <tr>\n",
       "      <th>0</th>\n",
       "      <td>26</td>\n",
       "      <td>9336555</td>\n",
       "      <td>35</td>\n",
       "      <td>1</td>\n",
       "      <td>0.0</td>\n",
       "      <td>1.0</td>\n",
       "      <td>5078501</td>\n",
       "      <td>10:03:50</td>\n",
       "      <td>14</td>\n",
       "    </tr>\n",
       "    <tr>\n",
       "      <th>1</th>\n",
       "      <td>111</td>\n",
       "      <td>9336555</td>\n",
       "      <td>36</td>\n",
       "      <td>3</td>\n",
       "      <td>0.0</td>\n",
       "      <td>1.0</td>\n",
       "      <td>0</td>\n",
       "      <td>11:37:30</td>\n",
       "      <td>14</td>\n",
       "    </tr>\n",
       "    <tr>\n",
       "      <th>2</th>\n",
       "      <td>218</td>\n",
       "      <td>9336555</td>\n",
       "      <td>55</td>\n",
       "      <td>1</td>\n",
       "      <td>0.0</td>\n",
       "      <td>1.0</td>\n",
       "      <td>0</td>\n",
       "      <td>12:34:30</td>\n",
       "      <td>14</td>\n",
       "    </tr>\n",
       "    <tr>\n",
       "      <th>3</th>\n",
       "      <td>459</td>\n",
       "      <td>9336555</td>\n",
       "      <td>30</td>\n",
       "      <td>5</td>\n",
       "      <td>0.0</td>\n",
       "      <td>1.0</td>\n",
       "      <td>0</td>\n",
       "      <td>14:50:30</td>\n",
       "      <td>14</td>\n",
       "    </tr>\n",
       "    <tr>\n",
       "      <th>4</th>\n",
       "      <td>737</td>\n",
       "      <td>9336555</td>\n",
       "      <td>30</td>\n",
       "      <td>1</td>\n",
       "      <td>0.0</td>\n",
       "      <td>1.0</td>\n",
       "      <td>7614638</td>\n",
       "      <td>17:22:30</td>\n",
       "      <td>14</td>\n",
       "    </tr>\n",
       "    <tr>\n",
       "      <th>5</th>\n",
       "      <td>742</td>\n",
       "      <td>9336555</td>\n",
       "      <td>42</td>\n",
       "      <td>2</td>\n",
       "      <td>0.0</td>\n",
       "      <td>1.0</td>\n",
       "      <td>5079221</td>\n",
       "      <td>17:24:10</td>\n",
       "      <td>14</td>\n",
       "    </tr>\n",
       "    <tr>\n",
       "      <th>6</th>\n",
       "      <td>1377</td>\n",
       "      <td>9336555</td>\n",
       "      <td>33</td>\n",
       "      <td>2</td>\n",
       "      <td>1.0</td>\n",
       "      <td>1.0</td>\n",
       "      <td>5079256</td>\n",
       "      <td>10:11:10</td>\n",
       "      <td>14</td>\n",
       "    </tr>\n",
       "    <tr>\n",
       "      <th>7</th>\n",
       "      <td>1534</td>\n",
       "      <td>9336555</td>\n",
       "      <td>48</td>\n",
       "      <td>2</td>\n",
       "      <td>1.0</td>\n",
       "      <td>1.0</td>\n",
       "      <td>9608400</td>\n",
       "      <td>10:31:30</td>\n",
       "      <td>14</td>\n",
       "    </tr>\n",
       "    <tr>\n",
       "      <th>8</th>\n",
       "      <td>1566</td>\n",
       "      <td>9336555</td>\n",
       "      <td>37</td>\n",
       "      <td>1</td>\n",
       "      <td>1.0</td>\n",
       "      <td>1.0</td>\n",
       "      <td>9709631</td>\n",
       "      <td>10:34:50</td>\n",
       "      <td>14</td>\n",
       "    </tr>\n",
       "    <tr>\n",
       "      <th>9</th>\n",
       "      <td>1651</td>\n",
       "      <td>9336555</td>\n",
       "      <td>55</td>\n",
       "      <td>1</td>\n",
       "      <td>1.0</td>\n",
       "      <td>1.0</td>\n",
       "      <td>0</td>\n",
       "      <td>10:47:20</td>\n",
       "      <td>14</td>\n",
       "    </tr>\n",
       "    <tr>\n",
       "      <th>10</th>\n",
       "      <td>1709</td>\n",
       "      <td>9336555</td>\n",
       "      <td>49</td>\n",
       "      <td>3</td>\n",
       "      <td>1.0</td>\n",
       "      <td>1.0</td>\n",
       "      <td>0</td>\n",
       "      <td>10:52:40</td>\n",
       "      <td>14</td>\n",
       "    </tr>\n",
       "    <tr>\n",
       "      <th>11</th>\n",
       "      <td>1710</td>\n",
       "      <td>9336555</td>\n",
       "      <td>59</td>\n",
       "      <td>1</td>\n",
       "      <td>1.0</td>\n",
       "      <td>1.0</td>\n",
       "      <td>0</td>\n",
       "      <td>10:52:50</td>\n",
       "      <td>14</td>\n",
       "    </tr>\n",
       "    <tr>\n",
       "      <th>12</th>\n",
       "      <td>1901</td>\n",
       "      <td>9336555</td>\n",
       "      <td>30</td>\n",
       "      <td>1</td>\n",
       "      <td>1.0</td>\n",
       "      <td>1.0</td>\n",
       "      <td>9467539</td>\n",
       "      <td>11:12:50</td>\n",
       "      <td>14</td>\n",
       "    </tr>\n",
       "    <tr>\n",
       "      <th>13</th>\n",
       "      <td>1925</td>\n",
       "      <td>9336555</td>\n",
       "      <td>45</td>\n",
       "      <td>1</td>\n",
       "      <td>1.0</td>\n",
       "      <td>1.0</td>\n",
       "      <td>0</td>\n",
       "      <td>11:15:30</td>\n",
       "      <td>14</td>\n",
       "    </tr>\n",
       "    <tr>\n",
       "      <th>14</th>\n",
       "      <td>1985</td>\n",
       "      <td>9336555</td>\n",
       "      <td>30</td>\n",
       "      <td>2</td>\n",
       "      <td>1.0</td>\n",
       "      <td>1.0</td>\n",
       "      <td>5203456</td>\n",
       "      <td>11:22:30</td>\n",
       "      <td>14</td>\n",
       "    </tr>\n",
       "  </tbody>\n",
       "</table>\n",
       "</div>"
      ],
      "text/plain": [
       "    Customer_ID  Store_ID  Dwell_Time  Sequence_Num_New  Day  Month   Target  \\\n",
       "0            26   9336555          35                 1  0.0    1.0  5078501   \n",
       "1           111   9336555          36                 3  0.0    1.0        0   \n",
       "2           218   9336555          55                 1  0.0    1.0        0   \n",
       "3           459   9336555          30                 5  0.0    1.0        0   \n",
       "4           737   9336555          30                 1  0.0    1.0  7614638   \n",
       "5           742   9336555          42                 2  0.0    1.0  5079221   \n",
       "6          1377   9336555          33                 2  1.0    1.0  5079256   \n",
       "7          1534   9336555          48                 2  1.0    1.0  9608400   \n",
       "8          1566   9336555          37                 1  1.0    1.0  9709631   \n",
       "9          1651   9336555          55                 1  1.0    1.0        0   \n",
       "10         1709   9336555          49                 3  1.0    1.0        0   \n",
       "11         1710   9336555          59                 1  1.0    1.0        0   \n",
       "12         1901   9336555          30                 1  1.0    1.0  9467539   \n",
       "13         1925   9336555          45                 1  1.0    1.0        0   \n",
       "14         1985   9336555          30                 2  1.0    1.0  5203456   \n",
       "\n",
       "        Time  Category_ID  \n",
       "0   10:03:50           14  \n",
       "1   11:37:30           14  \n",
       "2   12:34:30           14  \n",
       "3   14:50:30           14  \n",
       "4   17:22:30           14  \n",
       "5   17:24:10           14  \n",
       "6   10:11:10           14  \n",
       "7   10:31:30           14  \n",
       "8   10:34:50           14  \n",
       "9   10:47:20           14  \n",
       "10  10:52:40           14  \n",
       "11  10:52:50           14  \n",
       "12  11:12:50           14  \n",
       "13  11:15:30           14  \n",
       "14  11:22:30           14  "
      ]
     },
     "execution_count": 59,
     "metadata": {
      "tags": []
     },
     "output_type": "execute_result"
    }
   ],
   "source": [
    "df_visit_dupes.head(15)"
   ]
  },
  {
   "cell_type": "code",
   "execution_count": 0,
   "metadata": {
    "colab": {},
    "colab_type": "code",
    "id": "yU0mqyuGhBGD"
   },
   "outputs": [],
   "source": [
    "df_visit_1 = df_visit_dupes.drop(columns='Time',axis=1)"
   ]
  },
  {
   "cell_type": "code",
   "execution_count": 0,
   "metadata": {
    "colab": {},
    "colab_type": "code",
    "id": "IeFWemV2_9-t"
   },
   "outputs": [],
   "source": []
  },
  {
   "cell_type": "code",
   "execution_count": 0,
   "metadata": {
    "colab": {},
    "colab_type": "code",
    "id": "4z6YjmvI_9s9"
   },
   "outputs": [],
   "source": []
  },
  {
   "cell_type": "code",
   "execution_count": 0,
   "metadata": {
    "colab": {},
    "colab_type": "code",
    "id": "TKEDChpa_9rD"
   },
   "outputs": [],
   "source": []
  },
  {
   "cell_type": "markdown",
   "metadata": {
    "colab_type": "text",
    "id": "drTuIrJj4TIc"
   },
   "source": [
    "Now trying if cutomer leaves"
   ]
  },
  {
   "cell_type": "code",
   "execution_count": 0,
   "metadata": {
    "colab": {},
    "colab_type": "code",
    "id": "iBciMCuS4Rdg"
   },
   "outputs": [],
   "source": [
    "df_exit = df_visit_dupes.copy()"
   ]
  },
  {
   "cell_type": "code",
   "execution_count": 62,
   "metadata": {
    "colab": {
     "base_uri": "https://localhost:8080/",
     "height": 402
    },
    "colab_type": "code",
    "id": "cVF4-qhoVxrE",
    "outputId": "85c4bbc6-6c3b-4d4a-da26-db4966d4a8a0"
   },
   "outputs": [
    {
     "data": {
      "text/html": [
       "<div>\n",
       "<style scoped>\n",
       "    .dataframe tbody tr th:only-of-type {\n",
       "        vertical-align: middle;\n",
       "    }\n",
       "\n",
       "    .dataframe tbody tr th {\n",
       "        vertical-align: top;\n",
       "    }\n",
       "\n",
       "    .dataframe thead th {\n",
       "        text-align: right;\n",
       "    }\n",
       "</style>\n",
       "<table border=\"1\" class=\"dataframe\">\n",
       "  <thead>\n",
       "    <tr style=\"text-align: right;\">\n",
       "      <th></th>\n",
       "      <th>Customer_ID</th>\n",
       "      <th>Store_ID</th>\n",
       "      <th>Dwell_Time</th>\n",
       "      <th>Sequence_Num_New</th>\n",
       "      <th>Day</th>\n",
       "      <th>Month</th>\n",
       "      <th>Target</th>\n",
       "      <th>Category_ID</th>\n",
       "    </tr>\n",
       "  </thead>\n",
       "  <tbody>\n",
       "    <tr>\n",
       "      <th>0</th>\n",
       "      <td>26</td>\n",
       "      <td>9336555</td>\n",
       "      <td>35</td>\n",
       "      <td>1</td>\n",
       "      <td>0.0</td>\n",
       "      <td>1.0</td>\n",
       "      <td>5078501</td>\n",
       "      <td>14</td>\n",
       "    </tr>\n",
       "    <tr>\n",
       "      <th>1</th>\n",
       "      <td>111</td>\n",
       "      <td>9336555</td>\n",
       "      <td>36</td>\n",
       "      <td>3</td>\n",
       "      <td>0.0</td>\n",
       "      <td>1.0</td>\n",
       "      <td>0</td>\n",
       "      <td>14</td>\n",
       "    </tr>\n",
       "    <tr>\n",
       "      <th>2</th>\n",
       "      <td>218</td>\n",
       "      <td>9336555</td>\n",
       "      <td>55</td>\n",
       "      <td>1</td>\n",
       "      <td>0.0</td>\n",
       "      <td>1.0</td>\n",
       "      <td>0</td>\n",
       "      <td>14</td>\n",
       "    </tr>\n",
       "    <tr>\n",
       "      <th>3</th>\n",
       "      <td>459</td>\n",
       "      <td>9336555</td>\n",
       "      <td>30</td>\n",
       "      <td>5</td>\n",
       "      <td>0.0</td>\n",
       "      <td>1.0</td>\n",
       "      <td>0</td>\n",
       "      <td>14</td>\n",
       "    </tr>\n",
       "    <tr>\n",
       "      <th>4</th>\n",
       "      <td>737</td>\n",
       "      <td>9336555</td>\n",
       "      <td>30</td>\n",
       "      <td>1</td>\n",
       "      <td>0.0</td>\n",
       "      <td>1.0</td>\n",
       "      <td>7614638</td>\n",
       "      <td>14</td>\n",
       "    </tr>\n",
       "    <tr>\n",
       "      <th>...</th>\n",
       "      <td>...</td>\n",
       "      <td>...</td>\n",
       "      <td>...</td>\n",
       "      <td>...</td>\n",
       "      <td>...</td>\n",
       "      <td>...</td>\n",
       "      <td>...</td>\n",
       "      <td>...</td>\n",
       "    </tr>\n",
       "    <tr>\n",
       "      <th>1684860</th>\n",
       "      <td>471311</td>\n",
       "      <td>5691963</td>\n",
       "      <td>7</td>\n",
       "      <td>1</td>\n",
       "      <td>6.0</td>\n",
       "      <td>6.0</td>\n",
       "      <td>5163351</td>\n",
       "      <td>20</td>\n",
       "    </tr>\n",
       "    <tr>\n",
       "      <th>1684861</th>\n",
       "      <td>204643</td>\n",
       "      <td>5691963</td>\n",
       "      <td>8</td>\n",
       "      <td>7</td>\n",
       "      <td>2.0</td>\n",
       "      <td>6.0</td>\n",
       "      <td>7965999</td>\n",
       "      <td>20</td>\n",
       "    </tr>\n",
       "    <tr>\n",
       "      <th>1684862</th>\n",
       "      <td>509377</td>\n",
       "      <td>5691963</td>\n",
       "      <td>8</td>\n",
       "      <td>1</td>\n",
       "      <td>3.0</td>\n",
       "      <td>6.0</td>\n",
       "      <td>7614638</td>\n",
       "      <td>20</td>\n",
       "    </tr>\n",
       "    <tr>\n",
       "      <th>1684863</th>\n",
       "      <td>485293</td>\n",
       "      <td>5691963</td>\n",
       "      <td>17</td>\n",
       "      <td>4</td>\n",
       "      <td>3.0</td>\n",
       "      <td>6.0</td>\n",
       "      <td>0</td>\n",
       "      <td>20</td>\n",
       "    </tr>\n",
       "    <tr>\n",
       "      <th>1684864</th>\n",
       "      <td>16398</td>\n",
       "      <td>5691963</td>\n",
       "      <td>35</td>\n",
       "      <td>56</td>\n",
       "      <td>5.0</td>\n",
       "      <td>6.0</td>\n",
       "      <td>0</td>\n",
       "      <td>20</td>\n",
       "    </tr>\n",
       "  </tbody>\n",
       "</table>\n",
       "<p>1684865 rows × 8 columns</p>\n",
       "</div>"
      ],
      "text/plain": [
       "         Customer_ID  Store_ID  Dwell_Time  Sequence_Num_New  Day  Month  \\\n",
       "0                 26   9336555          35                 1  0.0    1.0   \n",
       "1                111   9336555          36                 3  0.0    1.0   \n",
       "2                218   9336555          55                 1  0.0    1.0   \n",
       "3                459   9336555          30                 5  0.0    1.0   \n",
       "4                737   9336555          30                 1  0.0    1.0   \n",
       "...              ...       ...         ...               ...  ...    ...   \n",
       "1684860       471311   5691963           7                 1  6.0    6.0   \n",
       "1684861       204643   5691963           8                 7  2.0    6.0   \n",
       "1684862       509377   5691963           8                 1  3.0    6.0   \n",
       "1684863       485293   5691963          17                 4  3.0    6.0   \n",
       "1684864        16398   5691963          35                56  5.0    6.0   \n",
       "\n",
       "          Target  Category_ID  \n",
       "0        5078501           14  \n",
       "1              0           14  \n",
       "2              0           14  \n",
       "3              0           14  \n",
       "4        7614638           14  \n",
       "...          ...          ...  \n",
       "1684860  5163351           20  \n",
       "1684861  7965999           20  \n",
       "1684862  7614638           20  \n",
       "1684863        0           20  \n",
       "1684864        0           20  \n",
       "\n",
       "[1684865 rows x 8 columns]"
      ]
     },
     "execution_count": 62,
     "metadata": {
      "tags": []
     },
     "output_type": "execute_result"
    }
   ],
   "source": [
    "df_exit"
   ]
  },
  {
   "cell_type": "code",
   "execution_count": 63,
   "metadata": {
    "colab": {
     "base_uri": "https://localhost:8080/",
     "height": 47
    },
    "colab_type": "code",
    "id": "w--udaFcVxpd",
    "outputId": "74795cf1-4501-48c4-e506-92470e3e2a83"
   },
   "outputs": [
    {
     "data": {
      "text/html": [
       "<div>\n",
       "<style scoped>\n",
       "    .dataframe tbody tr th:only-of-type {\n",
       "        vertical-align: middle;\n",
       "    }\n",
       "\n",
       "    .dataframe tbody tr th {\n",
       "        vertical-align: top;\n",
       "    }\n",
       "\n",
       "    .dataframe thead th {\n",
       "        text-align: right;\n",
       "    }\n",
       "</style>\n",
       "<table border=\"1\" class=\"dataframe\">\n",
       "  <thead>\n",
       "    <tr style=\"text-align: right;\">\n",
       "      <th></th>\n",
       "      <th>Customer_ID</th>\n",
       "      <th>Store_ID</th>\n",
       "      <th>Dwell_Time</th>\n",
       "      <th>Sequence_Num_New</th>\n",
       "      <th>Day</th>\n",
       "      <th>Month</th>\n",
       "      <th>Target</th>\n",
       "      <th>Category_ID</th>\n",
       "    </tr>\n",
       "  </thead>\n",
       "  <tbody>\n",
       "  </tbody>\n",
       "</table>\n",
       "</div>"
      ],
      "text/plain": [
       "Empty DataFrame\n",
       "Columns: [Customer_ID, Store_ID, Dwell_Time, Sequence_Num_New, Day, Month, Target, Category_ID]\n",
       "Index: []"
      ]
     },
     "execution_count": 63,
     "metadata": {
      "tags": []
     },
     "output_type": "execute_result"
    }
   ],
   "source": [
    "df_exit[df_exit.duplicated(subset=None, keep='first')]"
   ]
  },
  {
   "cell_type": "code",
   "execution_count": 0,
   "metadata": {
    "colab": {},
    "colab_type": "code",
    "id": "VkehBv1GVxk5"
   },
   "outputs": [],
   "source": []
  },
  {
   "cell_type": "code",
   "execution_count": 0,
   "metadata": {
    "colab": {},
    "colab_type": "code",
    "id": "2ttG3ZP5VxjC"
   },
   "outputs": [],
   "source": []
  },
  {
   "cell_type": "code",
   "execution_count": 0,
   "metadata": {
    "colab": {},
    "colab_type": "code",
    "id": "KB6M3OcSVtLq"
   },
   "outputs": [],
   "source": []
  },
  {
   "cell_type": "code",
   "execution_count": 0,
   "metadata": {
    "colab": {},
    "colab_type": "code",
    "id": "ZWkkF29w4RZB"
   },
   "outputs": [],
   "source": [
    "df_exit['New_Target'] = np.where(df_exit['Target']==0,0,1)"
   ]
  },
  {
   "cell_type": "code",
   "execution_count": 0,
   "metadata": {
    "colab": {},
    "colab_type": "code",
    "id": "Aywuuq4Q4RW9"
   },
   "outputs": [],
   "source": [
    "df_exit.drop(columns='Target',axis=1,inplace=True)\n"
   ]
  },
  {
   "cell_type": "code",
   "execution_count": 66,
   "metadata": {
    "colab": {
     "base_uri": "https://localhost:8080/",
     "height": 388
    },
    "colab_type": "code",
    "id": "8tW9ey3146qs",
    "outputId": "c2b05db5-ab1b-4595-925b-91d520ced653"
   },
   "outputs": [
    {
     "data": {
      "text/plain": [
       "<seaborn.axisgrid.FacetGrid at 0x7f0b14b0da20>"
      ]
     },
     "execution_count": 66,
     "metadata": {
      "tags": []
     },
     "output_type": "execute_result"
    },
    {
     "data": {
      "image/png": "[encoded data removed]",
      "text/plain": [
       "<Figure size 720x360 with 1 Axes>"
      ]
     },
     "metadata": {
      "tags": []
     },
     "output_type": "display_data"
    }
   ],
   "source": [
    "ax = sns.catplot(x=\"New_Target\", kind=\"count\", palette=\"ch:.25\", data=df_exit,height=5, aspect=2)\n",
    "ax.set_xticklabels( rotation=45, horizontalalignment='right')"
   ]
  },
  {
   "cell_type": "code",
   "execution_count": 0,
   "metadata": {
    "colab": {},
    "colab_type": "code",
    "id": "PJTvncvs50F5"
   },
   "outputs": [],
   "source": [
    "split = StratifiedShuffleSplit(n_splits=2, test_size=0.2, random_state=1)\n",
    "\n",
    "for train_index, test_index in split.split(df_exit, df_exit['New_Target']):\n",
    "  strat_train_exit = df_exit.iloc[train_index]\n",
    "  strat_test_exit = df_exit.iloc[test_index]"
   ]
  },
  {
   "cell_type": "code",
   "execution_count": 68,
   "metadata": {
    "colab": {
     "base_uri": "https://localhost:8080/",
     "height": 67
    },
    "colab_type": "code",
    "id": "rMIan3lGqyYZ",
    "outputId": "44e6256d-9656-4e9e-ac62-4ac33018835a"
   },
   "outputs": [
    {
     "data": {
      "text/plain": [
       "1    501823\n",
       "0    501823\n",
       "Name: New_Target, dtype: int64"
      ]
     },
     "execution_count": 68,
     "metadata": {
      "tags": []
     },
     "output_type": "execute_result"
    }
   ],
   "source": [
    "from sklearn.utils import resample\n",
    "\n",
    "df_majority = strat_train_exit[strat_train_exit['New_Target']==1]\n",
    "df_minority = strat_train_exit[strat_train_exit['New_Target']==0]\n",
    "\n",
    "\n",
    "df_majority_downsampled = resample(df_majority, \n",
    "                                 replace=False,     \n",
    "                                 n_samples=len(df_minority),   \n",
    "                                 random_state=42) \n",
    "\n",
    "df_downsampled = pd.concat([df_majority_downsampled, df_minority])\n",
    "\n",
    "# Display new class counts\n",
    "df_downsampled.New_Target.value_counts()"
   ]
  },
  {
   "cell_type": "code",
   "execution_count": 69,
   "metadata": {
    "colab": {
     "base_uri": "https://localhost:8080/",
     "height": 50
    },
    "colab_type": "code",
    "id": "QhNziEKEtkNZ",
    "outputId": "a0097790-32b8-4ffe-e395-e12d6b7019cb"
   },
   "outputs": [
    {
     "data": {
      "text/plain": [
       "1    846069\n",
       "Name: New_Target, dtype: int64"
      ]
     },
     "execution_count": 69,
     "metadata": {
      "tags": []
     },
     "output_type": "execute_result"
    }
   ],
   "source": [
    "df_majority.New_Target.value_counts()"
   ]
  },
  {
   "cell_type": "code",
   "execution_count": 70,
   "metadata": {
    "colab": {
     "base_uri": "https://localhost:8080/",
     "height": 388
    },
    "colab_type": "code",
    "id": "LDNXXipz6Lf8",
    "outputId": "25446828-5f1e-447f-d2c4-2348f8530a08"
   },
   "outputs": [
    {
     "data": {
      "text/plain": [
       "<seaborn.axisgrid.FacetGrid at 0x7f0b150a8710>"
      ]
     },
     "execution_count": 70,
     "metadata": {
      "tags": []
     },
     "output_type": "execute_result"
    },
    {
     "data": {
      "image/png": "[encoded data removed]",
      "text/plain": [
       "<Figure size 720x360 with 1 Axes>"
      ]
     },
     "metadata": {
      "tags": []
     },
     "output_type": "display_data"
    }
   ],
   "source": [
    "ax = sns.catplot(x=\"New_Target\", kind=\"count\", palette=\"ch:.25\", data=df_downsampled,height=5, aspect=2)\n",
    "ax.set_xticklabels( rotation=45, horizontalalignment='right')"
   ]
  },
  {
   "cell_type": "code",
   "execution_count": 71,
   "metadata": {
    "colab": {
     "base_uri": "https://localhost:8080/",
     "height": 388
    },
    "colab_type": "code",
    "id": "Gw95-Cal6ai_",
    "outputId": "255206dc-90d3-40bf-f128-4f9b3797fcf5"
   },
   "outputs": [
    {
     "data": {
      "text/plain": [
       "<seaborn.axisgrid.FacetGrid at 0x7f0b13c2ce48>"
      ]
     },
     "execution_count": 71,
     "metadata": {
      "tags": []
     },
     "output_type": "execute_result"
    },
    {
     "data": {
      "image/png": "[encoded data removed]",
      "text/plain": [
       "<Figure size 720x360 with 1 Axes>"
      ]
     },
     "metadata": {
      "tags": []
     },
     "output_type": "display_data"
    }
   ],
   "source": [
    "ax = sns.catplot(x=\"New_Target\", kind=\"count\", palette=\"ch:.25\", data=strat_test_exit,height=5, aspect=2)\n",
    "ax.set_xticklabels( rotation=45, horizontalalignment='right')"
   ]
  },
  {
   "cell_type": "code",
   "execution_count": 0,
   "metadata": {
    "colab": {},
    "colab_type": "code",
    "id": "e0WsB0rihphv"
   },
   "outputs": [],
   "source": [
    "df_downsampled = shuffle(df_downsampled)"
   ]
  },
  {
   "cell_type": "code",
   "execution_count": 73,
   "metadata": {
    "colab": {
     "base_uri": "https://localhost:8080/",
     "height": 402
    },
    "colab_type": "code",
    "id": "bjG6NECTkkiE",
    "outputId": "5b5b23dd-ee16-48fc-91e4-95bcb91b72e8"
   },
   "outputs": [
    {
     "data": {
      "text/html": [
       "<div>\n",
       "<style scoped>\n",
       "    .dataframe tbody tr th:only-of-type {\n",
       "        vertical-align: middle;\n",
       "    }\n",
       "\n",
       "    .dataframe tbody tr th {\n",
       "        vertical-align: top;\n",
       "    }\n",
       "\n",
       "    .dataframe thead th {\n",
       "        text-align: right;\n",
       "    }\n",
       "</style>\n",
       "<table border=\"1\" class=\"dataframe\">\n",
       "  <thead>\n",
       "    <tr style=\"text-align: right;\">\n",
       "      <th></th>\n",
       "      <th>Customer_ID</th>\n",
       "      <th>Store_ID</th>\n",
       "      <th>Dwell_Time</th>\n",
       "      <th>Sequence_Num_New</th>\n",
       "      <th>Day</th>\n",
       "      <th>Month</th>\n",
       "      <th>Category_ID</th>\n",
       "      <th>New_Target</th>\n",
       "    </tr>\n",
       "  </thead>\n",
       "  <tbody>\n",
       "    <tr>\n",
       "      <th>1362137</th>\n",
       "      <td>429922</td>\n",
       "      <td>5080038</td>\n",
       "      <td>15</td>\n",
       "      <td>1</td>\n",
       "      <td>0.0</td>\n",
       "      <td>5.0</td>\n",
       "      <td>10</td>\n",
       "      <td>1</td>\n",
       "    </tr>\n",
       "    <tr>\n",
       "      <th>738864</th>\n",
       "      <td>167400</td>\n",
       "      <td>9648532</td>\n",
       "      <td>6</td>\n",
       "      <td>1</td>\n",
       "      <td>6.0</td>\n",
       "      <td>2.0</td>\n",
       "      <td>20</td>\n",
       "      <td>1</td>\n",
       "    </tr>\n",
       "    <tr>\n",
       "      <th>89033</th>\n",
       "      <td>304853</td>\n",
       "      <td>2</td>\n",
       "      <td>21</td>\n",
       "      <td>3</td>\n",
       "      <td>6.0</td>\n",
       "      <td>3.0</td>\n",
       "      <td>8</td>\n",
       "      <td>0</td>\n",
       "    </tr>\n",
       "    <tr>\n",
       "      <th>1105455</th>\n",
       "      <td>502612</td>\n",
       "      <td>5080505</td>\n",
       "      <td>23</td>\n",
       "      <td>2</td>\n",
       "      <td>6.0</td>\n",
       "      <td>6.0</td>\n",
       "      <td>18</td>\n",
       "      <td>0</td>\n",
       "    </tr>\n",
       "    <tr>\n",
       "      <th>878529</th>\n",
       "      <td>159590</td>\n",
       "      <td>9598563</td>\n",
       "      <td>104</td>\n",
       "      <td>1</td>\n",
       "      <td>4.0</td>\n",
       "      <td>2.0</td>\n",
       "      <td>5</td>\n",
       "      <td>0</td>\n",
       "    </tr>\n",
       "    <tr>\n",
       "      <th>...</th>\n",
       "      <td>...</td>\n",
       "      <td>...</td>\n",
       "      <td>...</td>\n",
       "      <td>...</td>\n",
       "      <td>...</td>\n",
       "      <td>...</td>\n",
       "      <td>...</td>\n",
       "      <td>...</td>\n",
       "    </tr>\n",
       "    <tr>\n",
       "      <th>374031</th>\n",
       "      <td>58557</td>\n",
       "      <td>3</td>\n",
       "      <td>24</td>\n",
       "      <td>1</td>\n",
       "      <td>4.0</td>\n",
       "      <td>1.0</td>\n",
       "      <td>8</td>\n",
       "      <td>0</td>\n",
       "    </tr>\n",
       "    <tr>\n",
       "      <th>277812</th>\n",
       "      <td>522786</td>\n",
       "      <td>5080089</td>\n",
       "      <td>11</td>\n",
       "      <td>3</td>\n",
       "      <td>1.0</td>\n",
       "      <td>6.0</td>\n",
       "      <td>8</td>\n",
       "      <td>0</td>\n",
       "    </tr>\n",
       "    <tr>\n",
       "      <th>67295</th>\n",
       "      <td>189145</td>\n",
       "      <td>2</td>\n",
       "      <td>56</td>\n",
       "      <td>3</td>\n",
       "      <td>5.0</td>\n",
       "      <td>3.0</td>\n",
       "      <td>8</td>\n",
       "      <td>1</td>\n",
       "    </tr>\n",
       "    <tr>\n",
       "      <th>1343494</th>\n",
       "      <td>84693</td>\n",
       "      <td>5163221</td>\n",
       "      <td>13</td>\n",
       "      <td>1</td>\n",
       "      <td>3.0</td>\n",
       "      <td>1.0</td>\n",
       "      <td>8</td>\n",
       "      <td>1</td>\n",
       "    </tr>\n",
       "    <tr>\n",
       "      <th>280856</th>\n",
       "      <td>533975</td>\n",
       "      <td>5080089</td>\n",
       "      <td>10</td>\n",
       "      <td>1</td>\n",
       "      <td>5.0</td>\n",
       "      <td>6.0</td>\n",
       "      <td>8</td>\n",
       "      <td>0</td>\n",
       "    </tr>\n",
       "  </tbody>\n",
       "</table>\n",
       "<p>1003646 rows × 8 columns</p>\n",
       "</div>"
      ],
      "text/plain": [
       "         Customer_ID  Store_ID  Dwell_Time  Sequence_Num_New  Day  Month  \\\n",
       "1362137       429922   5080038          15                 1  0.0    5.0   \n",
       "738864        167400   9648532           6                 1  6.0    2.0   \n",
       "89033         304853         2          21                 3  6.0    3.0   \n",
       "1105455       502612   5080505          23                 2  6.0    6.0   \n",
       "878529        159590   9598563         104                 1  4.0    2.0   \n",
       "...              ...       ...         ...               ...  ...    ...   \n",
       "374031         58557         3          24                 1  4.0    1.0   \n",
       "277812        522786   5080089          11                 3  1.0    6.0   \n",
       "67295         189145         2          56                 3  5.0    3.0   \n",
       "1343494        84693   5163221          13                 1  3.0    1.0   \n",
       "280856        533975   5080089          10                 1  5.0    6.0   \n",
       "\n",
       "         Category_ID  New_Target  \n",
       "1362137           10           1  \n",
       "738864            20           1  \n",
       "89033              8           0  \n",
       "1105455           18           0  \n",
       "878529             5           0  \n",
       "...              ...         ...  \n",
       "374031             8           0  \n",
       "277812             8           0  \n",
       "67295              8           1  \n",
       "1343494            8           1  \n",
       "280856             8           0  \n",
       "\n",
       "[1003646 rows x 8 columns]"
      ]
     },
     "execution_count": 73,
     "metadata": {
      "tags": []
     },
     "output_type": "execute_result"
    }
   ],
   "source": [
    "df_downsampled"
   ]
  },
  {
   "cell_type": "code",
   "execution_count": 0,
   "metadata": {
    "colab": {},
    "colab_type": "code",
    "id": "jwW0SzQk6gA-"
   },
   "outputs": [],
   "source": [
    "X_train_exit = df_downsampled[['Day','Month','Dwell_Time','Store_ID','Sequence_Num_New','Customer_ID','Category_ID']]"
   ]
  },
  {
   "cell_type": "code",
   "execution_count": 75,
   "metadata": {
    "colab": {
     "base_uri": "https://localhost:8080/",
     "height": 402
    },
    "colab_type": "code",
    "id": "ZwzdwPz_66Ss",
    "outputId": "22d05d47-7102-4069-f68b-a283e36e1e6c"
   },
   "outputs": [
    {
     "data": {
      "text/html": [
       "<div>\n",
       "<style scoped>\n",
       "    .dataframe tbody tr th:only-of-type {\n",
       "        vertical-align: middle;\n",
       "    }\n",
       "\n",
       "    .dataframe tbody tr th {\n",
       "        vertical-align: top;\n",
       "    }\n",
       "\n",
       "    .dataframe thead th {\n",
       "        text-align: right;\n",
       "    }\n",
       "</style>\n",
       "<table border=\"1\" class=\"dataframe\">\n",
       "  <thead>\n",
       "    <tr style=\"text-align: right;\">\n",
       "      <th></th>\n",
       "      <th>Day</th>\n",
       "      <th>Month</th>\n",
       "      <th>Dwell_Time</th>\n",
       "      <th>Store_ID</th>\n",
       "      <th>Sequence_Num_New</th>\n",
       "      <th>Customer_ID</th>\n",
       "      <th>Category_ID</th>\n",
       "    </tr>\n",
       "  </thead>\n",
       "  <tbody>\n",
       "    <tr>\n",
       "      <th>1362137</th>\n",
       "      <td>0.0</td>\n",
       "      <td>5.0</td>\n",
       "      <td>15</td>\n",
       "      <td>5080038</td>\n",
       "      <td>1</td>\n",
       "      <td>429922</td>\n",
       "      <td>10</td>\n",
       "    </tr>\n",
       "    <tr>\n",
       "      <th>738864</th>\n",
       "      <td>6.0</td>\n",
       "      <td>2.0</td>\n",
       "      <td>6</td>\n",
       "      <td>9648532</td>\n",
       "      <td>1</td>\n",
       "      <td>167400</td>\n",
       "      <td>20</td>\n",
       "    </tr>\n",
       "    <tr>\n",
       "      <th>89033</th>\n",
       "      <td>6.0</td>\n",
       "      <td>3.0</td>\n",
       "      <td>21</td>\n",
       "      <td>2</td>\n",
       "      <td>3</td>\n",
       "      <td>304853</td>\n",
       "      <td>8</td>\n",
       "    </tr>\n",
       "    <tr>\n",
       "      <th>1105455</th>\n",
       "      <td>6.0</td>\n",
       "      <td>6.0</td>\n",
       "      <td>23</td>\n",
       "      <td>5080505</td>\n",
       "      <td>2</td>\n",
       "      <td>502612</td>\n",
       "      <td>18</td>\n",
       "    </tr>\n",
       "    <tr>\n",
       "      <th>878529</th>\n",
       "      <td>4.0</td>\n",
       "      <td>2.0</td>\n",
       "      <td>104</td>\n",
       "      <td>9598563</td>\n",
       "      <td>1</td>\n",
       "      <td>159590</td>\n",
       "      <td>5</td>\n",
       "    </tr>\n",
       "    <tr>\n",
       "      <th>...</th>\n",
       "      <td>...</td>\n",
       "      <td>...</td>\n",
       "      <td>...</td>\n",
       "      <td>...</td>\n",
       "      <td>...</td>\n",
       "      <td>...</td>\n",
       "      <td>...</td>\n",
       "    </tr>\n",
       "    <tr>\n",
       "      <th>374031</th>\n",
       "      <td>4.0</td>\n",
       "      <td>1.0</td>\n",
       "      <td>24</td>\n",
       "      <td>3</td>\n",
       "      <td>1</td>\n",
       "      <td>58557</td>\n",
       "      <td>8</td>\n",
       "    </tr>\n",
       "    <tr>\n",
       "      <th>277812</th>\n",
       "      <td>1.0</td>\n",
       "      <td>6.0</td>\n",
       "      <td>11</td>\n",
       "      <td>5080089</td>\n",
       "      <td>3</td>\n",
       "      <td>522786</td>\n",
       "      <td>8</td>\n",
       "    </tr>\n",
       "    <tr>\n",
       "      <th>67295</th>\n",
       "      <td>5.0</td>\n",
       "      <td>3.0</td>\n",
       "      <td>56</td>\n",
       "      <td>2</td>\n",
       "      <td>3</td>\n",
       "      <td>189145</td>\n",
       "      <td>8</td>\n",
       "    </tr>\n",
       "    <tr>\n",
       "      <th>1343494</th>\n",
       "      <td>3.0</td>\n",
       "      <td>1.0</td>\n",
       "      <td>13</td>\n",
       "      <td>5163221</td>\n",
       "      <td>1</td>\n",
       "      <td>84693</td>\n",
       "      <td>8</td>\n",
       "    </tr>\n",
       "    <tr>\n",
       "      <th>280856</th>\n",
       "      <td>5.0</td>\n",
       "      <td>6.0</td>\n",
       "      <td>10</td>\n",
       "      <td>5080089</td>\n",
       "      <td>1</td>\n",
       "      <td>533975</td>\n",
       "      <td>8</td>\n",
       "    </tr>\n",
       "  </tbody>\n",
       "</table>\n",
       "<p>1003646 rows × 7 columns</p>\n",
       "</div>"
      ],
      "text/plain": [
       "         Day  Month  Dwell_Time  Store_ID  Sequence_Num_New  Customer_ID  \\\n",
       "1362137  0.0    5.0          15   5080038                 1       429922   \n",
       "738864   6.0    2.0           6   9648532                 1       167400   \n",
       "89033    6.0    3.0          21         2                 3       304853   \n",
       "1105455  6.0    6.0          23   5080505                 2       502612   \n",
       "878529   4.0    2.0         104   9598563                 1       159590   \n",
       "...      ...    ...         ...       ...               ...          ...   \n",
       "374031   4.0    1.0          24         3                 1        58557   \n",
       "277812   1.0    6.0          11   5080089                 3       522786   \n",
       "67295    5.0    3.0          56         2                 3       189145   \n",
       "1343494  3.0    1.0          13   5163221                 1        84693   \n",
       "280856   5.0    6.0          10   5080089                 1       533975   \n",
       "\n",
       "         Category_ID  \n",
       "1362137           10  \n",
       "738864            20  \n",
       "89033              8  \n",
       "1105455           18  \n",
       "878529             5  \n",
       "...              ...  \n",
       "374031             8  \n",
       "277812             8  \n",
       "67295              8  \n",
       "1343494            8  \n",
       "280856             8  \n",
       "\n",
       "[1003646 rows x 7 columns]"
      ]
     },
     "execution_count": 75,
     "metadata": {
      "tags": []
     },
     "output_type": "execute_result"
    }
   ],
   "source": [
    "X_train_exit"
   ]
  },
  {
   "cell_type": "code",
   "execution_count": 0,
   "metadata": {
    "colab": {},
    "colab_type": "code",
    "id": "YAD-kDan6rMM"
   },
   "outputs": [],
   "source": [
    "y_train_exit = df_downsampled[['New_Target']]"
   ]
  },
  {
   "cell_type": "code",
   "execution_count": 0,
   "metadata": {
    "colab": {},
    "colab_type": "code",
    "id": "sw26knKg6ylC"
   },
   "outputs": [],
   "source": [
    "X_test_exit = strat_test_exit[['Day','Month','Dwell_Time','Store_ID','Sequence_Num_New','Customer_ID','Category_ID'\t]]"
   ]
  },
  {
   "cell_type": "code",
   "execution_count": 0,
   "metadata": {
    "colab": {},
    "colab_type": "code",
    "id": "Wxe9fj3067hq"
   },
   "outputs": [],
   "source": [
    "y_test_exit = strat_test_exit[['New_Target']]"
   ]
  },
  {
   "cell_type": "code",
   "execution_count": 79,
   "metadata": {
    "colab": {
     "base_uri": "https://localhost:8080/",
     "height": 374
    },
    "colab_type": "code",
    "id": "SGahCx1y7B4A",
    "outputId": "732af736-26f3-4777-f67b-634b24e5d118"
   },
   "outputs": [
    {
     "name": "stderr",
     "output_type": "stream",
     "text": [
      "/usr/local/lib/python3.6/dist-packages/ipykernel_launcher.py:2: DataConversionWarning: A column-vector y was passed when a 1d array was expected. Please change the shape of y to (n_samples,), for example using ravel().\n",
      "  \n"
     ]
    },
    {
     "ename": "KeyboardInterrupt",
     "evalue": "ignored",
     "output_type": "error",
     "traceback": [
      "\u001b[0;31m---------------------------------------------------------------------------\u001b[0m",
      "\u001b[0;31mKeyboardInterrupt\u001b[0m                         Traceback (most recent call last)",
      "\u001b[0;32m<ipython-input-79-fe531134f56c>\u001b[0m in \u001b[0;36m<module>\u001b[0;34m()\u001b[0m\n\u001b[1;32m      1\u001b[0m \u001b[0mrnd_clf\u001b[0m \u001b[0;34m=\u001b[0m \u001b[0mRandomForestClassifier\u001b[0m\u001b[0;34m(\u001b[0m\u001b[0mn_estimators\u001b[0m\u001b[0;34m=\u001b[0m\u001b[0;36m200\u001b[0m\u001b[0;34m,\u001b[0m \u001b[0mmax_depth\u001b[0m\u001b[0;34m=\u001b[0m\u001b[0;36m20\u001b[0m\u001b[0;34m,\u001b[0m\u001b[0mn_jobs\u001b[0m\u001b[0;34m=\u001b[0m\u001b[0;34m-\u001b[0m\u001b[0;36m1\u001b[0m\u001b[0;34m)\u001b[0m\u001b[0;34m\u001b[0m\u001b[0;34m\u001b[0m\u001b[0m\n\u001b[0;32m----> 2\u001b[0;31m \u001b[0mrnd_clf\u001b[0m\u001b[0;34m.\u001b[0m\u001b[0mfit\u001b[0m\u001b[0;34m(\u001b[0m\u001b[0mX_train_exit\u001b[0m\u001b[0;34m,\u001b[0m\u001b[0my_train_exit\u001b[0m\u001b[0;34m)\u001b[0m\u001b[0;34m\u001b[0m\u001b[0;34m\u001b[0m\u001b[0m\n\u001b[0m",
      "\u001b[0;32m/usr/local/lib/python3.6/dist-packages/sklearn/ensemble/forest.py\u001b[0m in \u001b[0;36mfit\u001b[0;34m(self, X, y, sample_weight)\u001b[0m\n\u001b[1;32m    328\u001b[0m                     \u001b[0mt\u001b[0m\u001b[0;34m,\u001b[0m \u001b[0mself\u001b[0m\u001b[0;34m,\u001b[0m \u001b[0mX\u001b[0m\u001b[0;34m,\u001b[0m \u001b[0my\u001b[0m\u001b[0;34m,\u001b[0m \u001b[0msample_weight\u001b[0m\u001b[0;34m,\u001b[0m \u001b[0mi\u001b[0m\u001b[0;34m,\u001b[0m \u001b[0mlen\u001b[0m\u001b[0;34m(\u001b[0m\u001b[0mtrees\u001b[0m\u001b[0;34m)\u001b[0m\u001b[0;34m,\u001b[0m\u001b[0;34m\u001b[0m\u001b[0;34m\u001b[0m\u001b[0m\n\u001b[1;32m    329\u001b[0m                     verbose=self.verbose, class_weight=self.class_weight)\n\u001b[0;32m--> 330\u001b[0;31m                 for i, t in enumerate(trees))\n\u001b[0m\u001b[1;32m    331\u001b[0m \u001b[0;34m\u001b[0m\u001b[0m\n\u001b[1;32m    332\u001b[0m             \u001b[0;31m# Collect newly grown trees\u001b[0m\u001b[0;34m\u001b[0m\u001b[0;34m\u001b[0m\u001b[0;34m\u001b[0m\u001b[0m\n",
      "\u001b[0;32m/usr/local/lib/python3.6/dist-packages/joblib/parallel.py\u001b[0m in \u001b[0;36m__call__\u001b[0;34m(self, iterable)\u001b[0m\n\u001b[1;32m   1014\u001b[0m \u001b[0;34m\u001b[0m\u001b[0m\n\u001b[1;32m   1015\u001b[0m             \u001b[0;32mwith\u001b[0m \u001b[0mself\u001b[0m\u001b[0;34m.\u001b[0m\u001b[0m_backend\u001b[0m\u001b[0;34m.\u001b[0m\u001b[0mretrieval_context\u001b[0m\u001b[0;34m(\u001b[0m\u001b[0;34m)\u001b[0m\u001b[0;34m:\u001b[0m\u001b[0;34m\u001b[0m\u001b[0;34m\u001b[0m\u001b[0m\n\u001b[0;32m-> 1016\u001b[0;31m                 \u001b[0mself\u001b[0m\u001b[0;34m.\u001b[0m\u001b[0mretrieve\u001b[0m\u001b[0;34m(\u001b[0m\u001b[0;34m)\u001b[0m\u001b[0;34m\u001b[0m\u001b[0;34m\u001b[0m\u001b[0m\n\u001b[0m\u001b[1;32m   1017\u001b[0m             \u001b[0;31m# Make sure that we get a last message telling us we are done\u001b[0m\u001b[0;34m\u001b[0m\u001b[0;34m\u001b[0m\u001b[0;34m\u001b[0m\u001b[0m\n\u001b[1;32m   1018\u001b[0m             \u001b[0melapsed_time\u001b[0m \u001b[0;34m=\u001b[0m \u001b[0mtime\u001b[0m\u001b[0;34m.\u001b[0m\u001b[0mtime\u001b[0m\u001b[0;34m(\u001b[0m\u001b[0;34m)\u001b[0m \u001b[0;34m-\u001b[0m \u001b[0mself\u001b[0m\u001b[0;34m.\u001b[0m\u001b[0m_start_time\u001b[0m\u001b[0;34m\u001b[0m\u001b[0;34m\u001b[0m\u001b[0m\n",
      "\u001b[0;32m/usr/local/lib/python3.6/dist-packages/joblib/parallel.py\u001b[0m in \u001b[0;36mretrieve\u001b[0;34m(self)\u001b[0m\n\u001b[1;32m    906\u001b[0m             \u001b[0;32mtry\u001b[0m\u001b[0;34m:\u001b[0m\u001b[0;34m\u001b[0m\u001b[0;34m\u001b[0m\u001b[0m\n\u001b[1;32m    907\u001b[0m                 \u001b[0;32mif\u001b[0m \u001b[0mgetattr\u001b[0m\u001b[0;34m(\u001b[0m\u001b[0mself\u001b[0m\u001b[0;34m.\u001b[0m\u001b[0m_backend\u001b[0m\u001b[0;34m,\u001b[0m \u001b[0;34m'supports_timeout'\u001b[0m\u001b[0;34m,\u001b[0m \u001b[0;32mFalse\u001b[0m\u001b[0;34m)\u001b[0m\u001b[0;34m:\u001b[0m\u001b[0;34m\u001b[0m\u001b[0;34m\u001b[0m\u001b[0m\n\u001b[0;32m--> 908\u001b[0;31m                     \u001b[0mself\u001b[0m\u001b[0;34m.\u001b[0m\u001b[0m_output\u001b[0m\u001b[0;34m.\u001b[0m\u001b[0mextend\u001b[0m\u001b[0;34m(\u001b[0m\u001b[0mjob\u001b[0m\u001b[0;34m.\u001b[0m\u001b[0mget\u001b[0m\u001b[0;34m(\u001b[0m\u001b[0mtimeout\u001b[0m\u001b[0;34m=\u001b[0m\u001b[0mself\u001b[0m\u001b[0;34m.\u001b[0m\u001b[0mtimeout\u001b[0m\u001b[0;34m)\u001b[0m\u001b[0;34m)\u001b[0m\u001b[0;34m\u001b[0m\u001b[0;34m\u001b[0m\u001b[0m\n\u001b[0m\u001b[1;32m    909\u001b[0m                 \u001b[0;32melse\u001b[0m\u001b[0;34m:\u001b[0m\u001b[0;34m\u001b[0m\u001b[0;34m\u001b[0m\u001b[0m\n\u001b[1;32m    910\u001b[0m                     \u001b[0mself\u001b[0m\u001b[0;34m.\u001b[0m\u001b[0m_output\u001b[0m\u001b[0;34m.\u001b[0m\u001b[0mextend\u001b[0m\u001b[0;34m(\u001b[0m\u001b[0mjob\u001b[0m\u001b[0;34m.\u001b[0m\u001b[0mget\u001b[0m\u001b[0;34m(\u001b[0m\u001b[0;34m)\u001b[0m\u001b[0;34m)\u001b[0m\u001b[0;34m\u001b[0m\u001b[0;34m\u001b[0m\u001b[0m\n",
      "\u001b[0;32m/usr/lib/python3.6/multiprocessing/pool.py\u001b[0m in \u001b[0;36mget\u001b[0;34m(self, timeout)\u001b[0m\n\u001b[1;32m    636\u001b[0m \u001b[0;34m\u001b[0m\u001b[0m\n\u001b[1;32m    637\u001b[0m     \u001b[0;32mdef\u001b[0m \u001b[0mget\u001b[0m\u001b[0;34m(\u001b[0m\u001b[0mself\u001b[0m\u001b[0;34m,\u001b[0m \u001b[0mtimeout\u001b[0m\u001b[0;34m=\u001b[0m\u001b[0;32mNone\u001b[0m\u001b[0;34m)\u001b[0m\u001b[0;34m:\u001b[0m\u001b[0;34m\u001b[0m\u001b[0;34m\u001b[0m\u001b[0m\n\u001b[0;32m--> 638\u001b[0;31m         \u001b[0mself\u001b[0m\u001b[0;34m.\u001b[0m\u001b[0mwait\u001b[0m\u001b[0;34m(\u001b[0m\u001b[0mtimeout\u001b[0m\u001b[0;34m)\u001b[0m\u001b[0;34m\u001b[0m\u001b[0;34m\u001b[0m\u001b[0m\n\u001b[0m\u001b[1;32m    639\u001b[0m         \u001b[0;32mif\u001b[0m \u001b[0;32mnot\u001b[0m \u001b[0mself\u001b[0m\u001b[0;34m.\u001b[0m\u001b[0mready\u001b[0m\u001b[0;34m(\u001b[0m\u001b[0;34m)\u001b[0m\u001b[0;34m:\u001b[0m\u001b[0;34m\u001b[0m\u001b[0;34m\u001b[0m\u001b[0m\n\u001b[1;32m    640\u001b[0m             \u001b[0;32mraise\u001b[0m \u001b[0mTimeoutError\u001b[0m\u001b[0;34m\u001b[0m\u001b[0;34m\u001b[0m\u001b[0m\n",
      "\u001b[0;32m/usr/lib/python3.6/multiprocessing/pool.py\u001b[0m in \u001b[0;36mwait\u001b[0;34m(self, timeout)\u001b[0m\n\u001b[1;32m    633\u001b[0m \u001b[0;34m\u001b[0m\u001b[0m\n\u001b[1;32m    634\u001b[0m     \u001b[0;32mdef\u001b[0m \u001b[0mwait\u001b[0m\u001b[0;34m(\u001b[0m\u001b[0mself\u001b[0m\u001b[0;34m,\u001b[0m \u001b[0mtimeout\u001b[0m\u001b[0;34m=\u001b[0m\u001b[0;32mNone\u001b[0m\u001b[0;34m)\u001b[0m\u001b[0;34m:\u001b[0m\u001b[0;34m\u001b[0m\u001b[0;34m\u001b[0m\u001b[0m\n\u001b[0;32m--> 635\u001b[0;31m         \u001b[0mself\u001b[0m\u001b[0;34m.\u001b[0m\u001b[0m_event\u001b[0m\u001b[0;34m.\u001b[0m\u001b[0mwait\u001b[0m\u001b[0;34m(\u001b[0m\u001b[0mtimeout\u001b[0m\u001b[0;34m)\u001b[0m\u001b[0;34m\u001b[0m\u001b[0;34m\u001b[0m\u001b[0m\n\u001b[0m\u001b[1;32m    636\u001b[0m \u001b[0;34m\u001b[0m\u001b[0m\n\u001b[1;32m    637\u001b[0m     \u001b[0;32mdef\u001b[0m \u001b[0mget\u001b[0m\u001b[0;34m(\u001b[0m\u001b[0mself\u001b[0m\u001b[0;34m,\u001b[0m \u001b[0mtimeout\u001b[0m\u001b[0;34m=\u001b[0m\u001b[0;32mNone\u001b[0m\u001b[0;34m)\u001b[0m\u001b[0;34m:\u001b[0m\u001b[0;34m\u001b[0m\u001b[0;34m\u001b[0m\u001b[0m\n",
      "\u001b[0;32m/usr/lib/python3.6/threading.py\u001b[0m in \u001b[0;36mwait\u001b[0;34m(self, timeout)\u001b[0m\n\u001b[1;32m    549\u001b[0m             \u001b[0msignaled\u001b[0m \u001b[0;34m=\u001b[0m \u001b[0mself\u001b[0m\u001b[0;34m.\u001b[0m\u001b[0m_flag\u001b[0m\u001b[0;34m\u001b[0m\u001b[0;34m\u001b[0m\u001b[0m\n\u001b[1;32m    550\u001b[0m             \u001b[0;32mif\u001b[0m \u001b[0;32mnot\u001b[0m \u001b[0msignaled\u001b[0m\u001b[0;34m:\u001b[0m\u001b[0;34m\u001b[0m\u001b[0;34m\u001b[0m\u001b[0m\n\u001b[0;32m--> 551\u001b[0;31m                 \u001b[0msignaled\u001b[0m \u001b[0;34m=\u001b[0m \u001b[0mself\u001b[0m\u001b[0;34m.\u001b[0m\u001b[0m_cond\u001b[0m\u001b[0;34m.\u001b[0m\u001b[0mwait\u001b[0m\u001b[0;34m(\u001b[0m\u001b[0mtimeout\u001b[0m\u001b[0;34m)\u001b[0m\u001b[0;34m\u001b[0m\u001b[0;34m\u001b[0m\u001b[0m\n\u001b[0m\u001b[1;32m    552\u001b[0m             \u001b[0;32mreturn\u001b[0m \u001b[0msignaled\u001b[0m\u001b[0;34m\u001b[0m\u001b[0;34m\u001b[0m\u001b[0m\n\u001b[1;32m    553\u001b[0m \u001b[0;34m\u001b[0m\u001b[0m\n",
      "\u001b[0;32m/usr/lib/python3.6/threading.py\u001b[0m in \u001b[0;36mwait\u001b[0;34m(self, timeout)\u001b[0m\n\u001b[1;32m    293\u001b[0m         \u001b[0;32mtry\u001b[0m\u001b[0;34m:\u001b[0m    \u001b[0;31m# restore state no matter what (e.g., KeyboardInterrupt)\u001b[0m\u001b[0;34m\u001b[0m\u001b[0;34m\u001b[0m\u001b[0m\n\u001b[1;32m    294\u001b[0m             \u001b[0;32mif\u001b[0m \u001b[0mtimeout\u001b[0m \u001b[0;32mis\u001b[0m \u001b[0;32mNone\u001b[0m\u001b[0;34m:\u001b[0m\u001b[0;34m\u001b[0m\u001b[0;34m\u001b[0m\u001b[0m\n\u001b[0;32m--> 295\u001b[0;31m                 \u001b[0mwaiter\u001b[0m\u001b[0;34m.\u001b[0m\u001b[0macquire\u001b[0m\u001b[0;34m(\u001b[0m\u001b[0;34m)\u001b[0m\u001b[0;34m\u001b[0m\u001b[0;34m\u001b[0m\u001b[0m\n\u001b[0m\u001b[1;32m    296\u001b[0m                 \u001b[0mgotit\u001b[0m \u001b[0;34m=\u001b[0m \u001b[0;32mTrue\u001b[0m\u001b[0;34m\u001b[0m\u001b[0;34m\u001b[0m\u001b[0m\n\u001b[1;32m    297\u001b[0m             \u001b[0;32melse\u001b[0m\u001b[0;34m:\u001b[0m\u001b[0;34m\u001b[0m\u001b[0;34m\u001b[0m\u001b[0m\n",
      "\u001b[0;31mKeyboardInterrupt\u001b[0m: "
     ]
    }
   ],
   "source": [
    "rnd_clf = RandomForestClassifier(n_estimators=200, max_depth=20,n_jobs=-1)\n",
    "rnd_clf.fit(X_train_exit,y_train_exit)"
   ]
  },
  {
   "cell_type": "code",
   "execution_count": 80,
   "metadata": {
    "colab": {
     "base_uri": "https://localhost:8080/",
     "height": 370
    },
    "colab_type": "code",
    "id": "rsLPxmIC7tl7",
    "outputId": "0c5f4986-f2ff-454d-d0b1-a59ddd3ab995"
   },
   "outputs": [
    {
     "ename": "NotFittedError",
     "evalue": "ignored",
     "output_type": "error",
     "traceback": [
      "\u001b[0;31m---------------------------------------------------------------------------\u001b[0m",
      "\u001b[0;31mNotFittedError\u001b[0m                            Traceback (most recent call last)",
      "\u001b[0;32m<ipython-input-80-7ede190d66eb>\u001b[0m in \u001b[0;36m<module>\u001b[0;34m()\u001b[0m\n\u001b[1;32m      1\u001b[0m \u001b[0;34m\u001b[0m\u001b[0m\n\u001b[0;32m----> 2\u001b[0;31m \u001b[0mscore\u001b[0m \u001b[0;34m=\u001b[0m \u001b[0mrnd_clf\u001b[0m\u001b[0;34m.\u001b[0m\u001b[0mscore\u001b[0m\u001b[0;34m(\u001b[0m\u001b[0mX_train_exit\u001b[0m\u001b[0;34m,\u001b[0m \u001b[0my_train_exit\u001b[0m\u001b[0;34m)\u001b[0m\u001b[0;34m\u001b[0m\u001b[0;34m\u001b[0m\u001b[0m\n\u001b[0m\u001b[1;32m      3\u001b[0m \u001b[0mscore2\u001b[0m \u001b[0;34m=\u001b[0m \u001b[0mrnd_clf\u001b[0m\u001b[0;34m.\u001b[0m\u001b[0mscore\u001b[0m\u001b[0;34m(\u001b[0m\u001b[0mX_test_exit\u001b[0m\u001b[0;34m,\u001b[0m \u001b[0my_test_exit\u001b[0m\u001b[0;34m)\u001b[0m\u001b[0;34m\u001b[0m\u001b[0;34m\u001b[0m\u001b[0m\n\u001b[1;32m      4\u001b[0m \u001b[0;34m\u001b[0m\u001b[0m\n\u001b[1;32m      5\u001b[0m \u001b[0mprint\u001b[0m\u001b[0;34m(\u001b[0m\u001b[0;34m\"Training set accuracy: \"\u001b[0m\u001b[0;34m,\u001b[0m \u001b[0;34m'%.3f'\u001b[0m\u001b[0;34m%\u001b[0m\u001b[0;34m(\u001b[0m\u001b[0mscore\u001b[0m\u001b[0;34m)\u001b[0m\u001b[0;34m)\u001b[0m\u001b[0;34m\u001b[0m\u001b[0;34m\u001b[0m\u001b[0m\n",
      "\u001b[0;32m/usr/local/lib/python3.6/dist-packages/sklearn/base.py\u001b[0m in \u001b[0;36mscore\u001b[0;34m(self, X, y, sample_weight)\u001b[0m\n\u001b[1;32m    355\u001b[0m         \"\"\"\n\u001b[1;32m    356\u001b[0m         \u001b[0;32mfrom\u001b[0m \u001b[0;34m.\u001b[0m\u001b[0mmetrics\u001b[0m \u001b[0;32mimport\u001b[0m \u001b[0maccuracy_score\u001b[0m\u001b[0;34m\u001b[0m\u001b[0;34m\u001b[0m\u001b[0m\n\u001b[0;32m--> 357\u001b[0;31m         \u001b[0;32mreturn\u001b[0m \u001b[0maccuracy_score\u001b[0m\u001b[0;34m(\u001b[0m\u001b[0my\u001b[0m\u001b[0;34m,\u001b[0m \u001b[0mself\u001b[0m\u001b[0;34m.\u001b[0m\u001b[0mpredict\u001b[0m\u001b[0;34m(\u001b[0m\u001b[0mX\u001b[0m\u001b[0;34m)\u001b[0m\u001b[0;34m,\u001b[0m \u001b[0msample_weight\u001b[0m\u001b[0;34m=\u001b[0m\u001b[0msample_weight\u001b[0m\u001b[0;34m)\u001b[0m\u001b[0;34m\u001b[0m\u001b[0;34m\u001b[0m\u001b[0m\n\u001b[0m\u001b[1;32m    358\u001b[0m \u001b[0;34m\u001b[0m\u001b[0m\n\u001b[1;32m    359\u001b[0m \u001b[0;34m\u001b[0m\u001b[0m\n",
      "\u001b[0;32m/usr/local/lib/python3.6/dist-packages/sklearn/ensemble/forest.py\u001b[0m in \u001b[0;36mpredict\u001b[0;34m(self, X)\u001b[0m\n\u001b[1;32m    543\u001b[0m             \u001b[0mThe\u001b[0m \u001b[0mpredicted\u001b[0m \u001b[0mclasses\u001b[0m\u001b[0;34m.\u001b[0m\u001b[0;34m\u001b[0m\u001b[0;34m\u001b[0m\u001b[0m\n\u001b[1;32m    544\u001b[0m         \"\"\"\n\u001b[0;32m--> 545\u001b[0;31m         \u001b[0mproba\u001b[0m \u001b[0;34m=\u001b[0m \u001b[0mself\u001b[0m\u001b[0;34m.\u001b[0m\u001b[0mpredict_proba\u001b[0m\u001b[0;34m(\u001b[0m\u001b[0mX\u001b[0m\u001b[0;34m)\u001b[0m\u001b[0;34m\u001b[0m\u001b[0;34m\u001b[0m\u001b[0m\n\u001b[0m\u001b[1;32m    546\u001b[0m \u001b[0;34m\u001b[0m\u001b[0m\n\u001b[1;32m    547\u001b[0m         \u001b[0;32mif\u001b[0m \u001b[0mself\u001b[0m\u001b[0;34m.\u001b[0m\u001b[0mn_outputs_\u001b[0m \u001b[0;34m==\u001b[0m \u001b[0;36m1\u001b[0m\u001b[0;34m:\u001b[0m\u001b[0;34m\u001b[0m\u001b[0;34m\u001b[0m\u001b[0m\n",
      "\u001b[0;32m/usr/local/lib/python3.6/dist-packages/sklearn/ensemble/forest.py\u001b[0m in \u001b[0;36mpredict_proba\u001b[0;34m(self, X)\u001b[0m\n\u001b[1;32m    586\u001b[0m         \u001b[0mcheck_is_fitted\u001b[0m\u001b[0;34m(\u001b[0m\u001b[0mself\u001b[0m\u001b[0;34m,\u001b[0m \u001b[0;34m'estimators_'\u001b[0m\u001b[0;34m)\u001b[0m\u001b[0;34m\u001b[0m\u001b[0;34m\u001b[0m\u001b[0m\n\u001b[1;32m    587\u001b[0m         \u001b[0;31m# Check data\u001b[0m\u001b[0;34m\u001b[0m\u001b[0;34m\u001b[0m\u001b[0;34m\u001b[0m\u001b[0m\n\u001b[0;32m--> 588\u001b[0;31m         \u001b[0mX\u001b[0m \u001b[0;34m=\u001b[0m \u001b[0mself\u001b[0m\u001b[0;34m.\u001b[0m\u001b[0m_validate_X_predict\u001b[0m\u001b[0;34m(\u001b[0m\u001b[0mX\u001b[0m\u001b[0;34m)\u001b[0m\u001b[0;34m\u001b[0m\u001b[0;34m\u001b[0m\u001b[0m\n\u001b[0m\u001b[1;32m    589\u001b[0m \u001b[0;34m\u001b[0m\u001b[0m\n\u001b[1;32m    590\u001b[0m         \u001b[0;31m# Assign chunk of trees to jobs\u001b[0m\u001b[0;34m\u001b[0m\u001b[0;34m\u001b[0m\u001b[0;34m\u001b[0m\u001b[0m\n",
      "\u001b[0;32m/usr/local/lib/python3.6/dist-packages/sklearn/ensemble/forest.py\u001b[0m in \u001b[0;36m_validate_X_predict\u001b[0;34m(self, X)\u001b[0m\n\u001b[1;32m    354\u001b[0m         \u001b[0;34m\"\"\"Validate X whenever one tries to predict, apply, predict_proba\"\"\"\u001b[0m\u001b[0;34m\u001b[0m\u001b[0;34m\u001b[0m\u001b[0m\n\u001b[1;32m    355\u001b[0m         \u001b[0;32mif\u001b[0m \u001b[0mself\u001b[0m\u001b[0;34m.\u001b[0m\u001b[0mestimators_\u001b[0m \u001b[0;32mis\u001b[0m \u001b[0;32mNone\u001b[0m \u001b[0;32mor\u001b[0m \u001b[0mlen\u001b[0m\u001b[0;34m(\u001b[0m\u001b[0mself\u001b[0m\u001b[0;34m.\u001b[0m\u001b[0mestimators_\u001b[0m\u001b[0;34m)\u001b[0m \u001b[0;34m==\u001b[0m \u001b[0;36m0\u001b[0m\u001b[0;34m:\u001b[0m\u001b[0;34m\u001b[0m\u001b[0;34m\u001b[0m\u001b[0m\n\u001b[0;32m--> 356\u001b[0;31m             raise NotFittedError(\"Estimator not fitted, \"\n\u001b[0m\u001b[1;32m    357\u001b[0m                                  \"call `fit` before exploiting the model.\")\n\u001b[1;32m    358\u001b[0m \u001b[0;34m\u001b[0m\u001b[0m\n",
      "\u001b[0;31mNotFittedError\u001b[0m: Estimator not fitted, call `fit` before exploiting the model."
     ]
    }
   ],
   "source": [
    "\n",
    "score = rnd_clf.score(X_train_exit, y_train_exit)\n",
    "score2 = rnd_clf.score(X_test_exit, y_test_exit)\n",
    "\n",
    "print(\"Training set accuracy: \", '%.3f'%(score))\n",
    "print(\"Test set accuracy: \", '%.3f'%(score2))"
   ]
  },
  {
   "cell_type": "code",
   "execution_count": 0,
   "metadata": {
    "colab": {},
    "colab_type": "code",
    "id": "VR_TNhTp_1SN"
   },
   "outputs": [],
   "source": [
    "y_pred = rnd_clf.predict(X_test_exit)"
   ]
  },
  {
   "cell_type": "code",
   "execution_count": 0,
   "metadata": {
    "colab": {
     "base_uri": "https://localhost:8080/",
     "height": 51
    },
    "colab_type": "code",
    "id": "PgaRbndjOUKE",
    "outputId": "e6a2722a-4a43-4097-9d61-794fb611f34c"
   },
   "outputs": [
    {
     "data": {
      "text/plain": [
       "array([[ 75265,  50191],\n",
       "       [ 80115, 131402]])"
      ]
     },
     "execution_count": 82,
     "metadata": {
      "tags": []
     },
     "output_type": "execute_result"
    }
   ],
   "source": [
    "confusion_matrix(y_test_exit,y_pred)"
   ]
  },
  {
   "cell_type": "code",
   "execution_count": 0,
   "metadata": {
    "colab": {
     "base_uri": "https://localhost:8080/",
     "height": 170
    },
    "colab_type": "code",
    "id": "fQTkesWVUX-M",
    "outputId": "0466a956-6a3e-4723-8bb9-e99ac1395654"
   },
   "outputs": [
    {
     "name": "stdout",
     "output_type": "stream",
     "text": [
      "              precision    recall  f1-score   support\n",
      "\n",
      "           0       0.48      0.60      0.54    125456\n",
      "           1       0.72      0.62      0.67    211517\n",
      "\n",
      "    accuracy                           0.61    336973\n",
      "   macro avg       0.60      0.61      0.60    336973\n",
      "weighted avg       0.63      0.61      0.62    336973\n",
      "\n"
     ]
    }
   ],
   "source": [
    "print(classification_report(y_test_exit,y_pred))"
   ]
  },
  {
   "cell_type": "code",
   "execution_count": 0,
   "metadata": {
    "colab": {},
    "colab_type": "code",
    "id": "9YGzaZko_O0y"
   },
   "outputs": [],
   "source": []
  },
  {
   "cell_type": "code",
   "execution_count": 0,
   "metadata": {
    "colab": {},
    "colab_type": "code",
    "id": "K6_eOpKU_Ovx"
   },
   "outputs": [],
   "source": []
  },
  {
   "cell_type": "code",
   "execution_count": 0,
   "metadata": {
    "colab": {},
    "colab_type": "code",
    "id": "M-ZzWouc_Os9"
   },
   "outputs": [],
   "source": []
  },
  {
   "cell_type": "code",
   "execution_count": 0,
   "metadata": {
    "colab": {},
    "colab_type": "code",
    "id": "BHimd4agWpQN"
   },
   "outputs": [],
   "source": [
    "df_stores = df_visit_dupes"
   ]
  },
  {
   "cell_type": "code",
   "execution_count": 83,
   "metadata": {
    "colab": {
     "base_uri": "https://localhost:8080/",
     "height": 402
    },
    "colab_type": "code",
    "id": "pmc3Vnb9v4vU",
    "outputId": "828487bb-6595-4cc7-fb1b-2759b0177a65"
   },
   "outputs": [
    {
     "data": {
      "text/html": [
       "<div>\n",
       "<style scoped>\n",
       "    .dataframe tbody tr th:only-of-type {\n",
       "        vertical-align: middle;\n",
       "    }\n",
       "\n",
       "    .dataframe tbody tr th {\n",
       "        vertical-align: top;\n",
       "    }\n",
       "\n",
       "    .dataframe thead th {\n",
       "        text-align: right;\n",
       "    }\n",
       "</style>\n",
       "<table border=\"1\" class=\"dataframe\">\n",
       "  <thead>\n",
       "    <tr style=\"text-align: right;\">\n",
       "      <th></th>\n",
       "      <th>Customer_ID</th>\n",
       "      <th>Store_ID</th>\n",
       "      <th>Dwell_Time</th>\n",
       "      <th>Sequence_Num_New</th>\n",
       "      <th>Day</th>\n",
       "      <th>Month</th>\n",
       "      <th>Target</th>\n",
       "      <th>Category_ID</th>\n",
       "    </tr>\n",
       "  </thead>\n",
       "  <tbody>\n",
       "    <tr>\n",
       "      <th>0</th>\n",
       "      <td>26</td>\n",
       "      <td>9336555</td>\n",
       "      <td>35</td>\n",
       "      <td>1</td>\n",
       "      <td>0.0</td>\n",
       "      <td>1.0</td>\n",
       "      <td>5078501</td>\n",
       "      <td>14</td>\n",
       "    </tr>\n",
       "    <tr>\n",
       "      <th>1</th>\n",
       "      <td>111</td>\n",
       "      <td>9336555</td>\n",
       "      <td>36</td>\n",
       "      <td>3</td>\n",
       "      <td>0.0</td>\n",
       "      <td>1.0</td>\n",
       "      <td>0</td>\n",
       "      <td>14</td>\n",
       "    </tr>\n",
       "    <tr>\n",
       "      <th>2</th>\n",
       "      <td>218</td>\n",
       "      <td>9336555</td>\n",
       "      <td>55</td>\n",
       "      <td>1</td>\n",
       "      <td>0.0</td>\n",
       "      <td>1.0</td>\n",
       "      <td>0</td>\n",
       "      <td>14</td>\n",
       "    </tr>\n",
       "    <tr>\n",
       "      <th>3</th>\n",
       "      <td>459</td>\n",
       "      <td>9336555</td>\n",
       "      <td>30</td>\n",
       "      <td>5</td>\n",
       "      <td>0.0</td>\n",
       "      <td>1.0</td>\n",
       "      <td>0</td>\n",
       "      <td>14</td>\n",
       "    </tr>\n",
       "    <tr>\n",
       "      <th>4</th>\n",
       "      <td>737</td>\n",
       "      <td>9336555</td>\n",
       "      <td>30</td>\n",
       "      <td>1</td>\n",
       "      <td>0.0</td>\n",
       "      <td>1.0</td>\n",
       "      <td>7614638</td>\n",
       "      <td>14</td>\n",
       "    </tr>\n",
       "    <tr>\n",
       "      <th>...</th>\n",
       "      <td>...</td>\n",
       "      <td>...</td>\n",
       "      <td>...</td>\n",
       "      <td>...</td>\n",
       "      <td>...</td>\n",
       "      <td>...</td>\n",
       "      <td>...</td>\n",
       "      <td>...</td>\n",
       "    </tr>\n",
       "    <tr>\n",
       "      <th>1684860</th>\n",
       "      <td>471311</td>\n",
       "      <td>5691963</td>\n",
       "      <td>7</td>\n",
       "      <td>1</td>\n",
       "      <td>6.0</td>\n",
       "      <td>6.0</td>\n",
       "      <td>5163351</td>\n",
       "      <td>20</td>\n",
       "    </tr>\n",
       "    <tr>\n",
       "      <th>1684861</th>\n",
       "      <td>204643</td>\n",
       "      <td>5691963</td>\n",
       "      <td>8</td>\n",
       "      <td>7</td>\n",
       "      <td>2.0</td>\n",
       "      <td>6.0</td>\n",
       "      <td>7965999</td>\n",
       "      <td>20</td>\n",
       "    </tr>\n",
       "    <tr>\n",
       "      <th>1684862</th>\n",
       "      <td>509377</td>\n",
       "      <td>5691963</td>\n",
       "      <td>8</td>\n",
       "      <td>1</td>\n",
       "      <td>3.0</td>\n",
       "      <td>6.0</td>\n",
       "      <td>7614638</td>\n",
       "      <td>20</td>\n",
       "    </tr>\n",
       "    <tr>\n",
       "      <th>1684863</th>\n",
       "      <td>485293</td>\n",
       "      <td>5691963</td>\n",
       "      <td>17</td>\n",
       "      <td>4</td>\n",
       "      <td>3.0</td>\n",
       "      <td>6.0</td>\n",
       "      <td>0</td>\n",
       "      <td>20</td>\n",
       "    </tr>\n",
       "    <tr>\n",
       "      <th>1684864</th>\n",
       "      <td>16398</td>\n",
       "      <td>5691963</td>\n",
       "      <td>35</td>\n",
       "      <td>56</td>\n",
       "      <td>5.0</td>\n",
       "      <td>6.0</td>\n",
       "      <td>0</td>\n",
       "      <td>20</td>\n",
       "    </tr>\n",
       "  </tbody>\n",
       "</table>\n",
       "<p>1684865 rows × 8 columns</p>\n",
       "</div>"
      ],
      "text/plain": [
       "         Customer_ID  Store_ID  Dwell_Time  Sequence_Num_New  Day  Month  \\\n",
       "0                 26   9336555          35                 1  0.0    1.0   \n",
       "1                111   9336555          36                 3  0.0    1.0   \n",
       "2                218   9336555          55                 1  0.0    1.0   \n",
       "3                459   9336555          30                 5  0.0    1.0   \n",
       "4                737   9336555          30                 1  0.0    1.0   \n",
       "...              ...       ...         ...               ...  ...    ...   \n",
       "1684860       471311   5691963           7                 1  6.0    6.0   \n",
       "1684861       204643   5691963           8                 7  2.0    6.0   \n",
       "1684862       509377   5691963           8                 1  3.0    6.0   \n",
       "1684863       485293   5691963          17                 4  3.0    6.0   \n",
       "1684864        16398   5691963          35                56  5.0    6.0   \n",
       "\n",
       "          Target  Category_ID  \n",
       "0        5078501           14  \n",
       "1              0           14  \n",
       "2              0           14  \n",
       "3              0           14  \n",
       "4        7614638           14  \n",
       "...          ...          ...  \n",
       "1684860  5163351           20  \n",
       "1684861  7965999           20  \n",
       "1684862  7614638           20  \n",
       "1684863        0           20  \n",
       "1684864        0           20  \n",
       "\n",
       "[1684865 rows x 8 columns]"
      ]
     },
     "execution_count": 83,
     "metadata": {
      "tags": []
     },
     "output_type": "execute_result"
    }
   ],
   "source": [
    "df_stores"
   ]
  },
  {
   "cell_type": "code",
   "execution_count": 0,
   "metadata": {
    "colab": {},
    "colab_type": "code",
    "id": "gXlq51OpnywN"
   },
   "outputs": [],
   "source": [
    "df_stores = df_stores[df_stores['Target']!=0]"
   ]
  },
  {
   "cell_type": "code",
   "execution_count": 85,
   "metadata": {
    "colab": {
     "base_uri": "https://localhost:8080/",
     "height": 235
    },
    "colab_type": "code",
    "id": "0rG9JemGXJeo",
    "outputId": "05b9da32-79f9-4874-c99a-820971f90df0"
   },
   "outputs": [
    {
     "data": {
      "text/plain": [
       "Target\n",
       "2          104585\n",
       "5080089     59671\n",
       "5079256     53472\n",
       "9709631     36645\n",
       "5079942     17977\n",
       "            ...  \n",
       "9710341       413\n",
       "9467441       339\n",
       "8282348       199\n",
       "6624025       120\n",
       "5691963         8\n",
       "Name: Target, Length: 199, dtype: int64"
      ]
     },
     "execution_count": 85,
     "metadata": {
      "tags": []
     },
     "output_type": "execute_result"
    }
   ],
   "source": [
    "df_stores.groupby('Target')['Target'].count().sort_values(ascending=False)"
   ]
  },
  {
   "cell_type": "code",
   "execution_count": 0,
   "metadata": {
    "colab": {},
    "colab_type": "code",
    "id": "9HQZ2K0zXW_O"
   },
   "outputs": [],
   "source": [
    "def conditions(x):\n",
    "    if x == 2:\n",
    "        return 1\n",
    "    elif x == 5080089:\n",
    "        return 2\n",
    "    elif x == 5079256:\n",
    "      return 3\n",
    "    elif x == 9709631:\n",
    "      return 4\n",
    "    elif x == 5079942:\n",
    "      return 5\n",
    "    else:\n",
    "        return 6\n",
    "\n",
    "func = np.vectorize(conditions)\n",
    "New_Target = func(df_stores[\"Target\"])"
   ]
  },
  {
   "cell_type": "code",
   "execution_count": 87,
   "metadata": {
    "colab": {
     "base_uri": "https://localhost:8080/",
     "height": 118
    },
    "colab_type": "code",
    "id": "C_upgHLWb1BB",
    "outputId": "2efc52c0-91d9-43a2-bfe6-99e75168b00e"
   },
   "outputs": [
    {
     "name": "stderr",
     "output_type": "stream",
     "text": [
      "/usr/local/lib/python3.6/dist-packages/ipykernel_launcher.py:1: SettingWithCopyWarning: \n",
      "A value is trying to be set on a copy of a slice from a DataFrame.\n",
      "Try using .loc[row_indexer,col_indexer] = value instead\n",
      "\n",
      "See the caveats in the documentation: http://pandas.pydata.org/pandas-docs/stable/user_guide/indexing.html#returning-a-view-versus-a-copy\n",
      "  \"\"\"Entry point for launching an IPython kernel.\n"
     ]
    }
   ],
   "source": [
    "df_stores['New_Target'] = New_Target"
   ]
  },
  {
   "cell_type": "code",
   "execution_count": 88,
   "metadata": {
    "colab": {
     "base_uri": "https://localhost:8080/",
     "height": 101
    },
    "colab_type": "code",
    "id": "nB59CVK1dvgz",
    "outputId": "dfd45586-496c-4e57-ce75-4b321e8bf5e8"
   },
   "outputs": [
    {
     "name": "stderr",
     "output_type": "stream",
     "text": [
      "/usr/local/lib/python3.6/dist-packages/pandas/core/frame.py:4117: SettingWithCopyWarning: \n",
      "A value is trying to be set on a copy of a slice from a DataFrame\n",
      "\n",
      "See the caveats in the documentation: http://pandas.pydata.org/pandas-docs/stable/user_guide/indexing.html#returning-a-view-versus-a-copy\n",
      "  errors=errors,\n"
     ]
    }
   ],
   "source": [
    "df_stores.drop(columns='Target',axis=1,inplace=True)"
   ]
  },
  {
   "cell_type": "code",
   "execution_count": 89,
   "metadata": {
    "colab": {
     "base_uri": "https://localhost:8080/",
     "height": 34
    },
    "colab_type": "code",
    "id": "bcFQCZsLcDi_",
    "outputId": "9d2596b0-f421-40d7-fa4e-9add8f26a0f9"
   },
   "outputs": [
    {
     "data": {
      "text/plain": [
       "array([6, 3, 4, 2, 1, 5])"
      ]
     },
     "execution_count": 89,
     "metadata": {
      "tags": []
     },
     "output_type": "execute_result"
    }
   ],
   "source": [
    "df_stores['New_Target'].unique()"
   ]
  },
  {
   "cell_type": "code",
   "execution_count": 90,
   "metadata": {
    "colab": {
     "base_uri": "https://localhost:8080/",
     "height": 388
    },
    "colab_type": "code",
    "id": "qLdRbqbMcswV",
    "outputId": "bfec1f6f-9ba9-4544-ab81-f21273242fca"
   },
   "outputs": [
    {
     "data": {
      "text/plain": [
       "<seaborn.axisgrid.FacetGrid at 0x7f0b0cb05b38>"
      ]
     },
     "execution_count": 90,
     "metadata": {
      "tags": []
     },
     "output_type": "execute_result"
    },
    {
     "data": {
      "image/png": "[encoded data removed]",
      "text/plain": [
       "<Figure size 720x360 with 1 Axes>"
      ]
     },
     "metadata": {
      "tags": []
     },
     "output_type": "display_data"
    }
   ],
   "source": [
    "ax = sns.catplot(x=\"New_Target\", kind=\"count\", palette=\"ch:.25\", data=df_stores,height=5, aspect=2)\n",
    "ax.set_xticklabels( rotation=45, horizontalalignment='right')"
   ]
  },
  {
   "cell_type": "code",
   "execution_count": 91,
   "metadata": {
    "colab": {
     "base_uri": "https://localhost:8080/",
     "height": 47
    },
    "colab_type": "code",
    "id": "io5Lc7hagc-H",
    "outputId": "a718f443-b285-4101-9117-524479cabe98"
   },
   "outputs": [
    {
     "data": {
      "text/html": [
       "<div>\n",
       "<style scoped>\n",
       "    .dataframe tbody tr th:only-of-type {\n",
       "        vertical-align: middle;\n",
       "    }\n",
       "\n",
       "    .dataframe tbody tr th {\n",
       "        vertical-align: top;\n",
       "    }\n",
       "\n",
       "    .dataframe thead th {\n",
       "        text-align: right;\n",
       "    }\n",
       "</style>\n",
       "<table border=\"1\" class=\"dataframe\">\n",
       "  <thead>\n",
       "    <tr style=\"text-align: right;\">\n",
       "      <th></th>\n",
       "      <th>Customer_ID</th>\n",
       "      <th>Store_ID</th>\n",
       "      <th>Dwell_Time</th>\n",
       "      <th>Sequence_Num_New</th>\n",
       "      <th>Day</th>\n",
       "      <th>Month</th>\n",
       "      <th>Category_ID</th>\n",
       "      <th>New_Target</th>\n",
       "    </tr>\n",
       "  </thead>\n",
       "  <tbody>\n",
       "  </tbody>\n",
       "</table>\n",
       "</div>"
      ],
      "text/plain": [
       "Empty DataFrame\n",
       "Columns: [Customer_ID, Store_ID, Dwell_Time, Sequence_Num_New, Day, Month, Category_ID, New_Target]\n",
       "Index: []"
      ]
     },
     "execution_count": 91,
     "metadata": {
      "tags": []
     },
     "output_type": "execute_result"
    }
   ],
   "source": [
    "df_stores[df_stores.duplicated(subset=None,keep='first')]"
   ]
  },
  {
   "cell_type": "code",
   "execution_count": 0,
   "metadata": {
    "colab": {},
    "colab_type": "code",
    "id": "LOQJHGacdKa6"
   },
   "outputs": [],
   "source": [
    "split = StratifiedShuffleSplit(n_splits=2, test_size=0.2, random_state=1)\n",
    "\n",
    "for train_index, test_index in split.split(df_stores, df_stores['New_Target']):\n",
    "  strat_train_stores = df_stores.iloc[train_index]\n",
    "  strat_test_stores = df_stores.iloc[test_index]"
   ]
  },
  {
   "cell_type": "code",
   "execution_count": 93,
   "metadata": {
    "colab": {
     "base_uri": "https://localhost:8080/",
     "height": 402
    },
    "colab_type": "code",
    "id": "atA0nNGorEXi",
    "outputId": "22a5f5f3-baf8-4552-9ff2-23195af28928"
   },
   "outputs": [
    {
     "data": {
      "text/html": [
       "<div>\n",
       "<style scoped>\n",
       "    .dataframe tbody tr th:only-of-type {\n",
       "        vertical-align: middle;\n",
       "    }\n",
       "\n",
       "    .dataframe tbody tr th {\n",
       "        vertical-align: top;\n",
       "    }\n",
       "\n",
       "    .dataframe thead th {\n",
       "        text-align: right;\n",
       "    }\n",
       "</style>\n",
       "<table border=\"1\" class=\"dataframe\">\n",
       "  <thead>\n",
       "    <tr style=\"text-align: right;\">\n",
       "      <th></th>\n",
       "      <th>Customer_ID</th>\n",
       "      <th>Store_ID</th>\n",
       "      <th>Dwell_Time</th>\n",
       "      <th>Sequence_Num_New</th>\n",
       "      <th>Day</th>\n",
       "      <th>Month</th>\n",
       "      <th>Category_ID</th>\n",
       "      <th>New_Target</th>\n",
       "    </tr>\n",
       "  </thead>\n",
       "  <tbody>\n",
       "    <tr>\n",
       "      <th>894669</th>\n",
       "      <td>76537</td>\n",
       "      <td>5079150</td>\n",
       "      <td>6</td>\n",
       "      <td>8</td>\n",
       "      <td>5.0</td>\n",
       "      <td>3.0</td>\n",
       "      <td>9</td>\n",
       "      <td>6</td>\n",
       "    </tr>\n",
       "    <tr>\n",
       "      <th>1281649</th>\n",
       "      <td>320634</td>\n",
       "      <td>9488233</td>\n",
       "      <td>7</td>\n",
       "      <td>3</td>\n",
       "      <td>5.0</td>\n",
       "      <td>3.0</td>\n",
       "      <td>6</td>\n",
       "      <td>6</td>\n",
       "    </tr>\n",
       "    <tr>\n",
       "      <th>1443935</th>\n",
       "      <td>86953</td>\n",
       "      <td>5078659</td>\n",
       "      <td>13</td>\n",
       "      <td>5</td>\n",
       "      <td>4.0</td>\n",
       "      <td>3.0</td>\n",
       "      <td>6</td>\n",
       "      <td>6</td>\n",
       "    </tr>\n",
       "    <tr>\n",
       "      <th>347474</th>\n",
       "      <td>428838</td>\n",
       "      <td>5079256</td>\n",
       "      <td>7</td>\n",
       "      <td>3</td>\n",
       "      <td>0.0</td>\n",
       "      <td>5.0</td>\n",
       "      <td>8</td>\n",
       "      <td>6</td>\n",
       "    </tr>\n",
       "    <tr>\n",
       "      <th>478733</th>\n",
       "      <td>7567</td>\n",
       "      <td>5078739</td>\n",
       "      <td>6</td>\n",
       "      <td>5</td>\n",
       "      <td>6.0</td>\n",
       "      <td>1.0</td>\n",
       "      <td>1</td>\n",
       "      <td>6</td>\n",
       "    </tr>\n",
       "    <tr>\n",
       "      <th>...</th>\n",
       "      <td>...</td>\n",
       "      <td>...</td>\n",
       "      <td>...</td>\n",
       "      <td>...</td>\n",
       "      <td>...</td>\n",
       "      <td>...</td>\n",
       "      <td>...</td>\n",
       "      <td>...</td>\n",
       "    </tr>\n",
       "    <tr>\n",
       "      <th>735253</th>\n",
       "      <td>416652</td>\n",
       "      <td>9416977</td>\n",
       "      <td>6</td>\n",
       "      <td>1</td>\n",
       "      <td>3.0</td>\n",
       "      <td>5.0</td>\n",
       "      <td>1</td>\n",
       "      <td>6</td>\n",
       "    </tr>\n",
       "    <tr>\n",
       "      <th>197184</th>\n",
       "      <td>163987</td>\n",
       "      <td>5080089</td>\n",
       "      <td>10</td>\n",
       "      <td>1</td>\n",
       "      <td>5.0</td>\n",
       "      <td>2.0</td>\n",
       "      <td>8</td>\n",
       "      <td>2</td>\n",
       "    </tr>\n",
       "    <tr>\n",
       "      <th>1450494</th>\n",
       "      <td>205969</td>\n",
       "      <td>9639775</td>\n",
       "      <td>13</td>\n",
       "      <td>1</td>\n",
       "      <td>3.0</td>\n",
       "      <td>2.0</td>\n",
       "      <td>20</td>\n",
       "      <td>6</td>\n",
       "    </tr>\n",
       "    <tr>\n",
       "      <th>381627</th>\n",
       "      <td>124458</td>\n",
       "      <td>3</td>\n",
       "      <td>8</td>\n",
       "      <td>2</td>\n",
       "      <td>6.0</td>\n",
       "      <td>1.0</td>\n",
       "      <td>8</td>\n",
       "      <td>6</td>\n",
       "    </tr>\n",
       "    <tr>\n",
       "      <th>1450400</th>\n",
       "      <td>145636</td>\n",
       "      <td>9639775</td>\n",
       "      <td>7</td>\n",
       "      <td>11</td>\n",
       "      <td>6.0</td>\n",
       "      <td>2.0</td>\n",
       "      <td>20</td>\n",
       "      <td>6</td>\n",
       "    </tr>\n",
       "  </tbody>\n",
       "</table>\n",
       "<p>846068 rows × 8 columns</p>\n",
       "</div>"
      ],
      "text/plain": [
       "         Customer_ID  Store_ID  Dwell_Time  Sequence_Num_New  Day  Month  \\\n",
       "894669         76537   5079150           6                 8  5.0    3.0   \n",
       "1281649       320634   9488233           7                 3  5.0    3.0   \n",
       "1443935        86953   5078659          13                 5  4.0    3.0   \n",
       "347474        428838   5079256           7                 3  0.0    5.0   \n",
       "478733          7567   5078739           6                 5  6.0    1.0   \n",
       "...              ...       ...         ...               ...  ...    ...   \n",
       "735253        416652   9416977           6                 1  3.0    5.0   \n",
       "197184        163987   5080089          10                 1  5.0    2.0   \n",
       "1450494       205969   9639775          13                 1  3.0    2.0   \n",
       "381627        124458         3           8                 2  6.0    1.0   \n",
       "1450400       145636   9639775           7                11  6.0    2.0   \n",
       "\n",
       "         Category_ID  New_Target  \n",
       "894669             9           6  \n",
       "1281649            6           6  \n",
       "1443935            6           6  \n",
       "347474             8           6  \n",
       "478733             1           6  \n",
       "...              ...         ...  \n",
       "735253             1           6  \n",
       "197184             8           2  \n",
       "1450494           20           6  \n",
       "381627             8           6  \n",
       "1450400           20           6  \n",
       "\n",
       "[846068 rows x 8 columns]"
      ]
     },
     "execution_count": 93,
     "metadata": {
      "tags": []
     },
     "output_type": "execute_result"
    }
   ],
   "source": [
    "strat_train_stores"
   ]
  },
  {
   "cell_type": "code",
   "execution_count": 0,
   "metadata": {
    "colab": {},
    "colab_type": "code",
    "id": "rdqpquuOp-ow"
   },
   "outputs": [],
   "source": [
    "df_majority = strat_train_stores[strat_train_stores['New_Target']==6]\n",
    "df_minority = strat_train_stores[strat_train_stores['New_Target']==1]\n",
    "\n",
    "\n",
    "df_majority_downsampled = resample(df_majority, \n",
    "                                 replace=False,     \n",
    "                                 n_samples=len(df_minority),   \n",
    "                                 random_state=42) \n"
   ]
  },
  {
   "cell_type": "code",
   "execution_count": 0,
   "metadata": {
    "colab": {},
    "colab_type": "code",
    "id": "zdT1r3f9p-cH"
   },
   "outputs": [],
   "source": []
  },
  {
   "cell_type": "code",
   "execution_count": 0,
   "metadata": {
    "colab": {},
    "colab_type": "code",
    "id": "GcQrT-eJrmD6"
   },
   "outputs": [],
   "source": [
    "strat_train_stores = pd.concat([df_majority_downsampled, strat_train_stores])"
   ]
  },
  {
   "cell_type": "code",
   "execution_count": 134,
   "metadata": {
    "colab": {
     "base_uri": "https://localhost:8080/",
     "height": 388
    },
    "colab_type": "code",
    "id": "K17rqn-Qr5RX",
    "outputId": "fc5678e3-5ead-4245-c608-4102248bed53"
   },
   "outputs": [
    {
     "data": {
      "text/plain": [
       "<seaborn.axisgrid.FacetGrid at 0x7f0b0cbd0240>"
      ]
     },
     "execution_count": 134,
     "metadata": {
      "tags": []
     },
     "output_type": "execute_result"
    },
    {
     "data": {
      "image/png": "[encoded data removed]",
      "text/plain": [
       "<Figure size 720x360 with 1 Axes>"
      ]
     },
     "metadata": {
      "tags": []
     },
     "output_type": "display_data"
    }
   ],
   "source": [
    "ax = sns.catplot(x=\"New_Target\", kind=\"count\", palette=\"ch:.25\", data=strat_train_stores,height=5, aspect=2)\n",
    "ax.set_xticklabels( rotation=45, horizontalalignment='right')"
   ]
  },
  {
   "cell_type": "code",
   "execution_count": 135,
   "metadata": {
    "colab": {
     "base_uri": "https://localhost:8080/",
     "height": 388
    },
    "colab_type": "code",
    "id": "NyLi2YRmsBUM",
    "outputId": "e7fd90d8-5a0a-4324-e345-00516f0d9d9c"
   },
   "outputs": [
    {
     "data": {
      "text/plain": [
       "<seaborn.axisgrid.FacetGrid at 0x7f0b0cbd00f0>"
      ]
     },
     "execution_count": 135,
     "metadata": {
      "tags": []
     },
     "output_type": "execute_result"
    },
    {
     "data": {
      "image/png": "[encoded data removed]",
      "text/plain": [
       "<Figure size 720x360 with 1 Axes>"
      ]
     },
     "metadata": {
      "tags": []
     },
     "output_type": "display_data"
    }
   ],
   "source": [
    "ax = sns.catplot(x=\"New_Target\", kind=\"count\", palette=\"ch:.25\", data=strat_test_stores,height=5, aspect=2)\n",
    "ax.set_xticklabels( rotation=45, horizontalalignment='right')"
   ]
  },
  {
   "cell_type": "markdown",
   "metadata": {
    "colab_type": "text",
    "id": "DT5GddjZI-k5"
   },
   "source": [
    "Decision Tree"
   ]
  },
  {
   "cell_type": "code",
   "execution_count": 0,
   "metadata": {
    "colab": {},
    "colab_type": "code",
    "id": "_GPdcnqGeQNn"
   },
   "outputs": [],
   "source": [
    "X_train_store = strat_train_stores[['Day','Month','Customer_ID','Dwell_Time','Store_ID','Sequence_Num_New','Category_ID']]"
   ]
  },
  {
   "cell_type": "code",
   "execution_count": 0,
   "metadata": {
    "colab": {},
    "colab_type": "code",
    "id": "6SL7EG83eZ_Z"
   },
   "outputs": [],
   "source": [
    "y_train_store = strat_train_stores[['New_Target']]"
   ]
  },
  {
   "cell_type": "code",
   "execution_count": 0,
   "metadata": {
    "colab": {},
    "colab_type": "code",
    "id": "ToliCae9epqV"
   },
   "outputs": [],
   "source": [
    "X_test_store = strat_test_stores[['Day','Month','Customer_ID','Dwell_Time','Store_ID','Sequence_Num_New','Category_ID']]"
   ]
  },
  {
   "cell_type": "code",
   "execution_count": 0,
   "metadata": {
    "colab": {},
    "colab_type": "code",
    "id": "1MxyCEwOevsa"
   },
   "outputs": [],
   "source": [
    "y_test_store = strat_test_stores[['New_Target']]"
   ]
  },
  {
   "cell_type": "code",
   "execution_count": 0,
   "metadata": {
    "colab": {},
    "colab_type": "code",
    "id": "ZfNj8wHZe2LR"
   },
   "outputs": [],
   "source": [
    "clf = tree.DecisionTreeClassifier(random_state=42, max_depth=15)"
   ]
  },
  {
   "cell_type": "code",
   "execution_count": 0,
   "metadata": {
    "colab": {},
    "colab_type": "code",
    "id": "xQXh7MTmsn3k"
   },
   "outputs": [],
   "source": [
    "clf = clf.fit(X_train_store,y_train_store)"
   ]
  },
  {
   "cell_type": "code",
   "execution_count": 0,
   "metadata": {
    "colab": {},
    "colab_type": "code",
    "id": "mPNK_xxBEgHD"
   },
   "outputs": [],
   "source": [
    "y_pred_dt = clf.predict(X_test_store)"
   ]
  },
  {
   "cell_type": "code",
   "execution_count": 153,
   "metadata": {
    "colab": {
     "base_uri": "https://localhost:8080/",
     "height": 118
    },
    "colab_type": "code",
    "id": "TDW69MR6Eg0P",
    "outputId": "990fb45d-ec46-41f3-fc6b-811c8bea0603"
   },
   "outputs": [
    {
     "data": {
      "text/plain": [
       "array([[  5538,    599,    276,    586,    120,  13798],\n",
       "       [  1052,   1448,    162,    240,     49,   8983],\n",
       "       [   832,    289,    336,    103,     93,   9042],\n",
       "       [   739,    154,     66,   1401,     62,   4907],\n",
       "       [    90,     38,     25,     14,   2111,   1317],\n",
       "       [ 12724,   4724,   2534,   2464,   1258, 133344]])"
      ]
     },
     "execution_count": 153,
     "metadata": {
      "tags": []
     },
     "output_type": "execute_result"
    }
   ],
   "source": [
    "from sklearn.metrics import confusion_matrix\n",
    "\n",
    "confusion_matrix(y_test_store, y_pred_dt)"
   ]
  },
  {
   "cell_type": "code",
   "execution_count": 154,
   "metadata": {
    "colab": {
     "base_uri": "https://localhost:8080/",
     "height": 235
    },
    "colab_type": "code",
    "id": "K-A47K-pEvlZ",
    "outputId": "ff51b0c1-d3d3-46ab-f01f-3615b6150987"
   },
   "outputs": [
    {
     "name": "stdout",
     "output_type": "stream",
     "text": [
      "              precision    recall  f1-score   support\n",
      "\n",
      "           1       0.26      0.26      0.26     20917\n",
      "           2       0.20      0.12      0.15     11934\n",
      "           3       0.10      0.03      0.05     10695\n",
      "           4       0.29      0.19      0.23      7329\n",
      "           5       0.57      0.59      0.58      3595\n",
      "           6       0.78      0.85      0.81    157048\n",
      "\n",
      "    accuracy                           0.68    211518\n",
      "   macro avg       0.37      0.34      0.35    211518\n",
      "weighted avg       0.64      0.68      0.66    211518\n",
      "\n"
     ]
    }
   ],
   "source": [
    "from sklearn.metrics import classification_report\n",
    "\n",
    "print(classification_report(y_test_store, y_pred_dt))"
   ]
  },
  {
   "cell_type": "code",
   "execution_count": 155,
   "metadata": {
    "colab": {
     "base_uri": "https://localhost:8080/",
     "height": 34
    },
    "colab_type": "code",
    "id": "8T-e2QCYGU36",
    "outputId": "4325f42a-ed31-45a6-b3ba-87c2ecf10c74"
   },
   "outputs": [
    {
     "name": "stdout",
     "output_type": "stream",
     "text": [
      "Accuracy = 0.68\n"
     ]
    }
   ],
   "source": [
    "from sklearn.metrics import accuracy_score\n",
    "print(\"Accuracy = {:.2f}\".format(accuracy_score(y_test_store, y_pred_dt)))"
   ]
  },
  {
   "cell_type": "code",
   "execution_count": 156,
   "metadata": {
    "colab": {
     "base_uri": "https://localhost:8080/",
     "height": 195
    },
    "colab_type": "code",
    "id": "4nl5CdCZEwMP",
    "outputId": "54cdddac-be71-47ce-bfe3-1b88a45a213e"
   },
   "outputs": [
    {
     "data": {
      "text/html": [
       "<div>\n",
       "<style scoped>\n",
       "    .dataframe tbody tr th:only-of-type {\n",
       "        vertical-align: middle;\n",
       "    }\n",
       "\n",
       "    .dataframe tbody tr th {\n",
       "        vertical-align: top;\n",
       "    }\n",
       "\n",
       "    .dataframe thead th {\n",
       "        text-align: right;\n",
       "    }\n",
       "</style>\n",
       "<table border=\"1\" class=\"dataframe\">\n",
       "  <thead>\n",
       "    <tr style=\"text-align: right;\">\n",
       "      <th></th>\n",
       "      <th>Day</th>\n",
       "      <th>Month</th>\n",
       "      <th>Customer_ID</th>\n",
       "      <th>Dwell_Time</th>\n",
       "      <th>Store_ID</th>\n",
       "      <th>Sequence_Num_New</th>\n",
       "      <th>Category_ID</th>\n",
       "    </tr>\n",
       "  </thead>\n",
       "  <tbody>\n",
       "    <tr>\n",
       "      <th>1505848</th>\n",
       "      <td>6.0</td>\n",
       "      <td>3.0</td>\n",
       "      <td>287061</td>\n",
       "      <td>20</td>\n",
       "      <td>9599523</td>\n",
       "      <td>2</td>\n",
       "      <td>4</td>\n",
       "    </tr>\n",
       "    <tr>\n",
       "      <th>1211339</th>\n",
       "      <td>0.0</td>\n",
       "      <td>4.0</td>\n",
       "      <td>324070</td>\n",
       "      <td>28</td>\n",
       "      <td>9399994</td>\n",
       "      <td>5</td>\n",
       "      <td>8</td>\n",
       "    </tr>\n",
       "    <tr>\n",
       "      <th>383431</th>\n",
       "      <td>5.0</td>\n",
       "      <td>2.0</td>\n",
       "      <td>86662</td>\n",
       "      <td>9</td>\n",
       "      <td>3</td>\n",
       "      <td>5</td>\n",
       "      <td>8</td>\n",
       "    </tr>\n",
       "    <tr>\n",
       "      <th>1437547</th>\n",
       "      <td>4.0</td>\n",
       "      <td>3.0</td>\n",
       "      <td>250520</td>\n",
       "      <td>39</td>\n",
       "      <td>9700978</td>\n",
       "      <td>2</td>\n",
       "      <td>14</td>\n",
       "    </tr>\n",
       "    <tr>\n",
       "      <th>143813</th>\n",
       "      <td>0.0</td>\n",
       "      <td>5.0</td>\n",
       "      <td>458538</td>\n",
       "      <td>24</td>\n",
       "      <td>2</td>\n",
       "      <td>1</td>\n",
       "      <td>8</td>\n",
       "    </tr>\n",
       "  </tbody>\n",
       "</table>\n",
       "</div>"
      ],
      "text/plain": [
       "         Day  Month  Customer_ID  Dwell_Time  Store_ID  Sequence_Num_New  \\\n",
       "1505848  6.0    3.0       287061          20   9599523                 2   \n",
       "1211339  0.0    4.0       324070          28   9399994                 5   \n",
       "383431   5.0    2.0        86662           9         3                 5   \n",
       "1437547  4.0    3.0       250520          39   9700978                 2   \n",
       "143813   0.0    5.0       458538          24         2                 1   \n",
       "\n",
       "         Category_ID  \n",
       "1505848            4  \n",
       "1211339            8  \n",
       "383431             8  \n",
       "1437547           14  \n",
       "143813             8  "
      ]
     },
     "execution_count": 156,
     "metadata": {
      "tags": []
     },
     "output_type": "execute_result"
    }
   ],
   "source": [
    "X_train_store.head()"
   ]
  },
  {
   "cell_type": "code",
   "execution_count": 0,
   "metadata": {
    "colab": {},
    "colab_type": "code",
    "id": "dGevUna6Ewps"
   },
   "outputs": [],
   "source": []
  },
  {
   "cell_type": "code",
   "execution_count": 157,
   "metadata": {
    "colab": {
     "base_uri": "https://localhost:8080/",
     "height": 289
    },
    "colab_type": "code",
    "id": "d245kgMrfHH4",
    "outputId": "4e6e780d-4121-47fc-b324-57dba97dba32"
   },
   "outputs": [
    {
     "name": "stderr",
     "output_type": "stream",
     "text": [
      "/usr/local/lib/python3.6/dist-packages/sklearn/metrics/classification.py:1437: UndefinedMetricWarning: Precision and F-score are ill-defined and being set to 0.0 in labels with no predicted samples.\n",
      "  'precision', 'predicted', average, warn_for)\n"
     ]
    },
    {
     "name": "stdout",
     "output_type": "stream",
     "text": [
      "              precision    recall  f1-score   support\n",
      "\n",
      "           1       0.13      0.63      0.21     20917\n",
      "           2       0.08      0.33      0.14     11934\n",
      "           3       0.07      0.25      0.11     10695\n",
      "           4       0.11      0.22      0.14      7329\n",
      "           5       0.40      0.60      0.48      3595\n",
      "           6       0.00      0.00      0.00    157048\n",
      "\n",
      "    accuracy                           0.11    211518\n",
      "   macro avg       0.13      0.34      0.18    211518\n",
      "weighted avg       0.03      0.11      0.05    211518\n",
      "\n"
     ]
    }
   ],
   "source": [
    "y_pred_stores = rnd_clf_stores.predict(X_test_store)\n",
    "print(classification_report(y_test_store,y_pred_stores))"
   ]
  },
  {
   "cell_type": "code",
   "execution_count": 0,
   "metadata": {
    "colab": {
     "base_uri": "https://localhost:8080/",
     "height": 170
    },
    "colab_type": "code",
    "id": "tXMCMDSeFz_W",
    "outputId": "679b736c-7faf-45ba-ca72-e356a5117e97"
   },
   "outputs": [
    {
     "name": "stderr",
     "output_type": "stream",
     "text": [
      "/usr/local/lib/python3.6/dist-packages/ipykernel_launcher.py:2: DataConversionWarning: A column-vector y was passed when a 1d array was expected. Please change the shape of y to (n_samples,), for example using ravel().\n",
      "  \n"
     ]
    },
    {
     "data": {
      "text/plain": [
       "RandomForestClassifier(bootstrap=True, class_weight=None, criterion='entropy',\n",
       "                       max_depth=20, max_features='auto', max_leaf_nodes=None,\n",
       "                       min_impurity_decrease=0.0, min_impurity_split=None,\n",
       "                       min_samples_leaf=1, min_samples_split=2,\n",
       "                       min_weight_fraction_leaf=0.0, n_estimators=250,\n",
       "                       n_jobs=-1, oob_score=False, random_state=None, verbose=0,\n",
       "                       warm_start=False)"
      ]
     },
     "execution_count": 160,
     "metadata": {
      "tags": []
     },
     "output_type": "execute_result"
    }
   ],
   "source": [
    "rnd_clf_stores_2 = RandomForestClassifier(n_estimators=250, max_depth=20,n_jobs=-1,criterion='entropy')\n",
    "rnd_clf_stores_2.fit(X_train_store,y_train_store)"
   ]
  },
  {
   "cell_type": "code",
   "execution_count": 0,
   "metadata": {
    "colab": {
     "base_uri": "https://localhost:8080/",
     "height": 51
    },
    "colab_type": "code",
    "id": "buWDavRTDHSx",
    "outputId": "7559ea24-ce9e-47ef-e3d8-0788d302113c"
   },
   "outputs": [
    {
     "name": "stdout",
     "output_type": "stream",
     "text": [
      "Training set accuracy:  0.867\n",
      "Test set accuracy:  0.501\n"
     ]
    }
   ],
   "source": [
    "score = rnd_clf_stores_2.score(X_train_store, y_train_store)\n",
    "score2 = rnd_clf_stores_2.score(X_test_store, y_test_store)\n",
    "\n",
    "print(\"Training set accuracy: \", '%.3f'%(score))\n",
    "print(\"Test set accuracy: \", '%.3f'%(score2))"
   ]
  },
  {
   "cell_type": "code",
   "execution_count": 0,
   "metadata": {
    "colab": {
     "base_uri": "https://localhost:8080/",
     "height": 238
    },
    "colab_type": "code",
    "id": "uH0lzxvqDHQ2",
    "outputId": "a0b356bd-81f8-41f2-887a-538f4d9c0b14"
   },
   "outputs": [
    {
     "name": "stdout",
     "output_type": "stream",
     "text": [
      "              precision    recall  f1-score   support\n",
      "\n",
      "           1       0.17      0.49      0.25     20917\n",
      "           2       0.14      0.19      0.16     11934\n",
      "           3       0.09      0.12      0.10     10695\n",
      "           4       0.24      0.21      0.22      7329\n",
      "           5       0.55      0.61      0.58      3595\n",
      "           6       0.80      0.56      0.66    157048\n",
      "\n",
      "    accuracy                           0.50    211518\n",
      "   macro avg       0.33      0.36      0.33    211518\n",
      "weighted avg       0.64      0.50      0.55    211518\n",
      "\n"
     ]
    }
   ],
   "source": [
    "y_pred_stores = rnd_clf_stores_2.predict(X_test_store)\n",
    "print(classification_report(y_test_store,y_pred_stores))"
   ]
  },
  {
   "cell_type": "code",
   "execution_count": 0,
   "metadata": {
    "colab": {
     "base_uri": "https://localhost:8080/",
     "height": 170
    },
    "colab_type": "code",
    "id": "r_i-JumHDHOu",
    "outputId": "c86458f5-d8a4-4a7c-a54c-30895dae79ae"
   },
   "outputs": [
    {
     "name": "stderr",
     "output_type": "stream",
     "text": [
      "/usr/local/lib/python3.6/dist-packages/ipykernel_launcher.py:2: DataConversionWarning: A column-vector y was passed when a 1d array was expected. Please change the shape of y to (n_samples,), for example using ravel().\n",
      "  \n"
     ]
    },
    {
     "data": {
      "text/plain": [
       "RandomForestClassifier(bootstrap=True, class_weight=None, criterion='entropy',\n",
       "                       max_depth=20, max_features='auto', max_leaf_nodes=None,\n",
       "                       min_impurity_decrease=0.0, min_impurity_split=None,\n",
       "                       min_samples_leaf=1, min_samples_split=2,\n",
       "                       min_weight_fraction_leaf=0.0, n_estimators=250,\n",
       "                       n_jobs=-1, oob_score=False, random_state=None, verbose=0,\n",
       "                       warm_start=False)"
      ]
     },
     "execution_count": 163,
     "metadata": {
      "tags": []
     },
     "output_type": "execute_result"
    }
   ],
   "source": [
    "rnd_clf_stores_3 = RandomForestClassifier(n_estimators=250, max_depth=20,n_jobs=-1,criterion='entropy')\n",
    "rnd_clf_stores_3.fit(X_train_store,y_train_store)"
   ]
  },
  {
   "cell_type": "code",
   "execution_count": 0,
   "metadata": {
    "colab": {
     "base_uri": "https://localhost:8080/",
     "height": 51
    },
    "colab_type": "code",
    "id": "irPpe_PeDHNA",
    "outputId": "563fe0e2-6ff7-4039-8d15-ea7ac4eb9043"
   },
   "outputs": [
    {
     "name": "stdout",
     "output_type": "stream",
     "text": [
      "Training set accuracy:  0.868\n",
      "Test set accuracy:  0.499\n"
     ]
    }
   ],
   "source": [
    "score = rnd_clf_stores_3.score(X_train_store, y_train_store)\n",
    "score2 = rnd_clf_stores_3.score(X_test_store, y_test_store)\n",
    "\n",
    "print(\"Training set accuracy: \", '%.3f'%(score))\n",
    "print(\"Test set accuracy: \", '%.3f'%(score2))"
   ]
  },
  {
   "cell_type": "code",
   "execution_count": 0,
   "metadata": {
    "colab": {
     "base_uri": "https://localhost:8080/",
     "height": 238
    },
    "colab_type": "code",
    "id": "fKiaYhytDHGd",
    "outputId": "127d105c-2066-41af-bb2a-1c727103acdb"
   },
   "outputs": [
    {
     "name": "stdout",
     "output_type": "stream",
     "text": [
      "              precision    recall  f1-score   support\n",
      "\n",
      "           1       0.17      0.49      0.25     20917\n",
      "           2       0.14      0.19      0.16     11934\n",
      "           3       0.09      0.12      0.10     10695\n",
      "           4       0.24      0.21      0.22      7329\n",
      "           5       0.55      0.61      0.58      3595\n",
      "           6       0.80      0.56      0.66    157048\n",
      "\n",
      "    accuracy                           0.50    211518\n",
      "   macro avg       0.33      0.36      0.33    211518\n",
      "weighted avg       0.64      0.50      0.55    211518\n",
      "\n"
     ]
    }
   ],
   "source": [
    "y_pred_stores = rnd_clf_stores_3.predict(X_test_store)\n",
    "print(classification_report(y_test_store,y_pred_stores))"
   ]
  },
  {
   "cell_type": "code",
   "execution_count": 0,
   "metadata": {
    "colab": {},
    "colab_type": "code",
    "id": "AYsIAFQ8DHFC"
   },
   "outputs": [],
   "source": []
  },
  {
   "cell_type": "code",
   "execution_count": 0,
   "metadata": {
    "colab": {},
    "colab_type": "code",
    "id": "yiEYDgLrDHCB"
   },
   "outputs": [],
   "source": []
  },
  {
   "cell_type": "code",
   "execution_count": 0,
   "metadata": {
    "colab": {},
    "colab_type": "code",
    "id": "VOJeg0WyDHAB"
   },
   "outputs": [],
   "source": []
  },
  {
   "cell_type": "code",
   "execution_count": 0,
   "metadata": {
    "colab": {},
    "colab_type": "code",
    "id": "ZpVTP3G2DG7V"
   },
   "outputs": [],
   "source": []
  },
  {
   "cell_type": "code",
   "execution_count": 0,
   "metadata": {
    "colab": {},
    "colab_type": "code",
    "id": "gEaH6VSPDG4Y"
   },
   "outputs": [],
   "source": []
  },
  {
   "cell_type": "code",
   "execution_count": 0,
   "metadata": {
    "colab": {},
    "colab_type": "code",
    "id": "kZEfoWU3Fz8u"
   },
   "outputs": [],
   "source": []
  },
  {
   "cell_type": "code",
   "execution_count": 0,
   "metadata": {
    "colab": {},
    "colab_type": "code",
    "id": "NVRNEHE5yvxP"
   },
   "outputs": [],
   "source": []
  },
  {
   "cell_type": "code",
   "execution_count": 0,
   "metadata": {
    "colab": {},
    "colab_type": "code",
    "id": "eTlf-Fuq8jTU"
   },
   "outputs": [],
   "source": []
  },
  {
   "cell_type": "code",
   "execution_count": 240,
   "metadata": {
    "colab": {
     "base_uri": "https://localhost:8080/",
     "height": 758
    },
    "colab_type": "code",
    "id": "XfgMSWmg8jQu",
    "outputId": "343dac4b-368f-403f-a76e-bfc69dc9a267"
   },
   "outputs": [
    {
     "data": {
      "text/html": [
       "<div>\n",
       "<style scoped>\n",
       "    .dataframe tbody tr th:only-of-type {\n",
       "        vertical-align: middle;\n",
       "    }\n",
       "\n",
       "    .dataframe tbody tr th {\n",
       "        vertical-align: top;\n",
       "    }\n",
       "\n",
       "    .dataframe thead th {\n",
       "        text-align: right;\n",
       "    }\n",
       "</style>\n",
       "<table border=\"1\" class=\"dataframe\">\n",
       "  <thead>\n",
       "    <tr style=\"text-align: right;\">\n",
       "      <th></th>\n",
       "      <th>DateTime</th>\n",
       "      <th>Customer_ID</th>\n",
       "      <th>Sequence_Num</th>\n",
       "      <th>Store_ID</th>\n",
       "      <th>Dwell_Time</th>\n",
       "      <th>Sequence_Num_New</th>\n",
       "      <th>Day</th>\n",
       "      <th>Month</th>\n",
       "      <th>freq</th>\n",
       "      <th>Next_Sequence</th>\n",
       "      <th>Next_Store</th>\n",
       "      <th>Target</th>\n",
       "      <th>Time</th>\n",
       "      <th>Category_ID</th>\n",
       "    </tr>\n",
       "  </thead>\n",
       "  <tbody>\n",
       "    <tr>\n",
       "      <th>0</th>\n",
       "      <td>2018-01-01 10:03:50</td>\n",
       "      <td>26</td>\n",
       "      <td>3</td>\n",
       "      <td>9336555</td>\n",
       "      <td>35</td>\n",
       "      <td>1</td>\n",
       "      <td>0.0</td>\n",
       "      <td>1.0</td>\n",
       "      <td>2.0</td>\n",
       "      <td>2.0</td>\n",
       "      <td>5078501</td>\n",
       "      <td>5078501</td>\n",
       "      <td>10:03:50</td>\n",
       "      <td>14</td>\n",
       "    </tr>\n",
       "    <tr>\n",
       "      <th>1</th>\n",
       "      <td>2018-01-01 11:37:30</td>\n",
       "      <td>111</td>\n",
       "      <td>4</td>\n",
       "      <td>9336555</td>\n",
       "      <td>36</td>\n",
       "      <td>3</td>\n",
       "      <td>0.0</td>\n",
       "      <td>1.0</td>\n",
       "      <td>3.0</td>\n",
       "      <td>1.0</td>\n",
       "      <td>9467635</td>\n",
       "      <td>0</td>\n",
       "      <td>11:37:30</td>\n",
       "      <td>14</td>\n",
       "    </tr>\n",
       "    <tr>\n",
       "      <th>2</th>\n",
       "      <td>2018-01-01 12:34:30</td>\n",
       "      <td>218</td>\n",
       "      <td>6</td>\n",
       "      <td>9336555</td>\n",
       "      <td>55</td>\n",
       "      <td>1</td>\n",
       "      <td>0.0</td>\n",
       "      <td>1.0</td>\n",
       "      <td>1.0</td>\n",
       "      <td>1.0</td>\n",
       "      <td>9709631</td>\n",
       "      <td>0</td>\n",
       "      <td>12:34:30</td>\n",
       "      <td>14</td>\n",
       "    </tr>\n",
       "    <tr>\n",
       "      <th>3</th>\n",
       "      <td>2018-01-01 14:50:30</td>\n",
       "      <td>459</td>\n",
       "      <td>6</td>\n",
       "      <td>9336555</td>\n",
       "      <td>30</td>\n",
       "      <td>5</td>\n",
       "      <td>0.0</td>\n",
       "      <td>1.0</td>\n",
       "      <td>5.0</td>\n",
       "      <td>1.0</td>\n",
       "      <td>9399994</td>\n",
       "      <td>0</td>\n",
       "      <td>14:50:30</td>\n",
       "      <td>14</td>\n",
       "    </tr>\n",
       "    <tr>\n",
       "      <th>4</th>\n",
       "      <td>2018-01-01 17:22:30</td>\n",
       "      <td>737</td>\n",
       "      <td>6</td>\n",
       "      <td>9336555</td>\n",
       "      <td>30</td>\n",
       "      <td>1</td>\n",
       "      <td>0.0</td>\n",
       "      <td>1.0</td>\n",
       "      <td>4.0</td>\n",
       "      <td>2.0</td>\n",
       "      <td>7614638</td>\n",
       "      <td>7614638</td>\n",
       "      <td>17:22:30</td>\n",
       "      <td>14</td>\n",
       "    </tr>\n",
       "    <tr>\n",
       "      <th>...</th>\n",
       "      <td>...</td>\n",
       "      <td>...</td>\n",
       "      <td>...</td>\n",
       "      <td>...</td>\n",
       "      <td>...</td>\n",
       "      <td>...</td>\n",
       "      <td>...</td>\n",
       "      <td>...</td>\n",
       "      <td>...</td>\n",
       "      <td>...</td>\n",
       "      <td>...</td>\n",
       "      <td>...</td>\n",
       "      <td>...</td>\n",
       "      <td>...</td>\n",
       "    </tr>\n",
       "    <tr>\n",
       "      <th>1684860</th>\n",
       "      <td>2018-06-03 15:15:40</td>\n",
       "      <td>471311</td>\n",
       "      <td>0</td>\n",
       "      <td>5691963</td>\n",
       "      <td>7</td>\n",
       "      <td>1</td>\n",
       "      <td>6.0</td>\n",
       "      <td>6.0</td>\n",
       "      <td>2.0</td>\n",
       "      <td>2.0</td>\n",
       "      <td>5163351</td>\n",
       "      <td>5163351</td>\n",
       "      <td>15:15:40</td>\n",
       "      <td>20</td>\n",
       "    </tr>\n",
       "    <tr>\n",
       "      <th>1684861</th>\n",
       "      <td>2018-06-20 18:32:40</td>\n",
       "      <td>204643</td>\n",
       "      <td>10</td>\n",
       "      <td>5691963</td>\n",
       "      <td>8</td>\n",
       "      <td>7</td>\n",
       "      <td>2.0</td>\n",
       "      <td>6.0</td>\n",
       "      <td>8.0</td>\n",
       "      <td>8.0</td>\n",
       "      <td>7965999</td>\n",
       "      <td>7965999</td>\n",
       "      <td>18:32:40</td>\n",
       "      <td>20</td>\n",
       "    </tr>\n",
       "    <tr>\n",
       "      <th>1684862</th>\n",
       "      <td>2018-06-21 14:14:20</td>\n",
       "      <td>509377</td>\n",
       "      <td>8</td>\n",
       "      <td>5691963</td>\n",
       "      <td>8</td>\n",
       "      <td>1</td>\n",
       "      <td>3.0</td>\n",
       "      <td>6.0</td>\n",
       "      <td>6.0</td>\n",
       "      <td>44.0</td>\n",
       "      <td>7614638</td>\n",
       "      <td>7614638</td>\n",
       "      <td>14:14:20</td>\n",
       "      <td>20</td>\n",
       "    </tr>\n",
       "    <tr>\n",
       "      <th>1684863</th>\n",
       "      <td>2018-06-21 16:16:50</td>\n",
       "      <td>485293</td>\n",
       "      <td>19</td>\n",
       "      <td>5691963</td>\n",
       "      <td>17</td>\n",
       "      <td>4</td>\n",
       "      <td>3.0</td>\n",
       "      <td>6.0</td>\n",
       "      <td>4.0</td>\n",
       "      <td>1.0</td>\n",
       "      <td>9625066</td>\n",
       "      <td>0</td>\n",
       "      <td>16:16:50</td>\n",
       "      <td>20</td>\n",
       "    </tr>\n",
       "    <tr>\n",
       "      <th>1684864</th>\n",
       "      <td>2018-06-30 10:36:10</td>\n",
       "      <td>16398</td>\n",
       "      <td>0</td>\n",
       "      <td>5691963</td>\n",
       "      <td>35</td>\n",
       "      <td>56</td>\n",
       "      <td>5.0</td>\n",
       "      <td>6.0</td>\n",
       "      <td>11.0</td>\n",
       "      <td>10.0</td>\n",
       "      <td>9446308</td>\n",
       "      <td>0</td>\n",
       "      <td>10:36:10</td>\n",
       "      <td>20</td>\n",
       "    </tr>\n",
       "  </tbody>\n",
       "</table>\n",
       "<p>1684865 rows × 14 columns</p>\n",
       "</div>"
      ],
      "text/plain": [
       "                   DateTime  Customer_ID  Sequence_Num  Store_ID  Dwell_Time  \\\n",
       "0       2018-01-01 10:03:50           26             3   9336555          35   \n",
       "1       2018-01-01 11:37:30          111             4   9336555          36   \n",
       "2       2018-01-01 12:34:30          218             6   9336555          55   \n",
       "3       2018-01-01 14:50:30          459             6   9336555          30   \n",
       "4       2018-01-01 17:22:30          737             6   9336555          30   \n",
       "...                     ...          ...           ...       ...         ...   \n",
       "1684860 2018-06-03 15:15:40       471311             0   5691963           7   \n",
       "1684861 2018-06-20 18:32:40       204643            10   5691963           8   \n",
       "1684862 2018-06-21 14:14:20       509377             8   5691963           8   \n",
       "1684863 2018-06-21 16:16:50       485293            19   5691963          17   \n",
       "1684864 2018-06-30 10:36:10        16398             0   5691963          35   \n",
       "\n",
       "         Sequence_Num_New  Day  Month  freq  Next_Sequence  Next_Store  \\\n",
       "0                       1  0.0    1.0   2.0            2.0     5078501   \n",
       "1                       3  0.0    1.0   3.0            1.0     9467635   \n",
       "2                       1  0.0    1.0   1.0            1.0     9709631   \n",
       "3                       5  0.0    1.0   5.0            1.0     9399994   \n",
       "4                       1  0.0    1.0   4.0            2.0     7614638   \n",
       "...                   ...  ...    ...   ...            ...         ...   \n",
       "1684860                 1  6.0    6.0   2.0            2.0     5163351   \n",
       "1684861                 7  2.0    6.0   8.0            8.0     7965999   \n",
       "1684862                 1  3.0    6.0   6.0           44.0     7614638   \n",
       "1684863                 4  3.0    6.0   4.0            1.0     9625066   \n",
       "1684864                56  5.0    6.0  11.0           10.0     9446308   \n",
       "\n",
       "          Target      Time  Category_ID  \n",
       "0        5078501  10:03:50           14  \n",
       "1              0  11:37:30           14  \n",
       "2              0  12:34:30           14  \n",
       "3              0  14:50:30           14  \n",
       "4        7614638  17:22:30           14  \n",
       "...          ...       ...          ...  \n",
       "1684860  5163351  15:15:40           20  \n",
       "1684861  7965999  18:32:40           20  \n",
       "1684862  7614638  14:14:20           20  \n",
       "1684863        0  16:16:50           20  \n",
       "1684864        0  10:36:10           20  \n",
       "\n",
       "[1684865 rows x 14 columns]"
      ]
     },
     "execution_count": 240,
     "metadata": {
      "tags": []
     },
     "output_type": "execute_result"
    }
   ],
   "source": [
    "df_visit_dupes"
   ]
  },
  {
   "cell_type": "code",
   "execution_count": 241,
   "metadata": {
    "colab": {
     "base_uri": "https://localhost:8080/",
     "height": 1000
    },
    "colab_type": "code",
    "id": "UmNcxgDk8nHw",
    "outputId": "c5e552f9-8aa3-4292-8337-bcc76517e3e7"
   },
   "outputs": [
    {
     "data": {
      "text/html": [
       "<div>\n",
       "<style scoped>\n",
       "    .dataframe tbody tr th:only-of-type {\n",
       "        vertical-align: middle;\n",
       "    }\n",
       "\n",
       "    .dataframe tbody tr th {\n",
       "        vertical-align: top;\n",
       "    }\n",
       "\n",
       "    .dataframe thead th {\n",
       "        text-align: right;\n",
       "    }\n",
       "</style>\n",
       "<table border=\"1\" class=\"dataframe\">\n",
       "  <thead>\n",
       "    <tr style=\"text-align: right;\">\n",
       "      <th></th>\n",
       "      <th>DateTime</th>\n",
       "      <th>Customer_ID</th>\n",
       "      <th>Sequence_Num</th>\n",
       "      <th>Store_ID</th>\n",
       "      <th>Dwell_Time</th>\n",
       "      <th>Sequence_Num_New</th>\n",
       "      <th>Day</th>\n",
       "      <th>Month</th>\n",
       "      <th>freq</th>\n",
       "      <th>Next_Sequence</th>\n",
       "      <th>Next_Store</th>\n",
       "      <th>Target</th>\n",
       "      <th>Time</th>\n",
       "      <th>Category_ID</th>\n",
       "    </tr>\n",
       "  </thead>\n",
       "  <tbody>\n",
       "    <tr>\n",
       "      <th>0</th>\n",
       "      <td>2018-01-01 10:03:50</td>\n",
       "      <td>26</td>\n",
       "      <td>3</td>\n",
       "      <td>9336555</td>\n",
       "      <td>35</td>\n",
       "      <td>1</td>\n",
       "      <td>0.0</td>\n",
       "      <td>1.0</td>\n",
       "      <td>2.0</td>\n",
       "      <td>2.0</td>\n",
       "      <td>5078501</td>\n",
       "      <td>5078501</td>\n",
       "      <td>10:03:50</td>\n",
       "      <td>14</td>\n",
       "    </tr>\n",
       "    <tr>\n",
       "      <th>5782</th>\n",
       "      <td>2018-01-01 10:03:50</td>\n",
       "      <td>26</td>\n",
       "      <td>6</td>\n",
       "      <td>5078501</td>\n",
       "      <td>12</td>\n",
       "      <td>2</td>\n",
       "      <td>0.0</td>\n",
       "      <td>1.0</td>\n",
       "      <td>2.0</td>\n",
       "      <td>1.0</td>\n",
       "      <td>2</td>\n",
       "      <td>0</td>\n",
       "      <td>10:03:50</td>\n",
       "      <td>3</td>\n",
       "    </tr>\n",
       "    <tr>\n",
       "      <th>11062</th>\n",
       "      <td>2018-01-01 10:05:40</td>\n",
       "      <td>27</td>\n",
       "      <td>2</td>\n",
       "      <td>2</td>\n",
       "      <td>44</td>\n",
       "      <td>1</td>\n",
       "      <td>0.0</td>\n",
       "      <td>1.0</td>\n",
       "      <td>1.0</td>\n",
       "      <td>1.0</td>\n",
       "      <td>5080089</td>\n",
       "      <td>0</td>\n",
       "      <td>10:05:40</td>\n",
       "      <td>8</td>\n",
       "    </tr>\n",
       "    <tr>\n",
       "      <th>172783</th>\n",
       "      <td>2018-01-01 10:06:00</td>\n",
       "      <td>28</td>\n",
       "      <td>0</td>\n",
       "      <td>5080089</td>\n",
       "      <td>33</td>\n",
       "      <td>1</td>\n",
       "      <td>0.0</td>\n",
       "      <td>1.0</td>\n",
       "      <td>1.0</td>\n",
       "      <td>1.0</td>\n",
       "      <td>5079256</td>\n",
       "      <td>0</td>\n",
       "      <td>10:06:00</td>\n",
       "      <td>8</td>\n",
       "    </tr>\n",
       "    <tr>\n",
       "      <th>280983</th>\n",
       "      <td>2018-01-01 10:08:50</td>\n",
       "      <td>29</td>\n",
       "      <td>0</td>\n",
       "      <td>5079256</td>\n",
       "      <td>27</td>\n",
       "      <td>1</td>\n",
       "      <td>0.0</td>\n",
       "      <td>1.0</td>\n",
       "      <td>2.0</td>\n",
       "      <td>2.0</td>\n",
       "      <td>5080089</td>\n",
       "      <td>5080089</td>\n",
       "      <td>10:08:50</td>\n",
       "      <td>8</td>\n",
       "    </tr>\n",
       "    <tr>\n",
       "      <th>172784</th>\n",
       "      <td>2018-01-01 10:08:50</td>\n",
       "      <td>29</td>\n",
       "      <td>3</td>\n",
       "      <td>5080089</td>\n",
       "      <td>174</td>\n",
       "      <td>2</td>\n",
       "      <td>0.0</td>\n",
       "      <td>1.0</td>\n",
       "      <td>2.0</td>\n",
       "      <td>1.0</td>\n",
       "      <td>3</td>\n",
       "      <td>0</td>\n",
       "      <td>10:08:50</td>\n",
       "      <td>8</td>\n",
       "    </tr>\n",
       "    <tr>\n",
       "      <th>369070</th>\n",
       "      <td>2018-01-01 10:10:50</td>\n",
       "      <td>30</td>\n",
       "      <td>0</td>\n",
       "      <td>3</td>\n",
       "      <td>9</td>\n",
       "      <td>1</td>\n",
       "      <td>0.0</td>\n",
       "      <td>1.0</td>\n",
       "      <td>2.0</td>\n",
       "      <td>2.0</td>\n",
       "      <td>9709631</td>\n",
       "      <td>9709631</td>\n",
       "      <td>10:10:50</td>\n",
       "      <td>8</td>\n",
       "    </tr>\n",
       "    <tr>\n",
       "      <th>385707</th>\n",
       "      <td>2018-01-01 10:10:50</td>\n",
       "      <td>30</td>\n",
       "      <td>3</td>\n",
       "      <td>9709631</td>\n",
       "      <td>17</td>\n",
       "      <td>2</td>\n",
       "      <td>0.0</td>\n",
       "      <td>1.0</td>\n",
       "      <td>2.0</td>\n",
       "      <td>1.0</td>\n",
       "      <td>5080097</td>\n",
       "      <td>0</td>\n",
       "      <td>10:10:50</td>\n",
       "      <td>8</td>\n",
       "    </tr>\n",
       "    <tr>\n",
       "      <th>445411</th>\n",
       "      <td>2018-01-01 10:11:20</td>\n",
       "      <td>31</td>\n",
       "      <td>2</td>\n",
       "      <td>5080097</td>\n",
       "      <td>44</td>\n",
       "      <td>1</td>\n",
       "      <td>0.0</td>\n",
       "      <td>1.0</td>\n",
       "      <td>2.0</td>\n",
       "      <td>2.0</td>\n",
       "      <td>5079256</td>\n",
       "      <td>5079256</td>\n",
       "      <td>10:11:20</td>\n",
       "      <td>15</td>\n",
       "    </tr>\n",
       "    <tr>\n",
       "      <th>280984</th>\n",
       "      <td>2018-01-01 10:11:20</td>\n",
       "      <td>31</td>\n",
       "      <td>5</td>\n",
       "      <td>5079256</td>\n",
       "      <td>19</td>\n",
       "      <td>2</td>\n",
       "      <td>0.0</td>\n",
       "      <td>1.0</td>\n",
       "      <td>2.0</td>\n",
       "      <td>1.0</td>\n",
       "      <td>5080089</td>\n",
       "      <td>0</td>\n",
       "      <td>10:11:20</td>\n",
       "      <td>8</td>\n",
       "    </tr>\n",
       "    <tr>\n",
       "      <th>172785</th>\n",
       "      <td>2018-01-01 10:18:50</td>\n",
       "      <td>32</td>\n",
       "      <td>8</td>\n",
       "      <td>5080089</td>\n",
       "      <td>45</td>\n",
       "      <td>1</td>\n",
       "      <td>0.0</td>\n",
       "      <td>1.0</td>\n",
       "      <td>3.0</td>\n",
       "      <td>2.0</td>\n",
       "      <td>2</td>\n",
       "      <td>2</td>\n",
       "      <td>10:18:50</td>\n",
       "      <td>8</td>\n",
       "    </tr>\n",
       "    <tr>\n",
       "      <th>11063</th>\n",
       "      <td>2018-01-01 10:18:50</td>\n",
       "      <td>32</td>\n",
       "      <td>21</td>\n",
       "      <td>2</td>\n",
       "      <td>16</td>\n",
       "      <td>2</td>\n",
       "      <td>0.0</td>\n",
       "      <td>1.0</td>\n",
       "      <td>3.0</td>\n",
       "      <td>3.0</td>\n",
       "      <td>5116053</td>\n",
       "      <td>5116053</td>\n",
       "      <td>10:18:50</td>\n",
       "      <td>8</td>\n",
       "    </tr>\n",
       "    <tr>\n",
       "      <th>452167</th>\n",
       "      <td>2018-01-01 10:18:50</td>\n",
       "      <td>32</td>\n",
       "      <td>22</td>\n",
       "      <td>5116053</td>\n",
       "      <td>11</td>\n",
       "      <td>3</td>\n",
       "      <td>0.0</td>\n",
       "      <td>1.0</td>\n",
       "      <td>3.0</td>\n",
       "      <td>1.0</td>\n",
       "      <td>5079133</td>\n",
       "      <td>0</td>\n",
       "      <td>10:18:50</td>\n",
       "      <td>2</td>\n",
       "    </tr>\n",
       "    <tr>\n",
       "      <th>452757</th>\n",
       "      <td>2018-01-01 10:21:50</td>\n",
       "      <td>33</td>\n",
       "      <td>2</td>\n",
       "      <td>5079133</td>\n",
       "      <td>18</td>\n",
       "      <td>1</td>\n",
       "      <td>0.0</td>\n",
       "      <td>1.0</td>\n",
       "      <td>1.0</td>\n",
       "      <td>1.0</td>\n",
       "      <td>5079256</td>\n",
       "      <td>0</td>\n",
       "      <td>10:21:50</td>\n",
       "      <td>5</td>\n",
       "    </tr>\n",
       "    <tr>\n",
       "      <th>280985</th>\n",
       "      <td>2018-01-01 10:23:30</td>\n",
       "      <td>34</td>\n",
       "      <td>2</td>\n",
       "      <td>5079256</td>\n",
       "      <td>6</td>\n",
       "      <td>1</td>\n",
       "      <td>0.0</td>\n",
       "      <td>1.0</td>\n",
       "      <td>1.0</td>\n",
       "      <td>1.0</td>\n",
       "      <td>5163263</td>\n",
       "      <td>0</td>\n",
       "      <td>10:23:30</td>\n",
       "      <td>8</td>\n",
       "    </tr>\n",
       "  </tbody>\n",
       "</table>\n",
       "</div>"
      ],
      "text/plain": [
       "                  DateTime  Customer_ID  Sequence_Num  Store_ID  Dwell_Time  \\\n",
       "0      2018-01-01 10:03:50           26             3   9336555          35   \n",
       "5782   2018-01-01 10:03:50           26             6   5078501          12   \n",
       "11062  2018-01-01 10:05:40           27             2         2          44   \n",
       "172783 2018-01-01 10:06:00           28             0   5080089          33   \n",
       "280983 2018-01-01 10:08:50           29             0   5079256          27   \n",
       "172784 2018-01-01 10:08:50           29             3   5080089         174   \n",
       "369070 2018-01-01 10:10:50           30             0         3           9   \n",
       "385707 2018-01-01 10:10:50           30             3   9709631          17   \n",
       "445411 2018-01-01 10:11:20           31             2   5080097          44   \n",
       "280984 2018-01-01 10:11:20           31             5   5079256          19   \n",
       "172785 2018-01-01 10:18:50           32             8   5080089          45   \n",
       "11063  2018-01-01 10:18:50           32            21         2          16   \n",
       "452167 2018-01-01 10:18:50           32            22   5116053          11   \n",
       "452757 2018-01-01 10:21:50           33             2   5079133          18   \n",
       "280985 2018-01-01 10:23:30           34             2   5079256           6   \n",
       "\n",
       "        Sequence_Num_New  Day  Month  freq  Next_Sequence  Next_Store  \\\n",
       "0                      1  0.0    1.0   2.0            2.0     5078501   \n",
       "5782                   2  0.0    1.0   2.0            1.0           2   \n",
       "11062                  1  0.0    1.0   1.0            1.0     5080089   \n",
       "172783                 1  0.0    1.0   1.0            1.0     5079256   \n",
       "280983                 1  0.0    1.0   2.0            2.0     5080089   \n",
       "172784                 2  0.0    1.0   2.0            1.0           3   \n",
       "369070                 1  0.0    1.0   2.0            2.0     9709631   \n",
       "385707                 2  0.0    1.0   2.0            1.0     5080097   \n",
       "445411                 1  0.0    1.0   2.0            2.0     5079256   \n",
       "280984                 2  0.0    1.0   2.0            1.0     5080089   \n",
       "172785                 1  0.0    1.0   3.0            2.0           2   \n",
       "11063                  2  0.0    1.0   3.0            3.0     5116053   \n",
       "452167                 3  0.0    1.0   3.0            1.0     5079133   \n",
       "452757                 1  0.0    1.0   1.0            1.0     5079256   \n",
       "280985                 1  0.0    1.0   1.0            1.0     5163263   \n",
       "\n",
       "         Target      Time  Category_ID  \n",
       "0       5078501  10:03:50           14  \n",
       "5782          0  10:03:50            3  \n",
       "11062         0  10:05:40            8  \n",
       "172783        0  10:06:00            8  \n",
       "280983  5080089  10:08:50            8  \n",
       "172784        0  10:08:50            8  \n",
       "369070  9709631  10:10:50            8  \n",
       "385707        0  10:10:50            8  \n",
       "445411  5079256  10:11:20           15  \n",
       "280984        0  10:11:20            8  \n",
       "172785        2  10:18:50            8  \n",
       "11063   5116053  10:18:50            8  \n",
       "452167        0  10:18:50            2  \n",
       "452757        0  10:21:50            5  \n",
       "280985        0  10:23:30            8  "
      ]
     },
     "execution_count": 241,
     "metadata": {
      "tags": []
     },
     "output_type": "execute_result"
    }
   ],
   "source": [
    "\n",
    "df_visit_dupes.sort_values(by=['DateTime','Customer_ID','Sequence_Num_New']).head(15)"
   ]
  },
  {
   "cell_type": "code",
   "execution_count": 0,
   "metadata": {
    "colab": {},
    "colab_type": "code",
    "id": "TaWVUfDD88rm"
   },
   "outputs": [],
   "source": [
    "df_visit_dupes.drop(columns='Sequence_Num' , axis=1,inplace=True)"
   ]
  },
  {
   "cell_type": "code",
   "execution_count": 0,
   "metadata": {
    "colab": {},
    "colab_type": "code",
    "id": "iwYf3ELD9P7U"
   },
   "outputs": [],
   "source": [
    "df_visit_dupes = df_visit_dupes.sort_values(by=['DateTime','Customer_ID','Sequence_Num_New'])"
   ]
  },
  {
   "cell_type": "code",
   "execution_count": 244,
   "metadata": {
    "colab": {
     "base_uri": "https://localhost:8080/",
     "height": 758
    },
    "colab_type": "code",
    "id": "M36DP-x79Sof",
    "outputId": "8e296705-06c8-49c6-f0e0-ed125be2b47f"
   },
   "outputs": [
    {
     "data": {
      "text/html": [
       "<div>\n",
       "<style scoped>\n",
       "    .dataframe tbody tr th:only-of-type {\n",
       "        vertical-align: middle;\n",
       "    }\n",
       "\n",
       "    .dataframe tbody tr th {\n",
       "        vertical-align: top;\n",
       "    }\n",
       "\n",
       "    .dataframe thead th {\n",
       "        text-align: right;\n",
       "    }\n",
       "</style>\n",
       "<table border=\"1\" class=\"dataframe\">\n",
       "  <thead>\n",
       "    <tr style=\"text-align: right;\">\n",
       "      <th></th>\n",
       "      <th>DateTime</th>\n",
       "      <th>Customer_ID</th>\n",
       "      <th>Store_ID</th>\n",
       "      <th>Dwell_Time</th>\n",
       "      <th>Sequence_Num_New</th>\n",
       "      <th>Day</th>\n",
       "      <th>Month</th>\n",
       "      <th>freq</th>\n",
       "      <th>Next_Sequence</th>\n",
       "      <th>Next_Store</th>\n",
       "      <th>Target</th>\n",
       "      <th>Time</th>\n",
       "      <th>Category_ID</th>\n",
       "    </tr>\n",
       "  </thead>\n",
       "  <tbody>\n",
       "    <tr>\n",
       "      <th>0</th>\n",
       "      <td>2018-01-01 10:03:50</td>\n",
       "      <td>26</td>\n",
       "      <td>9336555</td>\n",
       "      <td>35</td>\n",
       "      <td>1</td>\n",
       "      <td>0.0</td>\n",
       "      <td>1.0</td>\n",
       "      <td>2.0</td>\n",
       "      <td>2.0</td>\n",
       "      <td>5078501</td>\n",
       "      <td>5078501</td>\n",
       "      <td>10:03:50</td>\n",
       "      <td>14</td>\n",
       "    </tr>\n",
       "    <tr>\n",
       "      <th>5782</th>\n",
       "      <td>2018-01-01 10:03:50</td>\n",
       "      <td>26</td>\n",
       "      <td>5078501</td>\n",
       "      <td>12</td>\n",
       "      <td>2</td>\n",
       "      <td>0.0</td>\n",
       "      <td>1.0</td>\n",
       "      <td>2.0</td>\n",
       "      <td>1.0</td>\n",
       "      <td>2</td>\n",
       "      <td>0</td>\n",
       "      <td>10:03:50</td>\n",
       "      <td>3</td>\n",
       "    </tr>\n",
       "    <tr>\n",
       "      <th>11062</th>\n",
       "      <td>2018-01-01 10:05:40</td>\n",
       "      <td>27</td>\n",
       "      <td>2</td>\n",
       "      <td>44</td>\n",
       "      <td>1</td>\n",
       "      <td>0.0</td>\n",
       "      <td>1.0</td>\n",
       "      <td>1.0</td>\n",
       "      <td>1.0</td>\n",
       "      <td>5080089</td>\n",
       "      <td>0</td>\n",
       "      <td>10:05:40</td>\n",
       "      <td>8</td>\n",
       "    </tr>\n",
       "    <tr>\n",
       "      <th>172783</th>\n",
       "      <td>2018-01-01 10:06:00</td>\n",
       "      <td>28</td>\n",
       "      <td>5080089</td>\n",
       "      <td>33</td>\n",
       "      <td>1</td>\n",
       "      <td>0.0</td>\n",
       "      <td>1.0</td>\n",
       "      <td>1.0</td>\n",
       "      <td>1.0</td>\n",
       "      <td>5079256</td>\n",
       "      <td>0</td>\n",
       "      <td>10:06:00</td>\n",
       "      <td>8</td>\n",
       "    </tr>\n",
       "    <tr>\n",
       "      <th>280983</th>\n",
       "      <td>2018-01-01 10:08:50</td>\n",
       "      <td>29</td>\n",
       "      <td>5079256</td>\n",
       "      <td>27</td>\n",
       "      <td>1</td>\n",
       "      <td>0.0</td>\n",
       "      <td>1.0</td>\n",
       "      <td>2.0</td>\n",
       "      <td>2.0</td>\n",
       "      <td>5080089</td>\n",
       "      <td>5080089</td>\n",
       "      <td>10:08:50</td>\n",
       "      <td>8</td>\n",
       "    </tr>\n",
       "    <tr>\n",
       "      <th>...</th>\n",
       "      <td>...</td>\n",
       "      <td>...</td>\n",
       "      <td>...</td>\n",
       "      <td>...</td>\n",
       "      <td>...</td>\n",
       "      <td>...</td>\n",
       "      <td>...</td>\n",
       "      <td>...</td>\n",
       "      <td>...</td>\n",
       "      <td>...</td>\n",
       "      <td>...</td>\n",
       "      <td>...</td>\n",
       "      <td>...</td>\n",
       "    </tr>\n",
       "    <tr>\n",
       "      <th>172781</th>\n",
       "      <td>2018-06-30 20:58:00</td>\n",
       "      <td>534445</td>\n",
       "      <td>2</td>\n",
       "      <td>7</td>\n",
       "      <td>1</td>\n",
       "      <td>5.0</td>\n",
       "      <td>6.0</td>\n",
       "      <td>2.0</td>\n",
       "      <td>2.0</td>\n",
       "      <td>5079256</td>\n",
       "      <td>5079256</td>\n",
       "      <td>20:58:00</td>\n",
       "      <td>8</td>\n",
       "    </tr>\n",
       "    <tr>\n",
       "      <th>369069</th>\n",
       "      <td>2018-06-30 20:58:00</td>\n",
       "      <td>534445</td>\n",
       "      <td>5079256</td>\n",
       "      <td>7</td>\n",
       "      <td>2</td>\n",
       "      <td>5.0</td>\n",
       "      <td>6.0</td>\n",
       "      <td>2.0</td>\n",
       "      <td>29.0</td>\n",
       "      <td>5080046</td>\n",
       "      <td>5080046</td>\n",
       "      <td>20:58:00</td>\n",
       "      <td>8</td>\n",
       "    </tr>\n",
       "    <tr>\n",
       "      <th>661894</th>\n",
       "      <td>2018-06-30 20:58:20</td>\n",
       "      <td>192166</td>\n",
       "      <td>5080046</td>\n",
       "      <td>14</td>\n",
       "      <td>29</td>\n",
       "      <td>5.0</td>\n",
       "      <td>6.0</td>\n",
       "      <td>1.0</td>\n",
       "      <td>1.0</td>\n",
       "      <td>5079281</td>\n",
       "      <td>0</td>\n",
       "      <td>20:58:20</td>\n",
       "      <td>4</td>\n",
       "    </tr>\n",
       "    <tr>\n",
       "      <th>585030</th>\n",
       "      <td>2018-06-30 20:59:30</td>\n",
       "      <td>534446</td>\n",
       "      <td>5079281</td>\n",
       "      <td>81</td>\n",
       "      <td>1</td>\n",
       "      <td>5.0</td>\n",
       "      <td>6.0</td>\n",
       "      <td>1.0</td>\n",
       "      <td>14.0</td>\n",
       "      <td>2</td>\n",
       "      <td>2</td>\n",
       "      <td>20:59:30</td>\n",
       "      <td>8</td>\n",
       "    </tr>\n",
       "    <tr>\n",
       "      <th>172782</th>\n",
       "      <td>2018-06-30 20:59:50</td>\n",
       "      <td>169391</td>\n",
       "      <td>2</td>\n",
       "      <td>6</td>\n",
       "      <td>14</td>\n",
       "      <td>5.0</td>\n",
       "      <td>6.0</td>\n",
       "      <td>1.0</td>\n",
       "      <td>1.0</td>\n",
       "      <td>2</td>\n",
       "      <td>0</td>\n",
       "      <td>20:59:50</td>\n",
       "      <td>8</td>\n",
       "    </tr>\n",
       "  </tbody>\n",
       "</table>\n",
       "<p>1684865 rows × 13 columns</p>\n",
       "</div>"
      ],
      "text/plain": [
       "                  DateTime  Customer_ID  Store_ID  Dwell_Time  \\\n",
       "0      2018-01-01 10:03:50           26   9336555          35   \n",
       "5782   2018-01-01 10:03:50           26   5078501          12   \n",
       "11062  2018-01-01 10:05:40           27         2          44   \n",
       "172783 2018-01-01 10:06:00           28   5080089          33   \n",
       "280983 2018-01-01 10:08:50           29   5079256          27   \n",
       "...                    ...          ...       ...         ...   \n",
       "172781 2018-06-30 20:58:00       534445         2           7   \n",
       "369069 2018-06-30 20:58:00       534445   5079256           7   \n",
       "661894 2018-06-30 20:58:20       192166   5080046          14   \n",
       "585030 2018-06-30 20:59:30       534446   5079281          81   \n",
       "172782 2018-06-30 20:59:50       169391         2           6   \n",
       "\n",
       "        Sequence_Num_New  Day  Month  freq  Next_Sequence  Next_Store  \\\n",
       "0                      1  0.0    1.0   2.0            2.0     5078501   \n",
       "5782                   2  0.0    1.0   2.0            1.0           2   \n",
       "11062                  1  0.0    1.0   1.0            1.0     5080089   \n",
       "172783                 1  0.0    1.0   1.0            1.0     5079256   \n",
       "280983                 1  0.0    1.0   2.0            2.0     5080089   \n",
       "...                  ...  ...    ...   ...            ...         ...   \n",
       "172781                 1  5.0    6.0   2.0            2.0     5079256   \n",
       "369069                 2  5.0    6.0   2.0           29.0     5080046   \n",
       "661894                29  5.0    6.0   1.0            1.0     5079281   \n",
       "585030                 1  5.0    6.0   1.0           14.0           2   \n",
       "172782                14  5.0    6.0   1.0            1.0           2   \n",
       "\n",
       "         Target      Time  Category_ID  \n",
       "0       5078501  10:03:50           14  \n",
       "5782          0  10:03:50            3  \n",
       "11062         0  10:05:40            8  \n",
       "172783        0  10:06:00            8  \n",
       "280983  5080089  10:08:50            8  \n",
       "...         ...       ...          ...  \n",
       "172781  5079256  20:58:00            8  \n",
       "369069  5080046  20:58:00            8  \n",
       "661894        0  20:58:20            4  \n",
       "585030        2  20:59:30            8  \n",
       "172782        0  20:59:50            8  \n",
       "\n",
       "[1684865 rows x 13 columns]"
      ]
     },
     "execution_count": 244,
     "metadata": {
      "tags": []
     },
     "output_type": "execute_result"
    }
   ],
   "source": [
    "df_visit_dupes"
   ]
  },
  {
   "cell_type": "code",
   "execution_count": 0,
   "metadata": {
    "colab": {},
    "colab_type": "code",
    "id": "97Kw9IJW9dwm"
   },
   "outputs": [],
   "source": [
    "def conditions(x):\n",
    "    if x == 2:\n",
    "        return 1\n",
    "    elif x == 5080089:\n",
    "        return 2\n",
    "    elif x == 5079256:\n",
    "      return 3\n",
    "    elif x == 9709631:\n",
    "      return 4\n",
    "    elif x == 5079942:\n",
    "      return 5\n",
    "    else:\n",
    "        return 6\n",
    "\n",
    "func = np.vectorize(conditions)\n",
    "New_Target = func(df_visit_dupes[\"Store_ID\"])"
   ]
  },
  {
   "cell_type": "code",
   "execution_count": 0,
   "metadata": {
    "colab": {},
    "colab_type": "code",
    "id": "x94BpJaG-KVn"
   },
   "outputs": [],
   "source": [
    "df_visit_dupes['Store_ID'] = New_Target"
   ]
  },
  {
   "cell_type": "code",
   "execution_count": 247,
   "metadata": {
    "colab": {
     "base_uri": "https://localhost:8080/",
     "height": 758
    },
    "colab_type": "code",
    "id": "RofhkVYf-VR3",
    "outputId": "e932a462-af44-45da-af62-49cc28b249e2"
   },
   "outputs": [
    {
     "data": {
      "text/html": [
       "<div>\n",
       "<style scoped>\n",
       "    .dataframe tbody tr th:only-of-type {\n",
       "        vertical-align: middle;\n",
       "    }\n",
       "\n",
       "    .dataframe tbody tr th {\n",
       "        vertical-align: top;\n",
       "    }\n",
       "\n",
       "    .dataframe thead th {\n",
       "        text-align: right;\n",
       "    }\n",
       "</style>\n",
       "<table border=\"1\" class=\"dataframe\">\n",
       "  <thead>\n",
       "    <tr style=\"text-align: right;\">\n",
       "      <th></th>\n",
       "      <th>DateTime</th>\n",
       "      <th>Customer_ID</th>\n",
       "      <th>Store_ID</th>\n",
       "      <th>Dwell_Time</th>\n",
       "      <th>Sequence_Num_New</th>\n",
       "      <th>Day</th>\n",
       "      <th>Month</th>\n",
       "      <th>freq</th>\n",
       "      <th>Next_Sequence</th>\n",
       "      <th>Next_Store</th>\n",
       "      <th>Target</th>\n",
       "      <th>Time</th>\n",
       "      <th>Category_ID</th>\n",
       "    </tr>\n",
       "  </thead>\n",
       "  <tbody>\n",
       "    <tr>\n",
       "      <th>0</th>\n",
       "      <td>2018-01-01 10:03:50</td>\n",
       "      <td>26</td>\n",
       "      <td>6</td>\n",
       "      <td>35</td>\n",
       "      <td>1</td>\n",
       "      <td>0.0</td>\n",
       "      <td>1.0</td>\n",
       "      <td>2.0</td>\n",
       "      <td>2.0</td>\n",
       "      <td>5078501</td>\n",
       "      <td>5078501</td>\n",
       "      <td>10:03:50</td>\n",
       "      <td>14</td>\n",
       "    </tr>\n",
       "    <tr>\n",
       "      <th>5782</th>\n",
       "      <td>2018-01-01 10:03:50</td>\n",
       "      <td>26</td>\n",
       "      <td>6</td>\n",
       "      <td>12</td>\n",
       "      <td>2</td>\n",
       "      <td>0.0</td>\n",
       "      <td>1.0</td>\n",
       "      <td>2.0</td>\n",
       "      <td>1.0</td>\n",
       "      <td>2</td>\n",
       "      <td>0</td>\n",
       "      <td>10:03:50</td>\n",
       "      <td>3</td>\n",
       "    </tr>\n",
       "    <tr>\n",
       "      <th>11062</th>\n",
       "      <td>2018-01-01 10:05:40</td>\n",
       "      <td>27</td>\n",
       "      <td>1</td>\n",
       "      <td>44</td>\n",
       "      <td>1</td>\n",
       "      <td>0.0</td>\n",
       "      <td>1.0</td>\n",
       "      <td>1.0</td>\n",
       "      <td>1.0</td>\n",
       "      <td>5080089</td>\n",
       "      <td>0</td>\n",
       "      <td>10:05:40</td>\n",
       "      <td>8</td>\n",
       "    </tr>\n",
       "    <tr>\n",
       "      <th>172783</th>\n",
       "      <td>2018-01-01 10:06:00</td>\n",
       "      <td>28</td>\n",
       "      <td>2</td>\n",
       "      <td>33</td>\n",
       "      <td>1</td>\n",
       "      <td>0.0</td>\n",
       "      <td>1.0</td>\n",
       "      <td>1.0</td>\n",
       "      <td>1.0</td>\n",
       "      <td>5079256</td>\n",
       "      <td>0</td>\n",
       "      <td>10:06:00</td>\n",
       "      <td>8</td>\n",
       "    </tr>\n",
       "    <tr>\n",
       "      <th>280983</th>\n",
       "      <td>2018-01-01 10:08:50</td>\n",
       "      <td>29</td>\n",
       "      <td>3</td>\n",
       "      <td>27</td>\n",
       "      <td>1</td>\n",
       "      <td>0.0</td>\n",
       "      <td>1.0</td>\n",
       "      <td>2.0</td>\n",
       "      <td>2.0</td>\n",
       "      <td>5080089</td>\n",
       "      <td>5080089</td>\n",
       "      <td>10:08:50</td>\n",
       "      <td>8</td>\n",
       "    </tr>\n",
       "    <tr>\n",
       "      <th>...</th>\n",
       "      <td>...</td>\n",
       "      <td>...</td>\n",
       "      <td>...</td>\n",
       "      <td>...</td>\n",
       "      <td>...</td>\n",
       "      <td>...</td>\n",
       "      <td>...</td>\n",
       "      <td>...</td>\n",
       "      <td>...</td>\n",
       "      <td>...</td>\n",
       "      <td>...</td>\n",
       "      <td>...</td>\n",
       "      <td>...</td>\n",
       "    </tr>\n",
       "    <tr>\n",
       "      <th>172781</th>\n",
       "      <td>2018-06-30 20:58:00</td>\n",
       "      <td>534445</td>\n",
       "      <td>1</td>\n",
       "      <td>7</td>\n",
       "      <td>1</td>\n",
       "      <td>5.0</td>\n",
       "      <td>6.0</td>\n",
       "      <td>2.0</td>\n",
       "      <td>2.0</td>\n",
       "      <td>5079256</td>\n",
       "      <td>5079256</td>\n",
       "      <td>20:58:00</td>\n",
       "      <td>8</td>\n",
       "    </tr>\n",
       "    <tr>\n",
       "      <th>369069</th>\n",
       "      <td>2018-06-30 20:58:00</td>\n",
       "      <td>534445</td>\n",
       "      <td>3</td>\n",
       "      <td>7</td>\n",
       "      <td>2</td>\n",
       "      <td>5.0</td>\n",
       "      <td>6.0</td>\n",
       "      <td>2.0</td>\n",
       "      <td>29.0</td>\n",
       "      <td>5080046</td>\n",
       "      <td>5080046</td>\n",
       "      <td>20:58:00</td>\n",
       "      <td>8</td>\n",
       "    </tr>\n",
       "    <tr>\n",
       "      <th>661894</th>\n",
       "      <td>2018-06-30 20:58:20</td>\n",
       "      <td>192166</td>\n",
       "      <td>6</td>\n",
       "      <td>14</td>\n",
       "      <td>29</td>\n",
       "      <td>5.0</td>\n",
       "      <td>6.0</td>\n",
       "      <td>1.0</td>\n",
       "      <td>1.0</td>\n",
       "      <td>5079281</td>\n",
       "      <td>0</td>\n",
       "      <td>20:58:20</td>\n",
       "      <td>4</td>\n",
       "    </tr>\n",
       "    <tr>\n",
       "      <th>585030</th>\n",
       "      <td>2018-06-30 20:59:30</td>\n",
       "      <td>534446</td>\n",
       "      <td>6</td>\n",
       "      <td>81</td>\n",
       "      <td>1</td>\n",
       "      <td>5.0</td>\n",
       "      <td>6.0</td>\n",
       "      <td>1.0</td>\n",
       "      <td>14.0</td>\n",
       "      <td>2</td>\n",
       "      <td>2</td>\n",
       "      <td>20:59:30</td>\n",
       "      <td>8</td>\n",
       "    </tr>\n",
       "    <tr>\n",
       "      <th>172782</th>\n",
       "      <td>2018-06-30 20:59:50</td>\n",
       "      <td>169391</td>\n",
       "      <td>1</td>\n",
       "      <td>6</td>\n",
       "      <td>14</td>\n",
       "      <td>5.0</td>\n",
       "      <td>6.0</td>\n",
       "      <td>1.0</td>\n",
       "      <td>1.0</td>\n",
       "      <td>2</td>\n",
       "      <td>0</td>\n",
       "      <td>20:59:50</td>\n",
       "      <td>8</td>\n",
       "    </tr>\n",
       "  </tbody>\n",
       "</table>\n",
       "<p>1684865 rows × 13 columns</p>\n",
       "</div>"
      ],
      "text/plain": [
       "                  DateTime  Customer_ID  Store_ID  Dwell_Time  \\\n",
       "0      2018-01-01 10:03:50           26         6          35   \n",
       "5782   2018-01-01 10:03:50           26         6          12   \n",
       "11062  2018-01-01 10:05:40           27         1          44   \n",
       "172783 2018-01-01 10:06:00           28         2          33   \n",
       "280983 2018-01-01 10:08:50           29         3          27   \n",
       "...                    ...          ...       ...         ...   \n",
       "172781 2018-06-30 20:58:00       534445         1           7   \n",
       "369069 2018-06-30 20:58:00       534445         3           7   \n",
       "661894 2018-06-30 20:58:20       192166         6          14   \n",
       "585030 2018-06-30 20:59:30       534446         6          81   \n",
       "172782 2018-06-30 20:59:50       169391         1           6   \n",
       "\n",
       "        Sequence_Num_New  Day  Month  freq  Next_Sequence  Next_Store  \\\n",
       "0                      1  0.0    1.0   2.0            2.0     5078501   \n",
       "5782                   2  0.0    1.0   2.0            1.0           2   \n",
       "11062                  1  0.0    1.0   1.0            1.0     5080089   \n",
       "172783                 1  0.0    1.0   1.0            1.0     5079256   \n",
       "280983                 1  0.0    1.0   2.0            2.0     5080089   \n",
       "...                  ...  ...    ...   ...            ...         ...   \n",
       "172781                 1  5.0    6.0   2.0            2.0     5079256   \n",
       "369069                 2  5.0    6.0   2.0           29.0     5080046   \n",
       "661894                29  5.0    6.0   1.0            1.0     5079281   \n",
       "585030                 1  5.0    6.0   1.0           14.0           2   \n",
       "172782                14  5.0    6.0   1.0            1.0           2   \n",
       "\n",
       "         Target      Time  Category_ID  \n",
       "0       5078501  10:03:50           14  \n",
       "5782          0  10:03:50            3  \n",
       "11062         0  10:05:40            8  \n",
       "172783        0  10:06:00            8  \n",
       "280983  5080089  10:08:50            8  \n",
       "...         ...       ...          ...  \n",
       "172781  5079256  20:58:00            8  \n",
       "369069  5080046  20:58:00            8  \n",
       "661894        0  20:58:20            4  \n",
       "585030        2  20:59:30            8  \n",
       "172782        0  20:59:50            8  \n",
       "\n",
       "[1684865 rows x 13 columns]"
      ]
     },
     "execution_count": 247,
     "metadata": {
      "tags": []
     },
     "output_type": "execute_result"
    }
   ],
   "source": [
    "df_visit_dupes"
   ]
  },
  {
   "cell_type": "code",
   "execution_count": 0,
   "metadata": {
    "colab": {},
    "colab_type": "code",
    "id": "G_HhDacb-Wsq"
   },
   "outputs": [],
   "source": [
    "def conditions(x):\n",
    "    if x == 2:\n",
    "        return 1\n",
    "    elif x == 5080089:\n",
    "        return 2\n",
    "    elif x == 5079256:\n",
    "      return 3\n",
    "    elif x == 9709631:\n",
    "      return 4\n",
    "    elif x == 5079942:\n",
    "      return 5\n",
    "    elif x == 0:\n",
    "      return 0\n",
    "    else:\n",
    "      return 6\n",
    "\n",
    "func = np.vectorize(conditions)\n",
    "New_Target = func(df_visit_dupes[\"Target\"])"
   ]
  },
  {
   "cell_type": "code",
   "execution_count": 0,
   "metadata": {
    "colab": {},
    "colab_type": "code",
    "id": "KsTsqU32-_ZA"
   },
   "outputs": [],
   "source": [
    "df_visit_dupes['Target'] = New_Target"
   ]
  },
  {
   "cell_type": "code",
   "execution_count": 0,
   "metadata": {
    "colab": {},
    "colab_type": "code",
    "id": "WNXx8HE6_Eel"
   },
   "outputs": [],
   "source": [
    "df_one_hot = pd.get_dummies(df_visit_dupes['Store_ID'])"
   ]
  },
  {
   "cell_type": "code",
   "execution_count": 0,
   "metadata": {
    "colab": {},
    "colab_type": "code",
    "id": "29bWMN68_Fqr"
   },
   "outputs": [],
   "source": [
    "df_visit_dupes= df_visit_dupes.join(df_one_hot)"
   ]
  },
  {
   "cell_type": "code",
   "execution_count": 0,
   "metadata": {
    "colab": {},
    "colab_type": "code",
    "id": "tn6rwPcHAEEe"
   },
   "outputs": [],
   "source": [
    "df_visit_one_hot = df_visit_dupes"
   ]
  },
  {
   "cell_type": "code",
   "execution_count": 253,
   "metadata": {
    "colab": {
     "base_uri": "https://localhost:8080/",
     "height": 151
    },
    "colab_type": "code",
    "id": "yHhvpu8WAaht",
    "outputId": "4ddd878b-f34a-4669-be38-f24ced9e1d39"
   },
   "outputs": [
    {
     "data": {
      "text/plain": [
       "Index([        'DateTime',      'Customer_ID',         'Store_ID',\n",
       "             'Dwell_Time', 'Sequence_Num_New',              'Day',\n",
       "                  'Month',             'freq',    'Next_Sequence',\n",
       "             'Next_Store',           'Target',             'Time',\n",
       "            'Category_ID',                  1,                  2,\n",
       "                        3,                  4,                  5,\n",
       "                        6],\n",
       "      dtype='object')"
      ]
     },
     "execution_count": 253,
     "metadata": {
      "tags": []
     },
     "output_type": "execute_result"
    }
   ],
   "source": [
    "df_visit_one_hot.columns"
   ]
  },
  {
   "cell_type": "code",
   "execution_count": 0,
   "metadata": {
    "colab": {},
    "colab_type": "code",
    "id": "m9Ip7PyNAuil"
   },
   "outputs": [],
   "source": [
    "df_visit_one_hot = df_visit_one_hot[[           'Customer_ID',         'Store_ID',\n",
    "             'Dwell_Time',             'Day', 'Sequence_Num_New', 'Category_ID',\n",
    "                  'Month',               \n",
    "                                  \n",
    "                        1,                  2,                  3,\n",
    "                        4,                  5,                  6, 'Target']]"
   ]
  },
  {
   "cell_type": "code",
   "execution_count": 255,
   "metadata": {
    "colab": {
     "base_uri": "https://localhost:8080/",
     "height": 402
    },
    "colab_type": "code",
    "id": "GgWxb8J-BX_4",
    "outputId": "a2ba2f67-ca33-4de6-e186-6ee193221229"
   },
   "outputs": [
    {
     "data": {
      "text/html": [
       "<div>\n",
       "<style scoped>\n",
       "    .dataframe tbody tr th:only-of-type {\n",
       "        vertical-align: middle;\n",
       "    }\n",
       "\n",
       "    .dataframe tbody tr th {\n",
       "        vertical-align: top;\n",
       "    }\n",
       "\n",
       "    .dataframe thead th {\n",
       "        text-align: right;\n",
       "    }\n",
       "</style>\n",
       "<table border=\"1\" class=\"dataframe\">\n",
       "  <thead>\n",
       "    <tr style=\"text-align: right;\">\n",
       "      <th></th>\n",
       "      <th>Customer_ID</th>\n",
       "      <th>Store_ID</th>\n",
       "      <th>Dwell_Time</th>\n",
       "      <th>Day</th>\n",
       "      <th>Sequence_Num_New</th>\n",
       "      <th>Category_ID</th>\n",
       "      <th>Month</th>\n",
       "      <th>1</th>\n",
       "      <th>2</th>\n",
       "      <th>3</th>\n",
       "      <th>4</th>\n",
       "      <th>5</th>\n",
       "      <th>6</th>\n",
       "      <th>Target</th>\n",
       "    </tr>\n",
       "  </thead>\n",
       "  <tbody>\n",
       "    <tr>\n",
       "      <th>0</th>\n",
       "      <td>26</td>\n",
       "      <td>6</td>\n",
       "      <td>35</td>\n",
       "      <td>0.0</td>\n",
       "      <td>1</td>\n",
       "      <td>14</td>\n",
       "      <td>1.0</td>\n",
       "      <td>0</td>\n",
       "      <td>0</td>\n",
       "      <td>0</td>\n",
       "      <td>0</td>\n",
       "      <td>0</td>\n",
       "      <td>1</td>\n",
       "      <td>6</td>\n",
       "    </tr>\n",
       "    <tr>\n",
       "      <th>5782</th>\n",
       "      <td>26</td>\n",
       "      <td>6</td>\n",
       "      <td>12</td>\n",
       "      <td>0.0</td>\n",
       "      <td>2</td>\n",
       "      <td>3</td>\n",
       "      <td>1.0</td>\n",
       "      <td>0</td>\n",
       "      <td>0</td>\n",
       "      <td>0</td>\n",
       "      <td>0</td>\n",
       "      <td>0</td>\n",
       "      <td>1</td>\n",
       "      <td>0</td>\n",
       "    </tr>\n",
       "    <tr>\n",
       "      <th>11062</th>\n",
       "      <td>27</td>\n",
       "      <td>1</td>\n",
       "      <td>44</td>\n",
       "      <td>0.0</td>\n",
       "      <td>1</td>\n",
       "      <td>8</td>\n",
       "      <td>1.0</td>\n",
       "      <td>1</td>\n",
       "      <td>0</td>\n",
       "      <td>0</td>\n",
       "      <td>0</td>\n",
       "      <td>0</td>\n",
       "      <td>0</td>\n",
       "      <td>0</td>\n",
       "    </tr>\n",
       "    <tr>\n",
       "      <th>172783</th>\n",
       "      <td>28</td>\n",
       "      <td>2</td>\n",
       "      <td>33</td>\n",
       "      <td>0.0</td>\n",
       "      <td>1</td>\n",
       "      <td>8</td>\n",
       "      <td>1.0</td>\n",
       "      <td>0</td>\n",
       "      <td>1</td>\n",
       "      <td>0</td>\n",
       "      <td>0</td>\n",
       "      <td>0</td>\n",
       "      <td>0</td>\n",
       "      <td>0</td>\n",
       "    </tr>\n",
       "    <tr>\n",
       "      <th>280983</th>\n",
       "      <td>29</td>\n",
       "      <td>3</td>\n",
       "      <td>27</td>\n",
       "      <td>0.0</td>\n",
       "      <td>1</td>\n",
       "      <td>8</td>\n",
       "      <td>1.0</td>\n",
       "      <td>0</td>\n",
       "      <td>0</td>\n",
       "      <td>1</td>\n",
       "      <td>0</td>\n",
       "      <td>0</td>\n",
       "      <td>0</td>\n",
       "      <td>2</td>\n",
       "    </tr>\n",
       "    <tr>\n",
       "      <th>...</th>\n",
       "      <td>...</td>\n",
       "      <td>...</td>\n",
       "      <td>...</td>\n",
       "      <td>...</td>\n",
       "      <td>...</td>\n",
       "      <td>...</td>\n",
       "      <td>...</td>\n",
       "      <td>...</td>\n",
       "      <td>...</td>\n",
       "      <td>...</td>\n",
       "      <td>...</td>\n",
       "      <td>...</td>\n",
       "      <td>...</td>\n",
       "      <td>...</td>\n",
       "    </tr>\n",
       "    <tr>\n",
       "      <th>172781</th>\n",
       "      <td>534445</td>\n",
       "      <td>1</td>\n",
       "      <td>7</td>\n",
       "      <td>5.0</td>\n",
       "      <td>1</td>\n",
       "      <td>8</td>\n",
       "      <td>6.0</td>\n",
       "      <td>1</td>\n",
       "      <td>0</td>\n",
       "      <td>0</td>\n",
       "      <td>0</td>\n",
       "      <td>0</td>\n",
       "      <td>0</td>\n",
       "      <td>3</td>\n",
       "    </tr>\n",
       "    <tr>\n",
       "      <th>369069</th>\n",
       "      <td>534445</td>\n",
       "      <td>3</td>\n",
       "      <td>7</td>\n",
       "      <td>5.0</td>\n",
       "      <td>2</td>\n",
       "      <td>8</td>\n",
       "      <td>6.0</td>\n",
       "      <td>0</td>\n",
       "      <td>0</td>\n",
       "      <td>1</td>\n",
       "      <td>0</td>\n",
       "      <td>0</td>\n",
       "      <td>0</td>\n",
       "      <td>6</td>\n",
       "    </tr>\n",
       "    <tr>\n",
       "      <th>661894</th>\n",
       "      <td>192166</td>\n",
       "      <td>6</td>\n",
       "      <td>14</td>\n",
       "      <td>5.0</td>\n",
       "      <td>29</td>\n",
       "      <td>4</td>\n",
       "      <td>6.0</td>\n",
       "      <td>0</td>\n",
       "      <td>0</td>\n",
       "      <td>0</td>\n",
       "      <td>0</td>\n",
       "      <td>0</td>\n",
       "      <td>1</td>\n",
       "      <td>0</td>\n",
       "    </tr>\n",
       "    <tr>\n",
       "      <th>585030</th>\n",
       "      <td>534446</td>\n",
       "      <td>6</td>\n",
       "      <td>81</td>\n",
       "      <td>5.0</td>\n",
       "      <td>1</td>\n",
       "      <td>8</td>\n",
       "      <td>6.0</td>\n",
       "      <td>0</td>\n",
       "      <td>0</td>\n",
       "      <td>0</td>\n",
       "      <td>0</td>\n",
       "      <td>0</td>\n",
       "      <td>1</td>\n",
       "      <td>1</td>\n",
       "    </tr>\n",
       "    <tr>\n",
       "      <th>172782</th>\n",
       "      <td>169391</td>\n",
       "      <td>1</td>\n",
       "      <td>6</td>\n",
       "      <td>5.0</td>\n",
       "      <td>14</td>\n",
       "      <td>8</td>\n",
       "      <td>6.0</td>\n",
       "      <td>1</td>\n",
       "      <td>0</td>\n",
       "      <td>0</td>\n",
       "      <td>0</td>\n",
       "      <td>0</td>\n",
       "      <td>0</td>\n",
       "      <td>0</td>\n",
       "    </tr>\n",
       "  </tbody>\n",
       "</table>\n",
       "<p>1684865 rows × 14 columns</p>\n",
       "</div>"
      ],
      "text/plain": [
       "        Customer_ID  Store_ID  Dwell_Time  Day  Sequence_Num_New  Category_ID  \\\n",
       "0                26         6          35  0.0                 1           14   \n",
       "5782             26         6          12  0.0                 2            3   \n",
       "11062            27         1          44  0.0                 1            8   \n",
       "172783           28         2          33  0.0                 1            8   \n",
       "280983           29         3          27  0.0                 1            8   \n",
       "...             ...       ...         ...  ...               ...          ...   \n",
       "172781       534445         1           7  5.0                 1            8   \n",
       "369069       534445         3           7  5.0                 2            8   \n",
       "661894       192166         6          14  5.0                29            4   \n",
       "585030       534446         6          81  5.0                 1            8   \n",
       "172782       169391         1           6  5.0                14            8   \n",
       "\n",
       "        Month  1  2  3  4  5  6  Target  \n",
       "0         1.0  0  0  0  0  0  1       6  \n",
       "5782      1.0  0  0  0  0  0  1       0  \n",
       "11062     1.0  1  0  0  0  0  0       0  \n",
       "172783    1.0  0  1  0  0  0  0       0  \n",
       "280983    1.0  0  0  1  0  0  0       2  \n",
       "...       ... .. .. .. .. .. ..     ...  \n",
       "172781    6.0  1  0  0  0  0  0       3  \n",
       "369069    6.0  0  0  1  0  0  0       6  \n",
       "661894    6.0  0  0  0  0  0  1       0  \n",
       "585030    6.0  0  0  0  0  0  1       1  \n",
       "172782    6.0  1  0  0  0  0  0       0  \n",
       "\n",
       "[1684865 rows x 14 columns]"
      ]
     },
     "execution_count": 255,
     "metadata": {
      "tags": []
     },
     "output_type": "execute_result"
    }
   ],
   "source": [
    "df_visit_one_hot"
   ]
  },
  {
   "cell_type": "code",
   "execution_count": 0,
   "metadata": {
    "colab": {},
    "colab_type": "code",
    "id": "ZtsEtWCQUBrP"
   },
   "outputs": [],
   "source": []
  },
  {
   "cell_type": "code",
   "execution_count": 0,
   "metadata": {
    "colab": {},
    "colab_type": "code",
    "id": "xVn6NrcCUBZQ"
   },
   "outputs": [],
   "source": []
  },
  {
   "cell_type": "code",
   "execution_count": 0,
   "metadata": {
    "colab": {},
    "colab_type": "code",
    "id": "lCORt9azUBT2"
   },
   "outputs": [],
   "source": []
  },
  {
   "cell_type": "code",
   "execution_count": 0,
   "metadata": {
    "colab": {},
    "colab_type": "code",
    "id": "n06dFrn4UBSC"
   },
   "outputs": [],
   "source": []
  },
  {
   "cell_type": "code",
   "execution_count": 0,
   "metadata": {
    "colab": {},
    "colab_type": "code",
    "id": "zlTAPXHMUBEI"
   },
   "outputs": [],
   "source": []
  },
  {
   "cell_type": "code",
   "execution_count": 0,
   "metadata": {
    "colab": {},
    "colab_type": "code",
    "id": "u9tsLR0QDi6_"
   },
   "outputs": [],
   "source": [
    "df_visit_one_hot_no_zero = df_visit_one_hot[df_visit_one_hot['Target']!=0]"
   ]
  },
  {
   "cell_type": "code",
   "execution_count": 0,
   "metadata": {
    "colab": {
     "base_uri": "https://localhost:8080/",
     "height": 388
    },
    "colab_type": "code",
    "id": "gD0VnkqHBZtx",
    "outputId": "f827bc1a-c7ce-4cbb-d3c8-fd8b20a8832c"
   },
   "outputs": [
    {
     "data": {
      "text/plain": [
       "<seaborn.axisgrid.FacetGrid at 0x7fcc9e7ba5f8>"
      ]
     },
     "execution_count": 232,
     "metadata": {
      "tags": []
     },
     "output_type": "execute_result"
    },
    {
     "data": {
      "image/png": "[encoded data removed]",
      "text/plain": [
       "<Figure size 720x360 with 1 Axes>"
      ]
     },
     "metadata": {
      "tags": []
     },
     "output_type": "display_data"
    }
   ],
   "source": [
    "ax = sns.catplot(x=\"Target\", kind=\"count\", palette=\"ch:.25\", data=df_visit_one_hot,height=5, aspect=2)\n",
    "ax.set_xticklabels( rotation=45, horizontalalignment='right')"
   ]
  },
  {
   "cell_type": "code",
   "execution_count": 0,
   "metadata": {
    "colab": {
     "base_uri": "https://localhost:8080/",
     "height": 231
    },
    "colab_type": "code",
    "id": "a9L5OV0yBtaE",
    "outputId": "31dd6c17-bead-4ef0-e14c-aafca6682f24"
   },
   "outputs": [
    {
     "ename": "NameError",
     "evalue": "ignored",
     "output_type": "error",
     "traceback": [
      "\u001b[0;31m---------------------------------------------------------------------------\u001b[0m",
      "\u001b[0;31mNameError\u001b[0m                                 Traceback (most recent call last)",
      "\u001b[0;32m<ipython-input-233-4fcd00cd9373>\u001b[0m in \u001b[0;36m<module>\u001b[0;34m()\u001b[0m\n\u001b[1;32m      1\u001b[0m \u001b[0msplit\u001b[0m \u001b[0;34m=\u001b[0m \u001b[0mStratifiedShuffleSplit\u001b[0m\u001b[0;34m(\u001b[0m\u001b[0mn_splits\u001b[0m\u001b[0;34m=\u001b[0m\u001b[0;36m2\u001b[0m\u001b[0;34m,\u001b[0m \u001b[0mtest_size\u001b[0m\u001b[0;34m=\u001b[0m\u001b[0;36m0.2\u001b[0m\u001b[0;34m,\u001b[0m \u001b[0mrandom_state\u001b[0m\u001b[0;34m=\u001b[0m\u001b[0;36m1\u001b[0m\u001b[0;34m)\u001b[0m\u001b[0;34m\u001b[0m\u001b[0;34m\u001b[0m\u001b[0m\n\u001b[1;32m      2\u001b[0m \u001b[0;34m\u001b[0m\u001b[0m\n\u001b[0;32m----> 3\u001b[0;31m \u001b[0;32mfor\u001b[0m \u001b[0mtrain_index\u001b[0m\u001b[0;34m,\u001b[0m \u001b[0mtest_index\u001b[0m \u001b[0;32min\u001b[0m \u001b[0msplit\u001b[0m\u001b[0;34m.\u001b[0m\u001b[0msplit\u001b[0m\u001b[0;34m(\u001b[0m\u001b[0mdf_visit_one_hot_no_zero\u001b[0m\u001b[0;34m,\u001b[0m \u001b[0mdf_visit_one_hot_no_zero\u001b[0m\u001b[0;34m[\u001b[0m\u001b[0;34m'Target'\u001b[0m\u001b[0;34m]\u001b[0m\u001b[0;34m)\u001b[0m\u001b[0;34m:\u001b[0m\u001b[0;34m\u001b[0m\u001b[0;34m\u001b[0m\u001b[0m\n\u001b[0m\u001b[1;32m      4\u001b[0m   \u001b[0mstrat_train_stores\u001b[0m \u001b[0;34m=\u001b[0m \u001b[0mdf_visit_one_hot_no_zero\u001b[0m\u001b[0;34m.\u001b[0m\u001b[0miloc\u001b[0m\u001b[0;34m[\u001b[0m\u001b[0mtrain_index\u001b[0m\u001b[0;34m]\u001b[0m\u001b[0;34m\u001b[0m\u001b[0;34m\u001b[0m\u001b[0m\n\u001b[1;32m      5\u001b[0m   \u001b[0mstrat_test_stores\u001b[0m \u001b[0;34m=\u001b[0m \u001b[0mdf_visit_one_hot_no_zero\u001b[0m\u001b[0;34m.\u001b[0m\u001b[0miloc\u001b[0m\u001b[0;34m[\u001b[0m\u001b[0mtest_index\u001b[0m\u001b[0;34m]\u001b[0m\u001b[0;34m\u001b[0m\u001b[0;34m\u001b[0m\u001b[0m\n",
      "\u001b[0;31mNameError\u001b[0m: name 'df_visit_one_hot_no_zero' is not defined"
     ]
    }
   ],
   "source": [
    "split = StratifiedShuffleSplit(n_splits=2, test_size=0.2, random_state=1)\n",
    "\n",
    "for train_index, test_index in split.split(df_visit_one_hot_no_zero, df_visit_one_hot_no_zero['Target']):\n",
    "  strat_train_stores = df_visit_one_hot_no_zero.iloc[train_index]\n",
    "  strat_test_stores = df_visit_one_hot_no_zero.iloc[test_index]"
   ]
  },
  {
   "cell_type": "code",
   "execution_count": 0,
   "metadata": {
    "colab": {},
    "colab_type": "code",
    "id": "0iQ2c6bHB6l5"
   },
   "outputs": [],
   "source": [
    "df_majority = strat_train_stores[strat_train_stores['Target']==6]\n",
    "df_minority = strat_train_stores[strat_train_stores['Target']==1]\n",
    "\n",
    "\n",
    "df_majority_downsampled = resample(df_majority, \n",
    "                                 replace=False,     \n",
    "                                 n_samples=len(df_minority),   \n",
    "                                 random_state=42) "
   ]
  },
  {
   "cell_type": "code",
   "execution_count": 0,
   "metadata": {
    "colab": {},
    "colab_type": "code",
    "id": "3xkEjXWyCfbx"
   },
   "outputs": [],
   "source": [
    "strat_train_stores = strat_train_stores[strat_train_stores['Target']!=6]"
   ]
  },
  {
   "cell_type": "code",
   "execution_count": 0,
   "metadata": {
    "colab": {},
    "colab_type": "code",
    "id": "gQYn8RKdCpiD"
   },
   "outputs": [],
   "source": [
    "strat_train_stores = pd.concat([df_majority_downsampled, strat_train_stores])"
   ]
  },
  {
   "cell_type": "code",
   "execution_count": 0,
   "metadata": {
    "colab": {
     "base_uri": "https://localhost:8080/",
     "height": 388
    },
    "colab_type": "code",
    "id": "FUFP9Ut_Cy-Y",
    "outputId": "bf76258e-949d-4fd0-8063-c9151aa4a3cf"
   },
   "outputs": [
    {
     "data": {
      "text/plain": [
       "<seaborn.axisgrid.FacetGrid at 0x7f4cec571940>"
      ]
     },
     "execution_count": 232,
     "metadata": {
      "tags": []
     },
     "output_type": "execute_result"
    },
    {
     "data": {
      "image/png": "[encoded data removed]",
      "text/plain": [
       "<Figure size 720x360 with 1 Axes>"
      ]
     },
     "metadata": {
      "tags": []
     },
     "output_type": "display_data"
    }
   ],
   "source": [
    "ax = sns.catplot(x=\"Target\", kind=\"count\", palette=\"ch:.25\", data=strat_train_stores,height=5, aspect=2)\n",
    "ax.set_xticklabels( rotation=45, horizontalalignment='right')"
   ]
  },
  {
   "cell_type": "code",
   "execution_count": 0,
   "metadata": {
    "colab": {
     "base_uri": "https://localhost:8080/",
     "height": 388
    },
    "colab_type": "code",
    "id": "S8DW8ADHC5Gk",
    "outputId": "8ce5f60f-7d44-46e2-90e9-1c16440b09eb"
   },
   "outputs": [
    {
     "data": {
      "text/plain": [
       "<seaborn.axisgrid.FacetGrid at 0x7f4cecb4fda0>"
      ]
     },
     "execution_count": 233,
     "metadata": {
      "tags": []
     },
     "output_type": "execute_result"
    },
    {
     "data": {
      "image/png": "[encoded data removed]",
      "text/plain": [
       "<Figure size 720x360 with 1 Axes>"
      ]
     },
     "metadata": {
      "tags": []
     },
     "output_type": "display_data"
    }
   ],
   "source": [
    "ax = sns.catplot(x=\"Target\", kind=\"count\", palette=\"ch:.25\", data=strat_test_stores,height=5, aspect=2)\n",
    "ax.set_xticklabels( rotation=45, horizontalalignment='right')"
   ]
  },
  {
   "cell_type": "code",
   "execution_count": 0,
   "metadata": {
    "colab": {
     "base_uri": "https://localhost:8080/",
     "height": 163
    },
    "colab_type": "code",
    "id": "I9cYFcjWEKng",
    "outputId": "ae9a2767-9c33-4433-d33c-39f31ae8eeba"
   },
   "outputs": [
    {
     "ename": "NameError",
     "evalue": "ignored",
     "output_type": "error",
     "traceback": [
      "\u001b[0;31m---------------------------------------------------------------------------\u001b[0m",
      "\u001b[0;31mNameError\u001b[0m                                 Traceback (most recent call last)",
      "\u001b[0;32m<ipython-input-58-6626950c642e>\u001b[0m in \u001b[0;36m<module>\u001b[0;34m()\u001b[0m\n\u001b[0;32m----> 1\u001b[0;31m \u001b[0mstrat_train_stores\u001b[0m\u001b[0;34m\u001b[0m\u001b[0;34m\u001b[0m\u001b[0m\n\u001b[0m",
      "\u001b[0;31mNameError\u001b[0m: name 'strat_train_stores' is not defined"
     ]
    }
   ],
   "source": [
    "strat_train_stores"
   ]
  },
  {
   "cell_type": "code",
   "execution_count": 0,
   "metadata": {
    "colab": {},
    "colab_type": "code",
    "id": "8BAY1NP0D8RE"
   },
   "outputs": [],
   "source": [
    "X_train_store = strat_train_stores[['Day','Month','Customer_ID','Sequence_Num_New','Dwell_Time','Category_ID', 1,2,3,4,5,6]]"
   ]
  },
  {
   "cell_type": "code",
   "execution_count": 0,
   "metadata": {
    "colab": {},
    "colab_type": "code",
    "id": "cnQMdZzvEVt3"
   },
   "outputs": [],
   "source": [
    "y_train_store = strat_train_stores[['Target']]"
   ]
  },
  {
   "cell_type": "code",
   "execution_count": 0,
   "metadata": {
    "colab": {},
    "colab_type": "code",
    "id": "V7Nvu8q5Ecmv"
   },
   "outputs": [],
   "source": [
    "X_test_store = strat_test_stores[['Day','Month','Customer_ID','Sequence_Num_New','Dwell_Time','Category_ID', 1,2,3,4,5,6]]"
   ]
  },
  {
   "cell_type": "code",
   "execution_count": 0,
   "metadata": {
    "colab": {},
    "colab_type": "code",
    "id": "eDs-5S-OEmQL"
   },
   "outputs": [],
   "source": [
    "y_test_store = strat_test_stores[['Target']]"
   ]
  },
  {
   "cell_type": "code",
   "execution_count": 0,
   "metadata": {
    "colab": {
     "base_uri": "https://localhost:8080/",
     "height": 170
    },
    "colab_type": "code",
    "id": "xoZWYJn3EpiF",
    "outputId": "ec4e01ad-3383-4e8b-a341-0d465af36115"
   },
   "outputs": [
    {
     "name": "stderr",
     "output_type": "stream",
     "text": [
      "/usr/local/lib/python3.6/dist-packages/ipykernel_launcher.py:2: DataConversionWarning: A column-vector y was passed when a 1d array was expected. Please change the shape of y to (n_samples,), for example using ravel().\n",
      "  \n"
     ]
    },
    {
     "data": {
      "text/plain": [
       "RandomForestClassifier(bootstrap=True, class_weight=None, criterion='gini',\n",
       "                       max_depth=15, max_features='auto', max_leaf_nodes=None,\n",
       "                       min_impurity_decrease=0.0, min_impurity_split=None,\n",
       "                       min_samples_leaf=1, min_samples_split=2,\n",
       "                       min_weight_fraction_leaf=0.0, n_estimators=200,\n",
       "                       n_jobs=-1, oob_score=False, random_state=5, verbose=0,\n",
       "                       warm_start=False)"
      ]
     },
     "execution_count": 253,
     "metadata": {
      "tags": []
     },
     "output_type": "execute_result"
    }
   ],
   "source": [
    "rnd_clf_stores = RandomForestClassifier(n_estimators=200, max_depth=15,n_jobs=-1,random_state=5)\n",
    "rnd_clf_stores.fit(X_train_store,y_train_store)"
   ]
  },
  {
   "cell_type": "code",
   "execution_count": 0,
   "metadata": {
    "colab": {
     "base_uri": "https://localhost:8080/",
     "height": 51
    },
    "colab_type": "code",
    "id": "pf7qYr_NEu6x",
    "outputId": "657d0d2a-ad09-4a20-98b8-f013b0dba0cd"
   },
   "outputs": [
    {
     "name": "stdout",
     "output_type": "stream",
     "text": [
      "Training set accuracy:  0.868\n",
      "Test set accuracy:  0.526\n"
     ]
    }
   ],
   "source": [
    "core = rnd_clf_stores.score(X_train_store, y_train_store)\n",
    "score2 = rnd_clf_stores.score(X_test_store, y_test_store)\n",
    "\n",
    "print(\"Training set accuracy: \", '%.3f'%(score))\n",
    "print(\"Test set accuracy: \", '%.3f'%(score2))"
   ]
  },
  {
   "cell_type": "code",
   "execution_count": 0,
   "metadata": {
    "colab": {
     "base_uri": "https://localhost:8080/",
     "height": 238
    },
    "colab_type": "code",
    "id": "P2EvdmInE445",
    "outputId": "ea6a25ef-6c1b-410a-fc18-8dffd9bc5f2a"
   },
   "outputs": [
    {
     "name": "stdout",
     "output_type": "stream",
     "text": [
      "              precision    recall  f1-score   support\n",
      "\n",
      "           1       0.15      0.46      0.23     20917\n",
      "           2       0.11      0.08      0.09     11934\n",
      "           3       0.11      0.07      0.09     10695\n",
      "           4       0.22      0.19      0.20      7329\n",
      "           5       0.58      0.61      0.60      3595\n",
      "           6       0.78      0.61      0.69    157048\n",
      "\n",
      "    accuracy                           0.53    211518\n",
      "   macro avg       0.33      0.34      0.32    211518\n",
      "weighted avg       0.63      0.53      0.56    211518\n",
      "\n"
     ]
    }
   ],
   "source": [
    "y_pred_stores = rnd_clf_stores.predict(X_test_store)\n",
    "print(classification_report(y_test_store,y_pred_stores))"
   ]
  },
  {
   "cell_type": "code",
   "execution_count": 0,
   "metadata": {
    "colab": {
     "base_uri": "https://localhost:8080/",
     "height": 419
    },
    "colab_type": "code",
    "id": "thG6Bh2bGXeN",
    "outputId": "11588a02-64d4-4ea1-9da0-2bd86794b30d"
   },
   "outputs": [
    {
     "data": {
      "text/html": [
       "<div>\n",
       "<style scoped>\n",
       "    .dataframe tbody tr th:only-of-type {\n",
       "        vertical-align: middle;\n",
       "    }\n",
       "\n",
       "    .dataframe tbody tr th {\n",
       "        vertical-align: top;\n",
       "    }\n",
       "\n",
       "    .dataframe thead th {\n",
       "        text-align: right;\n",
       "    }\n",
       "</style>\n",
       "<table border=\"1\" class=\"dataframe\">\n",
       "  <thead>\n",
       "    <tr style=\"text-align: right;\">\n",
       "      <th></th>\n",
       "      <th>Day</th>\n",
       "      <th>Month</th>\n",
       "      <th>Customer_ID</th>\n",
       "      <th>Sequence_Num_New</th>\n",
       "      <th>Dwell_Time</th>\n",
       "      <th>Store_ID</th>\n",
       "      <th>1</th>\n",
       "      <th>2</th>\n",
       "      <th>3</th>\n",
       "      <th>4</th>\n",
       "      <th>5</th>\n",
       "      <th>6</th>\n",
       "    </tr>\n",
       "  </thead>\n",
       "  <tbody>\n",
       "    <tr>\n",
       "      <th>136845</th>\n",
       "      <td>3.0</td>\n",
       "      <td>1.0</td>\n",
       "      <td>56531</td>\n",
       "      <td>1</td>\n",
       "      <td>10</td>\n",
       "      <td>6</td>\n",
       "      <td>0</td>\n",
       "      <td>0</td>\n",
       "      <td>0</td>\n",
       "      <td>0</td>\n",
       "      <td>0</td>\n",
       "      <td>1</td>\n",
       "    </tr>\n",
       "    <tr>\n",
       "      <th>1196774</th>\n",
       "      <td>5.0</td>\n",
       "      <td>4.0</td>\n",
       "      <td>86208</td>\n",
       "      <td>9</td>\n",
       "      <td>10</td>\n",
       "      <td>2</td>\n",
       "      <td>0</td>\n",
       "      <td>1</td>\n",
       "      <td>0</td>\n",
       "      <td>0</td>\n",
       "      <td>0</td>\n",
       "      <td>0</td>\n",
       "    </tr>\n",
       "    <tr>\n",
       "      <th>1216036</th>\n",
       "      <td>6.0</td>\n",
       "      <td>4.0</td>\n",
       "      <td>78409</td>\n",
       "      <td>10</td>\n",
       "      <td>7</td>\n",
       "      <td>6</td>\n",
       "      <td>0</td>\n",
       "      <td>0</td>\n",
       "      <td>0</td>\n",
       "      <td>0</td>\n",
       "      <td>0</td>\n",
       "      <td>1</td>\n",
       "    </tr>\n",
       "    <tr>\n",
       "      <th>1554849</th>\n",
       "      <td>3.0</td>\n",
       "      <td>6.0</td>\n",
       "      <td>478238</td>\n",
       "      <td>1</td>\n",
       "      <td>6</td>\n",
       "      <td>6</td>\n",
       "      <td>0</td>\n",
       "      <td>0</td>\n",
       "      <td>0</td>\n",
       "      <td>0</td>\n",
       "      <td>0</td>\n",
       "      <td>1</td>\n",
       "    </tr>\n",
       "    <tr>\n",
       "      <th>125854</th>\n",
       "      <td>2.0</td>\n",
       "      <td>1.0</td>\n",
       "      <td>52030</td>\n",
       "      <td>1</td>\n",
       "      <td>42</td>\n",
       "      <td>6</td>\n",
       "      <td>0</td>\n",
       "      <td>0</td>\n",
       "      <td>0</td>\n",
       "      <td>0</td>\n",
       "      <td>0</td>\n",
       "      <td>1</td>\n",
       "    </tr>\n",
       "    <tr>\n",
       "      <th>...</th>\n",
       "      <td>...</td>\n",
       "      <td>...</td>\n",
       "      <td>...</td>\n",
       "      <td>...</td>\n",
       "      <td>...</td>\n",
       "      <td>...</td>\n",
       "      <td>...</td>\n",
       "      <td>...</td>\n",
       "      <td>...</td>\n",
       "      <td>...</td>\n",
       "      <td>...</td>\n",
       "      <td>...</td>\n",
       "    </tr>\n",
       "    <tr>\n",
       "      <th>357916</th>\n",
       "      <td>4.0</td>\n",
       "      <td>2.0</td>\n",
       "      <td>138209</td>\n",
       "      <td>1</td>\n",
       "      <td>12</td>\n",
       "      <td>6</td>\n",
       "      <td>0</td>\n",
       "      <td>0</td>\n",
       "      <td>0</td>\n",
       "      <td>0</td>\n",
       "      <td>0</td>\n",
       "      <td>1</td>\n",
       "    </tr>\n",
       "    <tr>\n",
       "      <th>541204</th>\n",
       "      <td>6.0</td>\n",
       "      <td>2.0</td>\n",
       "      <td>197925</td>\n",
       "      <td>1</td>\n",
       "      <td>20</td>\n",
       "      <td>6</td>\n",
       "      <td>0</td>\n",
       "      <td>0</td>\n",
       "      <td>0</td>\n",
       "      <td>0</td>\n",
       "      <td>0</td>\n",
       "      <td>1</td>\n",
       "    </tr>\n",
       "    <tr>\n",
       "      <th>484208</th>\n",
       "      <td>3.0</td>\n",
       "      <td>2.0</td>\n",
       "      <td>179306</td>\n",
       "      <td>2</td>\n",
       "      <td>15</td>\n",
       "      <td>1</td>\n",
       "      <td>1</td>\n",
       "      <td>0</td>\n",
       "      <td>0</td>\n",
       "      <td>0</td>\n",
       "      <td>0</td>\n",
       "      <td>0</td>\n",
       "    </tr>\n",
       "    <tr>\n",
       "      <th>383236</th>\n",
       "      <td>6.0</td>\n",
       "      <td>2.0</td>\n",
       "      <td>116449</td>\n",
       "      <td>4</td>\n",
       "      <td>14</td>\n",
       "      <td>6</td>\n",
       "      <td>0</td>\n",
       "      <td>0</td>\n",
       "      <td>0</td>\n",
       "      <td>0</td>\n",
       "      <td>0</td>\n",
       "      <td>1</td>\n",
       "    </tr>\n",
       "    <tr>\n",
       "      <th>1538179</th>\n",
       "      <td>0.0</td>\n",
       "      <td>6.0</td>\n",
       "      <td>124818</td>\n",
       "      <td>13</td>\n",
       "      <td>15</td>\n",
       "      <td>1</td>\n",
       "      <td>1</td>\n",
       "      <td>0</td>\n",
       "      <td>0</td>\n",
       "      <td>0</td>\n",
       "      <td>0</td>\n",
       "      <td>0</td>\n",
       "    </tr>\n",
       "  </tbody>\n",
       "</table>\n",
       "<p>205957 rows × 12 columns</p>\n",
       "</div>"
      ],
      "text/plain": [
       "         Day  Month  Customer_ID  Sequence_Num_New  Dwell_Time  Store_ID  1  \\\n",
       "136845   3.0    1.0        56531                 1          10         6  0   \n",
       "1196774  5.0    4.0        86208                 9          10         2  0   \n",
       "1216036  6.0    4.0        78409                10           7         6  0   \n",
       "1554849  3.0    6.0       478238                 1           6         6  0   \n",
       "125854   2.0    1.0        52030                 1          42         6  0   \n",
       "...      ...    ...          ...               ...         ...       ... ..   \n",
       "357916   4.0    2.0       138209                 1          12         6  0   \n",
       "541204   6.0    2.0       197925                 1          20         6  0   \n",
       "484208   3.0    2.0       179306                 2          15         1  1   \n",
       "383236   6.0    2.0       116449                 4          14         6  0   \n",
       "1538179  0.0    6.0       124818                13          15         1  1   \n",
       "\n",
       "         2  3  4  5  6  \n",
       "136845   0  0  0  0  1  \n",
       "1196774  1  0  0  0  0  \n",
       "1216036  0  0  0  0  1  \n",
       "1554849  0  0  0  0  1  \n",
       "125854   0  0  0  0  1  \n",
       "...     .. .. .. .. ..  \n",
       "357916   0  0  0  0  1  \n",
       "541204   0  0  0  0  1  \n",
       "484208   0  0  0  0  0  \n",
       "383236   0  0  0  0  1  \n",
       "1538179  0  0  0  0  0  \n",
       "\n",
       "[205957 rows x 12 columns]"
      ]
     },
     "execution_count": 418,
     "metadata": {
      "tags": []
     },
     "output_type": "execute_result"
    }
   ],
   "source": []
  },
  {
   "cell_type": "code",
   "execution_count": 0,
   "metadata": {
    "colab": {},
    "colab_type": "code",
    "id": "uXme1dwqHldK"
   },
   "outputs": [],
   "source": []
  },
  {
   "cell_type": "code",
   "execution_count": 0,
   "metadata": {
    "colab": {},
    "colab_type": "code",
    "id": "_9BQnECGUHhb"
   },
   "outputs": [],
   "source": []
  },
  {
   "cell_type": "code",
   "execution_count": 256,
   "metadata": {
    "colab": {
     "base_uri": "https://localhost:8080/",
     "height": 402
    },
    "colab_type": "code",
    "id": "vaB9i3E2UHdD",
    "outputId": "154a88e5-1605-4eba-a353-d8e634847cb6"
   },
   "outputs": [
    {
     "data": {
      "text/html": [
       "<div>\n",
       "<style scoped>\n",
       "    .dataframe tbody tr th:only-of-type {\n",
       "        vertical-align: middle;\n",
       "    }\n",
       "\n",
       "    .dataframe tbody tr th {\n",
       "        vertical-align: top;\n",
       "    }\n",
       "\n",
       "    .dataframe thead th {\n",
       "        text-align: right;\n",
       "    }\n",
       "</style>\n",
       "<table border=\"1\" class=\"dataframe\">\n",
       "  <thead>\n",
       "    <tr style=\"text-align: right;\">\n",
       "      <th></th>\n",
       "      <th>Customer_ID</th>\n",
       "      <th>Store_ID</th>\n",
       "      <th>Dwell_Time</th>\n",
       "      <th>Day</th>\n",
       "      <th>Sequence_Num_New</th>\n",
       "      <th>Category_ID</th>\n",
       "      <th>Month</th>\n",
       "      <th>1</th>\n",
       "      <th>2</th>\n",
       "      <th>3</th>\n",
       "      <th>4</th>\n",
       "      <th>5</th>\n",
       "      <th>6</th>\n",
       "      <th>Target</th>\n",
       "    </tr>\n",
       "  </thead>\n",
       "  <tbody>\n",
       "    <tr>\n",
       "      <th>756202</th>\n",
       "      <td>25</td>\n",
       "      <td>6</td>\n",
       "      <td>8</td>\n",
       "      <td>0.0</td>\n",
       "      <td>2</td>\n",
       "      <td>3</td>\n",
       "      <td>1.0</td>\n",
       "      <td>0</td>\n",
       "      <td>0</td>\n",
       "      <td>0</td>\n",
       "      <td>0</td>\n",
       "      <td>0</td>\n",
       "      <td>1</td>\n",
       "      <td>0</td>\n",
       "    </tr>\n",
       "    <tr>\n",
       "      <th>0</th>\n",
       "      <td>26</td>\n",
       "      <td>6</td>\n",
       "      <td>35</td>\n",
       "      <td>0.0</td>\n",
       "      <td>1</td>\n",
       "      <td>14</td>\n",
       "      <td>1.0</td>\n",
       "      <td>0</td>\n",
       "      <td>0</td>\n",
       "      <td>0</td>\n",
       "      <td>0</td>\n",
       "      <td>0</td>\n",
       "      <td>1</td>\n",
       "      <td>6</td>\n",
       "    </tr>\n",
       "    <tr>\n",
       "      <th>5782</th>\n",
       "      <td>26</td>\n",
       "      <td>6</td>\n",
       "      <td>12</td>\n",
       "      <td>0.0</td>\n",
       "      <td>2</td>\n",
       "      <td>3</td>\n",
       "      <td>1.0</td>\n",
       "      <td>0</td>\n",
       "      <td>0</td>\n",
       "      <td>0</td>\n",
       "      <td>0</td>\n",
       "      <td>0</td>\n",
       "      <td>1</td>\n",
       "      <td>0</td>\n",
       "    </tr>\n",
       "    <tr>\n",
       "      <th>11062</th>\n",
       "      <td>27</td>\n",
       "      <td>1</td>\n",
       "      <td>44</td>\n",
       "      <td>0.0</td>\n",
       "      <td>1</td>\n",
       "      <td>8</td>\n",
       "      <td>1.0</td>\n",
       "      <td>1</td>\n",
       "      <td>0</td>\n",
       "      <td>0</td>\n",
       "      <td>0</td>\n",
       "      <td>0</td>\n",
       "      <td>0</td>\n",
       "      <td>0</td>\n",
       "    </tr>\n",
       "    <tr>\n",
       "      <th>172783</th>\n",
       "      <td>28</td>\n",
       "      <td>2</td>\n",
       "      <td>33</td>\n",
       "      <td>0.0</td>\n",
       "      <td>1</td>\n",
       "      <td>8</td>\n",
       "      <td>1.0</td>\n",
       "      <td>0</td>\n",
       "      <td>1</td>\n",
       "      <td>0</td>\n",
       "      <td>0</td>\n",
       "      <td>0</td>\n",
       "      <td>0</td>\n",
       "      <td>0</td>\n",
       "    </tr>\n",
       "    <tr>\n",
       "      <th>...</th>\n",
       "      <td>...</td>\n",
       "      <td>...</td>\n",
       "      <td>...</td>\n",
       "      <td>...</td>\n",
       "      <td>...</td>\n",
       "      <td>...</td>\n",
       "      <td>...</td>\n",
       "      <td>...</td>\n",
       "      <td>...</td>\n",
       "      <td>...</td>\n",
       "      <td>...</td>\n",
       "      <td>...</td>\n",
       "      <td>...</td>\n",
       "      <td>...</td>\n",
       "    </tr>\n",
       "    <tr>\n",
       "      <th>443372</th>\n",
       "      <td>520178</td>\n",
       "      <td>4</td>\n",
       "      <td>78</td>\n",
       "      <td>6.0</td>\n",
       "      <td>1</td>\n",
       "      <td>8</td>\n",
       "      <td>6.0</td>\n",
       "      <td>0</td>\n",
       "      <td>0</td>\n",
       "      <td>0</td>\n",
       "      <td>1</td>\n",
       "      <td>0</td>\n",
       "      <td>0</td>\n",
       "      <td>2</td>\n",
       "    </tr>\n",
       "    <tr>\n",
       "      <th>168069</th>\n",
       "      <td>520179</td>\n",
       "      <td>1</td>\n",
       "      <td>174</td>\n",
       "      <td>6.0</td>\n",
       "      <td>1</td>\n",
       "      <td>8</td>\n",
       "      <td>6.0</td>\n",
       "      <td>1</td>\n",
       "      <td>0</td>\n",
       "      <td>0</td>\n",
       "      <td>0</td>\n",
       "      <td>0</td>\n",
       "      <td>0</td>\n",
       "      <td>0</td>\n",
       "    </tr>\n",
       "    <tr>\n",
       "      <th>1007075</th>\n",
       "      <td>520180</td>\n",
       "      <td>6</td>\n",
       "      <td>18</td>\n",
       "      <td>6.0</td>\n",
       "      <td>1</td>\n",
       "      <td>19</td>\n",
       "      <td>6.0</td>\n",
       "      <td>0</td>\n",
       "      <td>0</td>\n",
       "      <td>0</td>\n",
       "      <td>0</td>\n",
       "      <td>0</td>\n",
       "      <td>1</td>\n",
       "      <td>1</td>\n",
       "    </tr>\n",
       "    <tr>\n",
       "      <th>277101</th>\n",
       "      <td>520181</td>\n",
       "      <td>2</td>\n",
       "      <td>16</td>\n",
       "      <td>6.0</td>\n",
       "      <td>1</td>\n",
       "      <td>8</td>\n",
       "      <td>6.0</td>\n",
       "      <td>0</td>\n",
       "      <td>1</td>\n",
       "      <td>0</td>\n",
       "      <td>0</td>\n",
       "      <td>0</td>\n",
       "      <td>0</td>\n",
       "      <td>6</td>\n",
       "    </tr>\n",
       "    <tr>\n",
       "      <th>1483289</th>\n",
       "      <td>520181</td>\n",
       "      <td>6</td>\n",
       "      <td>6</td>\n",
       "      <td>6.0</td>\n",
       "      <td>2</td>\n",
       "      <td>3</td>\n",
       "      <td>6.0</td>\n",
       "      <td>0</td>\n",
       "      <td>0</td>\n",
       "      <td>0</td>\n",
       "      <td>0</td>\n",
       "      <td>0</td>\n",
       "      <td>1</td>\n",
       "      <td>0</td>\n",
       "    </tr>\n",
       "  </tbody>\n",
       "</table>\n",
       "<p>1684865 rows × 14 columns</p>\n",
       "</div>"
      ],
      "text/plain": [
       "         Customer_ID  Store_ID  Dwell_Time  Day  Sequence_Num_New  \\\n",
       "756202            25         6           8  0.0                 2   \n",
       "0                 26         6          35  0.0                 1   \n",
       "5782              26         6          12  0.0                 2   \n",
       "11062             27         1          44  0.0                 1   \n",
       "172783            28         2          33  0.0                 1   \n",
       "...              ...       ...         ...  ...               ...   \n",
       "443372        520178         4          78  6.0                 1   \n",
       "168069        520179         1         174  6.0                 1   \n",
       "1007075       520180         6          18  6.0                 1   \n",
       "277101        520181         2          16  6.0                 1   \n",
       "1483289       520181         6           6  6.0                 2   \n",
       "\n",
       "         Category_ID  Month  1  2  3  4  5  6  Target  \n",
       "756202             3    1.0  0  0  0  0  0  1       0  \n",
       "0                 14    1.0  0  0  0  0  0  1       6  \n",
       "5782               3    1.0  0  0  0  0  0  1       0  \n",
       "11062              8    1.0  1  0  0  0  0  0       0  \n",
       "172783             8    1.0  0  1  0  0  0  0       0  \n",
       "...              ...    ... .. .. .. .. .. ..     ...  \n",
       "443372             8    6.0  0  0  0  1  0  0       2  \n",
       "168069             8    6.0  1  0  0  0  0  0       0  \n",
       "1007075           19    6.0  0  0  0  0  0  1       1  \n",
       "277101             8    6.0  0  1  0  0  0  0       6  \n",
       "1483289            3    6.0  0  0  0  0  0  1       0  \n",
       "\n",
       "[1684865 rows x 14 columns]"
      ]
     },
     "execution_count": 256,
     "metadata": {
      "tags": []
     },
     "output_type": "execute_result"
    }
   ],
   "source": [
    "df_visit_one_hot.sort_values(by=['Day','Month','Customer_ID','Sequence_Num_New'])"
   ]
  },
  {
   "cell_type": "code",
   "execution_count": 0,
   "metadata": {
    "colab": {},
    "colab_type": "code",
    "id": "kqBfenUNUHbF"
   },
   "outputs": [],
   "source": [
    "\n",
    "df_history = df_visit_one_hot.groupby(by=['Day','Month','Customer_ID'])[1,2,3,4,5,6].cumsum(axis=0)"
   ]
  },
  {
   "cell_type": "code",
   "execution_count": 258,
   "metadata": {
    "colab": {
     "base_uri": "https://localhost:8080/",
     "height": 101
    },
    "colab_type": "code",
    "id": "YjGsDpW9oBKV",
    "outputId": "66da982e-1e91-4875-dc0d-23baa2007764"
   },
   "outputs": [
    {
     "name": "stderr",
     "output_type": "stream",
     "text": [
      "/usr/local/lib/python3.6/dist-packages/pandas/core/frame.py:4117: SettingWithCopyWarning: \n",
      "A value is trying to be set on a copy of a slice from a DataFrame\n",
      "\n",
      "See the caveats in the documentation: http://pandas.pydata.org/pandas-docs/stable/user_guide/indexing.html#returning-a-view-versus-a-copy\n",
      "  errors=errors,\n"
     ]
    }
   ],
   "source": [
    "df_visit_one_hot.drop(columns=[1,2,3,4,5,6],axis=0,inplace=True)"
   ]
  },
  {
   "cell_type": "code",
   "execution_count": 0,
   "metadata": {
    "colab": {},
    "colab_type": "code",
    "id": "QH2nWPkIsL2n"
   },
   "outputs": [],
   "source": [
    "df_one_hot_comb = df_visit_one_hot.merge(df_history,how='inner',left_index=True,right_index=True)"
   ]
  },
  {
   "cell_type": "code",
   "execution_count": 0,
   "metadata": {
    "colab": {},
    "colab_type": "code",
    "id": "so6woYCRsPgH"
   },
   "outputs": [],
   "source": []
  },
  {
   "cell_type": "code",
   "execution_count": 260,
   "metadata": {
    "colab": {
     "base_uri": "https://localhost:8080/",
     "height": 388
    },
    "colab_type": "code",
    "id": "UK8P8Ohcs0id",
    "outputId": "6bcd8462-d4c4-4e29-8692-271c6314023d"
   },
   "outputs": [
    {
     "data": {
      "text/plain": [
       "<seaborn.axisgrid.FacetGrid at 0x7f0b080b3e10>"
      ]
     },
     "execution_count": 260,
     "metadata": {
      "tags": []
     },
     "output_type": "execute_result"
    },
    {
     "data": {
      "image/png": "[encoded data removed]",
      "text/plain": [
       "<Figure size 720x360 with 1 Axes>"
      ]
     },
     "metadata": {
      "tags": []
     },
     "output_type": "display_data"
    }
   ],
   "source": [
    "ax = sns.catplot(x=\"Target\", kind=\"count\", palette=\"ch:.25\", data=df_one_hot_comb,height=5, aspect=2)\n",
    "ax.set_xticklabels( rotation=45, horizontalalignment='right')"
   ]
  },
  {
   "cell_type": "code",
   "execution_count": 0,
   "metadata": {
    "colab": {},
    "colab_type": "code",
    "id": "QB09DxLvtJt4"
   },
   "outputs": [],
   "source": [
    "split = StratifiedShuffleSplit(n_splits=2, test_size=0.2, random_state=1)\n",
    "\n",
    "for train_index, test_index in split.split(df_one_hot_comb, df_one_hot_comb['Target']):\n",
    "  strat_train_stores = df_one_hot_comb.iloc[train_index]\n",
    "  strat_test_stores = df_one_hot_comb.iloc[test_index]"
   ]
  },
  {
   "cell_type": "code",
   "execution_count": 262,
   "metadata": {
    "colab": {
     "base_uri": "https://localhost:8080/",
     "height": 402
    },
    "colab_type": "code",
    "id": "PyLQTToutzgR",
    "outputId": "e0ec7924-afbe-4239-d65d-e7747680c62e"
   },
   "outputs": [
    {
     "data": {
      "text/html": [
       "<div>\n",
       "<style scoped>\n",
       "    .dataframe tbody tr th:only-of-type {\n",
       "        vertical-align: middle;\n",
       "    }\n",
       "\n",
       "    .dataframe tbody tr th {\n",
       "        vertical-align: top;\n",
       "    }\n",
       "\n",
       "    .dataframe thead th {\n",
       "        text-align: right;\n",
       "    }\n",
       "</style>\n",
       "<table border=\"1\" class=\"dataframe\">\n",
       "  <thead>\n",
       "    <tr style=\"text-align: right;\">\n",
       "      <th></th>\n",
       "      <th>Customer_ID</th>\n",
       "      <th>Store_ID</th>\n",
       "      <th>Dwell_Time</th>\n",
       "      <th>Day</th>\n",
       "      <th>Sequence_Num_New</th>\n",
       "      <th>Category_ID</th>\n",
       "      <th>Month</th>\n",
       "      <th>Target</th>\n",
       "      <th>1</th>\n",
       "      <th>2</th>\n",
       "      <th>3</th>\n",
       "      <th>4</th>\n",
       "      <th>5</th>\n",
       "      <th>6</th>\n",
       "    </tr>\n",
       "  </thead>\n",
       "  <tbody>\n",
       "    <tr>\n",
       "      <th>1597976</th>\n",
       "      <td>70458</td>\n",
       "      <td>6</td>\n",
       "      <td>9</td>\n",
       "      <td>6.0</td>\n",
       "      <td>1</td>\n",
       "      <td>3</td>\n",
       "      <td>1.0</td>\n",
       "      <td>1</td>\n",
       "      <td>0</td>\n",
       "      <td>0</td>\n",
       "      <td>0</td>\n",
       "      <td>0</td>\n",
       "      <td>0</td>\n",
       "      <td>1</td>\n",
       "    </tr>\n",
       "    <tr>\n",
       "      <th>1574072</th>\n",
       "      <td>336956</td>\n",
       "      <td>6</td>\n",
       "      <td>74</td>\n",
       "      <td>5.0</td>\n",
       "      <td>1</td>\n",
       "      <td>5</td>\n",
       "      <td>4.0</td>\n",
       "      <td>1</td>\n",
       "      <td>0</td>\n",
       "      <td>0</td>\n",
       "      <td>0</td>\n",
       "      <td>0</td>\n",
       "      <td>0</td>\n",
       "      <td>1</td>\n",
       "    </tr>\n",
       "    <tr>\n",
       "      <th>426546</th>\n",
       "      <td>401331</td>\n",
       "      <td>4</td>\n",
       "      <td>82</td>\n",
       "      <td>3.0</td>\n",
       "      <td>1</td>\n",
       "      <td>8</td>\n",
       "      <td>5.0</td>\n",
       "      <td>2</td>\n",
       "      <td>0</td>\n",
       "      <td>0</td>\n",
       "      <td>0</td>\n",
       "      <td>1</td>\n",
       "      <td>0</td>\n",
       "      <td>0</td>\n",
       "    </tr>\n",
       "    <tr>\n",
       "      <th>551380</th>\n",
       "      <td>111142</td>\n",
       "      <td>6</td>\n",
       "      <td>32</td>\n",
       "      <td>3.0</td>\n",
       "      <td>1</td>\n",
       "      <td>8</td>\n",
       "      <td>1.0</td>\n",
       "      <td>0</td>\n",
       "      <td>0</td>\n",
       "      <td>0</td>\n",
       "      <td>0</td>\n",
       "      <td>0</td>\n",
       "      <td>0</td>\n",
       "      <td>1</td>\n",
       "    </tr>\n",
       "    <tr>\n",
       "      <th>1106104</th>\n",
       "      <td>9409</td>\n",
       "      <td>6</td>\n",
       "      <td>6</td>\n",
       "      <td>2.0</td>\n",
       "      <td>1</td>\n",
       "      <td>8</td>\n",
       "      <td>1.0</td>\n",
       "      <td>6</td>\n",
       "      <td>0</td>\n",
       "      <td>0</td>\n",
       "      <td>0</td>\n",
       "      <td>0</td>\n",
       "      <td>0</td>\n",
       "      <td>1</td>\n",
       "    </tr>\n",
       "    <tr>\n",
       "      <th>...</th>\n",
       "      <td>...</td>\n",
       "      <td>...</td>\n",
       "      <td>...</td>\n",
       "      <td>...</td>\n",
       "      <td>...</td>\n",
       "      <td>...</td>\n",
       "      <td>...</td>\n",
       "      <td>...</td>\n",
       "      <td>...</td>\n",
       "      <td>...</td>\n",
       "      <td>...</td>\n",
       "      <td>...</td>\n",
       "      <td>...</td>\n",
       "      <td>...</td>\n",
       "    </tr>\n",
       "    <tr>\n",
       "      <th>1317434</th>\n",
       "      <td>75189</td>\n",
       "      <td>6</td>\n",
       "      <td>50</td>\n",
       "      <td>1.0</td>\n",
       "      <td>4</td>\n",
       "      <td>7</td>\n",
       "      <td>2.0</td>\n",
       "      <td>6</td>\n",
       "      <td>0</td>\n",
       "      <td>0</td>\n",
       "      <td>0</td>\n",
       "      <td>0</td>\n",
       "      <td>0</td>\n",
       "      <td>1</td>\n",
       "    </tr>\n",
       "    <tr>\n",
       "      <th>989277</th>\n",
       "      <td>121047</td>\n",
       "      <td>6</td>\n",
       "      <td>13</td>\n",
       "      <td>3.0</td>\n",
       "      <td>3</td>\n",
       "      <td>4</td>\n",
       "      <td>2.0</td>\n",
       "      <td>6</td>\n",
       "      <td>0</td>\n",
       "      <td>0</td>\n",
       "      <td>0</td>\n",
       "      <td>0</td>\n",
       "      <td>0</td>\n",
       "      <td>2</td>\n",
       "    </tr>\n",
       "    <tr>\n",
       "      <th>680276</th>\n",
       "      <td>333811</td>\n",
       "      <td>6</td>\n",
       "      <td>7</td>\n",
       "      <td>4.0</td>\n",
       "      <td>2</td>\n",
       "      <td>14</td>\n",
       "      <td>4.0</td>\n",
       "      <td>0</td>\n",
       "      <td>0</td>\n",
       "      <td>0</td>\n",
       "      <td>0</td>\n",
       "      <td>0</td>\n",
       "      <td>0</td>\n",
       "      <td>2</td>\n",
       "    </tr>\n",
       "    <tr>\n",
       "      <th>1269844</th>\n",
       "      <td>212845</td>\n",
       "      <td>6</td>\n",
       "      <td>24</td>\n",
       "      <td>5.0</td>\n",
       "      <td>7</td>\n",
       "      <td>3</td>\n",
       "      <td>2.0</td>\n",
       "      <td>6</td>\n",
       "      <td>1</td>\n",
       "      <td>0</td>\n",
       "      <td>0</td>\n",
       "      <td>1</td>\n",
       "      <td>0</td>\n",
       "      <td>5</td>\n",
       "    </tr>\n",
       "    <tr>\n",
       "      <th>344970</th>\n",
       "      <td>415968</td>\n",
       "      <td>3</td>\n",
       "      <td>11</td>\n",
       "      <td>2.0</td>\n",
       "      <td>3</td>\n",
       "      <td>8</td>\n",
       "      <td>5.0</td>\n",
       "      <td>0</td>\n",
       "      <td>0</td>\n",
       "      <td>0</td>\n",
       "      <td>1</td>\n",
       "      <td>0</td>\n",
       "      <td>0</td>\n",
       "      <td>2</td>\n",
       "    </tr>\n",
       "  </tbody>\n",
       "</table>\n",
       "<p>1347892 rows × 14 columns</p>\n",
       "</div>"
      ],
      "text/plain": [
       "         Customer_ID  Store_ID  Dwell_Time  Day  Sequence_Num_New  \\\n",
       "1597976        70458         6           9  6.0                 1   \n",
       "1574072       336956         6          74  5.0                 1   \n",
       "426546        401331         4          82  3.0                 1   \n",
       "551380        111142         6          32  3.0                 1   \n",
       "1106104         9409         6           6  2.0                 1   \n",
       "...              ...       ...         ...  ...               ...   \n",
       "1317434        75189         6          50  1.0                 4   \n",
       "989277        121047         6          13  3.0                 3   \n",
       "680276        333811         6           7  4.0                 2   \n",
       "1269844       212845         6          24  5.0                 7   \n",
       "344970        415968         3          11  2.0                 3   \n",
       "\n",
       "         Category_ID  Month  Target  1  2  3  4  5  6  \n",
       "1597976            3    1.0       1  0  0  0  0  0  1  \n",
       "1574072            5    4.0       1  0  0  0  0  0  1  \n",
       "426546             8    5.0       2  0  0  0  1  0  0  \n",
       "551380             8    1.0       0  0  0  0  0  0  1  \n",
       "1106104            8    1.0       6  0  0  0  0  0  1  \n",
       "...              ...    ...     ... .. .. .. .. .. ..  \n",
       "1317434            7    2.0       6  0  0  0  0  0  1  \n",
       "989277             4    2.0       6  0  0  0  0  0  2  \n",
       "680276            14    4.0       0  0  0  0  0  0  2  \n",
       "1269844            3    2.0       6  1  0  0  1  0  5  \n",
       "344970             8    5.0       0  0  0  1  0  0  2  \n",
       "\n",
       "[1347892 rows x 14 columns]"
      ]
     },
     "execution_count": 262,
     "metadata": {
      "tags": []
     },
     "output_type": "execute_result"
    }
   ],
   "source": [
    "strat_train_stores"
   ]
  },
  {
   "cell_type": "code",
   "execution_count": 0,
   "metadata": {
    "colab": {},
    "colab_type": "code",
    "id": "7hDKQ76GGGkS"
   },
   "outputs": [],
   "source": [
    "df_majority = strat_train_stores[strat_train_stores['Target']==6]\n",
    "df_minority = strat_train_stores[strat_train_stores['Target']==1]\n",
    "\n",
    "\n",
    "df_majority_6_downsampled = resample(df_majority, \n",
    "                                 replace=False,     \n",
    "                                 n_samples=len(df_minority),   \n",
    "                                 random_state=42) "
   ]
  },
  {
   "cell_type": "code",
   "execution_count": 0,
   "metadata": {
    "colab": {},
    "colab_type": "code",
    "id": "CW8u2gMIGGib"
   },
   "outputs": [],
   "source": [
    "df_majority = strat_train_stores[strat_train_stores['Target']==0]\n",
    "df_minority = strat_train_stores[strat_train_stores['Target']==1]\n",
    "\n",
    "\n",
    "df_majority_0_downsampled = resample(df_majority, \n",
    "                                 replace=False,     \n",
    "                                 n_samples=len(df_minority),   \n",
    "                                 random_state=42) "
   ]
  },
  {
   "cell_type": "code",
   "execution_count": 0,
   "metadata": {
    "colab": {},
    "colab_type": "code",
    "id": "LGHUvPplGmxa"
   },
   "outputs": [],
   "source": [
    "strat_train_stores = strat_train_stores[strat_train_stores['Target']!=6]"
   ]
  },
  {
   "cell_type": "code",
   "execution_count": 0,
   "metadata": {
    "colab": {},
    "colab_type": "code",
    "id": "Cki3KN7KGmb_"
   },
   "outputs": [],
   "source": [
    "strat_train_stores = strat_train_stores[strat_train_stores['Target']!=0]"
   ]
  },
  {
   "cell_type": "code",
   "execution_count": 0,
   "metadata": {
    "colab": {},
    "colab_type": "code",
    "id": "Vg6dbAaXGGcg"
   },
   "outputs": [],
   "source": [
    "strat_train_stores = pd.concat([df_majority_0_downsampled, strat_train_stores,df_majority_6_downsampled])"
   ]
  },
  {
   "cell_type": "code",
   "execution_count": 0,
   "metadata": {
    "colab": {},
    "colab_type": "code",
    "id": "ARMcQ5g_Odzu"
   },
   "outputs": [],
   "source": [
    "strat_train_stores = shuffle(strat_train_stores)"
   ]
  },
  {
   "cell_type": "code",
   "execution_count": 269,
   "metadata": {
    "colab": {
     "base_uri": "https://localhost:8080/",
     "height": 388
    },
    "colab_type": "code",
    "id": "Hzf46EigG9y5",
    "outputId": "b40e47c5-8030-48d7-b057-2fd8af60c474"
   },
   "outputs": [
    {
     "data": {
      "text/plain": [
       "<seaborn.axisgrid.FacetGrid at 0x7f0b02531e80>"
      ]
     },
     "execution_count": 269,
     "metadata": {
      "tags": []
     },
     "output_type": "execute_result"
    },
    {
     "data": {
      "image/png": "[encoded data removed]",
      "text/plain": [
       "<Figure size 720x360 with 1 Axes>"
      ]
     },
     "metadata": {
      "tags": []
     },
     "output_type": "display_data"
    }
   ],
   "source": [
    "ax = sns.catplot(x=\"Target\", kind=\"count\", palette=\"ch:.25\", data=strat_train_stores,height=5, aspect=2)\n",
    "ax.set_xticklabels( rotation=45, horizontalalignment='right')"
   ]
  },
  {
   "cell_type": "code",
   "execution_count": 0,
   "metadata": {
    "colab": {},
    "colab_type": "code",
    "id": "J43gzA3UtlfT"
   },
   "outputs": [],
   "source": [
    "X_train_store = strat_train_stores[['Day','Month','Customer_ID','Dwell_Time','Store_ID','Sequence_Num_New',1,2,3,4,5,6]]"
   ]
  },
  {
   "cell_type": "code",
   "execution_count": 0,
   "metadata": {
    "colab": {},
    "colab_type": "code",
    "id": "elfoLb1et6JQ"
   },
   "outputs": [],
   "source": [
    "y_train_store = strat_train_stores[['Target']]"
   ]
  },
  {
   "cell_type": "code",
   "execution_count": 0,
   "metadata": {
    "colab": {},
    "colab_type": "code",
    "id": "BGr9B_MBuBJR"
   },
   "outputs": [],
   "source": [
    "X_test_store = strat_test_stores[['Day','Month','Customer_ID','Dwell_Time','Store_ID','Sequence_Num_New',1,2,3,4,5,6]]"
   ]
  },
  {
   "cell_type": "code",
   "execution_count": 0,
   "metadata": {
    "colab": {},
    "colab_type": "code",
    "id": "-HQ02A_zuEEh"
   },
   "outputs": [],
   "source": [
    "y_test_store = strat_test_stores[['Target']]"
   ]
  },
  {
   "cell_type": "code",
   "execution_count": 0,
   "metadata": {
    "colab": {},
    "colab_type": "code",
    "id": "6ZogfoJWJ_aU"
   },
   "outputs": [],
   "source": [
    "clf2 = tree.DecisionTreeClassifier(max_depth = 12,random_state=42)"
   ]
  },
  {
   "cell_type": "code",
   "execution_count": 0,
   "metadata": {
    "colab": {},
    "colab_type": "code",
    "id": "DqoVg9kRJ_US"
   },
   "outputs": [],
   "source": [
    "clf2 = clf2.fit(X_train_store,y_train_store)"
   ]
  },
  {
   "cell_type": "code",
   "execution_count": 0,
   "metadata": {
    "colab": {},
    "colab_type": "code",
    "id": "sWoePxESJ_FG"
   },
   "outputs": [],
   "source": [
    "y_pred_dt2 = clf2.predict(X_test_store)"
   ]
  },
  {
   "cell_type": "code",
   "execution_count": 325,
   "metadata": {
    "colab": {
     "base_uri": "https://localhost:8080/",
     "height": 134
    },
    "colab_type": "code",
    "id": "1Uktb3jMu6cv",
    "outputId": "ea05b784-f752-4bcd-b0eb-3d192c5a7057"
   },
   "outputs": [
    {
     "data": {
      "text/plain": [
       "array([[56028, 25585,   864,  3019,   201,    10, 39749],\n",
       "       [ 4486,  7594,   101,   565,     9,     1,  8161],\n",
       "       [ 3618,  2469,    98,   354,     7,     0,  5388],\n",
       "       [ 2561,  1979,    75,   889,     6,     0,  5185],\n",
       "       [ 2016,  1710,    37,   172,    19,     0,  3375],\n",
       "       [  340,   301,     4,    54,     3,  2231,   662],\n",
       "       [47451, 34100,   896,  5439,   159,    13, 68989]])"
      ]
     },
     "execution_count": 325,
     "metadata": {
      "tags": []
     },
     "output_type": "execute_result"
    }
   ],
   "source": [
    "from sklearn.metrics import confusion_matrix\n",
    "\n",
    "confusion_matrix(y_test_store, y_pred_dt2)"
   ]
  },
  {
   "cell_type": "code",
   "execution_count": 326,
   "metadata": {
    "colab": {
     "base_uri": "https://localhost:8080/",
     "height": 252
    },
    "colab_type": "code",
    "id": "uBvceEc5Kr1G",
    "outputId": "85a7fe0c-a0f8-45fb-f868-0a24bde97d54"
   },
   "outputs": [
    {
     "name": "stdout",
     "output_type": "stream",
     "text": [
      "              precision    recall  f1-score   support\n",
      "\n",
      "           0       0.48      0.45      0.46    125456\n",
      "           1       0.10      0.36      0.16     20917\n",
      "           2       0.05      0.01      0.01     11934\n",
      "           3       0.08      0.08      0.08     10695\n",
      "           4       0.05      0.00      0.00      7329\n",
      "           5       0.99      0.62      0.76      3595\n",
      "           6       0.52      0.44      0.48    157047\n",
      "\n",
      "    accuracy                           0.40    336973\n",
      "   macro avg       0.33      0.28      0.28    336973\n",
      "weighted avg       0.45      0.40      0.42    336973\n",
      "\n"
     ]
    }
   ],
   "source": [
    "from sklearn.metrics import classification_report\n",
    "\n",
    "print(classification_report(y_test_store, y_pred_dt2))"
   ]
  },
  {
   "cell_type": "code",
   "execution_count": 321,
   "metadata": {
    "colab": {
     "base_uri": "https://localhost:8080/",
     "height": 34
    },
    "colab_type": "code",
    "id": "JGjCESE1K230",
    "outputId": "f6c61b36-7c68-4e0a-80dc-7f1c4c40ccab"
   },
   "outputs": [
    {
     "name": "stdout",
     "output_type": "stream",
     "text": [
      "Accuracy = 0.44\n"
     ]
    }
   ],
   "source": [
    "from sklearn.metrics import accuracy_score\n",
    "print(\"Accuracy = {:.2f}\".format(accuracy_score(y_test_store, y_pred_dt2)))"
   ]
  },
  {
   "cell_type": "code",
   "execution_count": 0,
   "metadata": {
    "colab": {
     "base_uri": "https://localhost:8080/",
     "height": 51
    },
    "colab_type": "code",
    "id": "UCw1hRAXvF8f",
    "outputId": "764f8d7d-4a7b-44d4-cdab-bac7076bbb66"
   },
   "outputs": [
    {
     "name": "stdout",
     "output_type": "stream",
     "text": [
      "Training set accuracy:  0.317\n",
      "Test set accuracy:  0.441\n"
     ]
    }
   ],
   "source": [
    "score = rnd_clf_history.score(X_train_store, y_train_store)\n",
    "score2 = rnd_clf_history.score(X_test_store, y_test_store)\n",
    "\n",
    "print(\"Training set accuracy: \", '%.3f'%(score))\n",
    "print(\"Test set accuracy: \", '%.3f'%(score2))"
   ]
  },
  {
   "cell_type": "code",
   "execution_count": 0,
   "metadata": {
    "colab": {
     "base_uri": "https://localhost:8080/",
     "height": 289
    },
    "colab_type": "code",
    "id": "Wz83--gbwFFV",
    "outputId": "67faad9e-5889-4b80-bf30-56320144389f"
   },
   "outputs": [
    {
     "name": "stderr",
     "output_type": "stream",
     "text": [
      "/usr/local/lib/python3.6/dist-packages/sklearn/metrics/classification.py:1437: UndefinedMetricWarning: Precision and F-score are ill-defined and being set to 0.0 in labels with no predicted samples.\n",
      "  'precision', 'predicted', average, warn_for)\n"
     ]
    },
    {
     "name": "stdout",
     "output_type": "stream",
     "text": [
      "              precision    recall  f1-score   support\n",
      "\n",
      "           0       0.49      0.46      0.47    125456\n",
      "           1       0.12      0.30      0.17     20917\n",
      "           2       0.00      0.00      0.00     11934\n",
      "           3       0.09      0.08      0.09     10695\n",
      "           4       0.20      0.00      0.00      7329\n",
      "           5       1.00      0.62      0.77      3595\n",
      "           6       0.52      0.52      0.52    157047\n",
      "\n",
      "    accuracy                           0.44    336973\n",
      "   macro avg       0.35      0.28      0.29    336973\n",
      "weighted avg       0.45      0.44      0.44    336973\n",
      "\n"
     ]
    }
   ],
   "source": [
    "y_pred_stores = rnd_clf_history.predict(X_test_store)\n",
    "print(classification_report(y_test_store,y_pred_stores))"
   ]
  },
  {
   "cell_type": "code",
   "execution_count": 0,
   "metadata": {
    "colab": {},
    "colab_type": "code",
    "id": "qDPPmodKxNxu"
   },
   "outputs": [],
   "source": [
    "df_one_hot_comb_no_exit = df_one_hot_comb[df_one_hot_comb['Target']!=0]"
   ]
  },
  {
   "cell_type": "code",
   "execution_count": 0,
   "metadata": {
    "colab": {},
    "colab_type": "code",
    "id": "ne67zDKnIPCQ"
   },
   "outputs": [],
   "source": [
    "split = StratifiedShuffleSplit(n_splits=2, test_size=0.2, random_state=1)\n",
    "\n",
    "for train_index, test_index in split.split(df_one_hot_comb_no_exit, df_one_hot_comb_no_exit['Target']):\n",
    "  strat_train_stores = df_one_hot_comb_no_exit.iloc[train_index]\n",
    "  strat_test_stores = df_one_hot_comb_no_exit.iloc[test_index]"
   ]
  },
  {
   "cell_type": "code",
   "execution_count": 0,
   "metadata": {
    "colab": {
     "base_uri": "https://localhost:8080/",
     "height": 419
    },
    "colab_type": "code",
    "id": "YpHzoIjoIkDc",
    "outputId": "a3fbaae2-1f48-42dd-b19d-0b270aa79a4e"
   },
   "outputs": [
    {
     "data": {
      "text/html": [
       "<div>\n",
       "<style scoped>\n",
       "    .dataframe tbody tr th:only-of-type {\n",
       "        vertical-align: middle;\n",
       "    }\n",
       "\n",
       "    .dataframe tbody tr th {\n",
       "        vertical-align: top;\n",
       "    }\n",
       "\n",
       "    .dataframe thead th {\n",
       "        text-align: right;\n",
       "    }\n",
       "</style>\n",
       "<table border=\"1\" class=\"dataframe\">\n",
       "  <thead>\n",
       "    <tr style=\"text-align: right;\">\n",
       "      <th></th>\n",
       "      <th>Customer_ID</th>\n",
       "      <th>Store_ID</th>\n",
       "      <th>Dwell_Time</th>\n",
       "      <th>Day</th>\n",
       "      <th>Sequence_Num_New</th>\n",
       "      <th>Category_ID</th>\n",
       "      <th>Month</th>\n",
       "      <th>Target</th>\n",
       "      <th>1</th>\n",
       "      <th>2</th>\n",
       "      <th>3</th>\n",
       "      <th>4</th>\n",
       "      <th>5</th>\n",
       "      <th>6</th>\n",
       "    </tr>\n",
       "  </thead>\n",
       "  <tbody>\n",
       "    <tr>\n",
       "      <th>500370</th>\n",
       "      <td>314402</td>\n",
       "      <td>6</td>\n",
       "      <td>9</td>\n",
       "      <td>3.0</td>\n",
       "      <td>1</td>\n",
       "      <td>4</td>\n",
       "      <td>3.0</td>\n",
       "      <td>6</td>\n",
       "      <td>0</td>\n",
       "      <td>0</td>\n",
       "      <td>0</td>\n",
       "      <td>0</td>\n",
       "      <td>0</td>\n",
       "      <td>1</td>\n",
       "    </tr>\n",
       "    <tr>\n",
       "      <th>346790</th>\n",
       "      <td>425560</td>\n",
       "      <td>3</td>\n",
       "      <td>49</td>\n",
       "      <td>6.0</td>\n",
       "      <td>2</td>\n",
       "      <td>8</td>\n",
       "      <td>5.0</td>\n",
       "      <td>6</td>\n",
       "      <td>0</td>\n",
       "      <td>0</td>\n",
       "      <td>2</td>\n",
       "      <td>0</td>\n",
       "      <td>0</td>\n",
       "      <td>0</td>\n",
       "    </tr>\n",
       "    <tr>\n",
       "      <th>477595</th>\n",
       "      <td>6925</td>\n",
       "      <td>6</td>\n",
       "      <td>25</td>\n",
       "      <td>4.0</td>\n",
       "      <td>33</td>\n",
       "      <td>18</td>\n",
       "      <td>6.0</td>\n",
       "      <td>6</td>\n",
       "      <td>0</td>\n",
       "      <td>0</td>\n",
       "      <td>0</td>\n",
       "      <td>0</td>\n",
       "      <td>0</td>\n",
       "      <td>1</td>\n",
       "    </tr>\n",
       "    <tr>\n",
       "      <th>1024947</th>\n",
       "      <td>138650</td>\n",
       "      <td>6</td>\n",
       "      <td>25</td>\n",
       "      <td>4.0</td>\n",
       "      <td>2</td>\n",
       "      <td>1</td>\n",
       "      <td>2.0</td>\n",
       "      <td>6</td>\n",
       "      <td>0</td>\n",
       "      <td>0</td>\n",
       "      <td>0</td>\n",
       "      <td>0</td>\n",
       "      <td>0</td>\n",
       "      <td>2</td>\n",
       "    </tr>\n",
       "    <tr>\n",
       "      <th>1025522</th>\n",
       "      <td>181397</td>\n",
       "      <td>6</td>\n",
       "      <td>20</td>\n",
       "      <td>4.0</td>\n",
       "      <td>1</td>\n",
       "      <td>1</td>\n",
       "      <td>2.0</td>\n",
       "      <td>6</td>\n",
       "      <td>0</td>\n",
       "      <td>0</td>\n",
       "      <td>0</td>\n",
       "      <td>0</td>\n",
       "      <td>0</td>\n",
       "      <td>1</td>\n",
       "    </tr>\n",
       "    <tr>\n",
       "      <th>...</th>\n",
       "      <td>...</td>\n",
       "      <td>...</td>\n",
       "      <td>...</td>\n",
       "      <td>...</td>\n",
       "      <td>...</td>\n",
       "      <td>...</td>\n",
       "      <td>...</td>\n",
       "      <td>...</td>\n",
       "      <td>...</td>\n",
       "      <td>...</td>\n",
       "      <td>...</td>\n",
       "      <td>...</td>\n",
       "      <td>...</td>\n",
       "      <td>...</td>\n",
       "    </tr>\n",
       "    <tr>\n",
       "      <th>1000415</th>\n",
       "      <td>266360</td>\n",
       "      <td>6</td>\n",
       "      <td>9</td>\n",
       "      <td>1.0</td>\n",
       "      <td>4</td>\n",
       "      <td>5</td>\n",
       "      <td>3.0</td>\n",
       "      <td>6</td>\n",
       "      <td>0</td>\n",
       "      <td>0</td>\n",
       "      <td>0</td>\n",
       "      <td>0</td>\n",
       "      <td>0</td>\n",
       "      <td>4</td>\n",
       "    </tr>\n",
       "    <tr>\n",
       "      <th>757373</th>\n",
       "      <td>103540</td>\n",
       "      <td>6</td>\n",
       "      <td>95</td>\n",
       "      <td>0.0</td>\n",
       "      <td>1</td>\n",
       "      <td>3</td>\n",
       "      <td>1.0</td>\n",
       "      <td>2</td>\n",
       "      <td>0</td>\n",
       "      <td>0</td>\n",
       "      <td>0</td>\n",
       "      <td>0</td>\n",
       "      <td>0</td>\n",
       "      <td>1</td>\n",
       "    </tr>\n",
       "    <tr>\n",
       "      <th>355852</th>\n",
       "      <td>468281</td>\n",
       "      <td>3</td>\n",
       "      <td>20</td>\n",
       "      <td>5.0</td>\n",
       "      <td>1</td>\n",
       "      <td>8</td>\n",
       "      <td>6.0</td>\n",
       "      <td>6</td>\n",
       "      <td>0</td>\n",
       "      <td>0</td>\n",
       "      <td>1</td>\n",
       "      <td>0</td>\n",
       "      <td>0</td>\n",
       "      <td>0</td>\n",
       "    </tr>\n",
       "    <tr>\n",
       "      <th>491746</th>\n",
       "      <td>50358</td>\n",
       "      <td>6</td>\n",
       "      <td>8</td>\n",
       "      <td>0.0</td>\n",
       "      <td>8</td>\n",
       "      <td>5</td>\n",
       "      <td>2.0</td>\n",
       "      <td>6</td>\n",
       "      <td>0</td>\n",
       "      <td>0</td>\n",
       "      <td>0</td>\n",
       "      <td>0</td>\n",
       "      <td>0</td>\n",
       "      <td>2</td>\n",
       "    </tr>\n",
       "    <tr>\n",
       "      <th>710530</th>\n",
       "      <td>468256</td>\n",
       "      <td>6</td>\n",
       "      <td>17</td>\n",
       "      <td>5.0</td>\n",
       "      <td>1</td>\n",
       "      <td>7</td>\n",
       "      <td>6.0</td>\n",
       "      <td>6</td>\n",
       "      <td>0</td>\n",
       "      <td>0</td>\n",
       "      <td>0</td>\n",
       "      <td>0</td>\n",
       "      <td>0</td>\n",
       "      <td>1</td>\n",
       "    </tr>\n",
       "  </tbody>\n",
       "</table>\n",
       "<p>846068 rows × 14 columns</p>\n",
       "</div>"
      ],
      "text/plain": [
       "         Customer_ID  Store_ID  Dwell_Time  Day  Sequence_Num_New  \\\n",
       "500370        314402         6           9  3.0                 1   \n",
       "346790        425560         3          49  6.0                 2   \n",
       "477595          6925         6          25  4.0                33   \n",
       "1024947       138650         6          25  4.0                 2   \n",
       "1025522       181397         6          20  4.0                 1   \n",
       "...              ...       ...         ...  ...               ...   \n",
       "1000415       266360         6           9  1.0                 4   \n",
       "757373        103540         6          95  0.0                 1   \n",
       "355852        468281         3          20  5.0                 1   \n",
       "491746         50358         6           8  0.0                 8   \n",
       "710530        468256         6          17  5.0                 1   \n",
       "\n",
       "         Category_ID  Month  Target  1  2  3  4  5  6  \n",
       "500370             4    3.0       6  0  0  0  0  0  1  \n",
       "346790             8    5.0       6  0  0  2  0  0  0  \n",
       "477595            18    6.0       6  0  0  0  0  0  1  \n",
       "1024947            1    2.0       6  0  0  0  0  0  2  \n",
       "1025522            1    2.0       6  0  0  0  0  0  1  \n",
       "...              ...    ...     ... .. .. .. .. .. ..  \n",
       "1000415            5    3.0       6  0  0  0  0  0  4  \n",
       "757373             3    1.0       2  0  0  0  0  0  1  \n",
       "355852             8    6.0       6  0  0  1  0  0  0  \n",
       "491746             5    2.0       6  0  0  0  0  0  2  \n",
       "710530             7    6.0       6  0  0  0  0  0  1  \n",
       "\n",
       "[846068 rows x 14 columns]"
      ]
     },
     "execution_count": 135,
     "metadata": {
      "tags": []
     },
     "output_type": "execute_result"
    }
   ],
   "source": [
    "strat_train_stores"
   ]
  },
  {
   "cell_type": "code",
   "execution_count": 0,
   "metadata": {
    "colab": {},
    "colab_type": "code",
    "id": "Ao8wZT5PIrW3"
   },
   "outputs": [],
   "source": [
    "df_majority = strat_train_stores[strat_train_stores['Target']==6]\n",
    "df_minority = strat_train_stores[strat_train_stores['Target']==1]\n",
    "\n",
    "\n",
    "df_majority_6_downsampled = resample(df_majority, \n",
    "                                 replace=False,     \n",
    "                                 n_samples=len(df_minority),   \n",
    "                                 random_state=42) "
   ]
  },
  {
   "cell_type": "code",
   "execution_count": 0,
   "metadata": {
    "colab": {},
    "colab_type": "code",
    "id": "TCqXPYHhIzF8"
   },
   "outputs": [],
   "source": [
    "strat_train_stores = strat_train_stores[strat_train_stores['Target']!=6]"
   ]
  },
  {
   "cell_type": "code",
   "execution_count": 0,
   "metadata": {
    "colab": {},
    "colab_type": "code",
    "id": "4f_fRgWUI7KD"
   },
   "outputs": [],
   "source": [
    "strat_train_stores = pd.concat([strat_train_stores,df_majority_6_downsampled])"
   ]
  },
  {
   "cell_type": "code",
   "execution_count": 0,
   "metadata": {
    "colab": {
     "base_uri": "https://localhost:8080/",
     "height": 388
    },
    "colab_type": "code",
    "id": "rJbpW6LjJFi8",
    "outputId": "4f87ea5b-fe95-4515-cd6b-4624092e52b3"
   },
   "outputs": [
    {
     "data": {
      "text/plain": [
       "<seaborn.axisgrid.FacetGrid at 0x7fcca6030550>"
      ]
     },
     "execution_count": 139,
     "metadata": {
      "tags": []
     },
     "output_type": "execute_result"
    },
    {
     "data": {
      "image/png": "[encoded data removed]",
      "text/plain": [
       "<Figure size 720x360 with 1 Axes>"
      ]
     },
     "metadata": {
      "tags": []
     },
     "output_type": "display_data"
    }
   ],
   "source": [
    "ax = sns.catplot(x=\"Target\", kind=\"count\", palette=\"ch:.25\", data=strat_train_stores,height=5, aspect=2)\n",
    "ax.set_xticklabels( rotation=45, horizontalalignment='right')"
   ]
  },
  {
   "cell_type": "code",
   "execution_count": 0,
   "metadata": {
    "colab": {},
    "colab_type": "code",
    "id": "DCrTYOpwJLn1"
   },
   "outputs": [],
   "source": [
    "strat_train_stores = shuffle(strat_train_stores)"
   ]
  },
  {
   "cell_type": "code",
   "execution_count": 0,
   "metadata": {
    "colab": {},
    "colab_type": "code",
    "id": "zl6Nkz1TJRrT"
   },
   "outputs": [],
   "source": [
    "X_train_store = strat_train_stores[['Day','Month','Dwell_Time','Store_ID','Sequence_Num_New','Category_ID',1,2,3,4,5,6]]"
   ]
  },
  {
   "cell_type": "code",
   "execution_count": 0,
   "metadata": {
    "colab": {},
    "colab_type": "code",
    "id": "2XOaIy90JYSp"
   },
   "outputs": [],
   "source": [
    "y_train_store = strat_train_stores[['Target']]"
   ]
  },
  {
   "cell_type": "code",
   "execution_count": 0,
   "metadata": {
    "colab": {},
    "colab_type": "code",
    "id": "cVefCwAcJd8i"
   },
   "outputs": [],
   "source": [
    "X_test_store = strat_test_stores[['Day','Month','Dwell_Time','Store_ID','Sequence_Num_New','Category_ID',1,2,3,4,5,6]]"
   ]
  },
  {
   "cell_type": "code",
   "execution_count": 0,
   "metadata": {
    "colab": {},
    "colab_type": "code",
    "id": "-psZzN-tJhaG"
   },
   "outputs": [],
   "source": [
    "y_test_store = strat_test_stores[['Target']]"
   ]
  },
  {
   "cell_type": "code",
   "execution_count": 0,
   "metadata": {
    "colab": {
     "base_uri": "https://localhost:8080/",
     "height": 170
    },
    "colab_type": "code",
    "id": "c1nhSkmfJmRk",
    "outputId": "b3827115-0423-481e-a065-964d1f8bef00"
   },
   "outputs": [
    {
     "name": "stderr",
     "output_type": "stream",
     "text": [
      "/usr/local/lib/python3.6/dist-packages/ipykernel_launcher.py:2: DataConversionWarning: A column-vector y was passed when a 1d array was expected. Please change the shape of y to (n_samples,), for example using ravel().\n",
      "  \n"
     ]
    },
    {
     "data": {
      "text/plain": [
       "RandomForestClassifier(bootstrap=True, class_weight=None, criterion='entropy',\n",
       "                       max_depth=10, max_features='auto', max_leaf_nodes=None,\n",
       "                       min_impurity_decrease=0.0, min_impurity_split=None,\n",
       "                       min_samples_leaf=1, min_samples_split=2,\n",
       "                       min_weight_fraction_leaf=0.0, n_estimators=500,\n",
       "                       n_jobs=-1, oob_score=False, random_state=6, verbose=0,\n",
       "                       warm_start=False)"
      ]
     },
     "execution_count": 174,
     "metadata": {
      "tags": []
     },
     "output_type": "execute_result"
    }
   ],
   "source": [
    "rnd_clf_history_no_exit = RandomForestClassifier(n_estimators=500, max_depth=10,n_jobs=-1,random_state=6,criterion='entropy')\n",
    "rnd_clf_history_no_exit.fit(X_train_store,y_train_store)"
   ]
  },
  {
   "cell_type": "code",
   "execution_count": 0,
   "metadata": {
    "colab": {
     "base_uri": "https://localhost:8080/",
     "height": 51
    },
    "colab_type": "code",
    "id": "FSKSr1NcJuhK",
    "outputId": "424d26d9-7580-4f19-e995-2fe5ab5599ee"
   },
   "outputs": [
    {
     "name": "stdout",
     "output_type": "stream",
     "text": [
      "Training set accuracy:  0.378\n",
      "Test set accuracy:  0.581\n"
     ]
    }
   ],
   "source": [
    "score = rnd_clf_history_no_exit.score(X_train_store, y_train_store)\n",
    "score2 = rnd_clf_history_no_exit.score(X_test_store, y_test_store)\n",
    "\n",
    "print(\"Training set accuracy: \", '%.3f'%(score))\n",
    "print(\"Test set accuracy: \", '%.3f'%(score2))"
   ]
  },
  {
   "cell_type": "code",
   "execution_count": 0,
   "metadata": {
    "colab": {
     "base_uri": "https://localhost:8080/",
     "height": 238
    },
    "colab_type": "code",
    "id": "dZkEYLPwKCRA",
    "outputId": "46fc9237-ce03-48a5-ed7f-edb8952811dc"
   },
   "outputs": [
    {
     "name": "stdout",
     "output_type": "stream",
     "text": [
      "              precision    recall  f1-score   support\n",
      "\n",
      "           1       0.16      0.42      0.23     20917\n",
      "           2       0.13      0.01      0.02     11934\n",
      "           3       0.12      0.09      0.10     10695\n",
      "           4       0.24      0.15      0.19      7329\n",
      "           5       1.00      0.61      0.76      3595\n",
      "           6       0.78      0.70      0.74    157048\n",
      "\n",
      "    accuracy                           0.58    211518\n",
      "   macro avg       0.40      0.33      0.34    211518\n",
      "weighted avg       0.63      0.58      0.60    211518\n",
      "\n"
     ]
    }
   ],
   "source": [
    "y_pred_stores = rnd_clf_history_no_exit.predict(X_test_store)\n",
    "print(classification_report(y_test_store,y_pred_stores))"
   ]
  },
  {
   "cell_type": "code",
   "execution_count": 0,
   "metadata": {
    "colab": {},
    "colab_type": "code",
    "id": "EhK9g9fXKTkc"
   },
   "outputs": [],
   "source": []
  },
  {
   "cell_type": "code",
   "execution_count": 0,
   "metadata": {
    "colab": {},
    "colab_type": "code",
    "id": "NCR6iQhLMIzk"
   },
   "outputs": [],
   "source": []
  }
 ],
 "metadata": {
  "colab": {
   "collapsed_sections": [],
   "machine_shape": "hm",
   "name": "yorkdale (3)DT.ipynb",
   "provenance": []
  },
  "kernelspec": {
   "display_name": "Python 3",
   "language": "python",
   "name": "python3"
  },
  "language_info": {
   "codemirror_mode": {
    "name": "ipython",
    "version": 3
   },
   "file_extension": ".py",
   "mimetype": "text/x-python",
   "name": "python",
   "nbconvert_exporter": "python",
   "pygments_lexer": "ipython3",
   "version": "3.6.4"
  }
 },
 "nbformat": 4,
 "nbformat_minor": 1
}
